{
 "cells": [
  {
   "cell_type": "markdown",
   "id": "2a71ba6f-540c-4562-8374-5f929c26381d",
   "metadata": {},
   "source": [
    "# Training Model"
   ]
  },
  {
   "cell_type": "markdown",
   "id": "2590b694-91b6-4943-8830-3f2e7f916d28",
   "metadata": {},
   "source": [
    "## Importing packages"
   ]
  },
  {
   "cell_type": "code",
   "execution_count": 220,
   "id": "8b071fb3-d79a-4fb4-93a3-ee85d088a201",
   "metadata": {},
   "outputs": [],
   "source": [
    "import pandas as pd\n",
    "import numpy as np\n",
    "import matplotlib.pyplot as plt\n",
    "import seaborn as sns\n",
    "from sklearn.neighbors import NearestNeighbors\n",
    "from sklearn.metrics.pairwise import cosine_similarity\n",
    "from sklearn.metrics import silhouette_score\n",
    "from sklearn.metrics import davies_bouldin_score\n",
    "from sklearn.metrics import calinski_harabasz_score\n",
    "from sklearn.decomposition import PCA\n",
    "import matplotlib.pyplot as plt\n",
    "from sklearn.metrics.pairwise import euclidean_distances\n",
    "from sklearn.cluster import KMeans\n",
    "import tensorflow as tf\n",
    "from tensorflow.keras.models import Sequential\n",
    "from tensorflow.keras.layers import Dense, Embedding, Flatten\n",
    "import implicit\n",
    "from scipy.sparse import csr_matrix\n",
    "from sklearn.cluster import DBSCAN"
   ]
  },
  {
   "cell_type": "markdown",
   "id": "fb063a5c-f80c-4bed-9384-3cb3f27addfc",
   "metadata": {},
   "source": [
    "## Loading datasets"
   ]
  },
  {
   "cell_type": "code",
   "execution_count": 221,
   "id": "866ee86a-1b73-4c97-abbb-7fbe392d6046",
   "metadata": {},
   "outputs": [],
   "source": [
    "ok=pd.read_csv('../raw_data/ok_clean.csv')"
   ]
  },
  {
   "cell_type": "code",
   "execution_count": 222,
   "id": "0a3c62e3-bb2f-4fbf-a2b5-33a0be243b0a",
   "metadata": {},
   "outputs": [],
   "source": [
    "topics = pd.read_csv('../raw_data/text_and_topics_classified_encoded_all.csv', keep_default_na=False)"
   ]
  },
  {
   "cell_type": "code",
   "execution_count": 223,
   "id": "e30dcd77-c7a7-4a04-a20d-7af05e710f4c",
   "metadata": {},
   "outputs": [],
   "source": [
    "ok = pd.concat([ok, topics], axis=1)"
   ]
  },
  {
   "cell_type": "code",
   "execution_count": 96,
   "id": "879a2f8f-c65a-4744-80d1-39a1a8b14ab1",
   "metadata": {},
   "outputs": [],
   "source": [
    "#list(ok.columns)"
   ]
  },
  {
   "cell_type": "markdown",
   "id": "d6dd80b9-7e5e-45b9-8369-0b44ff7e3830",
   "metadata": {},
   "source": [
    "## Defining X vector with features"
   ]
  },
  {
   "cell_type": "code",
   "execution_count": 97,
   "id": "f023a317-26e9-45d8-81e6-0c34f0359e7e",
   "metadata": {},
   "outputs": [],
   "source": [
    "num_cat_columns = ['age_scaled',\n",
    " 'single',\n",
    " 'female',\n",
    "                   \n",
    " 'orientation_bisexual',\n",
    " 'orientation_gay',\n",
    " 'orientation_straight',\n",
    "                   \n",
    " 'body_type_athletic',\n",
    " 'body_type_average',\n",
    " 'body_type_curvy',\n",
    " 'body_type_fit',\n",
    " 'body_type_not_disclosed',\n",
    " 'body_type_other',\n",
    " 'body_type_thin',\n",
    "                   \n",
    " 'diet_type_anything',\n",
    " 'diet_type_not_disclosed',\n",
    " 'diet_type_other',\n",
    " 'diet_type_vegetarian',\n",
    "\n",
    " 'drinks_not at all',\n",
    " 'drinks_not_disclosed',\n",
    " 'drinks_often',\n",
    " 'drinks_rarely',\n",
    " 'drinks_socially',\n",
    "\n",
    " 'no_of_kids_more_than_one',\n",
    " 'no_of_kids_not_disclosed',\n",
    " 'no_of_kids_one',\n",
    " 'no_of_kids_zero',\n",
    "                   \n",
    " 'want_more_kids_maybe',\n",
    " 'want_more_kids_no',\n",
    " 'want_more_kids_not_disclosed',\n",
    " 'want_more_kids_yes',\n",
    "                   \n",
    " 'has_dogs_no',\n",
    " 'has_dogs_not_disclosed',\n",
    " 'has_dogs_yes',\n",
    "                   \n",
    " 'like_dogs_no',\n",
    " 'like_dogs_not_disclosed',\n",
    " 'like_dogs_yes',\n",
    "                   \n",
    " 'has_cats_no',\n",
    " 'has_cats_not_disclosed',\n",
    " 'has_cats_yes',\n",
    "                   \n",
    " 'like_cats_no',\n",
    " 'like_cats_not_disclosed',\n",
    " 'like_cats_yes',\n",
    "                   \n",
    " 'religion_agnosticism',\n",
    " 'religion_atheism',\n",
    " 'religion_catholicism',\n",
    " 'religion_christianity',\n",
    " 'religion_judaism',\n",
    " 'religion_not_disclosed',\n",
    " 'religion_other',\n",
    "                   \n",
    " 'smokes_no',\n",
    " 'smokes_not_disclosed',\n",
    " 'smokes_yes',\n",
    "]\n",
    "\n",
    "\n",
    "text_columns = ['cluster_text']\n",
    "\n",
    "\n",
    "X = ok[num_cat_columns + text_columns]"
   ]
  },
  {
   "cell_type": "markdown",
   "id": "aa54528a-5c81-463a-955d-11b26f8c4356",
   "metadata": {
    "toc-hr-collapsed": true
   },
   "source": [
    "## Function to run several KNN Models"
   ]
  },
  {
   "cell_type": "markdown",
   "id": "ac71218b-9de2-40a9-9a44-ad91072acfd5",
   "metadata": {},
   "source": [
    "### K-Nearest Neighbors (KNN) Metrics Summary\n",
    "\n",
    "| Metric                     | Description                                | Better When  |\n",
    "|----------------------------|--------------------------------------------|-------------|\n",
    "| **Sum of Squared Errors (SSE)**  | Measures overall spread                  | Lower       |\n",
    "| **Mean Average Distance (MAD)**  | Avg. distance to k-nearest neighbors     | Lower       |\n",
    "| **Maximum Distance (MaxD)**      | Largest distance found (outliers)        | Lower       |\n",
    "| **Minimum Distance (MinD)**      | Smallest distance found (possible duplicates) | Higher*    |\n",
    "\n",
    "**Interpretation**:  \n",
    "- **Lower values** of *SSE, MAD, and MaxD* indicate tighter, more meaningful neighbor relationships.  \n",
    "- **Higher MinD** values may indicate a lack of exact duplicates, but too high could suggest poor coverage.  \n"
   ]
  },
  {
   "cell_type": "code",
   "execution_count": 218,
   "id": "33572489-b8d7-47d5-b852-b13166c688fd",
   "metadata": {},
   "outputs": [],
   "source": [
    "def run_unsupervised_knn(ok, X, n_clusters=12, n_neighbors=6):\n",
    "    \"\"\"\n",
    "    Runs K-Means clustering and finds the 5 most similar people within each cluster using KNN.\n",
    "    Computes clustering and similarity metrics.\n",
    "\n",
    "    Parameters:\n",
    "    - ok (pd.DataFrame): The original dataset (modified in place).\n",
    "    - X (pd.DataFrame or np.array): Feature matrix (already scaled).\n",
    "    - n_clusters (int): Number of clusters for K-Means (default=12).\n",
    "    - n_neighbors (int): The number of nearest neighbors to consider (default=6, including self).\n",
    "    \"\"\"\n",
    "    if X is None:\n",
    "        raise ValueError(\"Feature vector X must be provided\")\n",
    "    \n",
    "    # Fit K-Means model\n",
    "    kmeans = KMeans(n_clusters=n_clusters, random_state=42, n_init='auto')\n",
    "    ok['cluster'] = kmeans.fit_predict(X)\n",
    "    \n",
    "    # Compute Sum of Squared Errors (SSE)\n",
    "    sse = kmeans.inertia_\n",
    "    \n",
    "    # Initialize KNN\n",
    "    knn = NearestNeighbors(n_neighbors=n_neighbors, metric='euclidean')\n",
    "    knn.fit(X)\n",
    "    \n",
    "    # Get the nearest neighbors (including self, so we exclude it)\n",
    "    distances, indices = knn.kneighbors(X)\n",
    "    \n",
    "    # Compute distance-based metrics\n",
    "    mad = np.mean(distances[:, 1:])  # Mean Average Distance (excluding self)\n",
    "    maxd = np.max(distances[:, 1:])  # Maximum Distance (excluding self)\n",
    "    mind = np.min(distances[:, 1:])  # Minimum Distance (excluding self)\n",
    "\n",
    "    # Convert nearest neighbors to a DataFrame\n",
    "    similar_df = pd.DataFrame(indices[:, 1:6], index=ok.index, columns=[f'knn_match_{i+1}' for i in range(5)])\n",
    "    \n",
    "    # Merge similar people indices with the original dataset in place\n",
    "    ok.loc[:, similar_df.columns] = similar_df\n",
    "    \n",
    "    # Print structured output\n",
    "    print(f\"📌 Sum of Squared Errors (SSE): {sse:.4f} → Measures overall spread\")\n",
    "    print(f\"📌 Mean Average Distance (MAD): {mad:.4f} → Average distance to k-nearest neighbors\")\n",
    "    print(f\"📌 Maximum Distance (MaxD): {maxd:.4f} → Largest distance found (outlier detection)\")\n",
    "    print(f\"📌 Minimum Distance (MinD): {mind:.4f} → Smallest distance found (possible duplicates)\")"
   ]
  },
  {
   "cell_type": "markdown",
   "id": "6245284a-e04f-4fe3-bb11-d62337a415f1",
   "metadata": {},
   "source": [
    "### Baseline model: KNN "
   ]
  },
  {
   "cell_type": "code",
   "execution_count": 131,
   "id": "9046f1b6-aa85-4162-83d8-e01c7e248dd5",
   "metadata": {},
   "outputs": [
    {
     "name": "stdout",
     "output_type": "stream",
     "text": [
      "📌 Sum of Squared Errors (SSE): 435436.8577 → Measures overall spread\n",
      "📌 Mean Average Distance (MAD): 0.9998 → Average distance to k-nearest neighbors\n",
      "📌 Maximum Distance (MaxD): 3.1361 → Largest distance found (outlier detection)\n",
      "📌 Minimum Distance (MinD): 0.0000 → Smallest distance found (possible duplicates)\n",
      "CPU times: user 20.4 s, sys: 164 ms, total: 20.5 s\n",
      "Wall time: 2.79 s\n"
     ]
    }
   ],
   "source": [
    "%%time\n",
    "run_unsupervised_knn(ok,X, 5)"
   ]
  },
  {
   "cell_type": "markdown",
   "id": "dd8a2577-d600-49bb-b3a2-c1c1741af28e",
   "metadata": {},
   "source": [
    "## Function to run several Kmean Models"
   ]
  },
  {
   "cell_type": "code",
   "execution_count": 219,
   "id": "f4521a9c-f4c0-472e-8de6-3bbaaa3dfc99",
   "metadata": {},
   "outputs": [],
   "source": [
    "def cluster_and_find_similar(dataset, X, n_clusters=12, n_similar=5):\n",
    "    \"\"\"\n",
    "    Runs K-Means clustering and finds the specified number of most similar individuals within each cluster.\n",
    "    Saves the 5 most similar individuals permanently to the dataset and prints key clustering metrics.\n",
    "\n",
    "    Parameters:\n",
    "    - dataset: DataFrame, the dataset to use (modified in place).\n",
    "    - X: DataFrame, the feature vector.\n",
    "    - n_clusters: int, number of clusters for K-Means (default=12).\n",
    "    - n_similar: int, number of similar individuals to return per person (default=5).\n",
    "    \"\"\"\n",
    "    if X is None:\n",
    "        raise ValueError(\"Feature vector X must be provided\")\n",
    "    \n",
    "    # Fit K-Means model\n",
    "    kmeans = KMeans(n_clusters=n_clusters, random_state=42, n_init='auto')\n",
    "    dataset['cluster'] = kmeans.fit_predict(X)\n",
    "    \n",
    "    # Compute clustering evaluation metrics\n",
    "    silhouette_avg = silhouette_score(X, dataset['cluster'])\n",
    "    sse = kmeans.inertia_\n",
    "    davies_bouldin = davies_bouldin_score(X, dataset['cluster'])\n",
    "    calinski_harabasz = calinski_harabasz_score(X, dataset['cluster'])\n",
    "    \n",
    "    # Print structured output\n",
    "    print(f\"📌 Silhouette Score: {silhouette_avg:.4f} → Measures clustering cohesion\")\n",
    "    print(f\"📌 Sum of Squared Errors (SSE): {sse:.4f} → Measures overall spread\")\n",
    "    print(f\"📌 Davies-Bouldin Score: {davies_bouldin:.4f} → Measures cluster separation (lower is better)\")\n",
    "    print(f\"📌 Calinski-Harabasz Score: {calinski_harabasz:.4f} → Measures cluster quality (higher is better)\")\n",
    "\n",
    "    # Dictionary to store similar individuals\n",
    "    similar_people = {}\n",
    "    avg_match_distances = []\n",
    "\n",
    "    # Find closest people within each cluster\n",
    "    for cluster in range(n_clusters):\n",
    "        cluster_indices = dataset[dataset['cluster'] == cluster].index\n",
    "        cluster_features = X.loc[cluster_indices]\n",
    "\n",
    "        # Compute pairwise distances within the cluster\n",
    "        distances = euclidean_distances(cluster_features)\n",
    "        sorted_indices = np.argsort(distances, axis=1)[:, 1:n_similar+1]  # Exclude self (index 0)\n",
    "\n",
    "        for i, index in enumerate(cluster_indices):\n",
    "            similar_people[index] = cluster_indices[sorted_indices[i]].tolist()\n",
    "            avg_match_distances.append(np.mean(distances[i][sorted_indices[i]]))\n",
    "\n",
    "    # Compute Average Match Distance (AMD)\n",
    "    overall_avg_match_distance = np.mean(avg_match_distances)\n",
    "    print(f\"📌 Average Match Distance (AMD): {overall_avg_match_distance:.4f} → Measures how close recommended matches are\")\n",
    "\n",
    "    # Convert dictionary to DataFrame\n",
    "    similar_df = pd.DataFrame.from_dict(similar_people, orient='index')\n",
    "    similar_df.columns = [f'kmeans_match_{i+1}' for i in range(n_similar)]\n",
    "\n",
    "    # Merge the similar individuals with the dataset in place\n",
    "    dataset.loc[:, similar_df.columns] = similar_df"
   ]
  },
  {
   "cell_type": "markdown",
   "id": "bdaad567-c920-4999-bf5c-ad215120ea1e",
   "metadata": {},
   "source": [
    "## Testing better model for text dimensionality reduction"
   ]
  },
  {
   "cell_type": "markdown",
   "id": "955530aa-a841-4e9a-a89b-2d4d0ff9d3e8",
   "metadata": {},
   "source": [
    "Let's re-run the section below with the final vector of X and see if we gat the same recomendation. We first ran with the vector num_cat_columns above. But we later did a detailed analysis to select the best features and we will re-run the analysis below."
   ]
  },
  {
   "cell_type": "code",
   "execution_count": 8,
   "id": "db83dbc0-e448-44d9-923d-7ac9753d909e",
   "metadata": {},
   "outputs": [],
   "source": [
    "num_cat_columns=['female', 'age_scaled', 'single','height_scaled','orientation_bisexual', 'orientation_gay',\n",
    "     'orientation_straight', 'education_type_college_univ', 'education_type_grad_or_professional_edu',\n",
    "     'education_type_not_disclosed','education_type_two_year_college_or_less', 'education_status_graduated',\n",
    "     'education_status_not_disclosed', 'education_status_working',  'speaks_english', 'speaks_spanish', \n",
    "     'speaks_other','diet_type_vegetarian', 'has_dogs_yes', 'no_of_kids_more_than_one','no_of_kids_one',\n",
    "     'text_length_scaled']"
   ]
  },
  {
   "cell_type": "markdown",
   "id": "7f6f4643-5175-4f97-b812-5b4b5e9611d6",
   "metadata": {
    "tags": []
   },
   "source": [
    "### Model 1: Text Kmeans Cluster"
   ]
  },
  {
   "cell_type": "code",
   "execution_count": 9,
   "id": "7f3e31d7-d8a0-4225-97e7-b5eecf4ce208",
   "metadata": {},
   "outputs": [
    {
     "name": "stdout",
     "output_type": "stream",
     "text": [
      "Silhouette Score: 0.1844\n",
      "Inertia (SSE): 101693.6377\n",
      "Davies-Bouldin Score: 1.7407\n",
      "Calinski-Harabasz Score: 9744.4874\n",
      "Average Match Distance (AMD): 0.1773\n",
      "CPU times: user 1min 5s, sys: 58.4 s, total: 2min 4s\n",
      "Wall time: 38.9 s\n"
     ]
    }
   ],
   "source": [
    "%%time\n",
    "text_columns = ['cluster_text']\n",
    "X = ok[num_cat_columns + text_columns]\n",
    "cluster_and_find_similar(dataset=ok, X=X, n_clusters=12, n_similar=5)"
   ]
  },
  {
   "cell_type": "markdown",
   "id": "a002dd47-d00a-477a-90a1-b32c26dd8665",
   "metadata": {},
   "source": [
    "### Model 2: Therapist"
   ]
  },
  {
   "cell_type": "code",
   "execution_count": 10,
   "id": "947f5bc4-66c6-459a-b1cd-6ae1186c814b",
   "metadata": {},
   "outputs": [
    {
     "name": "stdout",
     "output_type": "stream",
     "text": [
      "Silhouette Score: 0.1686\n",
      "Inertia (SSE): 100305.4067\n",
      "Davies-Bouldin Score: 2.1442\n",
      "Calinski-Harabasz Score: 4654.6152\n",
      "Average Match Distance (AMD): 0.1835\n",
      "CPU times: user 1min 10s, sys: 1min 7s, total: 2min 17s\n",
      "Wall time: 44.5 s\n"
     ]
    }
   ],
   "source": [
    "%%time\n",
    "text_columns = [ 'therapist_Expressions of Happiness and Joy',\n",
    " 'therapist_Managing and Increasing Energy Levels',\n",
    " 'therapist_Other',\n",
    " 'therapist_See and Understanding Conversations',\n",
    " 'therapist_Time Up and Future Meetings']\n",
    "X = ok[num_cat_columns + text_columns]\n",
    "cluster_and_find_similar(dataset=ok, X=X, n_clusters=12, n_similar=5)"
   ]
  },
  {
   "cell_type": "markdown",
   "id": "a2e2e44f-4a71-4f5b-848a-a12e5a1077f9",
   "metadata": {},
   "source": [
    "### Model 3: General"
   ]
  },
  {
   "cell_type": "code",
   "execution_count": 11,
   "id": "65eae46c-50fe-45c7-9a92-1aa0906b0493",
   "metadata": {},
   "outputs": [
    {
     "name": "stdout",
     "output_type": "stream",
     "text": [
      "Silhouette Score: 0.1982\n",
      "Inertia (SSE): 81460.9735\n",
      "Davies-Bouldin Score: 1.8188\n",
      "Calinski-Harabasz Score: 5482.3137\n",
      "Average Match Distance (AMD): 0.1543\n",
      "CPU times: user 1min 45s, sys: 51.1 s, total: 2min 36s\n",
      "Wall time: 1min 10s\n"
     ]
    }
   ],
   "source": [
    "%%time\n",
    "text_columns = ['general_Entertainment',\n",
    " 'general_Home & Hobbies',\n",
    " 'general_Literature',\n",
    " 'general_Other',\n",
    " 'general_Social Life']\n",
    "X = ok[num_cat_columns + text_columns]\n",
    "cluster_and_find_similar(dataset=ok, X=X, n_clusters=12, n_similar=5)"
   ]
  },
  {
   "cell_type": "markdown",
   "id": "74e028e4-8bd5-421c-bb01-4d3461a92e19",
   "metadata": {},
   "source": [
    "### Model 4: 5 LDA Topics"
   ]
  },
  {
   "cell_type": "code",
   "execution_count": 12,
   "id": "0acf4878-3ac4-4814-b3c9-a6a74f160384",
   "metadata": {},
   "outputs": [
    {
     "name": "stdout",
     "output_type": "stream",
     "text": [
      "Silhouette Score: 0.1453\n",
      "Inertia (SSE): 95745.2212\n",
      "Davies-Bouldin Score: 2.1358\n",
      "Calinski-Harabasz Score: 4626.3059\n",
      "Average Match Distance (AMD): 0.2095\n",
      "CPU times: user 1min 38s, sys: 53.7 s, total: 2min 32s\n",
      "Wall time: 1min 3s\n"
     ]
    }
   ],
   "source": [
    "%%time\n",
    "text_columns = ['topic_0_from_five', 'topic_1_from_five', \n",
    "                'topic_2_from_five', 'topic_3_from_five', 'topic_4_from_five']\n",
    "X = ok[num_cat_columns + text_columns]\n",
    "cluster_and_find_similar(dataset=ok, X=X, n_clusters=12, n_similar=5)"
   ]
  },
  {
   "cell_type": "markdown",
   "id": "d7f6d44b-f699-4c8b-a107-84c61f6f53d1",
   "metadata": {},
   "source": [
    "### Model 5: 2 LDA Topics"
   ]
  },
  {
   "cell_type": "code",
   "execution_count": 13,
   "id": "4b648ab2-11fd-42e8-bb57-fcc6af62e8a9",
   "metadata": {},
   "outputs": [
    {
     "name": "stdout",
     "output_type": "stream",
     "text": [
      "Silhouette Score: 0.2209\n",
      "Inertia (SSE): 67059.5664\n",
      "Davies-Bouldin Score: 1.5017\n",
      "Calinski-Harabasz Score: 6683.6448\n",
      "Average Match Distance (AMD): 0.1647\n",
      "CPU times: user 1min 35s, sys: 1min 3s, total: 2min 38s\n",
      "Wall time: 1min 5s\n"
     ]
    }
   ],
   "source": [
    "%%time\n",
    "text_columns = ['topic_0_from_two','topic_1_from_two']\n",
    "X = ok[num_cat_columns + text_columns]\n",
    "cluster_and_find_similar(dataset=ok, X=X, n_clusters=12, n_similar=5)"
   ]
  },
  {
   "cell_type": "markdown",
   "id": "82342b4e-6596-4901-9f8e-d1d74e699a53",
   "metadata": {},
   "source": [
    "### Model 6: PCA SDV"
   ]
  },
  {
   "cell_type": "code",
   "execution_count": 14,
   "id": "da7e795a-cad2-4d3e-931c-8cfb29f4d0bc",
   "metadata": {},
   "outputs": [
    {
     "name": "stdout",
     "output_type": "stream",
     "text": [
      "Silhouette Score: 0.2060\n",
      "Inertia (SSE): 72612.6824\n",
      "Davies-Bouldin Score: 1.6309\n",
      "Calinski-Harabasz Score: 5854.6708\n",
      "Average Match Distance (AMD): 0.1683\n",
      "CPU times: user 1min 40s, sys: 55.7 s, total: 2min 36s\n",
      "Wall time: 1min 7s\n"
     ]
    }
   ],
   "source": [
    "%%time\n",
    "text_columns = ['PCA_sdv_1','PCA_sdv_2']\n",
    "X = ok[num_cat_columns + text_columns]\n",
    "cluster_and_find_similar(dataset=ok, X=X, n_clusters=12, n_similar=5)"
   ]
  },
  {
   "cell_type": "markdown",
   "id": "f7d5d03b-fd4e-4ea7-9f7d-ded11ed9f8b0",
   "metadata": {},
   "source": [
    "### Model 7: PCA Word2vec embeddings"
   ]
  },
  {
   "cell_type": "code",
   "execution_count": 15,
   "id": "ffb1957a-a4c2-4c35-bae7-ce5821fd9044",
   "metadata": {},
   "outputs": [
    {
     "name": "stdout",
     "output_type": "stream",
     "text": [
      "Silhouette Score: 0.2075\n",
      "Inertia (SSE): 70680.4075\n",
      "Davies-Bouldin Score: 1.7744\n",
      "Calinski-Harabasz Score: 6234.4083\n",
      "Average Match Distance (AMD): 0.1404\n",
      "CPU times: user 1min 27s, sys: 1min 9s, total: 2min 37s\n",
      "Wall time: 1min 2s\n"
     ]
    }
   ],
   "source": [
    "%%time\n",
    "text_columns = ['PCA_emb_1','PCA_emb_2']\n",
    "X = ok[num_cat_columns + text_columns]\n",
    "cluster_and_find_similar(dataset=ok, X=X, n_clusters=12, n_similar=5)"
   ]
  },
  {
   "cell_type": "markdown",
   "id": "2c3c84b8-4fc7-4532-9508-c26799a2a0f5",
   "metadata": {},
   "source": [
    "### Model 8: PCA TfidfVectorizer"
   ]
  },
  {
   "cell_type": "code",
   "execution_count": 17,
   "id": "c6115163-d0a9-4fad-b283-69f1ddc7b5b8",
   "metadata": {},
   "outputs": [
    {
     "name": "stdout",
     "output_type": "stream",
     "text": [
      "Silhouette Score: 0.2060\n",
      "Inertia (SSE): 72613.2315\n",
      "Davies-Bouldin Score: 1.6309\n",
      "Calinski-Harabasz Score: 5854.6146\n",
      "Average Match Distance (AMD): 0.1683\n",
      "CPU times: user 1min 41s, sys: 50.1 s, total: 2min 31s\n",
      "Wall time: 1min 4s\n"
     ]
    }
   ],
   "source": [
    "%%time\n",
    "text_columns = ['PCA_vect_1','PCA_vect_2']\n",
    "X = ok[num_cat_columns + text_columns]\n",
    "cluster_and_find_similar(dataset=ok, X=X, n_clusters=12, n_similar=5)"
   ]
  },
  {
   "cell_type": "markdown",
   "id": "caebbbdf-7483-4b2b-bf16-a7a06ad35915",
   "metadata": {
    "tags": []
   },
   "source": [
    "### Summary"
   ]
  },
  {
   "cell_type": "markdown",
   "id": "d9b911f5-4670-4b78-9dd1-f74f4cade878",
   "metadata": {},
   "source": [
    "\n",
    "\n",
    "| Metric                     | Description                         | Better When  |\n",
    "|----------------------------|-------------------------------------|-------------|\n",
    "| **Silhouette Score**       | Cluster separation quality         | Higher      |\n",
    "| **Inertia (SSE)**          | Sum of squared distances to centers | Lower       |\n",
    "| **Davies-Bouldin Score**   | Cluster similarity ratio           | Lower       |\n",
    "| **Calinski-Harabasz Score** | Ratio of inter/intra-cluster variance | Higher      |\n",
    "| **Average Match Distance (AMD)** | Avg. distance to closest matches | Lower       |\n",
    "\n",
    "**Interpretation**:  \n",
    "- **Higher values** of *Silhouette Score* and *Calinski-Harabasz Score* indicate better clustering.  \n",
    "- **Lower values** of *Inertia*, *Davies-Bouldin Score*, and *AMD* indicate better cluster compactness and well-separated groups."
   ]
  },
  {
   "cell_type": "markdown",
   "id": "3a72bb14-af0e-4091-9485-1c8926dce195",
   "metadata": {
    "jp-MarkdownHeadingCollapsed": true,
    "tags": []
   },
   "source": [
    "### Model Comparison Table\n",
    "\n",
    "| Model                              | Silhouette ↑ | Inertia (SSE) ↓ | Davies-Bouldin ↓ | Calinski-Harabasz ↑ | AMD ↓  | Score (Lower is Better) |\n",
    "|------------------------------------|-------------|----------------|----------------|------------------|------|---------------------|\n",
    "| **Model 1: Text KMeans Cluster**  | 0.1844      | 101693.6377    | 1.7407         | 9744.4874        | 0.1773 | 5 |\n",
    "| **Model 2: Therapist**            | 0.1686      | 100305.4067    | 2.1442         | 4654.6152        | 0.1835 | 7 |\n",
    "| **Model 3: General**              | 0.1982      | 81460.9735     | 1.8188         | 5482.3137        | 0.1543 | 6 |\n",
    "| **Model 4: 5 LDA Topics**         | 0.1453      | 95745.2212     | 2.1358         | 4626.3059        | 0.2095 | 8 |\n",
    "| **Model 5: 2 LDA Topics**         | 0.2209      | 67059.5664     | 1.5017         | 6683.6448        | 0.1647 | **1** 🏆 |\n",
    "| **Model 6: PCA SDV**              | 0.2060      | 72612.6824     | 1.6309         | 5854.6708        | 0.1683 | **3** 🥉 |\n",
    "| **Model 7: PCA Word2Vec**         | 0.2075      | 70680.4075     | 1.7744         | 6234.4083        | 0.1404 | 4 |\n",
    "| **Model 8: PCA TF-IDF**           | 0.2060      | 72613.2315     | 1.6309         | 5854.6146        | 0.1683 | 4 |\n",
    "\n",
    "---\n",
    "\n",
    "### **Best Models:**\n",
    "1️⃣ **Model 5 (2 LDA Topics)** – Best overall with the highest Silhouette score, a moderate Davies-Bouldin score, and relatively low AMD.  \n",
    "2️⃣ **Model 6 (PCA SDV)** – Solid second choice with a good balance of performance and lower AMD compared to the others.  \n",
    "3️⃣ **Model 7 (PCA Word2Vec)** – Strong contender with a slight increase in Silhouette and lower AMD than other models.  \n",
    "4️⃣ **Model 8 (PCA TF-IDF)** – Same performance as Model 7, but more consistent.\n",
    "\n",
    "### **How to Choose:**\n",
    "- **For best balance of cluster cohesion and match quality** → **Model 5 (2 LDA Topics)**.  \n",
    "- **For PCA-based dimensionality reduction** with balanced performance → **Model 6 (PCA SDV)** or **Model 7 (PCA Word2Vec)**.  \n",
    "- **For word-based features** → **Model 7 (PCA Word2Vec)** or **Model 8 (PCA TF-IDF)**.\n",
    "\n",
    "🚀 **Next step**: Based on these results, you might want to explore hyperparameter optimization for the top models (such as adjusting `n_clusters`) for further improvement.\n"
   ]
  },
  {
   "cell_type": "markdown",
   "id": "46c26c85-6f95-46d9-a382-43ca6bca86cf",
   "metadata": {},
   "source": [
    "## Testing which features to include in the model"
   ]
  },
  {
   "cell_type": "markdown",
   "id": "b6d91433-03b1-4d4b-94ce-e640b8c1ec42",
   "metadata": {},
   "source": [
    "### Adding features and analysing"
   ]
  },
  {
   "cell_type": "code",
   "execution_count": 19,
   "id": "b1bd1191-e397-4f6c-83fa-813a6031a058",
   "metadata": {},
   "outputs": [
    {
     "name": "stdout",
     "output_type": "stream",
     "text": [
      "Silhouette Score: 0.5358\n",
      "Inertia (SSE): 22.4772\n",
      "Davies-Bouldin Score: 0.5047\n",
      "Calinski-Harabasz Score: 495648.7711\n",
      "Average Match Distance (AMD): 0.0000\n",
      "CPU times: user 31.8 s, sys: 2.63 s, total: 34.5 s\n",
      "Wall time: 33.7 s\n"
     ]
    }
   ],
   "source": [
    "%%time\n",
    "new=['topic_0_from_two']\n",
    "X = ok[new]\n",
    "cluster_and_find_similar(dataset=ok, X=X, n_clusters=12, n_similar=5)"
   ]
  },
  {
   "cell_type": "code",
   "execution_count": 16,
   "id": "c0c7e965-6434-48ea-8341-89150b53ad01",
   "metadata": {},
   "outputs": [
    {
     "name": "stdout",
     "output_type": "stream",
     "text": [
      "Silhouette Score: 0.5340\n",
      "Inertia (SSE): 44.2808\n",
      "Davies-Bouldin Score: 0.5072\n",
      "Calinski-Harabasz Score: 503201.5262\n",
      "Average Match Distance (AMD): 0.0000\n",
      "CPU times: user 1min 2s, sys: 54 s, total: 1min 56s\n",
      "Wall time: 36.1 s\n"
     ]
    }
   ],
   "source": [
    "%%time\n",
    "new=['topic_0_from_two',\n",
    " 'topic_1_from_two']\n",
    "X = ok[new]\n",
    "cluster_and_find_similar(dataset=ok, X=X, n_clusters=12, n_similar=5)"
   ]
  },
  {
   "cell_type": "code",
   "execution_count": 18,
   "id": "b3fe35d0-db06-464b-a3a0-ec2a67163839",
   "metadata": {},
   "outputs": [
    {
     "name": "stdout",
     "output_type": "stream",
     "text": [
      "Silhouette Score: 0.3392\n",
      "Inertia (SSE): 626.4378\n",
      "Davies-Bouldin Score: 0.8347\n",
      "Calinski-Harabasz Score: 48362.3012\n",
      "Average Match Distance (AMD): 0.0014\n",
      "CPU times: user 1min 7s, sys: 52.1 s, total: 1min 59s\n",
      "Wall time: 38.7 s\n"
     ]
    }
   ],
   "source": [
    "%%time\n",
    "new=['age_scaled', 'topic_0_from_two',\n",
    " 'topic_1_from_two']\n",
    "X = ok[new]\n",
    "cluster_and_find_similar(dataset=ok, X=X, n_clusters=12, n_similar=5)"
   ]
  },
  {
   "cell_type": "code",
   "execution_count": 20,
   "id": "afaf8b8c-ed57-4181-8046-19fb78a84117",
   "metadata": {},
   "outputs": [
    {
     "name": "stdout",
     "output_type": "stream",
     "text": [
      "Silhouette Score: 0.3561\n",
      "Inertia (SSE): 916.2438\n",
      "Davies-Bouldin Score: 0.8427\n",
      "Calinski-Harabasz Score: 54818.5556\n",
      "Average Match Distance (AMD): 0.0022\n",
      "CPU times: user 1min 7s, sys: 55 s, total: 2min 2s\n",
      "Wall time: 42.6 s\n"
     ]
    }
   ],
   "source": [
    "%%time\n",
    "new=['age_scaled', 'single', 'topic_0_from_two',\n",
    " 'topic_1_from_two']\n",
    "X = ok[new]\n",
    "cluster_and_find_similar(dataset=ok, X=X, n_clusters=12, n_similar=5)"
   ]
  },
  {
   "cell_type": "code",
   "execution_count": 21,
   "id": "bf6867b8-d621-4349-be3a-71e979eaad57",
   "metadata": {},
   "outputs": [
    {
     "name": "stdout",
     "output_type": "stream",
     "text": [
      "Silhouette Score: 0.4059\n",
      "Inertia (SSE): 1646.2831\n",
      "Davies-Bouldin Score: 0.7757\n",
      "Calinski-Harabasz Score: 75799.0390\n",
      "Average Match Distance (AMD): 0.0037\n",
      "CPU times: user 1min 8s, sys: 53.7 s, total: 2min 2s\n",
      "Wall time: 41.7 s\n"
     ]
    }
   ],
   "source": [
    "%%time\n",
    "new=['age_scaled', 'single', 'female', 'topic_0_from_two',\n",
    " 'topic_1_from_two']\n",
    "X = ok[new]\n",
    "cluster_and_find_similar(dataset=ok, X=X, n_clusters=12, n_similar=5)"
   ]
  },
  {
   "cell_type": "code",
   "execution_count": 22,
   "id": "4ccdd2bb-4fda-4d11-8e85-628863e3ec57",
   "metadata": {},
   "outputs": [
    {
     "name": "stdout",
     "output_type": "stream",
     "text": [
      "Silhouette Score: 0.4214\n",
      "Inertia (SSE): 4042.7787\n",
      "Davies-Bouldin Score: 0.8159\n",
      "Calinski-Harabasz Score: 47682.7808\n",
      "Average Match Distance (AMD): 0.0063\n",
      "CPU times: user 1min 13s, sys: 51.2 s, total: 2min 5s\n",
      "Wall time: 46 s\n"
     ]
    }
   ],
   "source": [
    "%%time\n",
    "new=['age_scaled', 'single', 'female', 'topic_0_from_two',\n",
    " 'topic_1_from_two',  'orientation_bisexual', 'orientation_gay',\n",
    " 'orientation_straight']\n",
    "X = ok[new]\n",
    "cluster_and_find_similar(dataset=ok, X=X, n_clusters=12, n_similar=5)"
   ]
  },
  {
   "cell_type": "code",
   "execution_count": null,
   "id": "ea819a90-0697-4fcb-b02d-5c166f13ce3d",
   "metadata": {},
   "outputs": [],
   "source": [
    "%%time\n",
    "new=['age_scaled', 'single', 'female', 'topic_0_from_two',\n",
    " 'topic_1_from_two',  'orientation_bisexual', 'orientation_gay',\n",
    " 'orientation_straight']\n",
    "X = ok[new]\n",
    "cluster_and_find_similar(dataset=ok, X=X, n_clusters=12, n_similar=5)"
   ]
  },
  {
   "cell_type": "code",
   "execution_count": 24,
   "id": "8e991649-8635-4ef8-a9c2-5f5ae99cd28c",
   "metadata": {},
   "outputs": [
    {
     "name": "stdout",
     "output_type": "stream",
     "text": [
      "Silhouette Score: 0.4919\n",
      "Inertia (SSE): 23761.3141\n",
      "Davies-Bouldin Score: 1.1433\n",
      "Calinski-Harabasz Score: 14937.8450\n",
      "Average Match Distance (AMD): 0.0192\n",
      "CPU times: user 1min 8s, sys: 53.7 s, total: 2min 1s\n",
      "Wall time: 40 s\n"
     ]
    }
   ],
   "source": [
    "%%time\n",
    "new=['age_scaled', 'single', 'female', 'topic_0_from_two',\n",
    " 'topic_1_from_two' , 'orientation_bisexual', 'orientation_gay',\n",
    " 'orientation_straight', 'body_type_athletic','body_type_average',\n",
    " 'body_type_curvy','body_type_fit', 'body_type_not_disclosed',\n",
    " 'body_type_other','body_type_thin']\n",
    "X = ok[new]\n",
    "cluster_and_find_similar(dataset=ok, X=X, n_clusters=12, n_similar=5)"
   ]
  },
  {
   "cell_type": "code",
   "execution_count": 26,
   "id": "64d642b6-501f-43e5-ad54-7984cb60d6da",
   "metadata": {},
   "outputs": [
    {
     "name": "stdout",
     "output_type": "stream",
     "text": [
      "Silhouette Score: 0.2924\n",
      "Inertia (SSE): 54981.2490\n",
      "Davies-Bouldin Score: 1.4925\n",
      "Calinski-Harabasz Score: 6980.5454\n",
      "Average Match Distance (AMD): 0.0364\n",
      "CPU times: user 1min 1s, sys: 57.5 s, total: 1min 59s\n",
      "Wall time: 37.3 s\n"
     ]
    }
   ],
   "source": [
    "%%time\n",
    "new=['age_scaled', 'single', 'female', 'topic_0_from_two',\n",
    " 'topic_1_from_two' , 'orientation_bisexual', 'orientation_gay',\n",
    " 'orientation_straight', 'body_type_athletic','body_type_average',\n",
    " 'body_type_curvy','body_type_fit', 'body_type_not_disclosed',\n",
    " 'body_type_other','body_type_thin',  'diet_type_anything',\n",
    " 'diet_type_not_disclosed', 'diet_type_other','diet_type_vegetarian']\n",
    "X = ok[new]\n",
    "cluster_and_find_similar(dataset=ok, X=X, n_clusters=12, n_similar=5)"
   ]
  },
  {
   "cell_type": "code",
   "execution_count": 27,
   "id": "3b0bc8dc-8323-4c92-893d-a403e83847ef",
   "metadata": {},
   "outputs": [
    {
     "name": "stdout",
     "output_type": "stream",
     "text": [
      "Silhouette Score: 0.1905\n",
      "Inertia (SSE): 86119.1756\n",
      "Davies-Bouldin Score: 2.0949\n",
      "Calinski-Harabasz Score: 4341.3648\n",
      "Average Match Distance (AMD): 0.0774\n",
      "CPU times: user 1min 7s, sys: 53.5 s, total: 2min 1s\n",
      "Wall time: 39.1 s\n"
     ]
    }
   ],
   "source": [
    "%%time\n",
    "new=['age_scaled', 'single', 'female', 'topic_0_from_two',\n",
    " 'topic_1_from_two' , 'orientation_bisexual', 'orientation_gay',\n",
    " 'orientation_straight', 'body_type_athletic','body_type_average',\n",
    " 'body_type_curvy','body_type_fit', 'body_type_not_disclosed',\n",
    " 'body_type_other','body_type_thin',  'diet_type_anything',\n",
    " 'diet_type_not_disclosed', 'diet_type_other','diet_type_vegetarian',\n",
    " 'drinks_not at all', 'drinks_not_disclosed', 'drinks_often',\n",
    " 'drinks_rarely', 'drinks_socially']\n",
    "X = ok[new]\n",
    "cluster_and_find_similar(dataset=ok, X=X, n_clusters=12, n_similar=5)"
   ]
  },
  {
   "cell_type": "code",
   "execution_count": 28,
   "id": "3b5ad3ba-23e1-4afd-b45e-74e6668b10ab",
   "metadata": {},
   "outputs": [
    {
     "name": "stdout",
     "output_type": "stream",
     "text": [
      "Silhouette Score: 0.1375\n",
      "Inertia (SSE): 108120.9289\n",
      "Davies-Bouldin Score: 2.1793\n",
      "Calinski-Harabasz Score: 3869.3748\n",
      "Average Match Distance (AMD): 0.1267\n",
      "CPU times: user 1min 23s, sys: 40.7 s, total: 2min 3s\n",
      "Wall time: 1min 3s\n"
     ]
    }
   ],
   "source": [
    "%%time\n",
    "new=['age_scaled', 'single', 'female', 'topic_0_from_two',\n",
    " 'topic_1_from_two' , 'orientation_bisexual', 'orientation_gay',\n",
    " 'orientation_straight', 'body_type_athletic','body_type_average',\n",
    " 'body_type_curvy','body_type_fit', 'body_type_not_disclosed',\n",
    " 'body_type_other','body_type_thin',  'diet_type_anything',\n",
    " 'diet_type_not_disclosed', 'diet_type_other','diet_type_vegetarian',\n",
    " 'drinks_not at all', 'drinks_not_disclosed', 'drinks_often',\n",
    " 'drinks_rarely', 'drinks_socially',  'no_of_kids_more_than_one',\n",
    " 'no_of_kids_not_disclosed', 'no_of_kids_one','no_of_kids_zero']\n",
    "X = ok[new]\n",
    "cluster_and_find_similar(dataset=ok, X=X, n_clusters=12, n_similar=5)"
   ]
  },
  {
   "cell_type": "code",
   "execution_count": 29,
   "id": "91d87baf-a464-463c-b7a2-db572ed575fc",
   "metadata": {},
   "outputs": [
    {
     "name": "stdout",
     "output_type": "stream",
     "text": [
      "Silhouette Score: 0.1022\n",
      "Inertia (SSE): 125245.3447\n",
      "Davies-Bouldin Score: 2.2350\n",
      "Calinski-Harabasz Score: 3566.3926\n",
      "Average Match Distance (AMD): 0.1921\n",
      "CPU times: user 2min 19s, sys: 22.7 s, total: 2min 41s\n",
      "Wall time: 2min 17s\n"
     ]
    }
   ],
   "source": [
    "%%time\n",
    "new=['age_scaled', 'single', 'female', 'topic_0_from_two',\n",
    " 'topic_1_from_two' , 'orientation_bisexual', 'orientation_gay',\n",
    " 'orientation_straight', 'body_type_athletic','body_type_average',\n",
    " 'body_type_curvy','body_type_fit', 'body_type_not_disclosed',\n",
    " 'body_type_other','body_type_thin',  'diet_type_anything',\n",
    " 'diet_type_not_disclosed', 'diet_type_other','diet_type_vegetarian',\n",
    " 'drinks_not at all', 'drinks_not_disclosed', 'drinks_often',\n",
    " 'drinks_rarely', 'drinks_socially',  'no_of_kids_more_than_one',\n",
    " 'no_of_kids_not_disclosed', 'no_of_kids_one','no_of_kids_zero',  \n",
    " 'want_more_kids_maybe', 'want_more_kids_no', 'want_more_kids_not_disclosed',\n",
    " 'want_more_kids_yes']\n",
    "X = ok[new]\n",
    "cluster_and_find_similar(dataset=ok, X=X, n_clusters=12, n_similar=5)"
   ]
  },
  {
   "cell_type": "code",
   "execution_count": 31,
   "id": "e3700dc7-412b-44da-b552-2fbf564187b5",
   "metadata": {},
   "outputs": [
    {
     "name": "stdout",
     "output_type": "stream",
     "text": [
      "Silhouette Score: 0.0787\n",
      "Inertia (SSE): 139426.0870\n",
      "Davies-Bouldin Score: 2.4819\n",
      "Calinski-Harabasz Score: 3256.4672\n",
      "Average Match Distance (AMD): 0.2513\n",
      "CPU times: user 1min 44s, sys: 25.9 s, total: 2min 10s\n",
      "Wall time: 1min 29s\n"
     ]
    }
   ],
   "source": [
    "%%time\n",
    "new=['age_scaled', 'single', 'female', 'topic_0_from_two',\n",
    " 'topic_1_from_two' , 'orientation_bisexual', 'orientation_gay',\n",
    " 'orientation_straight', 'body_type_athletic','body_type_average',\n",
    " 'body_type_curvy','body_type_fit', 'body_type_not_disclosed',\n",
    " 'body_type_other','body_type_thin',  'diet_type_anything',\n",
    " 'diet_type_not_disclosed', 'diet_type_other','diet_type_vegetarian',\n",
    " 'drinks_not at all', 'drinks_not_disclosed', 'drinks_often',\n",
    " 'drinks_rarely', 'drinks_socially',  'no_of_kids_more_than_one',\n",
    " 'no_of_kids_not_disclosed', 'no_of_kids_one','no_of_kids_zero',  \n",
    " 'want_more_kids_maybe', 'want_more_kids_no', 'want_more_kids_not_disclosed',\n",
    " 'want_more_kids_yes',  'has_dogs_no', 'has_dogs_not_disclosed','has_dogs_yes']\n",
    "X = ok[new]\n",
    "cluster_and_find_similar(dataset=ok, X=X, n_clusters=12, n_similar=5)"
   ]
  },
  {
   "cell_type": "code",
   "execution_count": 33,
   "id": "bea93cc3-0903-4d58-9012-7f9122b42167",
   "metadata": {},
   "outputs": [
    {
     "name": "stdout",
     "output_type": "stream",
     "text": [
      "Silhouette Score: 0.1049\n",
      "Inertia (SSE): 155476.2675\n",
      "Davies-Bouldin Score: 2.3097\n",
      "Calinski-Harabasz Score: 3367.3100\n",
      "Average Match Distance (AMD): 0.3092\n",
      "CPU times: user 1min 58s, sys: 26.7 s, total: 2min 24s\n",
      "Wall time: 1min 32s\n"
     ]
    }
   ],
   "source": [
    "%%time\n",
    "new=['age_scaled', 'single', 'female', 'topic_0_from_two',\n",
    " 'topic_1_from_two' , 'orientation_bisexual', 'orientation_gay',\n",
    " 'orientation_straight', 'body_type_athletic','body_type_average',\n",
    " 'body_type_curvy','body_type_fit', 'body_type_not_disclosed',\n",
    " 'body_type_other','body_type_thin',  'diet_type_anything',\n",
    " 'diet_type_not_disclosed', 'diet_type_other','diet_type_vegetarian',\n",
    " 'drinks_not at all', 'drinks_not_disclosed', 'drinks_often',\n",
    " 'drinks_rarely', 'drinks_socially',  'no_of_kids_more_than_one',\n",
    " 'no_of_kids_not_disclosed', 'no_of_kids_one','no_of_kids_zero',  \n",
    " 'want_more_kids_maybe', 'want_more_kids_no', 'want_more_kids_not_disclosed',\n",
    " 'want_more_kids_yes' , 'has_dogs_no', 'has_dogs_not_disclosed','has_dogs_yes',\n",
    " 'like_dogs_no', 'like_dogs_not_disclosed', 'like_dogs_yes']\n",
    "X = ok[new]\n",
    "cluster_and_find_similar(dataset=ok, X=X, n_clusters=12, n_similar=5)"
   ]
  },
  {
   "cell_type": "code",
   "execution_count": 34,
   "id": "d87a75e5-2748-4bf0-b30d-91aefa3f2caf",
   "metadata": {},
   "outputs": [
    {
     "name": "stdout",
     "output_type": "stream",
     "text": [
      "Silhouette Score: 0.0918\n",
      "Inertia (SSE): 173734.6288\n",
      "Davies-Bouldin Score: 2.8097\n",
      "Calinski-Harabasz Score: 2992.6794\n",
      "Average Match Distance (AMD): 0.4030\n",
      "CPU times: user 1min 59s, sys: 24 s, total: 2min 24s\n",
      "Wall time: 1min 36s\n"
     ]
    }
   ],
   "source": [
    "%%time\n",
    "new=['age_scaled', 'single', 'female', 'topic_0_from_two',\n",
    " 'topic_1_from_two' , 'orientation_bisexual', 'orientation_gay',\n",
    " 'orientation_straight', 'body_type_athletic','body_type_average',\n",
    " 'body_type_curvy','body_type_fit', 'body_type_not_disclosed',\n",
    " 'body_type_other','body_type_thin',  'diet_type_anything',\n",
    " 'diet_type_not_disclosed', 'diet_type_other','diet_type_vegetarian',\n",
    " 'drinks_not at all', 'drinks_not_disclosed', 'drinks_often',\n",
    " 'drinks_rarely', 'drinks_socially',  'no_of_kids_more_than_one',\n",
    " 'no_of_kids_not_disclosed', 'no_of_kids_one','no_of_kids_zero',  \n",
    " 'want_more_kids_maybe', 'want_more_kids_no', 'want_more_kids_not_disclosed',\n",
    " 'want_more_kids_yes',  'has_dogs_no', 'has_dogs_not_disclosed','has_dogs_yes',\n",
    " 'like_dogs_no', 'like_dogs_not_disclosed', 'like_dogs_yes',  'has_cats_no',\n",
    " 'has_cats_not_disclosed','has_cats_yes']\n",
    "X = ok[new]\n",
    "cluster_and_find_similar(dataset=ok, X=X, n_clusters=12, n_similar=5)"
   ]
  },
  {
   "cell_type": "code",
   "execution_count": 35,
   "id": "0e46146c-e779-4821-8783-e6b9cd4693eb",
   "metadata": {},
   "outputs": [
    {
     "name": "stdout",
     "output_type": "stream",
     "text": [
      "Silhouette Score: 0.0835\n",
      "Inertia (SSE): 192555.5129\n",
      "Davies-Bouldin Score: 2.6658\n",
      "Calinski-Harabasz Score: 3084.4088\n",
      "Average Match Distance (AMD): 0.4575\n",
      "CPU times: user 2min 3s, sys: 17.4 s, total: 2min 21s\n",
      "Wall time: 1min 43s\n"
     ]
    }
   ],
   "source": [
    "%%time\n",
    "new=['age_scaled', 'single', 'female', 'topic_0_from_two',\n",
    " 'topic_1_from_two' , 'orientation_bisexual', 'orientation_gay',\n",
    " 'orientation_straight', 'body_type_athletic','body_type_average',\n",
    " 'body_type_curvy','body_type_fit', 'body_type_not_disclosed',\n",
    " 'body_type_other','body_type_thin',  'diet_type_anything',\n",
    " 'diet_type_not_disclosed', 'diet_type_other','diet_type_vegetarian',\n",
    " 'drinks_not at all', 'drinks_not_disclosed', 'drinks_often',\n",
    " 'drinks_rarely', 'drinks_socially',  'no_of_kids_more_than_one',\n",
    " 'no_of_kids_not_disclosed', 'no_of_kids_one','no_of_kids_zero',  \n",
    " 'want_more_kids_maybe', 'want_more_kids_no', 'want_more_kids_not_disclosed',\n",
    " 'want_more_kids_yes',  'has_dogs_no', 'has_dogs_not_disclosed','has_dogs_yes',\n",
    " 'like_dogs_no', 'like_dogs_not_disclosed', 'like_dogs_yes',  'has_cats_no',\n",
    " 'has_cats_not_disclosed','has_cats_yes',  'like_cats_no', 'like_cats_not_disclosed',\n",
    " 'like_cats_yes']\n",
    "X = ok[new]\n",
    "cluster_and_find_similar(dataset=ok, X=X, n_clusters=12, n_similar=5)"
   ]
  },
  {
   "cell_type": "code",
   "execution_count": 36,
   "id": "a8e1f399-cdfc-4f41-ab80-9215837d4354",
   "metadata": {},
   "outputs": [
    {
     "name": "stdout",
     "output_type": "stream",
     "text": [
      "Silhouette Score: 0.0825\n",
      "Inertia (SSE): 234397.6699\n",
      "Davies-Bouldin Score: 2.9154\n",
      "Calinski-Harabasz Score: 2680.5108\n",
      "Average Match Distance (AMD): 0.7785\n",
      "CPU times: user 1min 13s, sys: 50.8 s, total: 2min 4s\n",
      "Wall time: 40.2 s\n"
     ]
    }
   ],
   "source": [
    "%%time\n",
    "new=['age_scaled', 'single', 'female', 'topic_0_from_two',\n",
    " 'topic_1_from_two' , 'orientation_bisexual', 'orientation_gay',\n",
    " 'orientation_straight', 'body_type_athletic','body_type_average',\n",
    " 'body_type_curvy','body_type_fit', 'body_type_not_disclosed',\n",
    " 'body_type_other','body_type_thin',  'diet_type_anything',\n",
    " 'diet_type_not_disclosed', 'diet_type_other','diet_type_vegetarian',\n",
    " 'drinks_not at all', 'drinks_not_disclosed', 'drinks_often',\n",
    " 'drinks_rarely', 'drinks_socially',  'no_of_kids_more_than_one',\n",
    " 'no_of_kids_not_disclosed', 'no_of_kids_one','no_of_kids_zero',  \n",
    " 'want_more_kids_maybe', 'want_more_kids_no', 'want_more_kids_not_disclosed',\n",
    " 'want_more_kids_yes',  'has_dogs_no', 'has_dogs_not_disclosed','has_dogs_yes',\n",
    " 'like_dogs_no', 'like_dogs_not_disclosed', 'like_dogs_yes',  'has_cats_no',\n",
    " 'has_cats_not_disclosed','has_cats_yes',  'like_cats_no', 'like_cats_not_disclosed',\n",
    " 'like_cats_yes',  'religion_agnosticism', 'religion_atheism', 'religion_catholicism',\n",
    " 'religion_christianity','religion_judaism', 'religion_not_disclosed','religion_other']\n",
    "X = ok[new]\n",
    "cluster_and_find_similar(dataset=ok, X=X, n_clusters=12, n_similar=5)"
   ]
  },
  {
   "cell_type": "code",
   "execution_count": 37,
   "id": "d20edd9f-bf3f-4a15-89f3-407a3872ebc8",
   "metadata": {},
   "outputs": [
    {
     "name": "stdout",
     "output_type": "stream",
     "text": [
      "Silhouette Score: 0.0702\n",
      "Inertia (SSE): 260182.5113\n",
      "Davies-Bouldin Score: 3.0105\n",
      "Calinski-Harabasz Score: 2407.7145\n",
      "Average Match Distance (AMD): 0.9226\n",
      "CPU times: user 1min 11s, sys: 51.1 s, total: 2min 2s\n",
      "Wall time: 38.9 s\n"
     ]
    }
   ],
   "source": [
    "%%time\n",
    "new=['age_scaled', 'single', 'female', 'topic_0_from_two',\n",
    " 'topic_1_from_two' , 'orientation_bisexual', 'orientation_gay',\n",
    " 'orientation_straight', 'body_type_athletic','body_type_average',\n",
    " 'body_type_curvy','body_type_fit', 'body_type_not_disclosed',\n",
    " 'body_type_other','body_type_thin',  'diet_type_anything',\n",
    " 'diet_type_not_disclosed', 'diet_type_other','diet_type_vegetarian',\n",
    " 'drinks_not at all', 'drinks_not_disclosed', 'drinks_often',\n",
    " 'drinks_rarely', 'drinks_socially',  'no_of_kids_more_than_one',\n",
    " 'no_of_kids_not_disclosed', 'no_of_kids_one','no_of_kids_zero',  \n",
    " 'want_more_kids_maybe', 'want_more_kids_no', 'want_more_kids_not_disclosed',\n",
    " 'want_more_kids_yes',  'has_dogs_no', 'has_dogs_not_disclosed','has_dogs_yes',\n",
    " 'like_dogs_no', 'like_dogs_not_disclosed', 'like_dogs_yes',  'has_cats_no',\n",
    " 'has_cats_not_disclosed','has_cats_yes',  'like_cats_no', 'like_cats_not_disclosed',\n",
    " 'like_cats_yes',  'religion_agnosticism', 'religion_atheism', 'religion_catholicism',\n",
    " 'religion_christianity','religion_judaism', 'religion_not_disclosed','religion_other',\n",
    " 'smokes_no', 'smokes_not_disclosed', 'smokes_yes']\n",
    "X = ok[new]\n",
    "cluster_and_find_similar(dataset=ok, X=X, n_clusters=12, n_similar=5)"
   ]
  },
  {
   "cell_type": "markdown",
   "id": "a2ef8dfe-1c37-4504-b8ea-526f6996679c",
   "metadata": {},
   "source": [
    "| Model                               | Silhouette ↑ | Inertia (SSE) ↓ | Davies-Bouldin ↓ | Calinski-Harabasz ↑ | AMD ↓   | Score (Lower is Better) | Best Model Consideration                             | Compare to Previous Model                                      | Recommendation                             |\n",
    "|-------------------------------------|--------------|-----------------|------------------|---------------------|---------|------------------------|-----------------------------------------------------|---------------------------------------------------------------|--------------------------------------------|\n",
    "| **Model 1: First LDA Topic only**    | 0.5358       | 22.4772         | 0.5047           | 495648.7711         | 0.0000  | 1                      | Best Overall (Best Silhouette & low AMD)           | N/A                                                           | Keep (Strong performance)                  |\n",
    "| **Model 2: Adding LDA 2 Topics**    | 0.5340       | 44.2808         | 0.5072           | 503201.5262         | 0.0000  | 2                      | Second Best (Good LDA performance)                 | Silhouette slightly decreased                                           | Keep (Still strong)                        |\n",
    "| **Model 3: Adding Age**             | 0.3392       | 626.4378        | 0.8347           | 48362.3012          | 0.0014  | 3                      | Not Recommended (Lower Silhouette)                  | Significant drop in Silhouette                                        | Remove (Negative impact)                   |\n",
    "| **Model 4: Adding Single**          | 0.3561       | 916.2438        | 0.8427           | 54818.5556          | 0.0022  | 4                      | Not Recommended (Lower Silhouette & higher AMD)     | Silhouette and AMD worsened                                            | Remove (Negative impact)                   |\n",
    "| **Model 5: Adding Gender**          | 0.4059       | 1646.2831       | 0.7757           | 75799.0390          | 0.0037  | 5                      | Solid Option (Balanced performance)                 | Silhouette increased, AMD lower                                         | Keep (Positive effect)                     |\n",
    "| **Model 6: Adding Orientation**     | 0.4214       | 4042.7787       | 0.8159           | 47682.7808          | 0.0063  | 6                      | Good Option (Strong Silhouette)                     | Good improvement in Silhouette                                          | Keep (Positive effect)                     |\n",
    "| **Model 7: Adding Body Type**       | 0.4919       | 23761.3141      | 1.1433           | 14937.8450          | 0.0192  | 7                      | Not Recommended (High Davies-Bouldin & AMD)        | Silhouette increased, but high Davies-Bouldin                           | Remove (Negative impact)                   |\n",
    "| **Model 8: Adding Diet Type**       | 0.2924       | 54981.2490      | 1.4925           | 6980.5454           | 0.0364  | 8                      | Not Recommended (Low Silhouette & High Davies-Bouldin) | Significant drop in Silhouette and high Davies-Bouldin                 | Remove (Negative impact)                   |\n",
    "| **Model 9: Adding Drink**           | 0.1905       | 86119.1756      | 2.0949           | 4341.3648           | 0.0774  | 9                      | Not Recommended (Low Silhouette & High Davies-Bouldin) | Significant drop in Silhouette, High Davies-Bouldin                    | Remove (Negative impact)                   |\n",
    "| **Model 10: Adding Has Kids**       | 0.1375       | 108120.9289     | 2.1793           | 3869.3748           | 0.1267  | 10                     | Not Recommended (Low Silhouette & High Davies-Bouldin) | Silhouette decreased, Davies-Bouldin increased                         | Remove (Negative impact)                   |\n",
    "| **Model 11: Adding Wants Kids**     | 0.1022       | 125245.3447     | 2.2350           | 3566.3926           | 0.1921  | 11                     | Not Recommended (Low Silhouette & High Davies-Bouldin) | Significant drop in Silhouette, High Davies-Bouldin                    | Remove (Negative impact)                   |\n",
    "| **Model 12: Adding Has Dog**        | 0.0787       | 139426.0870     | 2.4819           | 3256.4672           | 0.2513  | 12                     | Not Recommended (Low Silhouette & High Davies-Bouldin) | Further drop in Silhouette, High Davies-Bouldin                         | Remove (Negative impact)                   |\n",
    "| **Model 13: Adding Likes Dog**      | 0.1049       | 155476.2675     | 2.3097           | 3367.3100           | 0.3092  | 13                     | Not Recommended (Low Silhouette & High Davies-Bouldin) | Drop in Silhouette and higher Davies-Bouldin                            | Remove (Negative impact)                   |\n",
    "| **Model 14: Adding Likes Cat**      | 0.0835       | 192555.5129     | 2.6658           | 3084.4088           | 0.4575  | 14                     | Not Recommended (Low Silhouette & High Davies-Bouldin) | Silhouette slightly improved, but Inertia and Davies-Bouldin worsened   | Remove (Negative impact)                   |\n",
    "| **Model 15: Adding Religion**       | 0.0825       | 234397.6699     | 2.9154           | 2680.5108           | 0.7785  | 15                     | Not Recommended (Low Silhouette & High Davies-Bouldin) | Silhouette decreased, Davies-Bouldin worsened                            | Remove (Negative impact)                   |\n",
    "| **Model 16: Adding Smokes**         | 0.0702       | 260182.5113     | 3.0105           | 2407.7145           | 0.9226  | 16                     | Not Recommended (Low Silhouette & High Davies-Bouldin) | Further decrease in Silhouette, Davies-Bouldin worsened, AMD increased | Remove (Negative impact)                   |\n"
   ]
  },
  {
   "cell_type": "markdown",
   "id": "309c67e9-dc18-474f-b3af-dab35015fe73",
   "metadata": {},
   "source": [
    "### Keeping best perfomarnce and adding new ones"
   ]
  },
  {
   "cell_type": "code",
   "execution_count": 38,
   "id": "513d528a-c5fa-46a7-ba25-7aebd5116caa",
   "metadata": {},
   "outputs": [
    {
     "name": "stdout",
     "output_type": "stream",
     "text": [
      "Silhouette Score: 0.5743\n",
      "Inertia (SSE): 386.3850\n",
      "Davies-Bouldin Score: 0.4720\n",
      "Calinski-Harabasz Score: 436722.6819\n",
      "Average Match Distance (AMD): 0.0001\n",
      "CPU times: user 1min 12s, sys: 54.7 s, total: 2min 6s\n",
      "Wall time: 46 s\n"
     ]
    }
   ],
   "source": [
    "%%time\n",
    "new=['female', 'topic_0_from_two', 'orientation_bisexual', 'orientation_gay',\n",
    " 'orientation_straight']\n",
    "X = ok[new]\n",
    "cluster_and_find_similar(dataset=ok, X=X, n_clusters=12, n_similar=5)"
   ]
  },
  {
   "cell_type": "code",
   "execution_count": 39,
   "id": "a9fd27df-d457-411d-a450-24a9106296af",
   "metadata": {},
   "outputs": [
    {
     "name": "stdout",
     "output_type": "stream",
     "text": [
      "Silhouette Score: 0.5987\n",
      "Inertia (SSE): 18912.3684\n",
      "Davies-Bouldin Score: 0.9301\n",
      "Calinski-Harabasz Score: 23506.9959\n",
      "Average Match Distance (AMD): 0.0011\n",
      "CPU times: user 1min 10s, sys: 53.2 s, total: 2min 3s\n",
      "Wall time: 42.7 s\n"
     ]
    }
   ],
   "source": [
    "%%time\n",
    "new=['female', 'topic_0_from_two', 'orientation_bisexual', 'orientation_gay',\n",
    " 'orientation_straight', 'education_type_college_univ', 'education_type_grad_or_professional_edu',\n",
    "    'education_type_not_disclosed','education_type_two_year_college_or_less', 'education_status_graduated',\n",
    "    'education_status_not_disclosed', 'education_status_working']\n",
    "X = ok[new]\n",
    "cluster_and_find_similar(dataset=ok, X=X, n_clusters=12, n_similar=5)"
   ]
  },
  {
   "cell_type": "code",
   "execution_count": 42,
   "id": "e8250ae6-6036-4e60-aaaa-4318e22bfa72",
   "metadata": {},
   "outputs": [
    {
     "name": "stdout",
     "output_type": "stream",
     "text": [
      "Silhouette Score: 0.3864\n",
      "Inertia (SSE): 38847.2780\n",
      "Davies-Bouldin Score: 1.3281\n",
      "Calinski-Harabasz Score: 11533.1687\n",
      "Average Match Distance (AMD): 0.0065\n",
      "CPU times: user 2min 22s, sys: 27.4 s, total: 2min 50s\n",
      "Wall time: 2min 53s\n"
     ]
    }
   ],
   "source": [
    "%%time\n",
    "new=['female', 'topic_0_from_two', 'orientation_bisexual', 'orientation_gay',\n",
    " 'orientation_straight', 'education_type_college_univ', 'education_type_grad_or_professional_edu',\n",
    "    'education_type_not_disclosed','education_type_two_year_college_or_less', 'education_status_graduated',\n",
    "    'education_status_not_disclosed', 'education_status_working',  'speaks_english',\n",
    "    'speaks_spanish', 'speaks_other']\n",
    "X = ok[new]\n",
    "cluster_and_find_similar(dataset=ok, X=X, n_clusters=12, n_similar=5)"
   ]
  },
  {
   "cell_type": "code",
   "execution_count": 43,
   "id": "0298b872-f256-4422-8209-a61a1dd9ea22",
   "metadata": {},
   "outputs": [
    {
     "name": "stdout",
     "output_type": "stream",
     "text": [
      "Silhouette Score: 0.1988\n",
      "Inertia (SSE): 85417.1991\n",
      "Davies-Bouldin Score: 1.9556\n",
      "Calinski-Harabasz Score: 5126.4877\n",
      "Average Match Distance (AMD): 0.0656\n",
      "CPU times: user 2min 2s, sys: 17.8 s, total: 2min 20s\n",
      "Wall time: 1min 54s\n"
     ]
    }
   ],
   "source": [
    "%%time\n",
    "new=['female', 'topic_0_from_two', 'orientation_bisexual', 'orientation_gay',\n",
    " 'orientation_straight', 'education_type_college_univ', 'education_type_grad_or_professional_edu',\n",
    "    'education_type_not_disclosed','education_type_two_year_college_or_less', 'education_status_graduated',\n",
    "    'education_status_not_disclosed', 'education_status_working',  'speaks_english',\n",
    "    'speaks_spanish', 'speaks_other', 'is_asian', 'is_white',\n",
    "    'is_black','is_other','is_hispanic_latin','is_ethnicity_nan']\n",
    "X = ok[new]\n",
    "cluster_and_find_similar(dataset=ok, X=X, n_clusters=12, n_similar=5)"
   ]
  },
  {
   "cell_type": "code",
   "execution_count": 45,
   "id": "3f2f1da3-0aea-4be5-8ec7-e783e7169737",
   "metadata": {},
   "outputs": [
    {
     "name": "stdout",
     "output_type": "stream",
     "text": [
      "Silhouette Score: 0.3375\n",
      "Inertia (SSE): 45733.0714\n",
      "Davies-Bouldin Score: 1.3540\n",
      "Calinski-Harabasz Score: 9249.1515\n",
      "Average Match Distance (AMD): 0.0282\n",
      "CPU times: user 1min 15s, sys: 55.7 s, total: 2min 11s\n",
      "Wall time: 47.1 s\n"
     ]
    }
   ],
   "source": [
    "%%time\n",
    "new=['female', 'topic_0_from_two', 'orientation_bisexual', 'orientation_gay',\n",
    " 'orientation_straight', 'education_type_college_univ', 'education_type_grad_or_professional_edu',\n",
    "    'education_type_not_disclosed','education_type_two_year_college_or_less', 'education_status_graduated',\n",
    "    'education_status_not_disclosed', 'education_status_working',  'speaks_english',\n",
    "    'speaks_spanish', 'speaks_other', 'text_length_scaled']\n",
    "X = ok[new]\n",
    "cluster_and_find_similar(dataset=ok, X=X, n_clusters=12, n_similar=5)"
   ]
  },
  {
   "cell_type": "code",
   "execution_count": 46,
   "id": "1e75061c-8d47-42e1-9524-2ebb5e8f8b36",
   "metadata": {},
   "outputs": [
    {
     "name": "stdout",
     "output_type": "stream",
     "text": [
      "Silhouette Score: 0.3375\n",
      "Inertia (SSE): 45733.0714\n",
      "Davies-Bouldin Score: 1.3540\n",
      "Calinski-Harabasz Score: 9249.1515\n",
      "Average Match Distance (AMD): 0.0282\n",
      "CPU times: user 1min 56s, sys: 33.5 s, total: 2min 30s\n",
      "Wall time: 1min 48s\n"
     ]
    }
   ],
   "source": [
    "%%time\n",
    "new=['female', 'topic_0_from_two', 'orientation_bisexual', 'orientation_gay',\n",
    " 'orientation_straight', 'education_type_college_univ', 'education_type_grad_or_professional_edu',\n",
    "    'education_type_not_disclosed','education_type_two_year_college_or_less', 'education_status_graduated',\n",
    "    'education_status_not_disclosed', 'education_status_working',  'speaks_english',\n",
    "    'speaks_spanish', 'speaks_other', 'text_length_scaled']\n",
    "X = ok[new]\n",
    "cluster_and_find_similar(dataset=ok, X=X, n_clusters=12, n_similar=5)"
   ]
  },
  {
   "cell_type": "code",
   "execution_count": 51,
   "id": "b44ab119-8644-48aa-9ac9-4ffe527050f5",
   "metadata": {},
   "outputs": [
    {
     "name": "stdout",
     "output_type": "stream",
     "text": [
      "Silhouette Score: 0.3431\n",
      "Inertia (SSE): 42265.7806\n",
      "Davies-Bouldin Score: 1.3674\n",
      "Calinski-Harabasz Score: 10623.3284\n",
      "Average Match Distance (AMD): 0.0561\n",
      "CPU times: user 1min 34s, sys: 48.2 s, total: 2min 23s\n",
      "Wall time: 1min 1s\n"
     ]
    }
   ],
   "source": [
    "%%time\n",
    "new=['female', 'topic_0_from_two', 'orientation_bisexual', 'orientation_gay',\n",
    " 'orientation_straight', 'education_type_college_univ', 'education_type_grad_or_professional_edu',\n",
    "    'education_type_not_disclosed','education_type_two_year_college_or_less', 'education_status_graduated',\n",
    "    'education_status_not_disclosed', 'education_status_working',  'speaks_english',\n",
    "    'speaks_spanish', 'speaks_other', 'text_length_scaled',  'height_scaled']\n",
    "X = ok[new]\n",
    "cluster_and_find_similar(dataset=ok, X=X, n_clusters=12, n_similar=5)"
   ]
  },
  {
   "cell_type": "code",
   "execution_count": null,
   "id": "acc4f997-a681-4097-bf00-ca1e720d976c",
   "metadata": {},
   "outputs": [],
   "source": [
    "%%time\n",
    "new=['female', 'topic_0_from_two', 'orientation_bisexual', 'orientation_gay',\n",
    " 'orientation_straight', 'education_type_college_univ', 'education_type_grad_or_professional_edu',\n",
    "    'education_type_not_disclosed','education_type_two_year_college_or_less', 'education_status_graduated',\n",
    "    'education_status_not_disclosed', 'education_status_working',  'speaks_english',\n",
    "    'speaks_spanish', 'speaks_other', 'text_length_scaled',  'height_scaled']\n",
    "X = ok[new]\n",
    "cluster_and_find_similar(dataset=ok, X=X, n_clusters=12, n_similar=5)"
   ]
  },
  {
   "cell_type": "code",
   "execution_count": 66,
   "id": "9643d73c-5e3d-4e98-ab3d-601c993c2011",
   "metadata": {},
   "outputs": [
    {
     "name": "stdout",
     "output_type": "stream",
     "text": [
      "Silhouette Score: 0.2209\n",
      "Inertia (SSE): 67059.5664\n",
      "Davies-Bouldin Score: 1.5017\n",
      "Calinski-Harabasz Score: 6683.6448\n",
      "Average Match Distance (AMD): 0.1647\n",
      "CPU times: user 1min 6s, sys: 56.1 s, total: 2min 2s\n",
      "Wall time: 39.9 s\n"
     ]
    }
   ],
   "source": [
    "%%time\n",
    "new=['female', 'age_scaled', 'single','height_scaled','orientation_bisexual', 'orientation_gay',\n",
    "     'orientation_straight', 'education_type_college_univ', 'education_type_grad_or_professional_edu',\n",
    "     'education_type_not_disclosed','education_type_two_year_college_or_less', 'education_status_graduated',\n",
    "     'education_status_not_disclosed', 'education_status_working',  'speaks_english', 'speaks_spanish', \n",
    "     'speaks_other''diet_type_vegetarian', 'has_dogs_yes', 'no_of_kids_more_than_one','no_of_kids_one',\n",
    "     'topic_0_from_two','text_length_scaled']\n",
    "X = ok[new]\n",
    "cluster_and_find_similar(dataset=ok, X=X, n_clusters=12, n_similar=5)"
   ]
  },
  {
   "cell_type": "markdown",
   "id": "2342495c-a847-48b1-ac19-4668ab66045b",
   "metadata": {},
   "source": [
    "| Model  | Silhouette ↑ | Inertia (SSE) ↓ | Davies-Bouldin ↓ | Calinski-Harabasz ↑ | AMD ↓ | Score (Lower is Better) | Best Model Consideration | Compare to Previous Model | Recommendation |\n",
    "|--------|--------------|------------------|------------------|---------------------|-------|-------------------------|--------------------------|---------------------------|----------------|\n",
    "| Model 1: LDA 1 + Gender + Orientation | 0.5743 | 386.3850 | 0.4720 | 436722.6819 | 0.0001 | 7 | Best Overall (Best Silhouette & low AMD) | Significant improvement | Keep (Strong performance) |\n",
    "| Model 2: Adding Education | 0.5987 | 18912.3684 | 0.9301 | 23506.9959 | 0.0011 | 8 | Solid Option (Good improvement) | Silhouette increased | Keep (Positive effect) |\n",
    "| Model 3: Adding Languages | 0.3864 | 38847.2780 | 1.3281 | 11533.1687 | 0.0065 | 9 | Positive Impact (Good Silhouette & AMD) | Silhouette increased, balanced performance | Keep (Positive effect) |\n",
    "| Model 4: Adding Text Length | 0.3375 | 45733.0714 | 1.3540 | 9249.1515 | 0.0282 | 10 | Positive Impact (Good Silhouette & balanced performance) | Balanced performance | Keep (Positive effect) |\n",
    "| Model 5: Adding Height | 0.3431 | 42265.7806 | 1.3674 | 10623.3284 | 0.0561 | 20 | Good Option (Improved Silhouette) | Silhouette increased | Keep (Positive effect) |\n",
    "| Model 6: Adding Vegetarian | 0.2986 | 48124.1491 | 1.4833 | 9184.3819 | 0.0654 | 21 | Borderline, but Leaning Toward Keep | Better than some removed features | Keep (Conditional) |\n",
    "| Model 7: Adding Has Dog | 0.2628 | 53159.2449 | 1.4843 | 8545.5971 | 0.0794 | 23 | Keep (Conditional) | Improved over previous evaluation | Keep (Positive effect) |\n",
    "| Model 8: Adding Has Kids | 0.2665 | 57530.2317 | 1.4746 | 7929.0712 | 0.0959 | 25 | Keep (Conditional) | Slight improvement over 'Has Dog' | Keep (Positive effect) |\n",
    "| Model 9: Adding Single | 0.2273 | 64094.6961 | 1.6373 | 6894.5560 | 0.1121 | 26 | Keep (Conditional) | Improved over 'Body Type - Athletic' | Keep (Positive effect) |\n",
    "| Model 10: Adding Age | 0.2378 | 64639.9396 | 1.5695 | 6963.6418 | 0.1526 | 27 | Solid option (Lower Silhouette but improved Davies-Bouldin) | Slight drop in Silhouette | Keep (Conditional) |"
   ]
  },
  {
   "cell_type": "markdown",
   "id": "1aa1ea08-a9d0-438f-acd0-33e44c1f60ce",
   "metadata": {},
   "source": [
    "## Function to run several Deep Collaborative Scoring Model (DBScam)"
   ]
  },
  {
   "cell_type": "code",
   "execution_count": 207,
   "id": "ec89df52-5374-42dd-8d44-b82b43ae3cb8",
   "metadata": {},
   "outputs": [],
   "source": [
    "from sklearn.cluster import DBSCAN\n",
    "from sklearn.metrics import silhouette_score, davies_bouldin_score, calinski_harabasz_score\n",
    "import numpy as np\n",
    "import pandas as pd\n",
    "\n",
    "def run_dbscan_recommendation(ok, X, eps=0.5, min_samples=5):\n",
    "    \"\"\"\n",
    "    Runs DBSCAN clustering and recommends the 5 most similar people per individual.\n",
    "    Also computes evaluation metrics and visualizes clusters.\n",
    "\n",
    "    Parameters:\n",
    "        ok (pd.DataFrame): The original dataset (modified in place).\n",
    "        X (pd.DataFrame or np.array): Feature matrix (already scaled).\n",
    "        eps (float): The maximum distance for points to be considered neighbors.\n",
    "        min_samples (int): The minimum number of samples to form a core point.\n",
    "    \"\"\"\n",
    "    dbscan = DBSCAN(eps=eps, min_samples=min_samples, metric='euclidean')\n",
    "    labels = dbscan.fit_predict(X)\n",
    "    ok['cluster'] = labels  # Assign clusters\n",
    "\n",
    "    # Dictionary to store the most similar people for each individual\n",
    "    similar_people = {}\n",
    "    for i in range(len(X)):\n",
    "        label = labels[i]\n",
    "        if label == -1:\n",
    "            similar_people[i] = []  # Noise points have no cluster\n",
    "            continue\n",
    "\n",
    "        cluster_indices = np.where(labels == label)[0]  # Get indices of people in the same cluster\n",
    "        cluster_distances = np.linalg.norm(X.iloc[cluster_indices].values - X.iloc[i].values, axis=1)  # Compute distances\n",
    "        sorted_indices = cluster_indices[np.argsort(cluster_distances)]  # Sort by similarity\n",
    "\n",
    "        similar_people[i] = sorted_indices[1:6].tolist()  # Exclude self and take top 5\n",
    "\n",
    "    # Convert to DataFrame and save permanently\n",
    "    similar_df = pd.DataFrame.from_dict(similar_people, orient='index')\n",
    "    similar_df.columns = [f'db_match_{i+1}' for i in range(5)]\n",
    "    \n",
    "    ok.loc[:, similar_df.columns] = similar_df  # Save columns permanently to the dataset\n",
    "\n",
    "    # Compute clustering evaluation metrics\n",
    "    valid_mask = labels != -1  # Mask to filter out noise points\n",
    "    X_valid = X.iloc[valid_mask] if isinstance(X, pd.DataFrame) else X[valid_mask]\n",
    "    valid_labels = labels[valid_mask]  # Remove noise points\n",
    "    \n",
    "    if len(set(valid_labels)) > 1:  # Metrics require at least 2 clusters\n",
    "        silhouette_avg = silhouette_score(X_valid, valid_labels)\n",
    "        davies_bouldin = davies_bouldin_score(X_valid, valid_labels)\n",
    "        calinski_harabasz = calinski_harabasz_score(X_valid, valid_labels)\n",
    "\n",
    "        print(f\"📌 Silhouette Score: {silhouette_avg:.4f} → Measures clustering cohesion\")\n",
    "        print(f\"📌 Davies-Bouldin Score: {davies_bouldin:.4f} → Measures cluster separation (lower is better)\")\n",
    "        print(f\"📌 Calinski-Harabasz Score: {calinski_harabasz:.4f} → Measures cluster quality (higher is better)\")\n",
    "    else:\n",
    "        print(\"⚠️ Not enough clusters to compute metrics.\")\n"
   ]
  },
  {
   "cell_type": "code",
   "execution_count": 208,
   "id": "b75aa6f0-e943-4d79-8651-0df68438f345",
   "metadata": {},
   "outputs": [
    {
     "name": "stdout",
     "output_type": "stream",
     "text": [
      "📌 Silhouette Score: 0.6875 → Measures clustering cohesion\n",
      "📌 Davies-Bouldin Score: 0.4939 → Measures cluster separation (lower is better)\n",
      "📌 Calinski-Harabasz Score: 2607.6688 → Measures cluster quality (higher is better)\n"
     ]
    }
   ],
   "source": [
    "run_dbscan_recommendation(ok, X, eps=0.5, min_samples=5)"
   ]
  },
  {
   "cell_type": "code",
   "execution_count": 209,
   "id": "833da103-653f-4a0a-9946-be9e06aa3a7b",
   "metadata": {},
   "outputs": [
    {
     "data": {
      "text/html": [
       "<div>\n",
       "<style scoped>\n",
       "    .dataframe tbody tr th:only-of-type {\n",
       "        vertical-align: middle;\n",
       "    }\n",
       "\n",
       "    .dataframe tbody tr th {\n",
       "        vertical-align: top;\n",
       "    }\n",
       "\n",
       "    .dataframe thead th {\n",
       "        text-align: right;\n",
       "    }\n",
       "</style>\n",
       "<table border=\"1\" class=\"dataframe\">\n",
       "  <thead>\n",
       "    <tr style=\"text-align: right;\">\n",
       "      <th></th>\n",
       "      <th>age_scaled</th>\n",
       "      <th>single</th>\n",
       "      <th>female</th>\n",
       "      <th>orientation_bisexual</th>\n",
       "      <th>orientation_gay</th>\n",
       "      <th>orientation_straight</th>\n",
       "      <th>body_type_athletic</th>\n",
       "      <th>body_type_average</th>\n",
       "      <th>body_type_curvy</th>\n",
       "      <th>body_type_fit</th>\n",
       "      <th>...</th>\n",
       "      <th>therapist_Managing and Increasing Energy Levels</th>\n",
       "      <th>therapist_Other</th>\n",
       "      <th>therapist_See and Understanding Conversations</th>\n",
       "      <th>therapist_Time Up and Future Meetings</th>\n",
       "      <th>cluster</th>\n",
       "      <th>db_match_1</th>\n",
       "      <th>db_match_2</th>\n",
       "      <th>db_match_3</th>\n",
       "      <th>db_match_4</th>\n",
       "      <th>db_match_5</th>\n",
       "    </tr>\n",
       "  </thead>\n",
       "  <tbody>\n",
       "    <tr>\n",
       "      <th>0</th>\n",
       "      <td>0.078431</td>\n",
       "      <td>1</td>\n",
       "      <td>0</td>\n",
       "      <td>0</td>\n",
       "      <td>0</td>\n",
       "      <td>1</td>\n",
       "      <td>0</td>\n",
       "      <td>0</td>\n",
       "      <td>0</td>\n",
       "      <td>0</td>\n",
       "      <td>...</td>\n",
       "      <td>0</td>\n",
       "      <td>0</td>\n",
       "      <td>0</td>\n",
       "      <td>1</td>\n",
       "      <td>0</td>\n",
       "      <td>22670.0</td>\n",
       "      <td>36389.0</td>\n",
       "      <td>4295.0</td>\n",
       "      <td>44270.0</td>\n",
       "      <td>136.0</td>\n",
       "    </tr>\n",
       "    <tr>\n",
       "      <th>1</th>\n",
       "      <td>0.333333</td>\n",
       "      <td>1</td>\n",
       "      <td>0</td>\n",
       "      <td>0</td>\n",
       "      <td>0</td>\n",
       "      <td>1</td>\n",
       "      <td>0</td>\n",
       "      <td>1</td>\n",
       "      <td>0</td>\n",
       "      <td>0</td>\n",
       "      <td>...</td>\n",
       "      <td>1</td>\n",
       "      <td>0</td>\n",
       "      <td>0</td>\n",
       "      <td>0</td>\n",
       "      <td>1</td>\n",
       "      <td>36507.0</td>\n",
       "      <td>26895.0</td>\n",
       "      <td>58469.0</td>\n",
       "      <td>39768.0</td>\n",
       "      <td>55205.0</td>\n",
       "    </tr>\n",
       "    <tr>\n",
       "      <th>2</th>\n",
       "      <td>0.392157</td>\n",
       "      <td>0</td>\n",
       "      <td>0</td>\n",
       "      <td>0</td>\n",
       "      <td>0</td>\n",
       "      <td>1</td>\n",
       "      <td>0</td>\n",
       "      <td>0</td>\n",
       "      <td>0</td>\n",
       "      <td>0</td>\n",
       "      <td>...</td>\n",
       "      <td>0</td>\n",
       "      <td>1</td>\n",
       "      <td>0</td>\n",
       "      <td>0</td>\n",
       "      <td>2</td>\n",
       "      <td>50006.0</td>\n",
       "      <td>48841.0</td>\n",
       "      <td>12933.0</td>\n",
       "      <td>46852.0</td>\n",
       "      <td>42873.0</td>\n",
       "    </tr>\n",
       "    <tr>\n",
       "      <th>3</th>\n",
       "      <td>0.098039</td>\n",
       "      <td>1</td>\n",
       "      <td>0</td>\n",
       "      <td>0</td>\n",
       "      <td>0</td>\n",
       "      <td>1</td>\n",
       "      <td>0</td>\n",
       "      <td>0</td>\n",
       "      <td>0</td>\n",
       "      <td>0</td>\n",
       "      <td>...</td>\n",
       "      <td>0</td>\n",
       "      <td>1</td>\n",
       "      <td>0</td>\n",
       "      <td>0</td>\n",
       "      <td>3</td>\n",
       "      <td>7635.0</td>\n",
       "      <td>3356.0</td>\n",
       "      <td>48076.0</td>\n",
       "      <td>7123.0</td>\n",
       "      <td>28862.0</td>\n",
       "    </tr>\n",
       "    <tr>\n",
       "      <th>4</th>\n",
       "      <td>0.215686</td>\n",
       "      <td>1</td>\n",
       "      <td>0</td>\n",
       "      <td>0</td>\n",
       "      <td>0</td>\n",
       "      <td>1</td>\n",
       "      <td>1</td>\n",
       "      <td>0</td>\n",
       "      <td>0</td>\n",
       "      <td>0</td>\n",
       "      <td>...</td>\n",
       "      <td>0</td>\n",
       "      <td>0</td>\n",
       "      <td>0</td>\n",
       "      <td>0</td>\n",
       "      <td>4</td>\n",
       "      <td>109.0</td>\n",
       "      <td>4427.0</td>\n",
       "      <td>23631.0</td>\n",
       "      <td>33688.0</td>\n",
       "      <td>40679.0</td>\n",
       "    </tr>\n",
       "    <tr>\n",
       "      <th>...</th>\n",
       "      <td>...</td>\n",
       "      <td>...</td>\n",
       "      <td>...</td>\n",
       "      <td>...</td>\n",
       "      <td>...</td>\n",
       "      <td>...</td>\n",
       "      <td>...</td>\n",
       "      <td>...</td>\n",
       "      <td>...</td>\n",
       "      <td>...</td>\n",
       "      <td>...</td>\n",
       "      <td>...</td>\n",
       "      <td>...</td>\n",
       "      <td>...</td>\n",
       "      <td>...</td>\n",
       "      <td>...</td>\n",
       "      <td>...</td>\n",
       "      <td>...</td>\n",
       "      <td>...</td>\n",
       "      <td>...</td>\n",
       "      <td>...</td>\n",
       "    </tr>\n",
       "    <tr>\n",
       "      <th>59941</th>\n",
       "      <td>0.803922</td>\n",
       "      <td>1</td>\n",
       "      <td>1</td>\n",
       "      <td>0</td>\n",
       "      <td>0</td>\n",
       "      <td>1</td>\n",
       "      <td>0</td>\n",
       "      <td>0</td>\n",
       "      <td>0</td>\n",
       "      <td>0</td>\n",
       "      <td>...</td>\n",
       "      <td>0</td>\n",
       "      <td>0</td>\n",
       "      <td>0</td>\n",
       "      <td>0</td>\n",
       "      <td>190</td>\n",
       "      <td>55574.0</td>\n",
       "      <td>33394.0</td>\n",
       "      <td>38258.0</td>\n",
       "      <td>39818.0</td>\n",
       "      <td>47175.0</td>\n",
       "    </tr>\n",
       "    <tr>\n",
       "      <th>59942</th>\n",
       "      <td>0.117647</td>\n",
       "      <td>1</td>\n",
       "      <td>0</td>\n",
       "      <td>0</td>\n",
       "      <td>0</td>\n",
       "      <td>1</td>\n",
       "      <td>0</td>\n",
       "      <td>0</td>\n",
       "      <td>0</td>\n",
       "      <td>1</td>\n",
       "      <td>...</td>\n",
       "      <td>0</td>\n",
       "      <td>0</td>\n",
       "      <td>0</td>\n",
       "      <td>1</td>\n",
       "      <td>0</td>\n",
       "      <td>28719.0</td>\n",
       "      <td>47895.0</td>\n",
       "      <td>41669.0</td>\n",
       "      <td>43969.0</td>\n",
       "      <td>31827.0</td>\n",
       "    </tr>\n",
       "    <tr>\n",
       "      <th>59943</th>\n",
       "      <td>0.470588</td>\n",
       "      <td>1</td>\n",
       "      <td>0</td>\n",
       "      <td>0</td>\n",
       "      <td>0</td>\n",
       "      <td>1</td>\n",
       "      <td>0</td>\n",
       "      <td>1</td>\n",
       "      <td>0</td>\n",
       "      <td>0</td>\n",
       "      <td>...</td>\n",
       "      <td>0</td>\n",
       "      <td>0</td>\n",
       "      <td>0</td>\n",
       "      <td>1</td>\n",
       "      <td>15</td>\n",
       "      <td>59176.0</td>\n",
       "      <td>5435.0</td>\n",
       "      <td>23857.0</td>\n",
       "      <td>10048.0</td>\n",
       "      <td>52493.0</td>\n",
       "    </tr>\n",
       "    <tr>\n",
       "      <th>59944</th>\n",
       "      <td>0.176471</td>\n",
       "      <td>1</td>\n",
       "      <td>0</td>\n",
       "      <td>0</td>\n",
       "      <td>0</td>\n",
       "      <td>1</td>\n",
       "      <td>1</td>\n",
       "      <td>0</td>\n",
       "      <td>0</td>\n",
       "      <td>0</td>\n",
       "      <td>...</td>\n",
       "      <td>0</td>\n",
       "      <td>1</td>\n",
       "      <td>0</td>\n",
       "      <td>0</td>\n",
       "      <td>0</td>\n",
       "      <td>52506.0</td>\n",
       "      <td>9766.0</td>\n",
       "      <td>40937.0</td>\n",
       "      <td>43761.0</td>\n",
       "      <td>55271.0</td>\n",
       "    </tr>\n",
       "    <tr>\n",
       "      <th>59945</th>\n",
       "      <td>0.411765</td>\n",
       "      <td>1</td>\n",
       "      <td>0</td>\n",
       "      <td>0</td>\n",
       "      <td>1</td>\n",
       "      <td>0</td>\n",
       "      <td>0</td>\n",
       "      <td>1</td>\n",
       "      <td>0</td>\n",
       "      <td>0</td>\n",
       "      <td>...</td>\n",
       "      <td>0</td>\n",
       "      <td>1</td>\n",
       "      <td>0</td>\n",
       "      <td>0</td>\n",
       "      <td>212</td>\n",
       "      <td>46800.0</td>\n",
       "      <td>40460.0</td>\n",
       "      <td>34290.0</td>\n",
       "      <td>14220.0</td>\n",
       "      <td>47918.0</td>\n",
       "    </tr>\n",
       "  </tbody>\n",
       "</table>\n",
       "<p>59946 rows × 158 columns</p>\n",
       "</div>"
      ],
      "text/plain": [
       "       age_scaled  single  female  orientation_bisexual  orientation_gay  \\\n",
       "0        0.078431       1       0                     0                0   \n",
       "1        0.333333       1       0                     0                0   \n",
       "2        0.392157       0       0                     0                0   \n",
       "3        0.098039       1       0                     0                0   \n",
       "4        0.215686       1       0                     0                0   \n",
       "...           ...     ...     ...                   ...              ...   \n",
       "59941    0.803922       1       1                     0                0   \n",
       "59942    0.117647       1       0                     0                0   \n",
       "59943    0.470588       1       0                     0                0   \n",
       "59944    0.176471       1       0                     0                0   \n",
       "59945    0.411765       1       0                     0                1   \n",
       "\n",
       "       orientation_straight  body_type_athletic  body_type_average  \\\n",
       "0                         1                   0                  0   \n",
       "1                         1                   0                  1   \n",
       "2                         1                   0                  0   \n",
       "3                         1                   0                  0   \n",
       "4                         1                   1                  0   \n",
       "...                     ...                 ...                ...   \n",
       "59941                     1                   0                  0   \n",
       "59942                     1                   0                  0   \n",
       "59943                     1                   0                  1   \n",
       "59944                     1                   1                  0   \n",
       "59945                     0                   0                  1   \n",
       "\n",
       "       body_type_curvy  body_type_fit  ...  \\\n",
       "0                    0              0  ...   \n",
       "1                    0              0  ...   \n",
       "2                    0              0  ...   \n",
       "3                    0              0  ...   \n",
       "4                    0              0  ...   \n",
       "...                ...            ...  ...   \n",
       "59941                0              0  ...   \n",
       "59942                0              1  ...   \n",
       "59943                0              0  ...   \n",
       "59944                0              0  ...   \n",
       "59945                0              0  ...   \n",
       "\n",
       "       therapist_Managing and Increasing Energy Levels  therapist_Other  \\\n",
       "0                                                    0                0   \n",
       "1                                                    1                0   \n",
       "2                                                    0                1   \n",
       "3                                                    0                1   \n",
       "4                                                    0                0   \n",
       "...                                                ...              ...   \n",
       "59941                                                0                0   \n",
       "59942                                                0                0   \n",
       "59943                                                0                0   \n",
       "59944                                                0                1   \n",
       "59945                                                0                1   \n",
       "\n",
       "       therapist_See and Understanding Conversations  \\\n",
       "0                                                  0   \n",
       "1                                                  0   \n",
       "2                                                  0   \n",
       "3                                                  0   \n",
       "4                                                  0   \n",
       "...                                              ...   \n",
       "59941                                              0   \n",
       "59942                                              0   \n",
       "59943                                              0   \n",
       "59944                                              0   \n",
       "59945                                              0   \n",
       "\n",
       "       therapist_Time Up and Future Meetings  cluster  db_match_1  db_match_2  \\\n",
       "0                                          1        0     22670.0     36389.0   \n",
       "1                                          0        1     36507.0     26895.0   \n",
       "2                                          0        2     50006.0     48841.0   \n",
       "3                                          0        3      7635.0      3356.0   \n",
       "4                                          0        4       109.0      4427.0   \n",
       "...                                      ...      ...         ...         ...   \n",
       "59941                                      0      190     55574.0     33394.0   \n",
       "59942                                      1        0     28719.0     47895.0   \n",
       "59943                                      1       15     59176.0      5435.0   \n",
       "59944                                      0        0     52506.0      9766.0   \n",
       "59945                                      0      212     46800.0     40460.0   \n",
       "\n",
       "       db_match_3  db_match_4  db_match_5  \n",
       "0          4295.0     44270.0       136.0  \n",
       "1         58469.0     39768.0     55205.0  \n",
       "2         12933.0     46852.0     42873.0  \n",
       "3         48076.0      7123.0     28862.0  \n",
       "4         23631.0     33688.0     40679.0  \n",
       "...           ...         ...         ...  \n",
       "59941     38258.0     39818.0     47175.0  \n",
       "59942     41669.0     43969.0     31827.0  \n",
       "59943     23857.0     10048.0     52493.0  \n",
       "59944     40937.0     43761.0     55271.0  \n",
       "59945     34290.0     14220.0     47918.0  \n",
       "\n",
       "[59946 rows x 158 columns]"
      ]
     },
     "execution_count": 209,
     "metadata": {},
     "output_type": "execute_result"
    }
   ],
   "source": [
    "ok"
   ]
  },
  {
   "cell_type": "markdown",
   "id": "7689cd87-8805-4ccb-80d0-d90fab209e43",
   "metadata": {},
   "source": [
    "## Comparing models (KNN, Kmeans, DB Scam)"
   ]
  },
  {
   "cell_type": "code",
   "execution_count": 162,
   "id": "f3504167-1d71-4266-a035-4b8ca6b9bddb",
   "metadata": {},
   "outputs": [],
   "source": [
    "features=['female', 'age_scaled', 'single','height_scaled','orientation_bisexual', 'orientation_gay',\n",
    "     'orientation_straight', 'education_type_college_univ', 'education_type_grad_or_professional_edu',\n",
    "     'education_type_not_disclosed','education_type_two_year_college_or_less', 'education_status_graduated',\n",
    "     'education_status_not_disclosed', 'education_status_working',  'speaks_english', 'speaks_spanish', \n",
    "     'speaks_other','diet_type_vegetarian', 'has_dogs_yes', 'no_of_kids_more_than_one','no_of_kids_one',\n",
    "     'text_length_scaled']"
   ]
  },
  {
   "cell_type": "code",
   "execution_count": 163,
   "id": "42e869b6-7e33-4ab8-90bf-7eaa86911d3a",
   "metadata": {},
   "outputs": [],
   "source": [
    "X = ok[features]"
   ]
  },
  {
   "cell_type": "code",
   "execution_count": 164,
   "id": "e800c7b2-ebfb-45b5-908f-830a6a1d5267",
   "metadata": {},
   "outputs": [
    {
     "data": {
      "text/html": [
       "<div>\n",
       "<style scoped>\n",
       "    .dataframe tbody tr th:only-of-type {\n",
       "        vertical-align: middle;\n",
       "    }\n",
       "\n",
       "    .dataframe tbody tr th {\n",
       "        vertical-align: top;\n",
       "    }\n",
       "\n",
       "    .dataframe thead th {\n",
       "        text-align: right;\n",
       "    }\n",
       "</style>\n",
       "<table border=\"1\" class=\"dataframe\">\n",
       "  <thead>\n",
       "    <tr style=\"text-align: right;\">\n",
       "      <th></th>\n",
       "      <th>age_scaled</th>\n",
       "      <th>single</th>\n",
       "      <th>female</th>\n",
       "      <th>orientation_bisexual</th>\n",
       "      <th>orientation_gay</th>\n",
       "      <th>orientation_straight</th>\n",
       "      <th>body_type_athletic</th>\n",
       "      <th>body_type_average</th>\n",
       "      <th>body_type_curvy</th>\n",
       "      <th>body_type_fit</th>\n",
       "      <th>...</th>\n",
       "      <th>general_Other</th>\n",
       "      <th>general_Social Life</th>\n",
       "      <th>therapis_label</th>\n",
       "      <th>therapist_real_label</th>\n",
       "      <th>therapist_grouped_label</th>\n",
       "      <th>therapist_Expressions of Happiness and Joy</th>\n",
       "      <th>therapist_Managing and Increasing Energy Levels</th>\n",
       "      <th>therapist_Other</th>\n",
       "      <th>therapist_See and Understanding Conversations</th>\n",
       "      <th>therapist_Time Up and Future Meetings</th>\n",
       "    </tr>\n",
       "  </thead>\n",
       "  <tbody>\n",
       "    <tr>\n",
       "      <th>0</th>\n",
       "      <td>0.078431</td>\n",
       "      <td>1</td>\n",
       "      <td>0</td>\n",
       "      <td>0</td>\n",
       "      <td>0</td>\n",
       "      <td>1</td>\n",
       "      <td>0</td>\n",
       "      <td>0</td>\n",
       "      <td>0</td>\n",
       "      <td>0</td>\n",
       "      <td>...</td>\n",
       "      <td>0</td>\n",
       "      <td>1</td>\n",
       "      <td>0</td>\n",
       "      <td>Time Up and Future Meetings</td>\n",
       "      <td>Time Up and Future Meetings</td>\n",
       "      <td>0</td>\n",
       "      <td>0</td>\n",
       "      <td>0</td>\n",
       "      <td>0</td>\n",
       "      <td>1</td>\n",
       "    </tr>\n",
       "    <tr>\n",
       "      <th>1</th>\n",
       "      <td>0.333333</td>\n",
       "      <td>1</td>\n",
       "      <td>0</td>\n",
       "      <td>0</td>\n",
       "      <td>0</td>\n",
       "      <td>1</td>\n",
       "      <td>0</td>\n",
       "      <td>1</td>\n",
       "      <td>0</td>\n",
       "      <td>0</td>\n",
       "      <td>...</td>\n",
       "      <td>0</td>\n",
       "      <td>1</td>\n",
       "      <td>34</td>\n",
       "      <td>Managing and Increasing Energy Levels</td>\n",
       "      <td>Managing and Increasing Energy Levels</td>\n",
       "      <td>0</td>\n",
       "      <td>1</td>\n",
       "      <td>0</td>\n",
       "      <td>0</td>\n",
       "      <td>0</td>\n",
       "    </tr>\n",
       "    <tr>\n",
       "      <th>2</th>\n",
       "      <td>0.392157</td>\n",
       "      <td>0</td>\n",
       "      <td>0</td>\n",
       "      <td>0</td>\n",
       "      <td>0</td>\n",
       "      <td>1</td>\n",
       "      <td>0</td>\n",
       "      <td>0</td>\n",
       "      <td>0</td>\n",
       "      <td>0</td>\n",
       "      <td>...</td>\n",
       "      <td>0</td>\n",
       "      <td>1</td>\n",
       "      <td>18</td>\n",
       "      <td>Voices and Perception of Sound</td>\n",
       "      <td>Other</td>\n",
       "      <td>0</td>\n",
       "      <td>0</td>\n",
       "      <td>1</td>\n",
       "      <td>0</td>\n",
       "      <td>0</td>\n",
       "    </tr>\n",
       "    <tr>\n",
       "      <th>3</th>\n",
       "      <td>0.098039</td>\n",
       "      <td>1</td>\n",
       "      <td>0</td>\n",
       "      <td>0</td>\n",
       "      <td>0</td>\n",
       "      <td>1</td>\n",
       "      <td>0</td>\n",
       "      <td>0</td>\n",
       "      <td>0</td>\n",
       "      <td>0</td>\n",
       "      <td>...</td>\n",
       "      <td>0</td>\n",
       "      <td>0</td>\n",
       "      <td>14</td>\n",
       "      <td>Struggles and Desires in Learning</td>\n",
       "      <td>Other</td>\n",
       "      <td>0</td>\n",
       "      <td>0</td>\n",
       "      <td>1</td>\n",
       "      <td>0</td>\n",
       "      <td>0</td>\n",
       "    </tr>\n",
       "    <tr>\n",
       "      <th>4</th>\n",
       "      <td>0.215686</td>\n",
       "      <td>1</td>\n",
       "      <td>0</td>\n",
       "      <td>0</td>\n",
       "      <td>0</td>\n",
       "      <td>1</td>\n",
       "      <td>1</td>\n",
       "      <td>0</td>\n",
       "      <td>0</td>\n",
       "      <td>0</td>\n",
       "      <td>...</td>\n",
       "      <td>0</td>\n",
       "      <td>1</td>\n",
       "      <td>31</td>\n",
       "      <td>Expressions of Happiness and Joy</td>\n",
       "      <td>Expressions of Happiness and Joy</td>\n",
       "      <td>1</td>\n",
       "      <td>0</td>\n",
       "      <td>0</td>\n",
       "      <td>0</td>\n",
       "      <td>0</td>\n",
       "    </tr>\n",
       "    <tr>\n",
       "      <th>...</th>\n",
       "      <td>...</td>\n",
       "      <td>...</td>\n",
       "      <td>...</td>\n",
       "      <td>...</td>\n",
       "      <td>...</td>\n",
       "      <td>...</td>\n",
       "      <td>...</td>\n",
       "      <td>...</td>\n",
       "      <td>...</td>\n",
       "      <td>...</td>\n",
       "      <td>...</td>\n",
       "      <td>...</td>\n",
       "      <td>...</td>\n",
       "      <td>...</td>\n",
       "      <td>...</td>\n",
       "      <td>...</td>\n",
       "      <td>...</td>\n",
       "      <td>...</td>\n",
       "      <td>...</td>\n",
       "      <td>...</td>\n",
       "      <td>...</td>\n",
       "    </tr>\n",
       "    <tr>\n",
       "      <th>59941</th>\n",
       "      <td>0.803922</td>\n",
       "      <td>1</td>\n",
       "      <td>1</td>\n",
       "      <td>0</td>\n",
       "      <td>0</td>\n",
       "      <td>1</td>\n",
       "      <td>0</td>\n",
       "      <td>0</td>\n",
       "      <td>0</td>\n",
       "      <td>0</td>\n",
       "      <td>...</td>\n",
       "      <td>0</td>\n",
       "      <td>1</td>\n",
       "      <td>31</td>\n",
       "      <td>Expressions of Happiness and Joy</td>\n",
       "      <td>Expressions of Happiness and Joy</td>\n",
       "      <td>1</td>\n",
       "      <td>0</td>\n",
       "      <td>0</td>\n",
       "      <td>0</td>\n",
       "      <td>0</td>\n",
       "    </tr>\n",
       "    <tr>\n",
       "      <th>59942</th>\n",
       "      <td>0.117647</td>\n",
       "      <td>1</td>\n",
       "      <td>0</td>\n",
       "      <td>0</td>\n",
       "      <td>0</td>\n",
       "      <td>1</td>\n",
       "      <td>0</td>\n",
       "      <td>0</td>\n",
       "      <td>0</td>\n",
       "      <td>1</td>\n",
       "      <td>...</td>\n",
       "      <td>0</td>\n",
       "      <td>1</td>\n",
       "      <td>0</td>\n",
       "      <td>Time Up and Future Meetings</td>\n",
       "      <td>Time Up and Future Meetings</td>\n",
       "      <td>0</td>\n",
       "      <td>0</td>\n",
       "      <td>0</td>\n",
       "      <td>0</td>\n",
       "      <td>1</td>\n",
       "    </tr>\n",
       "    <tr>\n",
       "      <th>59943</th>\n",
       "      <td>0.470588</td>\n",
       "      <td>1</td>\n",
       "      <td>0</td>\n",
       "      <td>0</td>\n",
       "      <td>0</td>\n",
       "      <td>1</td>\n",
       "      <td>0</td>\n",
       "      <td>1</td>\n",
       "      <td>0</td>\n",
       "      <td>0</td>\n",
       "      <td>...</td>\n",
       "      <td>0</td>\n",
       "      <td>1</td>\n",
       "      <td>0</td>\n",
       "      <td>Time Up and Future Meetings</td>\n",
       "      <td>Time Up and Future Meetings</td>\n",
       "      <td>0</td>\n",
       "      <td>0</td>\n",
       "      <td>0</td>\n",
       "      <td>0</td>\n",
       "      <td>1</td>\n",
       "    </tr>\n",
       "    <tr>\n",
       "      <th>59944</th>\n",
       "      <td>0.176471</td>\n",
       "      <td>1</td>\n",
       "      <td>0</td>\n",
       "      <td>0</td>\n",
       "      <td>0</td>\n",
       "      <td>1</td>\n",
       "      <td>1</td>\n",
       "      <td>0</td>\n",
       "      <td>0</td>\n",
       "      <td>0</td>\n",
       "      <td>...</td>\n",
       "      <td>0</td>\n",
       "      <td>1</td>\n",
       "      <td>33</td>\n",
       "      <td>Drinking Habits and Concerns</td>\n",
       "      <td>Other</td>\n",
       "      <td>0</td>\n",
       "      <td>0</td>\n",
       "      <td>1</td>\n",
       "      <td>0</td>\n",
       "      <td>0</td>\n",
       "    </tr>\n",
       "    <tr>\n",
       "      <th>59945</th>\n",
       "      <td>0.411765</td>\n",
       "      <td>1</td>\n",
       "      <td>0</td>\n",
       "      <td>0</td>\n",
       "      <td>1</td>\n",
       "      <td>0</td>\n",
       "      <td>0</td>\n",
       "      <td>1</td>\n",
       "      <td>0</td>\n",
       "      <td>0</td>\n",
       "      <td>...</td>\n",
       "      <td>0</td>\n",
       "      <td>1</td>\n",
       "      <td>36</td>\n",
       "      <td>Understanding Depression and Its Roots</td>\n",
       "      <td>Other</td>\n",
       "      <td>0</td>\n",
       "      <td>0</td>\n",
       "      <td>1</td>\n",
       "      <td>0</td>\n",
       "      <td>0</td>\n",
       "    </tr>\n",
       "  </tbody>\n",
       "</table>\n",
       "<p>59946 rows × 152 columns</p>\n",
       "</div>"
      ],
      "text/plain": [
       "       age_scaled  single  female  orientation_bisexual  orientation_gay  \\\n",
       "0        0.078431       1       0                     0                0   \n",
       "1        0.333333       1       0                     0                0   \n",
       "2        0.392157       0       0                     0                0   \n",
       "3        0.098039       1       0                     0                0   \n",
       "4        0.215686       1       0                     0                0   \n",
       "...           ...     ...     ...                   ...              ...   \n",
       "59941    0.803922       1       1                     0                0   \n",
       "59942    0.117647       1       0                     0                0   \n",
       "59943    0.470588       1       0                     0                0   \n",
       "59944    0.176471       1       0                     0                0   \n",
       "59945    0.411765       1       0                     0                1   \n",
       "\n",
       "       orientation_straight  body_type_athletic  body_type_average  \\\n",
       "0                         1                   0                  0   \n",
       "1                         1                   0                  1   \n",
       "2                         1                   0                  0   \n",
       "3                         1                   0                  0   \n",
       "4                         1                   1                  0   \n",
       "...                     ...                 ...                ...   \n",
       "59941                     1                   0                  0   \n",
       "59942                     1                   0                  0   \n",
       "59943                     1                   0                  1   \n",
       "59944                     1                   1                  0   \n",
       "59945                     0                   0                  1   \n",
       "\n",
       "       body_type_curvy  body_type_fit  ...  general_Other  \\\n",
       "0                    0              0  ...              0   \n",
       "1                    0              0  ...              0   \n",
       "2                    0              0  ...              0   \n",
       "3                    0              0  ...              0   \n",
       "4                    0              0  ...              0   \n",
       "...                ...            ...  ...            ...   \n",
       "59941                0              0  ...              0   \n",
       "59942                0              1  ...              0   \n",
       "59943                0              0  ...              0   \n",
       "59944                0              0  ...              0   \n",
       "59945                0              0  ...              0   \n",
       "\n",
       "       general_Social Life  therapis_label  \\\n",
       "0                        1               0   \n",
       "1                        1              34   \n",
       "2                        1              18   \n",
       "3                        0              14   \n",
       "4                        1              31   \n",
       "...                    ...             ...   \n",
       "59941                    1              31   \n",
       "59942                    1               0   \n",
       "59943                    1               0   \n",
       "59944                    1              33   \n",
       "59945                    1              36   \n",
       "\n",
       "                         therapist_real_label  \\\n",
       "0                 Time Up and Future Meetings   \n",
       "1       Managing and Increasing Energy Levels   \n",
       "2              Voices and Perception of Sound   \n",
       "3           Struggles and Desires in Learning   \n",
       "4            Expressions of Happiness and Joy   \n",
       "...                                       ...   \n",
       "59941        Expressions of Happiness and Joy   \n",
       "59942             Time Up and Future Meetings   \n",
       "59943             Time Up and Future Meetings   \n",
       "59944            Drinking Habits and Concerns   \n",
       "59945  Understanding Depression and Its Roots   \n",
       "\n",
       "                     therapist_grouped_label  \\\n",
       "0                Time Up and Future Meetings   \n",
       "1      Managing and Increasing Energy Levels   \n",
       "2                                      Other   \n",
       "3                                      Other   \n",
       "4           Expressions of Happiness and Joy   \n",
       "...                                      ...   \n",
       "59941       Expressions of Happiness and Joy   \n",
       "59942            Time Up and Future Meetings   \n",
       "59943            Time Up and Future Meetings   \n",
       "59944                                  Other   \n",
       "59945                                  Other   \n",
       "\n",
       "       therapist_Expressions of Happiness and Joy  \\\n",
       "0                                               0   \n",
       "1                                               0   \n",
       "2                                               0   \n",
       "3                                               0   \n",
       "4                                               1   \n",
       "...                                           ...   \n",
       "59941                                           1   \n",
       "59942                                           0   \n",
       "59943                                           0   \n",
       "59944                                           0   \n",
       "59945                                           0   \n",
       "\n",
       "       therapist_Managing and Increasing Energy Levels  therapist_Other  \\\n",
       "0                                                    0                0   \n",
       "1                                                    1                0   \n",
       "2                                                    0                1   \n",
       "3                                                    0                1   \n",
       "4                                                    0                0   \n",
       "...                                                ...              ...   \n",
       "59941                                                0                0   \n",
       "59942                                                0                0   \n",
       "59943                                                0                0   \n",
       "59944                                                0                1   \n",
       "59945                                                0                1   \n",
       "\n",
       "       therapist_See and Understanding Conversations  \\\n",
       "0                                                  0   \n",
       "1                                                  0   \n",
       "2                                                  0   \n",
       "3                                                  0   \n",
       "4                                                  0   \n",
       "...                                              ...   \n",
       "59941                                              0   \n",
       "59942                                              0   \n",
       "59943                                              0   \n",
       "59944                                              0   \n",
       "59945                                              0   \n",
       "\n",
       "       therapist_Time Up and Future Meetings  \n",
       "0                                          1  \n",
       "1                                          0  \n",
       "2                                          0  \n",
       "3                                          0  \n",
       "4                                          0  \n",
       "...                                      ...  \n",
       "59941                                      0  \n",
       "59942                                      1  \n",
       "59943                                      1  \n",
       "59944                                      0  \n",
       "59945                                      0  \n",
       "\n",
       "[59946 rows x 152 columns]"
      ]
     },
     "execution_count": 164,
     "metadata": {},
     "output_type": "execute_result"
    }
   ],
   "source": [
    "ok"
   ]
  },
  {
   "cell_type": "markdown",
   "id": "fef29452-781c-4516-8eb0-8204fa87a7c9",
   "metadata": {},
   "source": [
    "### KNN"
   ]
  },
  {
   "cell_type": "code",
   "execution_count": 186,
   "id": "de2be43a-8511-4926-93be-5e5724c3e06e",
   "metadata": {
    "tags": []
   },
   "outputs": [
    {
     "name": "stdout",
     "output_type": "stream",
     "text": [
      "📌 Sum of Squared Errors (SSE): 65087.3645 → Measures overall spread\n",
      "📌 Mean Average Distance (MAD): 0.1097 → Average distance to k-nearest neighbors\n",
      "📌 Maximum Distance (MaxD): 1.7540 → Largest distance found (outlier detection)\n",
      "📌 Minimum Distance (MinD): 0.0000 → Smallest distance found (possible duplicates)\n"
     ]
    }
   ],
   "source": [
    "run_unsupervised_knn(ok, X, n_clusters=12, n_neighbors=6)"
   ]
  },
  {
   "cell_type": "markdown",
   "id": "7140f919-eea7-4c24-b6d3-cfff9aa3bacf",
   "metadata": {
    "tags": []
   },
   "source": [
    "### Kmeans"
   ]
  },
  {
   "cell_type": "code",
   "execution_count": 190,
   "id": "645c6785-8ac1-4d18-a2b3-10da06f0c9af",
   "metadata": {},
   "outputs": [
    {
     "name": "stdout",
     "output_type": "stream",
     "text": [
      "📌 Silhouette Score: 0.2430 → Measures clustering cohesion\n",
      "📌 Sum of Squared Errors (SSE): 65087.3645 → Measures overall spread\n",
      "📌 Davies-Bouldin Score: 1.7160 → Measures cluster separation (lower is better)\n",
      "📌 Calinski-Harabasz Score: 6705.3753 → Measures cluster quality (higher is better)\n",
      "📌 Average Match Distance (AMD): 0.1099 → Measures how close recommended matches are\n"
     ]
    }
   ],
   "source": [
    "cluster_and_find_similar(dataset=ok, X=X, n_clusters=12, n_similar=5)"
   ]
  },
  {
   "cell_type": "markdown",
   "id": "270bb9de-8e77-436f-b178-eb9fe394304d",
   "metadata": {},
   "source": [
    "### DB Scam"
   ]
  },
  {
   "cell_type": "code",
   "execution_count": 174,
   "id": "19ff8628-76ab-44f4-aa2d-3f49e8eb2e05",
   "metadata": {},
   "outputs": [
    {
     "name": "stdout",
     "output_type": "stream",
     "text": [
      "Silhouette Score: 0.6875\n",
      "Davies-Bouldin Score: 0.4939\n",
      "Calinski-Harabasz Score: 2607.6688\n"
     ]
    },
    {
     "data": {
      "text/html": [
       "<div>\n",
       "<style scoped>\n",
       "    .dataframe tbody tr th:only-of-type {\n",
       "        vertical-align: middle;\n",
       "    }\n",
       "\n",
       "    .dataframe tbody tr th {\n",
       "        vertical-align: top;\n",
       "    }\n",
       "\n",
       "    .dataframe thead th {\n",
       "        text-align: right;\n",
       "    }\n",
       "</style>\n",
       "<table border=\"1\" class=\"dataframe\">\n",
       "  <thead>\n",
       "    <tr style=\"text-align: right;\">\n",
       "      <th></th>\n",
       "      <th>age_scaled</th>\n",
       "      <th>single</th>\n",
       "      <th>female</th>\n",
       "      <th>orientation_bisexual</th>\n",
       "      <th>orientation_gay</th>\n",
       "      <th>orientation_straight</th>\n",
       "      <th>body_type_athletic</th>\n",
       "      <th>body_type_average</th>\n",
       "      <th>body_type_curvy</th>\n",
       "      <th>body_type_fit</th>\n",
       "      <th>...</th>\n",
       "      <th>kmeans_match_1</th>\n",
       "      <th>kmeans_match_2</th>\n",
       "      <th>kmeans_match_3</th>\n",
       "      <th>kmeans_match_4</th>\n",
       "      <th>kmeans_match_5</th>\n",
       "      <th>similar_1</th>\n",
       "      <th>similar_2</th>\n",
       "      <th>similar_3</th>\n",
       "      <th>similar_4</th>\n",
       "      <th>similar_5</th>\n",
       "    </tr>\n",
       "  </thead>\n",
       "  <tbody>\n",
       "    <tr>\n",
       "      <th>0</th>\n",
       "      <td>0.078431</td>\n",
       "      <td>1</td>\n",
       "      <td>0</td>\n",
       "      <td>0</td>\n",
       "      <td>0</td>\n",
       "      <td>1</td>\n",
       "      <td>0</td>\n",
       "      <td>0</td>\n",
       "      <td>0</td>\n",
       "      <td>0</td>\n",
       "      <td>...</td>\n",
       "      <td>22670</td>\n",
       "      <td>36389</td>\n",
       "      <td>4295</td>\n",
       "      <td>44270</td>\n",
       "      <td>136</td>\n",
       "      <td>22670.0</td>\n",
       "      <td>36389.0</td>\n",
       "      <td>4295.0</td>\n",
       "      <td>44270.0</td>\n",
       "      <td>136.0</td>\n",
       "    </tr>\n",
       "    <tr>\n",
       "      <th>1</th>\n",
       "      <td>0.333333</td>\n",
       "      <td>1</td>\n",
       "      <td>0</td>\n",
       "      <td>0</td>\n",
       "      <td>0</td>\n",
       "      <td>1</td>\n",
       "      <td>0</td>\n",
       "      <td>1</td>\n",
       "      <td>0</td>\n",
       "      <td>0</td>\n",
       "      <td>...</td>\n",
       "      <td>36507</td>\n",
       "      <td>26895</td>\n",
       "      <td>58469</td>\n",
       "      <td>39768</td>\n",
       "      <td>55205</td>\n",
       "      <td>36507.0</td>\n",
       "      <td>26895.0</td>\n",
       "      <td>58469.0</td>\n",
       "      <td>39768.0</td>\n",
       "      <td>55205.0</td>\n",
       "    </tr>\n",
       "    <tr>\n",
       "      <th>2</th>\n",
       "      <td>0.392157</td>\n",
       "      <td>0</td>\n",
       "      <td>0</td>\n",
       "      <td>0</td>\n",
       "      <td>0</td>\n",
       "      <td>1</td>\n",
       "      <td>0</td>\n",
       "      <td>0</td>\n",
       "      <td>0</td>\n",
       "      <td>0</td>\n",
       "      <td>...</td>\n",
       "      <td>50006</td>\n",
       "      <td>48841</td>\n",
       "      <td>12933</td>\n",
       "      <td>46852</td>\n",
       "      <td>42873</td>\n",
       "      <td>50006.0</td>\n",
       "      <td>48841.0</td>\n",
       "      <td>12933.0</td>\n",
       "      <td>46852.0</td>\n",
       "      <td>42873.0</td>\n",
       "    </tr>\n",
       "    <tr>\n",
       "      <th>3</th>\n",
       "      <td>0.098039</td>\n",
       "      <td>1</td>\n",
       "      <td>0</td>\n",
       "      <td>0</td>\n",
       "      <td>0</td>\n",
       "      <td>1</td>\n",
       "      <td>0</td>\n",
       "      <td>0</td>\n",
       "      <td>0</td>\n",
       "      <td>0</td>\n",
       "      <td>...</td>\n",
       "      <td>7635</td>\n",
       "      <td>3356</td>\n",
       "      <td>48076</td>\n",
       "      <td>7123</td>\n",
       "      <td>28862</td>\n",
       "      <td>7635.0</td>\n",
       "      <td>3356.0</td>\n",
       "      <td>48076.0</td>\n",
       "      <td>7123.0</td>\n",
       "      <td>28862.0</td>\n",
       "    </tr>\n",
       "    <tr>\n",
       "      <th>4</th>\n",
       "      <td>0.215686</td>\n",
       "      <td>1</td>\n",
       "      <td>0</td>\n",
       "      <td>0</td>\n",
       "      <td>0</td>\n",
       "      <td>1</td>\n",
       "      <td>1</td>\n",
       "      <td>0</td>\n",
       "      <td>0</td>\n",
       "      <td>0</td>\n",
       "      <td>...</td>\n",
       "      <td>109</td>\n",
       "      <td>4427</td>\n",
       "      <td>23631</td>\n",
       "      <td>33688</td>\n",
       "      <td>40679</td>\n",
       "      <td>109.0</td>\n",
       "      <td>4427.0</td>\n",
       "      <td>23631.0</td>\n",
       "      <td>33688.0</td>\n",
       "      <td>40679.0</td>\n",
       "    </tr>\n",
       "    <tr>\n",
       "      <th>...</th>\n",
       "      <td>...</td>\n",
       "      <td>...</td>\n",
       "      <td>...</td>\n",
       "      <td>...</td>\n",
       "      <td>...</td>\n",
       "      <td>...</td>\n",
       "      <td>...</td>\n",
       "      <td>...</td>\n",
       "      <td>...</td>\n",
       "      <td>...</td>\n",
       "      <td>...</td>\n",
       "      <td>...</td>\n",
       "      <td>...</td>\n",
       "      <td>...</td>\n",
       "      <td>...</td>\n",
       "      <td>...</td>\n",
       "      <td>...</td>\n",
       "      <td>...</td>\n",
       "      <td>...</td>\n",
       "      <td>...</td>\n",
       "      <td>...</td>\n",
       "    </tr>\n",
       "    <tr>\n",
       "      <th>59941</th>\n",
       "      <td>0.803922</td>\n",
       "      <td>1</td>\n",
       "      <td>1</td>\n",
       "      <td>0</td>\n",
       "      <td>0</td>\n",
       "      <td>1</td>\n",
       "      <td>0</td>\n",
       "      <td>0</td>\n",
       "      <td>0</td>\n",
       "      <td>0</td>\n",
       "      <td>...</td>\n",
       "      <td>55574</td>\n",
       "      <td>33394</td>\n",
       "      <td>38258</td>\n",
       "      <td>39818</td>\n",
       "      <td>47175</td>\n",
       "      <td>55574.0</td>\n",
       "      <td>33394.0</td>\n",
       "      <td>38258.0</td>\n",
       "      <td>39818.0</td>\n",
       "      <td>47175.0</td>\n",
       "    </tr>\n",
       "    <tr>\n",
       "      <th>59942</th>\n",
       "      <td>0.117647</td>\n",
       "      <td>1</td>\n",
       "      <td>0</td>\n",
       "      <td>0</td>\n",
       "      <td>0</td>\n",
       "      <td>1</td>\n",
       "      <td>0</td>\n",
       "      <td>0</td>\n",
       "      <td>0</td>\n",
       "      <td>1</td>\n",
       "      <td>...</td>\n",
       "      <td>28719</td>\n",
       "      <td>47895</td>\n",
       "      <td>41669</td>\n",
       "      <td>43969</td>\n",
       "      <td>31827</td>\n",
       "      <td>28719.0</td>\n",
       "      <td>47895.0</td>\n",
       "      <td>41669.0</td>\n",
       "      <td>43969.0</td>\n",
       "      <td>31827.0</td>\n",
       "    </tr>\n",
       "    <tr>\n",
       "      <th>59943</th>\n",
       "      <td>0.470588</td>\n",
       "      <td>1</td>\n",
       "      <td>0</td>\n",
       "      <td>0</td>\n",
       "      <td>0</td>\n",
       "      <td>1</td>\n",
       "      <td>0</td>\n",
       "      <td>1</td>\n",
       "      <td>0</td>\n",
       "      <td>0</td>\n",
       "      <td>...</td>\n",
       "      <td>59176</td>\n",
       "      <td>5435</td>\n",
       "      <td>23857</td>\n",
       "      <td>10048</td>\n",
       "      <td>52493</td>\n",
       "      <td>59176.0</td>\n",
       "      <td>5435.0</td>\n",
       "      <td>23857.0</td>\n",
       "      <td>10048.0</td>\n",
       "      <td>52493.0</td>\n",
       "    </tr>\n",
       "    <tr>\n",
       "      <th>59944</th>\n",
       "      <td>0.176471</td>\n",
       "      <td>1</td>\n",
       "      <td>0</td>\n",
       "      <td>0</td>\n",
       "      <td>0</td>\n",
       "      <td>1</td>\n",
       "      <td>1</td>\n",
       "      <td>0</td>\n",
       "      <td>0</td>\n",
       "      <td>0</td>\n",
       "      <td>...</td>\n",
       "      <td>52506</td>\n",
       "      <td>9766</td>\n",
       "      <td>40937</td>\n",
       "      <td>43761</td>\n",
       "      <td>55271</td>\n",
       "      <td>52506.0</td>\n",
       "      <td>9766.0</td>\n",
       "      <td>40937.0</td>\n",
       "      <td>43761.0</td>\n",
       "      <td>55271.0</td>\n",
       "    </tr>\n",
       "    <tr>\n",
       "      <th>59945</th>\n",
       "      <td>0.411765</td>\n",
       "      <td>1</td>\n",
       "      <td>0</td>\n",
       "      <td>0</td>\n",
       "      <td>1</td>\n",
       "      <td>0</td>\n",
       "      <td>0</td>\n",
       "      <td>1</td>\n",
       "      <td>0</td>\n",
       "      <td>0</td>\n",
       "      <td>...</td>\n",
       "      <td>46800</td>\n",
       "      <td>40460</td>\n",
       "      <td>34290</td>\n",
       "      <td>14220</td>\n",
       "      <td>47918</td>\n",
       "      <td>46800.0</td>\n",
       "      <td>40460.0</td>\n",
       "      <td>34290.0</td>\n",
       "      <td>14220.0</td>\n",
       "      <td>47918.0</td>\n",
       "    </tr>\n",
       "  </tbody>\n",
       "</table>\n",
       "<p>59946 rows × 168 columns</p>\n",
       "</div>"
      ],
      "text/plain": [
       "       age_scaled  single  female  orientation_bisexual  orientation_gay  \\\n",
       "0        0.078431       1       0                     0                0   \n",
       "1        0.333333       1       0                     0                0   \n",
       "2        0.392157       0       0                     0                0   \n",
       "3        0.098039       1       0                     0                0   \n",
       "4        0.215686       1       0                     0                0   \n",
       "...           ...     ...     ...                   ...              ...   \n",
       "59941    0.803922       1       1                     0                0   \n",
       "59942    0.117647       1       0                     0                0   \n",
       "59943    0.470588       1       0                     0                0   \n",
       "59944    0.176471       1       0                     0                0   \n",
       "59945    0.411765       1       0                     0                1   \n",
       "\n",
       "       orientation_straight  body_type_athletic  body_type_average  \\\n",
       "0                         1                   0                  0   \n",
       "1                         1                   0                  1   \n",
       "2                         1                   0                  0   \n",
       "3                         1                   0                  0   \n",
       "4                         1                   1                  0   \n",
       "...                     ...                 ...                ...   \n",
       "59941                     1                   0                  0   \n",
       "59942                     1                   0                  0   \n",
       "59943                     1                   0                  1   \n",
       "59944                     1                   1                  0   \n",
       "59945                     0                   0                  1   \n",
       "\n",
       "       body_type_curvy  body_type_fit  ...  kmeans_match_1  kmeans_match_2  \\\n",
       "0                    0              0  ...           22670           36389   \n",
       "1                    0              0  ...           36507           26895   \n",
       "2                    0              0  ...           50006           48841   \n",
       "3                    0              0  ...            7635            3356   \n",
       "4                    0              0  ...             109            4427   \n",
       "...                ...            ...  ...             ...             ...   \n",
       "59941                0              0  ...           55574           33394   \n",
       "59942                0              1  ...           28719           47895   \n",
       "59943                0              0  ...           59176            5435   \n",
       "59944                0              0  ...           52506            9766   \n",
       "59945                0              0  ...           46800           40460   \n",
       "\n",
       "       kmeans_match_3  kmeans_match_4  kmeans_match_5  similar_1  similar_2  \\\n",
       "0                4295           44270             136    22670.0    36389.0   \n",
       "1               58469           39768           55205    36507.0    26895.0   \n",
       "2               12933           46852           42873    50006.0    48841.0   \n",
       "3               48076            7123           28862     7635.0     3356.0   \n",
       "4               23631           33688           40679      109.0     4427.0   \n",
       "...               ...             ...             ...        ...        ...   \n",
       "59941           38258           39818           47175    55574.0    33394.0   \n",
       "59942           41669           43969           31827    28719.0    47895.0   \n",
       "59943           23857           10048           52493    59176.0     5435.0   \n",
       "59944           40937           43761           55271    52506.0     9766.0   \n",
       "59945           34290           14220           47918    46800.0    40460.0   \n",
       "\n",
       "       similar_3  similar_4  similar_5  \n",
       "0         4295.0    44270.0      136.0  \n",
       "1        58469.0    39768.0    55205.0  \n",
       "2        12933.0    46852.0    42873.0  \n",
       "3        48076.0     7123.0    28862.0  \n",
       "4        23631.0    33688.0    40679.0  \n",
       "...          ...        ...        ...  \n",
       "59941    38258.0    39818.0    47175.0  \n",
       "59942    41669.0    43969.0    31827.0  \n",
       "59943    23857.0    10048.0    52493.0  \n",
       "59944    40937.0    43761.0    55271.0  \n",
       "59945    34290.0    14220.0    47918.0  \n",
       "\n",
       "[59946 rows x 168 columns]"
      ]
     },
     "execution_count": 174,
     "metadata": {},
     "output_type": "execute_result"
    }
   ],
   "source": [
    "run_dbscan_recommendation(ok, X, eps=0.5, min_samples=5)"
   ]
  },
  {
   "cell_type": "code",
   "execution_count": null,
   "id": "3618f68d-b224-4508-bd6b-43f580c18f32",
   "metadata": {},
   "outputs": [],
   "source": [
    "ok"
   ]
  },
  {
   "cell_type": "markdown",
   "id": "253e4fd6-cd1b-470b-8d83-3b9811e0112c",
   "metadata": {},
   "source": [
    "### Model Comparison Table\n",
    "\n",
    "| Model             | Silhouette ↑ | Inertia (SSE) ↓ | Davies-Bouldin ↓ | Calinski-Harabasz ↑ | MAD ↓  | MaxD ↓  | MinD ↓  | Score (Lower is Better) |\n",
    "|-------------------|--------------|-----------------|------------------|---------------------|--------|---------|---------|------------------------|\n",
    "| **Model 1: KNN**  | N/A          | 13462.4987      | N/A              | N/A                 | 0.1097 | 1.7540  | 0.0000  | **5** (Outlier Detection) |\n",
    "| **Model 2: KMeans** | 0.2430      | 65087.3645      | 1.7160           | 6705.3753           | N/A    | N/A     | N/A     | **6** (Cluster Quality)    |\n",
    "| **Model 3: DBSCAN** | 0.6875      | N/A             | 0.4939           | 2607.6688           | N/A    | N/A     | N/A     | **4** (Best Overall)       |\n",
    "\n",
    "### Best Model:\n",
    "1️⃣ **Model 3 (DBSCAN)** – Best overall, with the highest Silhouette score and lowest Davies-Bouldin score.  \n",
    "2️⃣ **Model 2 (KMeans)** – A solid choice, though with lower performance than DBSCAN.  \n",
    "3️⃣ **Model 1 (KNN)** – The least favorable based on clustering metrics (e.g., no Silhouette or Davies-Bouldin score).\n",
    "\n",
    "### How to choose?  \n",
    "- If you prioritize **tight clusters & balanced performance** → **Model 3 (DBSCAN)**.  \n",
    "- If you prefer **a more traditional clustering method** with more interpretable metrics → **Model 2 (KMeans)**.  \n",
    "- If you are focused on **outlier detection and KNN** → **Model 1 (KNN)**.\n"
   ]
  },
  {
   "cell_type": "markdown",
   "id": "8a8ef653-e7ac-40ba-a908-645a935f183d",
   "metadata": {},
   "source": [
    "## Function to run several Bayesian Personalized Ranking (BPR) Model"
   ]
  },
  {
   "cell_type": "code",
   "execution_count": 12,
   "id": "f5addafa-089b-4144-80b6-3cf6fdb8b0bc",
   "metadata": {},
   "outputs": [
    {
     "data": {
      "text/plain": [
       "(59946, 111)"
      ]
     },
     "execution_count": 12,
     "metadata": {},
     "output_type": "execute_result"
    }
   ],
   "source": [
    "x.shape"
   ]
  },
  {
   "cell_type": "code",
   "execution_count": 51,
   "id": "2ccd6467-6814-4ba2-8ebe-f0501085e7d5",
   "metadata": {},
   "outputs": [],
   "source": [
    "import implicit\n",
    "from scipy.sparse import csr_matrix\n",
    "import numpy as np\n",
    "import pandas as pd\n",
    "\n",
    "def run_bpr_and_recommend(X, n_users, n_items, factors=10, iterations=50):\n",
    "    \"\"\"\n",
    "    Runs the Bayesian Personalized Ranking (BPR) model and recommends similar individuals.\n",
    "    \n",
    "    Parameters:\n",
    "    - X: A user-item interaction DataFrame (users as rows, items as columns).\n",
    "    - n_users: Number of unique users.\n",
    "    - n_items: Number of unique items.\n",
    "    - factors: Number of latent factors for the BPR model (default=10).\n",
    "    - iterations: Number of iterations to train the BPR model (default=50).\n",
    "    \n",
    "    Returns:\n",
    "    - recommendations: A DataFrame of user recommendations.\n",
    "    \"\"\"\n",
    "    # Convert the DataFrame to a sparse CSR matrix\n",
    "    interaction_matrix = csr_matrix(X.values.astype('float32'))\n",
    "\n",
    "    # Debugging: Check the shape of the interaction matrix\n",
    "    print(\"Shape of interaction_matrix:\", interaction_matrix.shape)\n",
    "\n",
    "    # Initialize the BPR model\n",
    "    bpr_model = implicit.bpr.BayesianPersonalizedRanking(factors=factors, iterations=iterations)\n",
    "\n",
    "    # Train the BPR model\n",
    "    bpr_model.fit(interaction_matrix)\n",
    "\n",
    "    # Generate recommendations for each user\n",
    "    recommendations = {}\n",
    "    for user in range(n_users):\n",
    "        # Ensure the user_items matrix is in CSR format\n",
    "        user_items_csr = interaction_matrix.tocsr()\n",
    "        user_recommendations = bpr_model.recommend(user, user_items_csr, N=10)  # Top 10 recommendations\n",
    "        recommendations[user] = user_recommendations[0]  # Extract item IDs\n",
    "\n",
    "    # Convert recommendations to DataFrame\n",
    "    recommendations_df = pd.DataFrame.from_dict(recommendations, orient='index', columns=[f'Rec_{i+1}' for i in range(10)])\n",
    "\n",
    "    return recommendations_df"
   ]
  },
  {
   "cell_type": "code",
   "execution_count": 52,
   "id": "12bb5383-f120-4983-a1a7-b7b56fbb1fb3",
   "metadata": {},
   "outputs": [
    {
     "name": "stdout",
     "output_type": "stream",
     "text": [
      "Shape of interaction_matrix: (59946, 111)\n"
     ]
    },
    {
     "data": {
      "application/vnd.jupyter.widget-view+json": {
       "model_id": "3144ce7d31fa42e4bf410a4a60909620",
       "version_major": 2,
       "version_minor": 0
      },
      "text/plain": [
       "  0%|          | 0/50 [00:00<?, ?it/s]"
      ]
     },
     "metadata": {},
     "output_type": "display_data"
    },
    {
     "ename": "ValueError",
     "evalue": "user_items must contain 1 row for every user in userids",
     "output_type": "error",
     "traceback": [
      "\u001b[0;31m---------------------------------------------------------------------------\u001b[0m",
      "\u001b[0;31mValueError\u001b[0m                                Traceback (most recent call last)",
      "Cell \u001b[0;32mIn[52], line 1\u001b[0m\n\u001b[0;32m----> 1\u001b[0m \u001b[43mrun_bpr_and_recommend\u001b[49m\u001b[43m(\u001b[49m\u001b[43mX\u001b[49m\u001b[38;5;241;43m=\u001b[39;49m\u001b[43mx\u001b[49m\u001b[43m,\u001b[49m\u001b[43m \u001b[49m\u001b[43mn_users\u001b[49m\u001b[38;5;241;43m=\u001b[39;49m\u001b[38;5;241;43m59946\u001b[39;49m\u001b[43m,\u001b[49m\u001b[43m \u001b[49m\u001b[43mn_items\u001b[49m\u001b[38;5;241;43m=\u001b[39;49m\u001b[38;5;241;43m111\u001b[39;49m\u001b[43m,\u001b[49m\u001b[43m \u001b[49m\u001b[43mfactors\u001b[49m\u001b[38;5;241;43m=\u001b[39;49m\u001b[38;5;241;43m10\u001b[39;49m\u001b[43m,\u001b[49m\u001b[43m \u001b[49m\u001b[43miterations\u001b[49m\u001b[38;5;241;43m=\u001b[39;49m\u001b[38;5;241;43m50\u001b[39;49m\u001b[43m)\u001b[49m\n",
      "Cell \u001b[0;32mIn[51], line 37\u001b[0m, in \u001b[0;36mrun_bpr_and_recommend\u001b[0;34m(X, n_users, n_items, factors, iterations)\u001b[0m\n\u001b[1;32m     34\u001b[0m \u001b[38;5;28;01mfor\u001b[39;00m user \u001b[38;5;129;01min\u001b[39;00m \u001b[38;5;28mrange\u001b[39m(n_users):\n\u001b[1;32m     35\u001b[0m     \u001b[38;5;66;03m# Ensure the user_items matrix is in CSR format\u001b[39;00m\n\u001b[1;32m     36\u001b[0m     user_items_csr \u001b[38;5;241m=\u001b[39m interaction_matrix\u001b[38;5;241m.\u001b[39mtocsr()\n\u001b[0;32m---> 37\u001b[0m     user_recommendations \u001b[38;5;241m=\u001b[39m \u001b[43mbpr_model\u001b[49m\u001b[38;5;241;43m.\u001b[39;49m\u001b[43mrecommend\u001b[49m\u001b[43m(\u001b[49m\u001b[43muser\u001b[49m\u001b[43m,\u001b[49m\u001b[43m \u001b[49m\u001b[43muser_items_csr\u001b[49m\u001b[43m,\u001b[49m\u001b[43m \u001b[49m\u001b[43mN\u001b[49m\u001b[38;5;241;43m=\u001b[39;49m\u001b[38;5;241;43m10\u001b[39;49m\u001b[43m)\u001b[49m  \u001b[38;5;66;03m# Top 10 recommendations\u001b[39;00m\n\u001b[1;32m     38\u001b[0m     recommendations[user] \u001b[38;5;241m=\u001b[39m user_recommendations[\u001b[38;5;241m0\u001b[39m]  \u001b[38;5;66;03m# Extract item IDs\u001b[39;00m\n\u001b[1;32m     40\u001b[0m \u001b[38;5;66;03m# Convert recommendations to DataFrame\u001b[39;00m\n",
      "File \u001b[0;32m~/.pyenv/versions/3.10.6/envs/amooora/lib/python3.10/site-packages/implicit/cpu/matrix_factorization_base.py:49\u001b[0m, in \u001b[0;36mMatrixFactorizationBase.recommend\u001b[0;34m(self, userid, user_items, N, filter_already_liked_items, filter_items, recalculate_user, items)\u001b[0m\n\u001b[1;32m     47\u001b[0m     user_count \u001b[38;5;241m=\u001b[39m \u001b[38;5;241m1\u001b[39m \u001b[38;5;28;01mif\u001b[39;00m np\u001b[38;5;241m.\u001b[39misscalar(userid) \u001b[38;5;28;01melse\u001b[39;00m \u001b[38;5;28mlen\u001b[39m(userid)\n\u001b[1;32m     48\u001b[0m     \u001b[38;5;28;01mif\u001b[39;00m user_items\u001b[38;5;241m.\u001b[39mshape[\u001b[38;5;241m0\u001b[39m] \u001b[38;5;241m!=\u001b[39m user_count:\n\u001b[0;32m---> 49\u001b[0m         \u001b[38;5;28;01mraise\u001b[39;00m \u001b[38;5;167;01mValueError\u001b[39;00m(\u001b[38;5;124m\"\u001b[39m\u001b[38;5;124muser_items must contain 1 row for every user in userids\u001b[39m\u001b[38;5;124m\"\u001b[39m)\n\u001b[1;32m     51\u001b[0m user \u001b[38;5;241m=\u001b[39m \u001b[38;5;28mself\u001b[39m\u001b[38;5;241m.\u001b[39m_user_factor(userid, user_items, recalculate_user)\n\u001b[1;32m     53\u001b[0m item_factors \u001b[38;5;241m=\u001b[39m \u001b[38;5;28mself\u001b[39m\u001b[38;5;241m.\u001b[39mitem_factors\n",
      "\u001b[0;31mValueError\u001b[0m: user_items must contain 1 row for every user in userids"
     ]
    }
   ],
   "source": [
    "run_bpr_and_recommend(X=x, n_users=59946, n_items=111, factors=10, iterations=50)"
   ]
  },
  {
   "cell_type": "code",
   "execution_count": null,
   "id": "6e3d8019-4fce-4d14-8680-08e0d8b30815",
   "metadata": {},
   "outputs": [],
   "source": []
  }
 ],
 "metadata": {
  "kernelspec": {
   "display_name": "Python 3 (ipykernel)",
   "language": "python",
   "name": "python3"
  },
  "language_info": {
   "codemirror_mode": {
    "name": "ipython",
    "version": 3
   },
   "file_extension": ".py",
   "mimetype": "text/x-python",
   "name": "python",
   "nbconvert_exporter": "python",
   "pygments_lexer": "ipython3",
   "version": "3.10.6"
  }
 },
 "nbformat": 4,
 "nbformat_minor": 5
}
