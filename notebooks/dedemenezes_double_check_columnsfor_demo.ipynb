{
 "cells": [
  {
   "cell_type": "markdown",
   "id": "7edc3ee5",
   "metadata": {},
   "source": [
    "# Double checking columns"
   ]
  },
  {
   "cell_type": "code",
   "execution_count": 1,
   "id": "35be3571",
   "metadata": {},
   "outputs": [],
   "source": [
    "import pandas as pd"
   ]
  },
  {
   "cell_type": "code",
   "execution_count": 2,
   "id": "7380a8ac",
   "metadata": {},
   "outputs": [],
   "source": [
    "df = pd.read_csv('../raw_data/ok_stream_demo_day.csv')"
   ]
  },
  {
   "cell_type": "code",
   "execution_count": 3,
   "id": "bb8e48db",
   "metadata": {},
   "outputs": [
    {
     "data": {
      "text/plain": [
       "Index(['female', 'age_scaled', 'single', 'height_scaled',\n",
       "       'orientation_bisexual', 'orientation_gay', 'orientation_straight',\n",
       "       'education_type_college_univ',\n",
       "       'education_type_grad_or_professional_edu',\n",
       "       'education_type_not_disclosed',\n",
       "       'education_type_two_year_college_or_less', 'education_status_graduated',\n",
       "       'education_status_not_disclosed', 'education_status_working',\n",
       "       'speaks_english', 'speaks_spanish', 'speaks_other',\n",
       "       'diet_type_vegetarian', 'has_dogs_yes', 'no_of_kids_more_than_one',\n",
       "       'no_of_kids_one', 'text_length_scaled', 'topic_0_from_two', 'bio',\n",
       "       'age'],\n",
       "      dtype='object')"
      ]
     },
     "execution_count": 3,
     "metadata": {},
     "output_type": "execute_result"
    }
   ],
   "source": [
    "df.columns"
   ]
  },
  {
   "cell_type": "code",
   "execution_count": 4,
   "id": "5afdddd9",
   "metadata": {},
   "outputs": [],
   "source": [
    "df2 = pd.read_csv('../raw_data/ok_stream_with_age.csv')"
   ]
  },
  {
   "cell_type": "code",
   "execution_count": 5,
   "id": "6f91d2ac",
   "metadata": {},
   "outputs": [
    {
     "data": {
      "text/plain": [
       "Index(['female', 'age_scaled', 'single', 'height_scaled',\n",
       "       'orientation_bisexual', 'orientation_gay', 'orientation_straight',\n",
       "       'education_type_college_univ',\n",
       "       'education_type_grad_or_professional_edu',\n",
       "       'education_type_not_disclosed',\n",
       "       'education_type_two_year_college_or_less', 'education_status_graduated',\n",
       "       'education_status_not_disclosed', 'education_status_working',\n",
       "       'speaks_english', 'speaks_spanish', 'speaks_other',\n",
       "       'diet_type_vegetarian', 'has_dogs_yes', 'no_of_kids_more_than_one',\n",
       "       'no_of_kids_one', 'bio', 'topic_0_from_two', 'text_length_scaled',\n",
       "       'age'],\n",
       "      dtype='object')"
      ]
     },
     "execution_count": 5,
     "metadata": {},
     "output_type": "execute_result"
    }
   ],
   "source": [
    "df2.columns"
   ]
  },
  {
   "cell_type": "code",
   "execution_count": 8,
   "id": "4679b8c1",
   "metadata": {},
   "outputs": [
    {
     "data": {
      "text/plain": [
       "True"
      ]
     },
     "execution_count": 8,
     "metadata": {},
     "output_type": "execute_result"
    }
   ],
   "source": [
    "sorted(df.columns) == sorted(df2.columns)"
   ]
  },
  {
   "cell_type": "code",
   "execution_count": null,
   "id": "1d2a5abf",
   "metadata": {},
   "outputs": [],
   "source": []
  }
 ],
 "metadata": {
  "kernelspec": {
   "display_name": "Python 3 (ipykernel)",
   "language": "python",
   "name": "python3"
  },
  "language_info": {
   "codemirror_mode": {
    "name": "ipython",
    "version": 3
   },
   "file_extension": ".py",
   "mimetype": "text/x-python",
   "name": "python",
   "nbconvert_exporter": "python",
   "pygments_lexer": "ipython3",
   "version": "3.10.6"
  },
  "toc": {
   "base_numbering": 1,
   "nav_menu": {},
   "number_sections": true,
   "sideBar": true,
   "skip_h1_title": false,
   "title_cell": "Table of Contents",
   "title_sidebar": "Contents",
   "toc_cell": false,
   "toc_position": {},
   "toc_section_display": true,
   "toc_window_display": false
  }
 },
 "nbformat": 4,
 "nbformat_minor": 5
}
