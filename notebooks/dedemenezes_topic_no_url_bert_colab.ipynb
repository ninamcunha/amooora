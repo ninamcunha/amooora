{
  "cells": [
    {
      "cell_type": "markdown",
      "id": "61a4baf5",
      "metadata": {
        "id": "61a4baf5"
      },
      "source": [
        "# Amooora Text Classification"
      ]
    },
    {
      "cell_type": "markdown",
      "id": "f5dccf46",
      "metadata": {
        "id": "f5dccf46"
      },
      "source": [
        "Nesse notebook vamos explorar o modelo disponível no Huggingface [bert-base-therapist-topic-classification-eng](https://huggingface.co/AIPsy/bert-base-therapist-topic-classification-eng)"
      ]
    },
    {
      "cell_type": "markdown",
      "id": "15dd8db5",
      "metadata": {
        "id": "15dd8db5"
      },
      "source": [
        "## Importing packages"
      ]
    },
    {
      "cell_type": "code",
      "execution_count": null,
      "id": "44955373",
      "metadata": {
        "colab": {
          "base_uri": "https://localhost:8080/"
        },
        "id": "44955373",
        "outputId": "39f61f7b-e7fa-4bb8-af7d-bb498f14c4ce",
        "collapsed": true
      },
      "outputs": [
        {
          "output_type": "stream",
          "name": "stdout",
          "text": [
            "Requirement already satisfied: transformers in /usr/local/lib/python3.11/dist-packages (4.48.3)\n",
            "Requirement already satisfied: filelock in /usr/local/lib/python3.11/dist-packages (from transformers) (3.17.0)\n",
            "Requirement already satisfied: huggingface-hub<1.0,>=0.24.0 in /usr/local/lib/python3.11/dist-packages (from transformers) (0.28.1)\n",
            "Requirement already satisfied: numpy>=1.17 in /usr/local/lib/python3.11/dist-packages (from transformers) (1.26.4)\n",
            "Requirement already satisfied: packaging>=20.0 in /usr/local/lib/python3.11/dist-packages (from transformers) (24.2)\n",
            "Requirement already satisfied: pyyaml>=5.1 in /usr/local/lib/python3.11/dist-packages (from transformers) (6.0.2)\n",
            "Requirement already satisfied: regex!=2019.12.17 in /usr/local/lib/python3.11/dist-packages (from transformers) (2024.11.6)\n",
            "Requirement already satisfied: requests in /usr/local/lib/python3.11/dist-packages (from transformers) (2.32.3)\n",
            "Requirement already satisfied: tokenizers<0.22,>=0.21 in /usr/local/lib/python3.11/dist-packages (from transformers) (0.21.0)\n",
            "Requirement already satisfied: safetensors>=0.4.1 in /usr/local/lib/python3.11/dist-packages (from transformers) (0.5.3)\n",
            "Requirement already satisfied: tqdm>=4.27 in /usr/local/lib/python3.11/dist-packages (from transformers) (4.67.1)\n",
            "Requirement already satisfied: fsspec>=2023.5.0 in /usr/local/lib/python3.11/dist-packages (from huggingface-hub<1.0,>=0.24.0->transformers) (2024.10.0)\n",
            "Requirement already satisfied: typing-extensions>=3.7.4.3 in /usr/local/lib/python3.11/dist-packages (from huggingface-hub<1.0,>=0.24.0->transformers) (4.12.2)\n",
            "Requirement already satisfied: charset-normalizer<4,>=2 in /usr/local/lib/python3.11/dist-packages (from requests->transformers) (3.4.1)\n",
            "Requirement already satisfied: idna<4,>=2.5 in /usr/local/lib/python3.11/dist-packages (from requests->transformers) (3.10)\n",
            "Requirement already satisfied: urllib3<3,>=1.21.1 in /usr/local/lib/python3.11/dist-packages (from requests->transformers) (2.3.0)\n",
            "Requirement already satisfied: certifi>=2017.4.17 in /usr/local/lib/python3.11/dist-packages (from requests->transformers) (2025.1.31)\n"
          ]
        }
      ],
      "source": [
        "!pip install transformers"
      ]
    },
    {
      "cell_type": "code",
      "source": [
        "!pip install --force-reinstall torch torchvision torchaudio transformers"
      ],
      "metadata": {
        "colab": {
          "base_uri": "https://localhost:8080/",
          "height": 1000
        },
        "id": "O79TFLQNWpNN",
        "outputId": "2bcde4c9-0726-4184-a87e-38e44b81a284"
      },
      "id": "O79TFLQNWpNN",
      "execution_count": null,
      "outputs": [
        {
          "output_type": "stream",
          "name": "stdout",
          "text": [
            "Collecting torch\n",
            "  Using cached torch-2.6.0-cp311-cp311-manylinux1_x86_64.whl.metadata (28 kB)\n",
            "Collecting torchvision\n",
            "  Downloading torchvision-0.21.0-cp311-cp311-manylinux1_x86_64.whl.metadata (6.1 kB)\n",
            "Collecting torchaudio\n",
            "  Downloading torchaudio-2.6.0-cp311-cp311-manylinux1_x86_64.whl.metadata (6.6 kB)\n",
            "Collecting transformers\n",
            "  Downloading transformers-4.49.0-py3-none-any.whl.metadata (44 kB)\n",
            "\u001b[2K     \u001b[90m━━━━━━━━━━━━━━━━━━━━━━━━━━━━━━━━━━━━━━━━\u001b[0m \u001b[32m44.0/44.0 kB\u001b[0m \u001b[31m3.1 MB/s\u001b[0m eta \u001b[36m0:00:00\u001b[0m\n",
            "\u001b[?25hCollecting filelock (from torch)\n",
            "  Downloading filelock-3.18.0-py3-none-any.whl.metadata (2.9 kB)\n",
            "Collecting typing-extensions>=4.10.0 (from torch)\n",
            "  Downloading typing_extensions-4.12.2-py3-none-any.whl.metadata (3.0 kB)\n",
            "Collecting networkx (from torch)\n",
            "  Downloading networkx-3.4.2-py3-none-any.whl.metadata (6.3 kB)\n",
            "Collecting jinja2 (from torch)\n",
            "  Downloading jinja2-3.1.6-py3-none-any.whl.metadata (2.9 kB)\n",
            "Collecting fsspec (from torch)\n",
            "  Downloading fsspec-2025.3.0-py3-none-any.whl.metadata (11 kB)\n",
            "Collecting nvidia-cuda-nvrtc-cu12==12.4.127 (from torch)\n",
            "  Using cached nvidia_cuda_nvrtc_cu12-12.4.127-py3-none-manylinux2014_x86_64.whl.metadata (1.5 kB)\n",
            "Collecting nvidia-cuda-runtime-cu12==12.4.127 (from torch)\n",
            "  Using cached nvidia_cuda_runtime_cu12-12.4.127-py3-none-manylinux2014_x86_64.whl.metadata (1.5 kB)\n",
            "Collecting nvidia-cuda-cupti-cu12==12.4.127 (from torch)\n",
            "  Using cached nvidia_cuda_cupti_cu12-12.4.127-py3-none-manylinux2014_x86_64.whl.metadata (1.6 kB)\n",
            "Collecting nvidia-cudnn-cu12==9.1.0.70 (from torch)\n",
            "  Using cached nvidia_cudnn_cu12-9.1.0.70-py3-none-manylinux2014_x86_64.whl.metadata (1.6 kB)\n",
            "Collecting nvidia-cublas-cu12==12.4.5.8 (from torch)\n",
            "  Using cached nvidia_cublas_cu12-12.4.5.8-py3-none-manylinux2014_x86_64.whl.metadata (1.5 kB)\n",
            "Collecting nvidia-cufft-cu12==11.2.1.3 (from torch)\n",
            "  Using cached nvidia_cufft_cu12-11.2.1.3-py3-none-manylinux2014_x86_64.whl.metadata (1.5 kB)\n",
            "Collecting nvidia-curand-cu12==10.3.5.147 (from torch)\n",
            "  Using cached nvidia_curand_cu12-10.3.5.147-py3-none-manylinux2014_x86_64.whl.metadata (1.5 kB)\n",
            "Collecting nvidia-cusolver-cu12==11.6.1.9 (from torch)\n",
            "  Using cached nvidia_cusolver_cu12-11.6.1.9-py3-none-manylinux2014_x86_64.whl.metadata (1.6 kB)\n",
            "Collecting nvidia-cusparse-cu12==12.3.1.170 (from torch)\n",
            "  Using cached nvidia_cusparse_cu12-12.3.1.170-py3-none-manylinux2014_x86_64.whl.metadata (1.6 kB)\n",
            "Collecting nvidia-cusparselt-cu12==0.6.2 (from torch)\n",
            "  Using cached nvidia_cusparselt_cu12-0.6.2-py3-none-manylinux2014_x86_64.whl.metadata (6.8 kB)\n",
            "Collecting nvidia-nccl-cu12==2.21.5 (from torch)\n",
            "  Downloading nvidia_nccl_cu12-2.21.5-py3-none-manylinux2014_x86_64.whl.metadata (1.8 kB)\n",
            "Collecting nvidia-nvtx-cu12==12.4.127 (from torch)\n",
            "  Downloading nvidia_nvtx_cu12-12.4.127-py3-none-manylinux2014_x86_64.whl.metadata (1.7 kB)\n",
            "Collecting nvidia-nvjitlink-cu12==12.4.127 (from torch)\n",
            "  Using cached nvidia_nvjitlink_cu12-12.4.127-py3-none-manylinux2014_x86_64.whl.metadata (1.5 kB)\n",
            "Collecting triton==3.2.0 (from torch)\n",
            "  Using cached triton-3.2.0-cp311-cp311-manylinux_2_17_x86_64.manylinux2014_x86_64.whl.metadata (1.4 kB)\n",
            "Collecting sympy==1.13.1 (from torch)\n",
            "  Downloading sympy-1.13.1-py3-none-any.whl.metadata (12 kB)\n",
            "Collecting mpmath<1.4,>=1.1.0 (from sympy==1.13.1->torch)\n",
            "  Downloading mpmath-1.3.0-py3-none-any.whl.metadata (8.6 kB)\n",
            "Collecting numpy (from torchvision)\n",
            "  Downloading numpy-2.2.4-cp311-cp311-manylinux_2_17_x86_64.manylinux2014_x86_64.whl.metadata (62 kB)\n",
            "\u001b[2K     \u001b[90m━━━━━━━━━━━━━━━━━━━━━━━━━━━━━━━━━━━━━━━━\u001b[0m \u001b[32m62.0/62.0 kB\u001b[0m \u001b[31m4.3 MB/s\u001b[0m eta \u001b[36m0:00:00\u001b[0m\n",
            "\u001b[?25hCollecting pillow!=8.3.*,>=5.3.0 (from torchvision)\n",
            "  Downloading pillow-11.1.0-cp311-cp311-manylinux_2_28_x86_64.whl.metadata (9.1 kB)\n",
            "Collecting huggingface-hub<1.0,>=0.26.0 (from transformers)\n",
            "  Downloading huggingface_hub-0.29.3-py3-none-any.whl.metadata (13 kB)\n",
            "Collecting packaging>=20.0 (from transformers)\n",
            "  Downloading packaging-24.2-py3-none-any.whl.metadata (3.2 kB)\n",
            "Collecting pyyaml>=5.1 (from transformers)\n",
            "  Downloading PyYAML-6.0.2-cp311-cp311-manylinux_2_17_x86_64.manylinux2014_x86_64.whl.metadata (2.1 kB)\n",
            "Collecting regex!=2019.12.17 (from transformers)\n",
            "  Downloading regex-2024.11.6-cp311-cp311-manylinux_2_17_x86_64.manylinux2014_x86_64.whl.metadata (40 kB)\n",
            "\u001b[2K     \u001b[90m━━━━━━━━━━━━━━━━━━━━━━━━━━━━━━━━━━━━━━━━\u001b[0m \u001b[32m40.5/40.5 kB\u001b[0m \u001b[31m3.1 MB/s\u001b[0m eta \u001b[36m0:00:00\u001b[0m\n",
            "\u001b[?25hCollecting requests (from transformers)\n",
            "  Downloading requests-2.32.3-py3-none-any.whl.metadata (4.6 kB)\n",
            "Collecting tokenizers<0.22,>=0.21 (from transformers)\n",
            "  Downloading tokenizers-0.21.1-cp39-abi3-manylinux_2_17_x86_64.manylinux2014_x86_64.whl.metadata (6.8 kB)\n",
            "Collecting safetensors>=0.4.1 (from transformers)\n",
            "  Downloading safetensors-0.5.3-cp38-abi3-manylinux_2_17_x86_64.manylinux2014_x86_64.whl.metadata (3.8 kB)\n",
            "Collecting tqdm>=4.27 (from transformers)\n",
            "  Downloading tqdm-4.67.1-py3-none-any.whl.metadata (57 kB)\n",
            "\u001b[2K     \u001b[90m━━━━━━━━━━━━━━━━━━━━━━━━━━━━━━━━━━━━━━━━\u001b[0m \u001b[32m57.7/57.7 kB\u001b[0m \u001b[31m5.0 MB/s\u001b[0m eta \u001b[36m0:00:00\u001b[0m\n",
            "\u001b[?25hCollecting MarkupSafe>=2.0 (from jinja2->torch)\n",
            "  Downloading MarkupSafe-3.0.2-cp311-cp311-manylinux_2_17_x86_64.manylinux2014_x86_64.whl.metadata (4.0 kB)\n",
            "Collecting charset-normalizer<4,>=2 (from requests->transformers)\n",
            "  Downloading charset_normalizer-3.4.1-cp311-cp311-manylinux_2_17_x86_64.manylinux2014_x86_64.whl.metadata (35 kB)\n",
            "Collecting idna<4,>=2.5 (from requests->transformers)\n",
            "  Downloading idna-3.10-py3-none-any.whl.metadata (10 kB)\n",
            "Collecting urllib3<3,>=1.21.1 (from requests->transformers)\n",
            "  Downloading urllib3-2.3.0-py3-none-any.whl.metadata (6.5 kB)\n",
            "Collecting certifi>=2017.4.17 (from requests->transformers)\n",
            "  Downloading certifi-2025.1.31-py3-none-any.whl.metadata (2.5 kB)\n",
            "Using cached torch-2.6.0-cp311-cp311-manylinux1_x86_64.whl (766.7 MB)\n",
            "Using cached nvidia_cublas_cu12-12.4.5.8-py3-none-manylinux2014_x86_64.whl (363.4 MB)\n",
            "Using cached nvidia_cuda_cupti_cu12-12.4.127-py3-none-manylinux2014_x86_64.whl (13.8 MB)\n",
            "Using cached nvidia_cuda_nvrtc_cu12-12.4.127-py3-none-manylinux2014_x86_64.whl (24.6 MB)\n",
            "Using cached nvidia_cuda_runtime_cu12-12.4.127-py3-none-manylinux2014_x86_64.whl (883 kB)\n",
            "Using cached nvidia_cudnn_cu12-9.1.0.70-py3-none-manylinux2014_x86_64.whl (664.8 MB)\n",
            "Using cached nvidia_cufft_cu12-11.2.1.3-py3-none-manylinux2014_x86_64.whl (211.5 MB)\n",
            "Using cached nvidia_curand_cu12-10.3.5.147-py3-none-manylinux2014_x86_64.whl (56.3 MB)\n",
            "Using cached nvidia_cusolver_cu12-11.6.1.9-py3-none-manylinux2014_x86_64.whl (127.9 MB)\n",
            "Using cached nvidia_cusparse_cu12-12.3.1.170-py3-none-manylinux2014_x86_64.whl (207.5 MB)\n",
            "Using cached nvidia_cusparselt_cu12-0.6.2-py3-none-manylinux2014_x86_64.whl (150.1 MB)\n",
            "Downloading nvidia_nccl_cu12-2.21.5-py3-none-manylinux2014_x86_64.whl (188.7 MB)\n",
            "\u001b[2K   \u001b[90m━━━━━━━━━━━━━━━━━━━━━━━━━━━━━━━━━━━━━━━━\u001b[0m \u001b[32m188.7/188.7 MB\u001b[0m \u001b[31m3.1 MB/s\u001b[0m eta \u001b[36m0:00:00\u001b[0m\n",
            "\u001b[?25hUsing cached nvidia_nvjitlink_cu12-12.4.127-py3-none-manylinux2014_x86_64.whl (21.1 MB)\n",
            "Downloading nvidia_nvtx_cu12-12.4.127-py3-none-manylinux2014_x86_64.whl (99 kB)\n",
            "\u001b[2K   \u001b[90m━━━━━━━━━━━━━━━━━━━━━━━━━━━━━━━━━━━━━━━━\u001b[0m \u001b[32m99.1/99.1 kB\u001b[0m \u001b[31m8.2 MB/s\u001b[0m eta \u001b[36m0:00:00\u001b[0m\n",
            "\u001b[?25hDownloading sympy-1.13.1-py3-none-any.whl (6.2 MB)\n",
            "\u001b[2K   \u001b[90m━━━━━━━━━━━━━━━━━━━━━━━━━━━━━━━━━━━━━━━━\u001b[0m \u001b[32m6.2/6.2 MB\u001b[0m \u001b[31m110.5 MB/s\u001b[0m eta \u001b[36m0:00:00\u001b[0m\n",
            "\u001b[?25hUsing cached triton-3.2.0-cp311-cp311-manylinux_2_17_x86_64.manylinux2014_x86_64.whl (253.2 MB)\n",
            "Downloading torchvision-0.21.0-cp311-cp311-manylinux1_x86_64.whl (7.2 MB)\n",
            "\u001b[2K   \u001b[90m━━━━━━━━━━━━━━━━━━━━━━━━━━━━━━━━━━━━━━━━\u001b[0m \u001b[32m7.2/7.2 MB\u001b[0m \u001b[31m106.8 MB/s\u001b[0m eta \u001b[36m0:00:00\u001b[0m\n",
            "\u001b[?25hDownloading torchaudio-2.6.0-cp311-cp311-manylinux1_x86_64.whl (3.4 MB)\n",
            "\u001b[2K   \u001b[90m━━━━━━━━━━━━━━━━━━━━━━━━━━━━━━━━━━━━━━━━\u001b[0m \u001b[32m3.4/3.4 MB\u001b[0m \u001b[31m94.7 MB/s\u001b[0m eta \u001b[36m0:00:00\u001b[0m\n",
            "\u001b[?25hDownloading transformers-4.49.0-py3-none-any.whl (10.0 MB)\n",
            "\u001b[2K   \u001b[90m━━━━━━━━━━━━━━━━━━━━━━━━━━━━━━━━━━━━━━━━\u001b[0m \u001b[32m10.0/10.0 MB\u001b[0m \u001b[31m109.1 MB/s\u001b[0m eta \u001b[36m0:00:00\u001b[0m\n",
            "\u001b[?25hDownloading huggingface_hub-0.29.3-py3-none-any.whl (468 kB)\n",
            "\u001b[2K   \u001b[90m━━━━━━━━━━━━━━━━━━━━━━━━━━━━━━━━━━━━━━━━\u001b[0m \u001b[32m469.0/469.0 kB\u001b[0m \u001b[31m32.2 MB/s\u001b[0m eta \u001b[36m0:00:00\u001b[0m\n",
            "\u001b[?25hDownloading fsspec-2025.3.0-py3-none-any.whl (193 kB)\n",
            "\u001b[2K   \u001b[90m━━━━━━━━━━━━━━━━━━━━━━━━━━━━━━━━━━━━━━━━\u001b[0m \u001b[32m193.6/193.6 kB\u001b[0m \u001b[31m16.1 MB/s\u001b[0m eta \u001b[36m0:00:00\u001b[0m\n",
            "\u001b[?25hDownloading numpy-2.2.4-cp311-cp311-manylinux_2_17_x86_64.manylinux2014_x86_64.whl (16.4 MB)\n",
            "\u001b[2K   \u001b[90m━━━━━━━━━━━━━━━━━━━━━━━━━━━━━━━━━━━━━━━━\u001b[0m \u001b[32m16.4/16.4 MB\u001b[0m \u001b[31m100.6 MB/s\u001b[0m eta \u001b[36m0:00:00\u001b[0m\n",
            "\u001b[?25hDownloading packaging-24.2-py3-none-any.whl (65 kB)\n",
            "\u001b[2K   \u001b[90m━━━━━━━━━━━━━━━━━━━━━━━━━━━━━━━━━━━━━━━━\u001b[0m \u001b[32m65.5/65.5 kB\u001b[0m \u001b[31m5.4 MB/s\u001b[0m eta \u001b[36m0:00:00\u001b[0m\n",
            "\u001b[?25hDownloading pillow-11.1.0-cp311-cp311-manylinux_2_28_x86_64.whl (4.5 MB)\n",
            "\u001b[2K   \u001b[90m━━━━━━━━━━━━━━━━━━━━━━━━━━━━━━━━━━━━━━━━\u001b[0m \u001b[32m4.5/4.5 MB\u001b[0m \u001b[31m97.9 MB/s\u001b[0m eta \u001b[36m0:00:00\u001b[0m\n",
            "\u001b[?25hDownloading PyYAML-6.0.2-cp311-cp311-manylinux_2_17_x86_64.manylinux2014_x86_64.whl (762 kB)\n",
            "\u001b[2K   \u001b[90m━━━━━━━━━━━━━━━━━━━━━━━━━━━━━━━━━━━━━━━━\u001b[0m \u001b[32m763.0/763.0 kB\u001b[0m \u001b[31m52.0 MB/s\u001b[0m eta \u001b[36m0:00:00\u001b[0m\n",
            "\u001b[?25hDownloading regex-2024.11.6-cp311-cp311-manylinux_2_17_x86_64.manylinux2014_x86_64.whl (792 kB)\n",
            "\u001b[2K   \u001b[90m━━━━━━━━━━━━━━━━━━━━━━━━━━━━━━━━━━━━━━━━\u001b[0m \u001b[32m792.7/792.7 kB\u001b[0m \u001b[31m53.6 MB/s\u001b[0m eta \u001b[36m0:00:00\u001b[0m\n",
            "\u001b[?25hDownloading safetensors-0.5.3-cp38-abi3-manylinux_2_17_x86_64.manylinux2014_x86_64.whl (471 kB)\n",
            "\u001b[2K   \u001b[90m━━━━━━━━━━━━━━━━━━━━━━━━━━━━━━━━━━━━━━━━\u001b[0m \u001b[32m471.6/471.6 kB\u001b[0m \u001b[31m29.7 MB/s\u001b[0m eta \u001b[36m0:00:00\u001b[0m\n",
            "\u001b[?25hDownloading tokenizers-0.21.1-cp39-abi3-manylinux_2_17_x86_64.manylinux2014_x86_64.whl (3.0 MB)\n",
            "\u001b[2K   \u001b[90m━━━━━━━━━━━━━━━━━━━━━━━━━━━━━━━━━━━━━━━━\u001b[0m \u001b[32m3.0/3.0 MB\u001b[0m \u001b[31m84.6 MB/s\u001b[0m eta \u001b[36m0:00:00\u001b[0m\n",
            "\u001b[?25hDownloading tqdm-4.67.1-py3-none-any.whl (78 kB)\n",
            "\u001b[2K   \u001b[90m━━━━━━━━━━━━━━━━━━━━━━━━━━━━━━━━━━━━━━━━\u001b[0m \u001b[32m78.5/78.5 kB\u001b[0m \u001b[31m6.3 MB/s\u001b[0m eta \u001b[36m0:00:00\u001b[0m\n",
            "\u001b[?25hDownloading typing_extensions-4.12.2-py3-none-any.whl (37 kB)\n",
            "Downloading filelock-3.18.0-py3-none-any.whl (16 kB)\n",
            "Downloading jinja2-3.1.6-py3-none-any.whl (134 kB)\n",
            "\u001b[2K   \u001b[90m━━━━━━━━━━━━━━━━━━━━━━━━━━━━━━━━━━━━━━━━\u001b[0m \u001b[32m134.9/134.9 kB\u001b[0m \u001b[31m10.1 MB/s\u001b[0m eta \u001b[36m0:00:00\u001b[0m\n",
            "\u001b[?25hDownloading networkx-3.4.2-py3-none-any.whl (1.7 MB)\n",
            "\u001b[2K   \u001b[90m━━━━━━━━━━━━━━━━━━━━━━━━━━━━━━━━━━━━━━━━\u001b[0m \u001b[32m1.7/1.7 MB\u001b[0m \u001b[31m80.0 MB/s\u001b[0m eta \u001b[36m0:00:00\u001b[0m\n",
            "\u001b[?25hDownloading requests-2.32.3-py3-none-any.whl (64 kB)\n",
            "\u001b[2K   \u001b[90m━━━━━━━━━━━━━━━━━━━━━━━━━━━━━━━━━━━━━━━━\u001b[0m \u001b[32m64.9/64.9 kB\u001b[0m \u001b[31m4.5 MB/s\u001b[0m eta \u001b[36m0:00:00\u001b[0m\n",
            "\u001b[?25hDownloading certifi-2025.1.31-py3-none-any.whl (166 kB)\n",
            "\u001b[2K   \u001b[90m━━━━━━━━━━━━━━━━━━━━━━━━━━━━━━━━━━━━━━━━\u001b[0m \u001b[32m166.4/166.4 kB\u001b[0m \u001b[31m13.8 MB/s\u001b[0m eta \u001b[36m0:00:00\u001b[0m\n",
            "\u001b[?25hDownloading charset_normalizer-3.4.1-cp311-cp311-manylinux_2_17_x86_64.manylinux2014_x86_64.whl (143 kB)\n",
            "\u001b[2K   \u001b[90m━━━━━━━━━━━━━━━━━━━━━━━━━━━━━━━━━━━━━━━━\u001b[0m \u001b[32m143.9/143.9 kB\u001b[0m \u001b[31m12.4 MB/s\u001b[0m eta \u001b[36m0:00:00\u001b[0m\n",
            "\u001b[?25hDownloading idna-3.10-py3-none-any.whl (70 kB)\n",
            "\u001b[2K   \u001b[90m━━━━━━━━━━━━━━━━━━━━━━━━━━━━━━━━━━━━━━━━\u001b[0m \u001b[32m70.4/70.4 kB\u001b[0m \u001b[31m6.8 MB/s\u001b[0m eta \u001b[36m0:00:00\u001b[0m\n",
            "\u001b[?25hDownloading MarkupSafe-3.0.2-cp311-cp311-manylinux_2_17_x86_64.manylinux2014_x86_64.whl (23 kB)\n",
            "Downloading mpmath-1.3.0-py3-none-any.whl (536 kB)\n",
            "\u001b[2K   \u001b[90m━━━━━━━━━━━━━━━━━━━━━━━━━━━━━━━━━━━━━━━━\u001b[0m \u001b[32m536.2/536.2 kB\u001b[0m \u001b[31m38.4 MB/s\u001b[0m eta \u001b[36m0:00:00\u001b[0m\n",
            "\u001b[?25hDownloading urllib3-2.3.0-py3-none-any.whl (128 kB)\n",
            "\u001b[2K   \u001b[90m━━━━━━━━━━━━━━━━━━━━━━━━━━━━━━━━━━━━━━━━\u001b[0m \u001b[32m128.4/128.4 kB\u001b[0m \u001b[31m12.6 MB/s\u001b[0m eta \u001b[36m0:00:00\u001b[0m\n",
            "\u001b[?25hInstalling collected packages: triton, nvidia-cusparselt-cu12, mpmath, urllib3, typing-extensions, tqdm, sympy, safetensors, regex, pyyaml, pillow, packaging, nvidia-nvtx-cu12, nvidia-nvjitlink-cu12, nvidia-nccl-cu12, nvidia-curand-cu12, nvidia-cufft-cu12, nvidia-cuda-runtime-cu12, nvidia-cuda-nvrtc-cu12, nvidia-cuda-cupti-cu12, nvidia-cublas-cu12, numpy, networkx, MarkupSafe, idna, fsspec, filelock, charset-normalizer, certifi, requests, nvidia-cusparse-cu12, nvidia-cudnn-cu12, jinja2, nvidia-cusolver-cu12, huggingface-hub, torch, tokenizers, transformers, torchvision, torchaudio\n",
            "  Attempting uninstall: triton\n",
            "    Found existing installation: triton 3.2.0\n",
            "    Uninstalling triton-3.2.0:\n",
            "      Successfully uninstalled triton-3.2.0\n",
            "  Attempting uninstall: nvidia-cusparselt-cu12\n",
            "    Found existing installation: nvidia-cusparselt-cu12 0.6.2\n",
            "    Uninstalling nvidia-cusparselt-cu12-0.6.2:\n",
            "      Successfully uninstalled nvidia-cusparselt-cu12-0.6.2\n",
            "  Attempting uninstall: mpmath\n",
            "    Found existing installation: mpmath 1.3.0\n",
            "    Uninstalling mpmath-1.3.0:\n",
            "      Successfully uninstalled mpmath-1.3.0\n",
            "  Attempting uninstall: urllib3\n",
            "    Found existing installation: urllib3 2.3.0\n",
            "    Uninstalling urllib3-2.3.0:\n",
            "      Successfully uninstalled urllib3-2.3.0\n",
            "  Attempting uninstall: typing-extensions\n",
            "    Found existing installation: typing_extensions 4.12.2\n",
            "    Uninstalling typing_extensions-4.12.2:\n",
            "      Successfully uninstalled typing_extensions-4.12.2\n",
            "  Attempting uninstall: tqdm\n",
            "    Found existing installation: tqdm 4.67.1\n",
            "    Uninstalling tqdm-4.67.1:\n",
            "      Successfully uninstalled tqdm-4.67.1\n",
            "  Attempting uninstall: sympy\n",
            "    Found existing installation: sympy 1.13.1\n",
            "    Uninstalling sympy-1.13.1:\n",
            "      Successfully uninstalled sympy-1.13.1\n",
            "  Attempting uninstall: safetensors\n",
            "    Found existing installation: safetensors 0.5.3\n",
            "    Uninstalling safetensors-0.5.3:\n",
            "      Successfully uninstalled safetensors-0.5.3\n",
            "  Attempting uninstall: regex\n",
            "    Found existing installation: regex 2024.11.6\n",
            "    Uninstalling regex-2024.11.6:\n",
            "      Successfully uninstalled regex-2024.11.6\n",
            "  Attempting uninstall: pyyaml\n",
            "    Found existing installation: PyYAML 6.0.2\n",
            "    Uninstalling PyYAML-6.0.2:\n",
            "      Successfully uninstalled PyYAML-6.0.2\n",
            "  Attempting uninstall: pillow\n",
            "    Found existing installation: pillow 11.1.0\n",
            "    Uninstalling pillow-11.1.0:\n",
            "      Successfully uninstalled pillow-11.1.0\n",
            "  Attempting uninstall: packaging\n",
            "    Found existing installation: packaging 24.2\n",
            "    Uninstalling packaging-24.2:\n",
            "      Successfully uninstalled packaging-24.2\n",
            "  Attempting uninstall: nvidia-nvtx-cu12\n",
            "    Found existing installation: nvidia-nvtx-cu12 12.4.127\n",
            "    Uninstalling nvidia-nvtx-cu12-12.4.127:\n",
            "      Successfully uninstalled nvidia-nvtx-cu12-12.4.127\n",
            "  Attempting uninstall: nvidia-nvjitlink-cu12\n",
            "    Found existing installation: nvidia-nvjitlink-cu12 12.4.127\n",
            "    Uninstalling nvidia-nvjitlink-cu12-12.4.127:\n",
            "      Successfully uninstalled nvidia-nvjitlink-cu12-12.4.127\n",
            "  Attempting uninstall: nvidia-nccl-cu12\n",
            "    Found existing installation: nvidia-nccl-cu12 2.21.5\n",
            "    Uninstalling nvidia-nccl-cu12-2.21.5:\n",
            "      Successfully uninstalled nvidia-nccl-cu12-2.21.5\n",
            "  Attempting uninstall: nvidia-curand-cu12\n",
            "    Found existing installation: nvidia-curand-cu12 10.3.5.147\n",
            "    Uninstalling nvidia-curand-cu12-10.3.5.147:\n",
            "      Successfully uninstalled nvidia-curand-cu12-10.3.5.147\n",
            "  Attempting uninstall: nvidia-cufft-cu12\n",
            "    Found existing installation: nvidia-cufft-cu12 11.2.1.3\n",
            "    Uninstalling nvidia-cufft-cu12-11.2.1.3:\n",
            "      Successfully uninstalled nvidia-cufft-cu12-11.2.1.3\n",
            "  Attempting uninstall: nvidia-cuda-runtime-cu12\n",
            "    Found existing installation: nvidia-cuda-runtime-cu12 12.4.127\n",
            "    Uninstalling nvidia-cuda-runtime-cu12-12.4.127:\n",
            "      Successfully uninstalled nvidia-cuda-runtime-cu12-12.4.127\n",
            "  Attempting uninstall: nvidia-cuda-nvrtc-cu12\n",
            "    Found existing installation: nvidia-cuda-nvrtc-cu12 12.4.127\n",
            "    Uninstalling nvidia-cuda-nvrtc-cu12-12.4.127:\n",
            "      Successfully uninstalled nvidia-cuda-nvrtc-cu12-12.4.127\n",
            "  Attempting uninstall: nvidia-cuda-cupti-cu12\n",
            "    Found existing installation: nvidia-cuda-cupti-cu12 12.4.127\n",
            "    Uninstalling nvidia-cuda-cupti-cu12-12.4.127:\n",
            "      Successfully uninstalled nvidia-cuda-cupti-cu12-12.4.127\n",
            "  Attempting uninstall: nvidia-cublas-cu12\n",
            "    Found existing installation: nvidia-cublas-cu12 12.4.5.8\n",
            "    Uninstalling nvidia-cublas-cu12-12.4.5.8:\n",
            "      Successfully uninstalled nvidia-cublas-cu12-12.4.5.8\n",
            "  Attempting uninstall: numpy\n",
            "    Found existing installation: numpy 1.26.4\n",
            "    Uninstalling numpy-1.26.4:\n",
            "      Successfully uninstalled numpy-1.26.4\n",
            "  Attempting uninstall: networkx\n",
            "    Found existing installation: networkx 3.4.2\n",
            "    Uninstalling networkx-3.4.2:\n",
            "      Successfully uninstalled networkx-3.4.2\n",
            "  Attempting uninstall: MarkupSafe\n",
            "    Found existing installation: MarkupSafe 3.0.2\n",
            "    Uninstalling MarkupSafe-3.0.2:\n",
            "      Successfully uninstalled MarkupSafe-3.0.2\n",
            "  Attempting uninstall: idna\n",
            "    Found existing installation: idna 3.10\n",
            "    Uninstalling idna-3.10:\n",
            "      Successfully uninstalled idna-3.10\n",
            "  Attempting uninstall: fsspec\n",
            "    Found existing installation: fsspec 2024.10.0\n",
            "    Uninstalling fsspec-2024.10.0:\n",
            "      Successfully uninstalled fsspec-2024.10.0\n",
            "  Attempting uninstall: filelock\n",
            "    Found existing installation: filelock 3.17.0\n",
            "    Uninstalling filelock-3.17.0:\n",
            "      Successfully uninstalled filelock-3.17.0\n",
            "  Attempting uninstall: charset-normalizer\n",
            "    Found existing installation: charset-normalizer 3.4.1\n",
            "    Uninstalling charset-normalizer-3.4.1:\n",
            "      Successfully uninstalled charset-normalizer-3.4.1\n",
            "  Attempting uninstall: certifi\n",
            "    Found existing installation: certifi 2025.1.31\n",
            "    Uninstalling certifi-2025.1.31:\n",
            "      Successfully uninstalled certifi-2025.1.31\n",
            "  Attempting uninstall: requests\n",
            "    Found existing installation: requests 2.32.3\n",
            "    Uninstalling requests-2.32.3:\n",
            "      Successfully uninstalled requests-2.32.3\n",
            "  Attempting uninstall: nvidia-cusparse-cu12\n",
            "    Found existing installation: nvidia-cusparse-cu12 12.3.1.170\n",
            "    Uninstalling nvidia-cusparse-cu12-12.3.1.170:\n",
            "      Successfully uninstalled nvidia-cusparse-cu12-12.3.1.170\n",
            "  Attempting uninstall: nvidia-cudnn-cu12\n",
            "    Found existing installation: nvidia-cudnn-cu12 9.1.0.70\n",
            "    Uninstalling nvidia-cudnn-cu12-9.1.0.70:\n",
            "      Successfully uninstalled nvidia-cudnn-cu12-9.1.0.70\n",
            "  Attempting uninstall: jinja2\n",
            "    Found existing installation: Jinja2 3.1.5\n",
            "    Uninstalling Jinja2-3.1.5:\n",
            "      Successfully uninstalled Jinja2-3.1.5\n",
            "  Attempting uninstall: nvidia-cusolver-cu12\n",
            "    Found existing installation: nvidia-cusolver-cu12 11.6.1.9\n",
            "    Uninstalling nvidia-cusolver-cu12-11.6.1.9:\n",
            "      Successfully uninstalled nvidia-cusolver-cu12-11.6.1.9\n",
            "  Attempting uninstall: huggingface-hub\n",
            "    Found existing installation: huggingface-hub 0.28.1\n",
            "    Uninstalling huggingface-hub-0.28.1:\n",
            "      Successfully uninstalled huggingface-hub-0.28.1\n",
            "  Attempting uninstall: torch\n",
            "    Found existing installation: torch 2.6.0\n",
            "    Uninstalling torch-2.6.0:\n",
            "      Successfully uninstalled torch-2.6.0\n",
            "  Attempting uninstall: tokenizers\n",
            "    Found existing installation: tokenizers 0.21.0\n",
            "    Uninstalling tokenizers-0.21.0:\n",
            "      Successfully uninstalled tokenizers-0.21.0\n",
            "  Attempting uninstall: transformers\n",
            "    Found existing installation: transformers 4.48.3\n",
            "    Uninstalling transformers-4.48.3:\n",
            "      Successfully uninstalled transformers-4.48.3\n",
            "  Attempting uninstall: torchvision\n",
            "    Found existing installation: torchvision 0.20.1+cu124\n",
            "    Uninstalling torchvision-0.20.1+cu124:\n",
            "      Successfully uninstalled torchvision-0.20.1+cu124\n",
            "  Attempting uninstall: torchaudio\n",
            "    Found existing installation: torchaudio 2.5.1+cu124\n",
            "    Uninstalling torchaudio-2.5.1+cu124:\n",
            "      Successfully uninstalled torchaudio-2.5.1+cu124\n",
            "\u001b[31mERROR: pip's dependency resolver does not currently take into account all the packages that are installed. This behaviour is the source of the following dependency conflicts.\n",
            "thinc 8.2.5 requires numpy<2.0.0,>=1.19.0; python_version >= \"3.9\", but you have numpy 2.2.4 which is incompatible.\n",
            "gcsfs 2024.10.0 requires fsspec==2024.10.0, but you have fsspec 2025.3.0 which is incompatible.\n",
            "numba 0.60.0 requires numpy<2.1,>=1.22, but you have numpy 2.2.4 which is incompatible.\n",
            "gensim 4.3.3 requires numpy<2.0,>=1.18.5, but you have numpy 2.2.4 which is incompatible.\n",
            "pytensor 2.27.1 requires numpy<2,>=1.17.0, but you have numpy 2.2.4 which is incompatible.\n",
            "langchain 0.3.19 requires numpy<2,>=1.26.4; python_version < \"3.12\", but you have numpy 2.2.4 which is incompatible.\n",
            "tensorflow 2.18.0 requires numpy<2.1.0,>=1.26.0, but you have numpy 2.2.4 which is incompatible.\n",
            "fastai 2.7.18 requires torch<2.6,>=1.10, but you have torch 2.6.0 which is incompatible.\u001b[0m\u001b[31m\n",
            "\u001b[0mSuccessfully installed MarkupSafe-3.0.2 certifi-2025.1.31 charset-normalizer-3.4.1 filelock-3.18.0 fsspec-2025.3.0 huggingface-hub-0.29.3 idna-3.10 jinja2-3.1.6 mpmath-1.3.0 networkx-3.4.2 numpy-2.2.4 nvidia-cublas-cu12-12.4.5.8 nvidia-cuda-cupti-cu12-12.4.127 nvidia-cuda-nvrtc-cu12-12.4.127 nvidia-cuda-runtime-cu12-12.4.127 nvidia-cudnn-cu12-9.1.0.70 nvidia-cufft-cu12-11.2.1.3 nvidia-curand-cu12-10.3.5.147 nvidia-cusolver-cu12-11.6.1.9 nvidia-cusparse-cu12-12.3.1.170 nvidia-cusparselt-cu12-0.6.2 nvidia-nccl-cu12-2.21.5 nvidia-nvjitlink-cu12-12.4.127 nvidia-nvtx-cu12-12.4.127 packaging-24.2 pillow-11.1.0 pyyaml-6.0.2 regex-2024.11.6 requests-2.32.3 safetensors-0.5.3 sympy-1.13.1 tokenizers-0.21.1 torch-2.6.0 torchaudio-2.6.0 torchvision-0.21.0 tqdm-4.67.1 transformers-4.49.0 triton-3.2.0 typing-extensions-4.12.2 urllib3-2.3.0\n"
          ]
        },
        {
          "output_type": "display_data",
          "data": {
            "application/vnd.colab-display-data+json": {
              "pip_warning": {
                "packages": [
                  "PIL",
                  "certifi",
                  "charset_normalizer",
                  "huggingface_hub",
                  "markupsafe",
                  "requests",
                  "torch",
                  "torchgen",
                  "tqdm",
                  "transformers",
                  "yaml"
                ]
              },
              "id": "1639c407a8fc40ba99d6deb43300c2e5"
            }
          },
          "metadata": {}
        }
      ]
    },
    {
      "cell_type": "code",
      "execution_count": null,
      "id": "3051d30a",
      "metadata": {
        "id": "3051d30a"
      },
      "outputs": [],
      "source": [
        "import pandas as pd\n",
        "from transformers import pipeline"
      ]
    },
    {
      "cell_type": "markdown",
      "id": "24ff3c42",
      "metadata": {
        "id": "24ff3c42"
      },
      "source": [
        "## Loading data"
      ]
    },
    {
      "cell_type": "code",
      "source": [
        "from google.colab import drive\n",
        "drive.mount('/content/drive')"
      ],
      "metadata": {
        "id": "NxbpvM2fsORB",
        "colab": {
          "base_uri": "https://localhost:8080/"
        },
        "outputId": "58f4f979-971e-46f0-d7ef-21093cb1c94e"
      },
      "id": "NxbpvM2fsORB",
      "execution_count": null,
      "outputs": [
        {
          "output_type": "stream",
          "name": "stdout",
          "text": [
            "Mounted at /content/drive\n"
          ]
        }
      ]
    },
    {
      "cell_type": "markdown",
      "source": [
        "#### Load entire Dataset"
      ],
      "metadata": {
        "id": "Ea-HjFYZd6kZ"
      },
      "id": "Ea-HjFYZd6kZ"
    },
    {
      "cell_type": "code",
      "execution_count": null,
      "id": "0f88d390",
      "metadata": {
        "colab": {
          "base_uri": "https://localhost:8080/",
          "height": 347
        },
        "id": "0f88d390",
        "outputId": "224e8632-20f8-4267-9979-790dbc0a72a4"
      },
      "outputs": [
        {
          "output_type": "execute_result",
          "data": {
            "text/plain": [
              "                               combined_preprocessed  answered_percent  \\\n",
              "0  would love think kind intellectual either dumb...             100.0   \n",
              "1  chef mean workaholic love cook regardless whet...              60.0   \n",
              "2  im ashamed much write public text online date ...              90.0   \n",
              "3  work library go school read thing write old de...              70.0   \n",
              "4  hey hows go currently vague profile know come ...              50.0   \n",
              "\n",
              "   text_length  topic_0_from_five  topic_1_from_five  topic_2_from_five  \\\n",
              "0         1565           0.905500           0.023574           0.023639   \n",
              "1          815           0.027683           0.339134           0.027590   \n",
              "2         3728           0.914891           0.021284           0.021307   \n",
              "3          330           0.045781           0.045620           0.817402   \n",
              "4          496           0.031946           0.031976           0.872147   \n",
              "\n",
              "   topic_3_from_five  topic_4_from_five  topic_0_from_two  topic_1_from_two  \n",
              "0           0.023778           0.023509          0.271588          0.728412  \n",
              "1           0.578125           0.027468          0.446532          0.553468  \n",
              "2           0.021207           0.021311          0.280111          0.719889  \n",
              "3           0.045673           0.045524          0.330528          0.669472  \n",
              "4           0.032119           0.031812          0.450953          0.549047  "
            ],
            "text/html": [
              "\n",
              "  <div id=\"df-8f4b7074-16ad-4366-9057-b54e716ee954\" class=\"colab-df-container\">\n",
              "    <div>\n",
              "<style scoped>\n",
              "    .dataframe tbody tr th:only-of-type {\n",
              "        vertical-align: middle;\n",
              "    }\n",
              "\n",
              "    .dataframe tbody tr th {\n",
              "        vertical-align: top;\n",
              "    }\n",
              "\n",
              "    .dataframe thead th {\n",
              "        text-align: right;\n",
              "    }\n",
              "</style>\n",
              "<table border=\"1\" class=\"dataframe\">\n",
              "  <thead>\n",
              "    <tr style=\"text-align: right;\">\n",
              "      <th></th>\n",
              "      <th>combined_preprocessed</th>\n",
              "      <th>answered_percent</th>\n",
              "      <th>text_length</th>\n",
              "      <th>topic_0_from_five</th>\n",
              "      <th>topic_1_from_five</th>\n",
              "      <th>topic_2_from_five</th>\n",
              "      <th>topic_3_from_five</th>\n",
              "      <th>topic_4_from_five</th>\n",
              "      <th>topic_0_from_two</th>\n",
              "      <th>topic_1_from_two</th>\n",
              "    </tr>\n",
              "  </thead>\n",
              "  <tbody>\n",
              "    <tr>\n",
              "      <th>0</th>\n",
              "      <td>would love think kind intellectual either dumb...</td>\n",
              "      <td>100.0</td>\n",
              "      <td>1565</td>\n",
              "      <td>0.905500</td>\n",
              "      <td>0.023574</td>\n",
              "      <td>0.023639</td>\n",
              "      <td>0.023778</td>\n",
              "      <td>0.023509</td>\n",
              "      <td>0.271588</td>\n",
              "      <td>0.728412</td>\n",
              "    </tr>\n",
              "    <tr>\n",
              "      <th>1</th>\n",
              "      <td>chef mean workaholic love cook regardless whet...</td>\n",
              "      <td>60.0</td>\n",
              "      <td>815</td>\n",
              "      <td>0.027683</td>\n",
              "      <td>0.339134</td>\n",
              "      <td>0.027590</td>\n",
              "      <td>0.578125</td>\n",
              "      <td>0.027468</td>\n",
              "      <td>0.446532</td>\n",
              "      <td>0.553468</td>\n",
              "    </tr>\n",
              "    <tr>\n",
              "      <th>2</th>\n",
              "      <td>im ashamed much write public text online date ...</td>\n",
              "      <td>90.0</td>\n",
              "      <td>3728</td>\n",
              "      <td>0.914891</td>\n",
              "      <td>0.021284</td>\n",
              "      <td>0.021307</td>\n",
              "      <td>0.021207</td>\n",
              "      <td>0.021311</td>\n",
              "      <td>0.280111</td>\n",
              "      <td>0.719889</td>\n",
              "    </tr>\n",
              "    <tr>\n",
              "      <th>3</th>\n",
              "      <td>work library go school read thing write old de...</td>\n",
              "      <td>70.0</td>\n",
              "      <td>330</td>\n",
              "      <td>0.045781</td>\n",
              "      <td>0.045620</td>\n",
              "      <td>0.817402</td>\n",
              "      <td>0.045673</td>\n",
              "      <td>0.045524</td>\n",
              "      <td>0.330528</td>\n",
              "      <td>0.669472</td>\n",
              "    </tr>\n",
              "    <tr>\n",
              "      <th>4</th>\n",
              "      <td>hey hows go currently vague profile know come ...</td>\n",
              "      <td>50.0</td>\n",
              "      <td>496</td>\n",
              "      <td>0.031946</td>\n",
              "      <td>0.031976</td>\n",
              "      <td>0.872147</td>\n",
              "      <td>0.032119</td>\n",
              "      <td>0.031812</td>\n",
              "      <td>0.450953</td>\n",
              "      <td>0.549047</td>\n",
              "    </tr>\n",
              "  </tbody>\n",
              "</table>\n",
              "</div>\n",
              "    <div class=\"colab-df-buttons\">\n",
              "\n",
              "  <div class=\"colab-df-container\">\n",
              "    <button class=\"colab-df-convert\" onclick=\"convertToInteractive('df-8f4b7074-16ad-4366-9057-b54e716ee954')\"\n",
              "            title=\"Convert this dataframe to an interactive table.\"\n",
              "            style=\"display:none;\">\n",
              "\n",
              "  <svg xmlns=\"http://www.w3.org/2000/svg\" height=\"24px\" viewBox=\"0 -960 960 960\">\n",
              "    <path d=\"M120-120v-720h720v720H120Zm60-500h600v-160H180v160Zm220 220h160v-160H400v160Zm0 220h160v-160H400v160ZM180-400h160v-160H180v160Zm440 0h160v-160H620v160ZM180-180h160v-160H180v160Zm440 0h160v-160H620v160Z\"/>\n",
              "  </svg>\n",
              "    </button>\n",
              "\n",
              "  <style>\n",
              "    .colab-df-container {\n",
              "      display:flex;\n",
              "      gap: 12px;\n",
              "    }\n",
              "\n",
              "    .colab-df-convert {\n",
              "      background-color: #E8F0FE;\n",
              "      border: none;\n",
              "      border-radius: 50%;\n",
              "      cursor: pointer;\n",
              "      display: none;\n",
              "      fill: #1967D2;\n",
              "      height: 32px;\n",
              "      padding: 0 0 0 0;\n",
              "      width: 32px;\n",
              "    }\n",
              "\n",
              "    .colab-df-convert:hover {\n",
              "      background-color: #E2EBFA;\n",
              "      box-shadow: 0px 1px 2px rgba(60, 64, 67, 0.3), 0px 1px 3px 1px rgba(60, 64, 67, 0.15);\n",
              "      fill: #174EA6;\n",
              "    }\n",
              "\n",
              "    .colab-df-buttons div {\n",
              "      margin-bottom: 4px;\n",
              "    }\n",
              "\n",
              "    [theme=dark] .colab-df-convert {\n",
              "      background-color: #3B4455;\n",
              "      fill: #D2E3FC;\n",
              "    }\n",
              "\n",
              "    [theme=dark] .colab-df-convert:hover {\n",
              "      background-color: #434B5C;\n",
              "      box-shadow: 0px 1px 3px 1px rgba(0, 0, 0, 0.15);\n",
              "      filter: drop-shadow(0px 1px 2px rgba(0, 0, 0, 0.3));\n",
              "      fill: #FFFFFF;\n",
              "    }\n",
              "  </style>\n",
              "\n",
              "    <script>\n",
              "      const buttonEl =\n",
              "        document.querySelector('#df-8f4b7074-16ad-4366-9057-b54e716ee954 button.colab-df-convert');\n",
              "      buttonEl.style.display =\n",
              "        google.colab.kernel.accessAllowed ? 'block' : 'none';\n",
              "\n",
              "      async function convertToInteractive(key) {\n",
              "        const element = document.querySelector('#df-8f4b7074-16ad-4366-9057-b54e716ee954');\n",
              "        const dataTable =\n",
              "          await google.colab.kernel.invokeFunction('convertToInteractive',\n",
              "                                                    [key], {});\n",
              "        if (!dataTable) return;\n",
              "\n",
              "        const docLinkHtml = 'Like what you see? Visit the ' +\n",
              "          '<a target=\"_blank\" href=https://colab.research.google.com/notebooks/data_table.ipynb>data table notebook</a>'\n",
              "          + ' to learn more about interactive tables.';\n",
              "        element.innerHTML = '';\n",
              "        dataTable['output_type'] = 'display_data';\n",
              "        await google.colab.output.renderOutput(dataTable, element);\n",
              "        const docLink = document.createElement('div');\n",
              "        docLink.innerHTML = docLinkHtml;\n",
              "        element.appendChild(docLink);\n",
              "      }\n",
              "    </script>\n",
              "  </div>\n",
              "\n",
              "\n",
              "<div id=\"df-f64d588a-49e8-4381-8a11-ae89a3390a51\">\n",
              "  <button class=\"colab-df-quickchart\" onclick=\"quickchart('df-f64d588a-49e8-4381-8a11-ae89a3390a51')\"\n",
              "            title=\"Suggest charts\"\n",
              "            style=\"display:none;\">\n",
              "\n",
              "<svg xmlns=\"http://www.w3.org/2000/svg\" height=\"24px\"viewBox=\"0 0 24 24\"\n",
              "     width=\"24px\">\n",
              "    <g>\n",
              "        <path d=\"M19 3H5c-1.1 0-2 .9-2 2v14c0 1.1.9 2 2 2h14c1.1 0 2-.9 2-2V5c0-1.1-.9-2-2-2zM9 17H7v-7h2v7zm4 0h-2V7h2v10zm4 0h-2v-4h2v4z\"/>\n",
              "    </g>\n",
              "</svg>\n",
              "  </button>\n",
              "\n",
              "<style>\n",
              "  .colab-df-quickchart {\n",
              "      --bg-color: #E8F0FE;\n",
              "      --fill-color: #1967D2;\n",
              "      --hover-bg-color: #E2EBFA;\n",
              "      --hover-fill-color: #174EA6;\n",
              "      --disabled-fill-color: #AAA;\n",
              "      --disabled-bg-color: #DDD;\n",
              "  }\n",
              "\n",
              "  [theme=dark] .colab-df-quickchart {\n",
              "      --bg-color: #3B4455;\n",
              "      --fill-color: #D2E3FC;\n",
              "      --hover-bg-color: #434B5C;\n",
              "      --hover-fill-color: #FFFFFF;\n",
              "      --disabled-bg-color: #3B4455;\n",
              "      --disabled-fill-color: #666;\n",
              "  }\n",
              "\n",
              "  .colab-df-quickchart {\n",
              "    background-color: var(--bg-color);\n",
              "    border: none;\n",
              "    border-radius: 50%;\n",
              "    cursor: pointer;\n",
              "    display: none;\n",
              "    fill: var(--fill-color);\n",
              "    height: 32px;\n",
              "    padding: 0;\n",
              "    width: 32px;\n",
              "  }\n",
              "\n",
              "  .colab-df-quickchart:hover {\n",
              "    background-color: var(--hover-bg-color);\n",
              "    box-shadow: 0 1px 2px rgba(60, 64, 67, 0.3), 0 1px 3px 1px rgba(60, 64, 67, 0.15);\n",
              "    fill: var(--button-hover-fill-color);\n",
              "  }\n",
              "\n",
              "  .colab-df-quickchart-complete:disabled,\n",
              "  .colab-df-quickchart-complete:disabled:hover {\n",
              "    background-color: var(--disabled-bg-color);\n",
              "    fill: var(--disabled-fill-color);\n",
              "    box-shadow: none;\n",
              "  }\n",
              "\n",
              "  .colab-df-spinner {\n",
              "    border: 2px solid var(--fill-color);\n",
              "    border-color: transparent;\n",
              "    border-bottom-color: var(--fill-color);\n",
              "    animation:\n",
              "      spin 1s steps(1) infinite;\n",
              "  }\n",
              "\n",
              "  @keyframes spin {\n",
              "    0% {\n",
              "      border-color: transparent;\n",
              "      border-bottom-color: var(--fill-color);\n",
              "      border-left-color: var(--fill-color);\n",
              "    }\n",
              "    20% {\n",
              "      border-color: transparent;\n",
              "      border-left-color: var(--fill-color);\n",
              "      border-top-color: var(--fill-color);\n",
              "    }\n",
              "    30% {\n",
              "      border-color: transparent;\n",
              "      border-left-color: var(--fill-color);\n",
              "      border-top-color: var(--fill-color);\n",
              "      border-right-color: var(--fill-color);\n",
              "    }\n",
              "    40% {\n",
              "      border-color: transparent;\n",
              "      border-right-color: var(--fill-color);\n",
              "      border-top-color: var(--fill-color);\n",
              "    }\n",
              "    60% {\n",
              "      border-color: transparent;\n",
              "      border-right-color: var(--fill-color);\n",
              "    }\n",
              "    80% {\n",
              "      border-color: transparent;\n",
              "      border-right-color: var(--fill-color);\n",
              "      border-bottom-color: var(--fill-color);\n",
              "    }\n",
              "    90% {\n",
              "      border-color: transparent;\n",
              "      border-bottom-color: var(--fill-color);\n",
              "    }\n",
              "  }\n",
              "</style>\n",
              "\n",
              "  <script>\n",
              "    async function quickchart(key) {\n",
              "      const quickchartButtonEl =\n",
              "        document.querySelector('#' + key + ' button');\n",
              "      quickchartButtonEl.disabled = true;  // To prevent multiple clicks.\n",
              "      quickchartButtonEl.classList.add('colab-df-spinner');\n",
              "      try {\n",
              "        const charts = await google.colab.kernel.invokeFunction(\n",
              "            'suggestCharts', [key], {});\n",
              "      } catch (error) {\n",
              "        console.error('Error during call to suggestCharts:', error);\n",
              "      }\n",
              "      quickchartButtonEl.classList.remove('colab-df-spinner');\n",
              "      quickchartButtonEl.classList.add('colab-df-quickchart-complete');\n",
              "    }\n",
              "    (() => {\n",
              "      let quickchartButtonEl =\n",
              "        document.querySelector('#df-f64d588a-49e8-4381-8a11-ae89a3390a51 button');\n",
              "      quickchartButtonEl.style.display =\n",
              "        google.colab.kernel.accessAllowed ? 'block' : 'none';\n",
              "    })();\n",
              "  </script>\n",
              "</div>\n",
              "\n",
              "    </div>\n",
              "  </div>\n"
            ],
            "application/vnd.google.colaboratory.intrinsic+json": {
              "type": "dataframe",
              "variable_name": "df",
              "summary": "{\n  \"name\": \"df\",\n  \"rows\": 59946,\n  \"fields\": [\n    {\n      \"column\": \"combined_preprocessed\",\n      \"properties\": {\n        \"dtype\": \"string\",\n        \"num_unique_values\": 57763,\n        \"samples\": [\n          \"expect say talldarkhandsome work aviation im old soul look young heart mixedrace aka sbm like someone else news need love like anyone else offer long term love return kid love full time aim please give massage without incentive flower every time make smile shoulder rest weary soul piggy back beach tall single humorous love blindjust short sight find intelligence adjust west coast life im east coastas caribbean new york massachusetts flyingfixingfunny stuff height smooth jazz know age lyric memorize love water family friend sea beach boat bird sea air open sky fly last fm httpwwwlastfmlistenartistkarynbwhite ill tell later ill tell later il tell later like quincy jones last albumtrk enjoy last week rainincalifornia\",\n          \"carpe diem live free die grow bay area feel fortunate raise ive live many different city state country love love ocean travel still dream tesla roadster sport quite enamor wmy new swag baby acura tsx love tennis rid bike pilate funny movie bad joke sail spend time friend family also like assemble furniture eat banana thoughtful truculent good health one oldest friend email hang last night share feel describe interest person mix bag crazy fun party yet follow youre like mullet business front party backbut much much stylish must fun work hahahhaa awesome recently finish thesis effect family involvement english language learner selfesteem academic success master education focus equity social justice previously ive elementary school teacher teach literacy accelerationintervention kindergarten rd grade one worst school ca feel bless love position student teacher principal however im almost always work im really site much school im also health advocate environmental liaison start national board certification mentor work kid travel drive stick shift ive also throw good party time think read people well im good get people laugh feel comfortable positive energy im pretty outgo like talk people connect one friend say usually see people strength weakness last guy date say seem good karma choose right thing book bukowski talk pretty one day prophet eat pray love blink chelsea handler horizontal life food mostly food especially smoothy sushi seafood pho good pizza music neon indian mike snow cut copy basement jaxx celso pina gomez manchester orchestra bob dylan joni mitchell danny wild child keane sander kleinenberg big business mo def pavement wilco guster three dog night supertramp bon jovi breakbeat buddha disiz la peste black crow obituary overkill op ivy secret machine morning jacket mia modest mouse system lady sovereign neil young weezer lionel richie lou reed flame lip dire strait mickey avalon build spill bloc party cat stevens cent jawbreaker jimmy cliff journey mana michael jackson pixy pretender spoon vampire weekend mgmt jah cure snoop social distortion tom petty sublime tribe wyclef like music movie idiocracy beer fest zohan blood diamond grandma boy jackass white dragon im watchman f fake tropic thunder family friend ambition ocean sleep laughter water eat fit everything wan na week socially stuff get do travel next cant sleep seem think everything sun think power relation lot change thing better role language perception everyday life lvistrauss call poignancy thing imply faculty communion thing enter moment normal turn like u perishable immortal chris marker hang friend totally vary first foray online date dont seem good site forever dont really use teeth good sense humor meaningful conversation find someone profile think wasnt bad idea warn institution individual use site associate sit study projectsyou permission use info picture profile form forum current future consider violation privacy subject legal ramification recommend member post similar notice\",\n          \"im single dont mind time enjoy around good company mutual affection etc honestly doesnt im fling one night stand relationship kind gal date awhile know look go settle less im open person want know something ask answer anything rare exception dreamy understand rare graduate san francisco state major radio television minor market market manger city talk attorney nationwide really make thing interest another note would like post thing like free time almost anything like go beach love music like kind open learn new band never hear like watch movie wish time money go concert good bbq always plus cant cook ill make deal cook clean negotiable drive around want think clear mind like play pool though good bowl fun caution accident prone want get back photography news updatei would also like try make new friend let know interest thank lot thingscheering people people listen make people laugh somethings say internet lol personality beautiful eyeslet know notice favorite book last book read twilight saga yes know chick like read variety book whatever sound interest time favorite movie movie like everything pretty much really enjoy comedy film like hangover zombieland clerk like anything zombie werewolf vampire thus zombieland interview vampire side note really like tv show true blood must see movie like include star trek star war yes man dumb dumber shawshank redemption could go hour music like variety music sit back relax alternative get party nine inch nail like kind rock time period like trance drum bass kind style acoustical ska metal reggae hip hop rap trance etc nutshell like anything classical jazz rock metal easy listen electronic anything food like almost anything really like american italian mexican chinese indian thai pretty much everything except cant eat anything coconut mushroom shellfish oh chocolate cover strawberry die ultimate weakness besides obvious answer like water food ok thing particular order six family friend music movie love tell person random thing life like life love family friend relationship people work memory travel grape flavor smell way actual grape dont taste smell anything like parent say never take candy stranger halloween someone believe say four billion star check say paint wet could go hang friend go bar karaoke see movie try good time enjoy stay home relax decide whatever sound good moment really hate white chocolate like saw want chat get know better think get know better\"\n        ],\n        \"semantic_type\": \"\",\n        \"description\": \"\"\n      }\n    },\n    {\n      \"column\": \"answered_percent\",\n      \"properties\": {\n        \"dtype\": \"number\",\n        \"std\": 27.988024907441353,\n        \"min\": 0.0,\n        \"max\": 100.0,\n        \"num_unique_values\": 11,\n        \"samples\": [\n          10.0,\n          100.0,\n          20.0\n        ],\n        \"semantic_type\": \"\",\n        \"description\": \"\"\n      }\n    },\n    {\n      \"column\": \"text_length\",\n      \"properties\": {\n        \"dtype\": \"number\",\n        \"std\": 1078,\n        \"min\": 0,\n        \"max\": 44638,\n        \"num_unique_values\": 4899,\n        \"samples\": [\n          5319,\n          3667,\n          412\n        ],\n        \"semantic_type\": \"\",\n        \"description\": \"\"\n      }\n    },\n    {\n      \"column\": \"topic_0_from_five\",\n      \"properties\": {\n        \"dtype\": \"number\",\n        \"std\": 0.38834850801473975,\n        \"min\": 0.0163024865655332,\n        \"max\": 0.9376356429105086,\n        \"num_unique_values\": 57522,\n        \"samples\": [\n          0.022217943590601,\n          0.0269955225835427,\n          0.0239061297022352\n        ],\n        \"semantic_type\": \"\",\n        \"description\": \"\"\n      }\n    },\n    {\n      \"column\": \"topic_1_from_five\",\n      \"properties\": {\n        \"dtype\": \"number\",\n        \"std\": 0.31730284703847744,\n        \"min\": 0.0156682318498346,\n        \"max\": 0.9323378918292876,\n        \"num_unique_values\": 57522,\n        \"samples\": [\n          0.0221375355933002,\n          0.8922838150855213,\n          0.0239451469108101\n        ],\n        \"semantic_type\": \"\",\n        \"description\": \"\"\n      }\n    },\n    {\n      \"column\": \"topic_2_from_five\",\n      \"properties\": {\n        \"dtype\": \"number\",\n        \"std\": 0.31510364077987474,\n        \"min\": 0.0155756752124462,\n        \"max\": 0.9349987563170198,\n        \"num_unique_values\": 57522,\n        \"samples\": [\n          0.0221912570001168,\n          0.0269227154805193,\n          0.0238037973371595\n        ],\n        \"semantic_type\": \"\",\n        \"description\": \"\"\n      }\n    },\n    {\n      \"column\": \"topic_3_from_five\",\n      \"properties\": {\n        \"dtype\": \"number\",\n        \"std\": 0.3009101375362492,\n        \"min\": 0.0155477355429969,\n        \"max\": 0.9263337109186902,\n        \"num_unique_values\": 57522,\n        \"samples\": [\n          0.0222608389545109,\n          0.026940115609631,\n          0.0239070254898112\n        ],\n        \"semantic_type\": \"\",\n        \"description\": \"\"\n      }\n    },\n    {\n      \"column\": \"topic_4_from_five\",\n      \"properties\": {\n        \"dtype\": \"number\",\n        \"std\": 0.3000610168572939,\n        \"min\": 0.0155727144842134,\n        \"max\": 0.931016600357438,\n        \"num_unique_values\": 57522,\n        \"samples\": [\n          0.911192424861471,\n          0.0268578312407855,\n          0.904437900559984\n        ],\n        \"semantic_type\": \"\",\n        \"description\": \"\"\n      }\n    },\n    {\n      \"column\": \"topic_0_from_two\",\n      \"properties\": {\n        \"dtype\": \"number\",\n        \"std\": 0.18564472359436288,\n        \"min\": 0.0669659089357563,\n        \"max\": 0.9167480603120998,\n        \"num_unique_values\": 57522,\n        \"samples\": [\n          0.4779184846448708,\n          0.5332916247333478,\n          0.6137277427084048\n        ],\n        \"semantic_type\": \"\",\n        \"description\": \"\"\n      }\n    },\n    {\n      \"column\": \"topic_1_from_two\",\n      \"properties\": {\n        \"dtype\": \"number\",\n        \"std\": 0.18564472359436288,\n        \"min\": 0.0832519396879002,\n        \"max\": 0.9330340910642436,\n        \"num_unique_values\": 57522,\n        \"samples\": [\n          0.522081515355129,\n          0.4667083752666521,\n          0.3862722572915952\n        ],\n        \"semantic_type\": \"\",\n        \"description\": \"\"\n      }\n    }\n  ]\n}"
            }
          },
          "metadata": {},
          "execution_count": 2
        }
      ],
      "source": [
        "df = pd.read_csv('/content/drive/MyDrive/Colab Notebooks/amooora/raw_data/text_and_topics.csv', keep_default_na=False)\n",
        "df.head()"
      ]
    },
    {
      "cell_type": "markdown",
      "source": [
        "## Let's try out another model"
      ],
      "metadata": {
        "id": "PLDmg4a37w-h"
      },
      "id": "PLDmg4a37w-h"
    },
    {
      "cell_type": "code",
      "source": [
        "!pip install xformers"
      ],
      "metadata": {
        "colab": {
          "base_uri": "https://localhost:8080/",
          "height": 1000
        },
        "id": "D-EUzekb8QRs",
        "outputId": "f1109ae9-2c32-4a7f-e8bd-23cea1937554",
        "collapsed": true
      },
      "id": "D-EUzekb8QRs",
      "execution_count": null,
      "outputs": [
        {
          "output_type": "stream",
          "name": "stdout",
          "text": [
            "Collecting xformers\n",
            "  Downloading xformers-0.0.29.post3-cp311-cp311-manylinux_2_28_x86_64.whl.metadata (1.0 kB)\n",
            "Requirement already satisfied: numpy in /usr/local/lib/python3.11/dist-packages (from xformers) (1.26.4)\n",
            "Collecting torch==2.6.0 (from xformers)\n",
            "  Downloading torch-2.6.0-cp311-cp311-manylinux1_x86_64.whl.metadata (28 kB)\n",
            "Requirement already satisfied: filelock in /usr/local/lib/python3.11/dist-packages (from torch==2.6.0->xformers) (3.17.0)\n",
            "Requirement already satisfied: typing-extensions>=4.10.0 in /usr/local/lib/python3.11/dist-packages (from torch==2.6.0->xformers) (4.12.2)\n",
            "Requirement already satisfied: networkx in /usr/local/lib/python3.11/dist-packages (from torch==2.6.0->xformers) (3.4.2)\n",
            "Requirement already satisfied: jinja2 in /usr/local/lib/python3.11/dist-packages (from torch==2.6.0->xformers) (3.1.5)\n",
            "Requirement already satisfied: fsspec in /usr/local/lib/python3.11/dist-packages (from torch==2.6.0->xformers) (2024.10.0)\n",
            "Collecting nvidia-cuda-nvrtc-cu12==12.4.127 (from torch==2.6.0->xformers)\n",
            "  Downloading nvidia_cuda_nvrtc_cu12-12.4.127-py3-none-manylinux2014_x86_64.whl.metadata (1.5 kB)\n",
            "Collecting nvidia-cuda-runtime-cu12==12.4.127 (from torch==2.6.0->xformers)\n",
            "  Downloading nvidia_cuda_runtime_cu12-12.4.127-py3-none-manylinux2014_x86_64.whl.metadata (1.5 kB)\n",
            "Collecting nvidia-cuda-cupti-cu12==12.4.127 (from torch==2.6.0->xformers)\n",
            "  Downloading nvidia_cuda_cupti_cu12-12.4.127-py3-none-manylinux2014_x86_64.whl.metadata (1.6 kB)\n",
            "Collecting nvidia-cudnn-cu12==9.1.0.70 (from torch==2.6.0->xformers)\n",
            "  Downloading nvidia_cudnn_cu12-9.1.0.70-py3-none-manylinux2014_x86_64.whl.metadata (1.6 kB)\n",
            "Collecting nvidia-cublas-cu12==12.4.5.8 (from torch==2.6.0->xformers)\n",
            "  Downloading nvidia_cublas_cu12-12.4.5.8-py3-none-manylinux2014_x86_64.whl.metadata (1.5 kB)\n",
            "Collecting nvidia-cufft-cu12==11.2.1.3 (from torch==2.6.0->xformers)\n",
            "  Downloading nvidia_cufft_cu12-11.2.1.3-py3-none-manylinux2014_x86_64.whl.metadata (1.5 kB)\n",
            "Collecting nvidia-curand-cu12==10.3.5.147 (from torch==2.6.0->xformers)\n",
            "  Downloading nvidia_curand_cu12-10.3.5.147-py3-none-manylinux2014_x86_64.whl.metadata (1.5 kB)\n",
            "Collecting nvidia-cusolver-cu12==11.6.1.9 (from torch==2.6.0->xformers)\n",
            "  Downloading nvidia_cusolver_cu12-11.6.1.9-py3-none-manylinux2014_x86_64.whl.metadata (1.6 kB)\n",
            "Collecting nvidia-cusparse-cu12==12.3.1.170 (from torch==2.6.0->xformers)\n",
            "  Downloading nvidia_cusparse_cu12-12.3.1.170-py3-none-manylinux2014_x86_64.whl.metadata (1.6 kB)\n",
            "Collecting nvidia-cusparselt-cu12==0.6.2 (from torch==2.6.0->xformers)\n",
            "  Downloading nvidia_cusparselt_cu12-0.6.2-py3-none-manylinux2014_x86_64.whl.metadata (6.8 kB)\n",
            "Requirement already satisfied: nvidia-nccl-cu12==2.21.5 in /usr/local/lib/python3.11/dist-packages (from torch==2.6.0->xformers) (2.21.5)\n",
            "Requirement already satisfied: nvidia-nvtx-cu12==12.4.127 in /usr/local/lib/python3.11/dist-packages (from torch==2.6.0->xformers) (12.4.127)\n",
            "Collecting nvidia-nvjitlink-cu12==12.4.127 (from torch==2.6.0->xformers)\n",
            "  Downloading nvidia_nvjitlink_cu12-12.4.127-py3-none-manylinux2014_x86_64.whl.metadata (1.5 kB)\n",
            "Collecting triton==3.2.0 (from torch==2.6.0->xformers)\n",
            "  Downloading triton-3.2.0-cp311-cp311-manylinux_2_17_x86_64.manylinux2014_x86_64.whl.metadata (1.4 kB)\n",
            "Requirement already satisfied: sympy==1.13.1 in /usr/local/lib/python3.11/dist-packages (from torch==2.6.0->xformers) (1.13.1)\n",
            "Requirement already satisfied: mpmath<1.4,>=1.1.0 in /usr/local/lib/python3.11/dist-packages (from sympy==1.13.1->torch==2.6.0->xformers) (1.3.0)\n",
            "Requirement already satisfied: MarkupSafe>=2.0 in /usr/local/lib/python3.11/dist-packages (from jinja2->torch==2.6.0->xformers) (3.0.2)\n",
            "Downloading xformers-0.0.29.post3-cp311-cp311-manylinux_2_28_x86_64.whl (43.4 MB)\n",
            "\u001b[2K   \u001b[90m━━━━━━━━━━━━━━━━━━━━━━━━━━━━━━━━━━━━━━━━\u001b[0m \u001b[32m43.4/43.4 MB\u001b[0m \u001b[31m52.0 MB/s\u001b[0m eta \u001b[36m0:00:00\u001b[0m\n",
            "\u001b[?25hDownloading torch-2.6.0-cp311-cp311-manylinux1_x86_64.whl (766.7 MB)\n",
            "\u001b[2K   \u001b[90m━━━━━━━━━━━━━━━━━━━━━━━━━━━━━━━━━━━━━━━━\u001b[0m \u001b[32m766.7/766.7 MB\u001b[0m \u001b[31m2.2 MB/s\u001b[0m eta \u001b[36m0:00:00\u001b[0m\n",
            "\u001b[?25hDownloading nvidia_cublas_cu12-12.4.5.8-py3-none-manylinux2014_x86_64.whl (363.4 MB)\n",
            "\u001b[2K   \u001b[90m━━━━━━━━━━━━━━━━━━━━━━━━━━━━━━━━━━━━━━━━\u001b[0m \u001b[32m363.4/363.4 MB\u001b[0m \u001b[31m2.9 MB/s\u001b[0m eta \u001b[36m0:00:00\u001b[0m\n",
            "\u001b[?25hDownloading nvidia_cuda_cupti_cu12-12.4.127-py3-none-manylinux2014_x86_64.whl (13.8 MB)\n",
            "\u001b[2K   \u001b[90m━━━━━━━━━━━━━━━━━━━━━━━━━━━━━━━━━━━━━━━━\u001b[0m \u001b[32m13.8/13.8 MB\u001b[0m \u001b[31m108.3 MB/s\u001b[0m eta \u001b[36m0:00:00\u001b[0m\n",
            "\u001b[?25hDownloading nvidia_cuda_nvrtc_cu12-12.4.127-py3-none-manylinux2014_x86_64.whl (24.6 MB)\n",
            "\u001b[2K   \u001b[90m━━━━━━━━━━━━━━━━━━━━━━━━━━━━━━━━━━━━━━━━\u001b[0m \u001b[32m24.6/24.6 MB\u001b[0m \u001b[31m85.9 MB/s\u001b[0m eta \u001b[36m0:00:00\u001b[0m\n",
            "\u001b[?25hDownloading nvidia_cuda_runtime_cu12-12.4.127-py3-none-manylinux2014_x86_64.whl (883 kB)\n",
            "\u001b[2K   \u001b[90m━━━━━━━━━━━━━━━━━━━━━━━━━━━━━━━━━━━━━━━━\u001b[0m \u001b[32m883.7/883.7 kB\u001b[0m \u001b[31m45.4 MB/s\u001b[0m eta \u001b[36m0:00:00\u001b[0m\n",
            "\u001b[?25hDownloading nvidia_cudnn_cu12-9.1.0.70-py3-none-manylinux2014_x86_64.whl (664.8 MB)\n",
            "\u001b[2K   \u001b[90m━━━━━━━━━━━━━━━━━━━━━━━━━━━━━━━━━━━━━━━━\u001b[0m \u001b[32m664.8/664.8 MB\u001b[0m \u001b[31m2.2 MB/s\u001b[0m eta \u001b[36m0:00:00\u001b[0m\n",
            "\u001b[?25hDownloading nvidia_cufft_cu12-11.2.1.3-py3-none-manylinux2014_x86_64.whl (211.5 MB)\n",
            "\u001b[2K   \u001b[90m━━━━━━━━━━━━━━━━━━━━━━━━━━━━━━━━━━━━━━━━\u001b[0m \u001b[32m211.5/211.5 MB\u001b[0m \u001b[31m4.8 MB/s\u001b[0m eta \u001b[36m0:00:00\u001b[0m\n",
            "\u001b[?25hDownloading nvidia_curand_cu12-10.3.5.147-py3-none-manylinux2014_x86_64.whl (56.3 MB)\n",
            "\u001b[2K   \u001b[90m━━━━━━━━━━━━━━━━━━━━━━━━━━━━━━━━━━━━━━━━\u001b[0m \u001b[32m56.3/56.3 MB\u001b[0m \u001b[31m40.8 MB/s\u001b[0m eta \u001b[36m0:00:00\u001b[0m\n",
            "\u001b[?25hDownloading nvidia_cusolver_cu12-11.6.1.9-py3-none-manylinux2014_x86_64.whl (127.9 MB)\n",
            "\u001b[2K   \u001b[90m━━━━━━━━━━━━━━━━━━━━━━━━━━━━━━━━━━━━━━━━\u001b[0m \u001b[32m127.9/127.9 MB\u001b[0m \u001b[31m18.6 MB/s\u001b[0m eta \u001b[36m0:00:00\u001b[0m\n",
            "\u001b[?25hDownloading nvidia_cusparse_cu12-12.3.1.170-py3-none-manylinux2014_x86_64.whl (207.5 MB)\n",
            "\u001b[2K   \u001b[90m━━━━━━━━━━━━━━━━━━━━━━━━━━━━━━━━━━━━━━━━\u001b[0m \u001b[32m207.5/207.5 MB\u001b[0m \u001b[31m4.9 MB/s\u001b[0m eta \u001b[36m0:00:00\u001b[0m\n",
            "\u001b[?25hDownloading nvidia_cusparselt_cu12-0.6.2-py3-none-manylinux2014_x86_64.whl (150.1 MB)\n",
            "\u001b[2K   \u001b[90m━━━━━━━━━━━━━━━━━━━━━━━━━━━━━━━━━━━━━━━━\u001b[0m \u001b[32m150.1/150.1 MB\u001b[0m \u001b[31m7.8 MB/s\u001b[0m eta \u001b[36m0:00:00\u001b[0m\n",
            "\u001b[?25hDownloading nvidia_nvjitlink_cu12-12.4.127-py3-none-manylinux2014_x86_64.whl (21.1 MB)\n",
            "\u001b[2K   \u001b[90m━━━━━━━━━━━━━━━━━━━━━━━━━━━━━━━━━━━━━━━━\u001b[0m \u001b[32m21.1/21.1 MB\u001b[0m \u001b[31m97.5 MB/s\u001b[0m eta \u001b[36m0:00:00\u001b[0m\n",
            "\u001b[?25hDownloading triton-3.2.0-cp311-cp311-manylinux_2_17_x86_64.manylinux2014_x86_64.whl (253.2 MB)\n",
            "\u001b[2K   \u001b[90m━━━━━━━━━━━━━━━━━━━━━━━━━━━━━━━━━━━━━━━━\u001b[0m \u001b[32m253.2/253.2 MB\u001b[0m \u001b[31m3.5 MB/s\u001b[0m eta \u001b[36m0:00:00\u001b[0m\n",
            "\u001b[?25hInstalling collected packages: triton, nvidia-cusparselt-cu12, nvidia-nvjitlink-cu12, nvidia-curand-cu12, nvidia-cufft-cu12, nvidia-cuda-runtime-cu12, nvidia-cuda-nvrtc-cu12, nvidia-cuda-cupti-cu12, nvidia-cublas-cu12, nvidia-cusparse-cu12, nvidia-cudnn-cu12, nvidia-cusolver-cu12, torch, xformers\n",
            "  Attempting uninstall: triton\n",
            "    Found existing installation: triton 3.1.0\n",
            "    Uninstalling triton-3.1.0:\n",
            "      Successfully uninstalled triton-3.1.0\n",
            "  Attempting uninstall: nvidia-nvjitlink-cu12\n",
            "    Found existing installation: nvidia-nvjitlink-cu12 12.5.82\n",
            "    Uninstalling nvidia-nvjitlink-cu12-12.5.82:\n",
            "      Successfully uninstalled nvidia-nvjitlink-cu12-12.5.82\n",
            "  Attempting uninstall: nvidia-curand-cu12\n",
            "    Found existing installation: nvidia-curand-cu12 10.3.6.82\n",
            "    Uninstalling nvidia-curand-cu12-10.3.6.82:\n",
            "      Successfully uninstalled nvidia-curand-cu12-10.3.6.82\n",
            "  Attempting uninstall: nvidia-cufft-cu12\n",
            "    Found existing installation: nvidia-cufft-cu12 11.2.3.61\n",
            "    Uninstalling nvidia-cufft-cu12-11.2.3.61:\n",
            "      Successfully uninstalled nvidia-cufft-cu12-11.2.3.61\n",
            "  Attempting uninstall: nvidia-cuda-runtime-cu12\n",
            "    Found existing installation: nvidia-cuda-runtime-cu12 12.5.82\n",
            "    Uninstalling nvidia-cuda-runtime-cu12-12.5.82:\n",
            "      Successfully uninstalled nvidia-cuda-runtime-cu12-12.5.82\n",
            "  Attempting uninstall: nvidia-cuda-nvrtc-cu12\n",
            "    Found existing installation: nvidia-cuda-nvrtc-cu12 12.5.82\n",
            "    Uninstalling nvidia-cuda-nvrtc-cu12-12.5.82:\n",
            "      Successfully uninstalled nvidia-cuda-nvrtc-cu12-12.5.82\n",
            "  Attempting uninstall: nvidia-cuda-cupti-cu12\n",
            "    Found existing installation: nvidia-cuda-cupti-cu12 12.5.82\n",
            "    Uninstalling nvidia-cuda-cupti-cu12-12.5.82:\n",
            "      Successfully uninstalled nvidia-cuda-cupti-cu12-12.5.82\n",
            "  Attempting uninstall: nvidia-cublas-cu12\n",
            "    Found existing installation: nvidia-cublas-cu12 12.5.3.2\n",
            "    Uninstalling nvidia-cublas-cu12-12.5.3.2:\n",
            "      Successfully uninstalled nvidia-cublas-cu12-12.5.3.2\n",
            "  Attempting uninstall: nvidia-cusparse-cu12\n",
            "    Found existing installation: nvidia-cusparse-cu12 12.5.1.3\n",
            "    Uninstalling nvidia-cusparse-cu12-12.5.1.3:\n",
            "      Successfully uninstalled nvidia-cusparse-cu12-12.5.1.3\n",
            "  Attempting uninstall: nvidia-cudnn-cu12\n",
            "    Found existing installation: nvidia-cudnn-cu12 9.3.0.75\n",
            "    Uninstalling nvidia-cudnn-cu12-9.3.0.75:\n",
            "      Successfully uninstalled nvidia-cudnn-cu12-9.3.0.75\n",
            "  Attempting uninstall: nvidia-cusolver-cu12\n",
            "    Found existing installation: nvidia-cusolver-cu12 11.6.3.83\n",
            "    Uninstalling nvidia-cusolver-cu12-11.6.3.83:\n",
            "      Successfully uninstalled nvidia-cusolver-cu12-11.6.3.83\n",
            "  Attempting uninstall: torch\n",
            "    Found existing installation: torch 2.5.1+cu124\n",
            "    Uninstalling torch-2.5.1+cu124:\n",
            "      Successfully uninstalled torch-2.5.1+cu124\n",
            "\u001b[31mERROR: pip's dependency resolver does not currently take into account all the packages that are installed. This behaviour is the source of the following dependency conflicts.\n",
            "torchvision 0.20.1+cu124 requires torch==2.5.1, but you have torch 2.6.0 which is incompatible.\n",
            "torchaudio 2.5.1+cu124 requires torch==2.5.1, but you have torch 2.6.0 which is incompatible.\n",
            "fastai 2.7.18 requires torch<2.6,>=1.10, but you have torch 2.6.0 which is incompatible.\u001b[0m\u001b[31m\n",
            "\u001b[0mSuccessfully installed nvidia-cublas-cu12-12.4.5.8 nvidia-cuda-cupti-cu12-12.4.127 nvidia-cuda-nvrtc-cu12-12.4.127 nvidia-cuda-runtime-cu12-12.4.127 nvidia-cudnn-cu12-9.1.0.70 nvidia-cufft-cu12-11.2.1.3 nvidia-curand-cu12-10.3.5.147 nvidia-cusolver-cu12-11.6.1.9 nvidia-cusparse-cu12-12.3.1.170 nvidia-cusparselt-cu12-0.6.2 nvidia-nvjitlink-cu12-12.4.127 torch-2.6.0 triton-3.2.0 xformers-0.0.29.post3\n"
          ]
        },
        {
          "output_type": "display_data",
          "data": {
            "application/vnd.colab-display-data+json": {
              "pip_warning": {
                "packages": [
                  "torch",
                  "torchgen",
                  "triton"
                ]
              },
              "id": "a9fcb2da346f4a42ae44a17af1f22aca"
            }
          },
          "metadata": {}
        }
      ]
    },
    {
      "cell_type": "markdown",
      "source": [
        "### Load model from HuggingFace"
      ],
      "metadata": {
        "id": "R0aJgPFD-sYA"
      },
      "id": "R0aJgPFD-sYA"
    },
    {
      "cell_type": "code",
      "source": [
        "from transformers import AutoTokenizer, AutoModelForSequenceClassification\n",
        "\n",
        "tokenizer = AutoTokenizer.from_pretrained(\"WebOrganizer/TopicClassifier-NoURL\")\n",
        "model = AutoModelForSequenceClassification.from_pretrained(\n",
        "    \"WebOrganizer/TopicClassifier-NoURL\",\n",
        "    trust_remote_code=True,\n",
        "    use_memory_efficient_attention=False)"
      ],
      "metadata": {
        "id": "HXpAvwc571CI",
        "colab": {
          "base_uri": "https://localhost:8080/"
        },
        "outputId": "84774847-87e4-45ee-b653-7e436a801968"
      },
      "id": "HXpAvwc571CI",
      "execution_count": null,
      "outputs": [
        {
          "output_type": "stream",
          "name": "stderr",
          "text": [
            "/usr/local/lib/python3.11/dist-packages/huggingface_hub/utils/_auth.py:94: UserWarning: \n",
            "The secret `HF_TOKEN` does not exist in your Colab secrets.\n",
            "To authenticate with the Hugging Face Hub, create a token in your settings tab (https://huggingface.co/settings/tokens), set it as secret in your Google Colab and restart your session.\n",
            "You will be able to reuse this secret in all of your notebooks.\n",
            "Please note that authentication is recommended but still optional to access public models or datasets.\n",
            "  warnings.warn(\n"
          ]
        }
      ]
    },
    {
      "cell_type": "code",
      "source": [
        "# # Use a pipeline as a high-level helper\n",
        "# from transformers import pipeline\n",
        "\n",
        "# pipe = pipeline(\"text-classification\", model=\"WebOrganizer/TopicClassifier-NoURL\", trust_remote_code=True)"
      ],
      "metadata": {
        "colab": {
          "base_uri": "https://localhost:8080/"
        },
        "id": "wlozWWwIVdeW",
        "outputId": "e41ad24b-3edd-4104-dedc-87e301f2e05d"
      },
      "id": "wlozWWwIVdeW",
      "execution_count": null,
      "outputs": [
        {
          "output_type": "stream",
          "name": "stderr",
          "text": [
            "/usr/local/lib/python3.11/dist-packages/huggingface_hub/utils/_auth.py:94: UserWarning: \n",
            "The secret `HF_TOKEN` does not exist in your Colab secrets.\n",
            "To authenticate with the Hugging Face Hub, create a token in your settings tab (https://huggingface.co/settings/tokens), set it as secret in your Google Colab and restart your session.\n",
            "You will be able to reuse this secret in all of your notebooks.\n",
            "Please note that authentication is recommended but still optional to access public models or datasets.\n",
            "  warnings.warn(\n",
            "WARNING:transformers_modules.WebOrganizer.TopicClassifier-NoURL.8f60a8f97177f5664a81ad1c2789412fbb38351d.modeling:Override attn_implementation='sdpa' to 'eager' as use_memory_efficient_attention=True\n",
            "Device set to use cuda:0\n"
          ]
        }
      ]
    },
    {
      "cell_type": "markdown",
      "source": [
        "### Get two text to try out"
      ],
      "metadata": {
        "id": "7CVO7ueQ-ycv"
      },
      "id": "7CVO7ueQ-ycv"
    },
    {
      "cell_type": "code",
      "source": [
        "text_one = df.iloc[0:2].combined_preprocessed"
      ],
      "metadata": {
        "id": "oCHnaFqA8FgO"
      },
      "id": "oCHnaFqA8FgO",
      "execution_count": null,
      "outputs": []
    },
    {
      "cell_type": "code",
      "source": [
        "text_one.values"
      ],
      "metadata": {
        "colab": {
          "base_uri": "https://localhost:8080/"
        },
        "id": "z46V8b3n_yqs",
        "outputId": "7cc39cf5-d5d4-42da-896c-9409a651146d"
      },
      "id": "z46V8b3n_yqs",
      "execution_count": null,
      "outputs": [
        {
          "output_type": "execute_result",
          "data": {
            "text/plain": [
              "array(['would love think kind intellectual either dumbest smart guy smartest dumb guy cant say tell difference love talk idea concept forge odd metaphor instead recite cliche like simularities friend mine house underwater salt mine favorite word salt way weird choice know thing life better metaphor seek make little better everyday productively lazy way get tire tie shoe consider hire five year old would probably tie shoe decide wear leather shoe dress shoe love really serious really deep conversation really silly stuff will snap light hearted rant kiss dont funny able make laugh able bend spoon mind telepathically make smile still work love life cool let wind blow extra point read guess favorite video game hint give yet lastly good attention span currently work international agent freight forward company import export domestic know work online class try better free time perhaps hour worth good book video game lazy sunday make people laugh rant good salt find simplicity complexity complexity simplicity way look six foot half asian half caucasian mutt make tough notice blend book absurdistan republic mouse men book make want cry catcher rye prince movie gladiator operation valkyrie producer periscope show borgia arrest development game throne monty python music aesop rock hail mary mallon george thorogood delaware destroyer felt food im anything food water cell phone shelter duality humorous thing try find someone hang anything except club new california look someone wisper secret want sweep foot tire norm want catch coffee bite want talk philosophy',\n",
              "       'chef mean workaholic love cook regardless whether work love drink eat food probably really bad love around people resemble line love outdoors avid skier snow tahoe least confident friendly im interest act typical guy time patience rediculous act territorial piss overall likable easygoing individual adventurous always look forward new thing hopefully share right person dedicate everyday unbelievable badass silly ridiculous amonts fun wherever smart as ohh cook die hard christopher moore fan dont really watch lot tv unless humor involve kind stick alternative music pretty much fan everything though need draw line type electronica delicious porkness glory big as doughboy sink new inch overly resilient liver good sharp knife p play blurays top energy outlook life give bag lemon see happen open share anything'],\n",
              "      dtype=object)"
            ]
          },
          "metadata": {},
          "execution_count": 5
        }
      ]
    },
    {
      "cell_type": "markdown",
      "source": [
        "### Call model to predict label"
      ],
      "metadata": {
        "id": "g2WhUfoj-0jz"
      },
      "id": "g2WhUfoj-0jz"
    },
    {
      "cell_type": "code",
      "source": [
        "inputs = tokenizer(list(text_one.values), return_tensors=\"pt\", padding=True, truncation=True)\n",
        "outputs = model(**inputs)\n",
        "\n",
        "probs = outputs.logits.softmax(dim=-1)\n",
        "print(probs.argmax(dim=-1))"
      ],
      "metadata": {
        "colab": {
          "base_uri": "https://localhost:8080/"
        },
        "id": "QgTj6lZW9kgz",
        "outputId": "5f9d649e-432a-4c24-ac51-028d922139d4"
      },
      "id": "QgTj6lZW9kgz",
      "execution_count": null,
      "outputs": [
        {
          "output_type": "stream",
          "name": "stdout",
          "text": [
            "tensor([7, 7])\n"
          ]
        }
      ]
    },
    {
      "cell_type": "markdown",
      "source": [
        "### Get label predicted"
      ],
      "metadata": {
        "id": "r3NbgO-v-4UC"
      },
      "id": "r3NbgO-v-4UC"
    },
    {
      "cell_type": "code",
      "source": [
        "label_id = probs.argmax(dim=-1)"
      ],
      "metadata": {
        "id": "oWBs0BdY-B7U"
      },
      "id": "oWBs0BdY-B7U",
      "execution_count": null,
      "outputs": []
    },
    {
      "cell_type": "code",
      "source": [
        "label_id.tolist()"
      ],
      "metadata": {
        "colab": {
          "base_uri": "https://localhost:8080/"
        },
        "id": "NcQVnUBZ8O4g",
        "outputId": "2fb7f6a2-b91f-43b1-bade-9c586b872c04"
      },
      "id": "NcQVnUBZ8O4g",
      "execution_count": null,
      "outputs": [
        {
          "output_type": "execute_result",
          "data": {
            "text/plain": [
              "[7, 7]"
            ]
          },
          "metadata": {},
          "execution_count": 8
        }
      ]
    },
    {
      "cell_type": "markdown",
      "source": [
        "### Read model labels"
      ],
      "metadata": {
        "id": "skuGBbt5-9kb"
      },
      "id": "skuGBbt5-9kb"
    },
    {
      "cell_type": "code",
      "source": [
        "model.config.id2label"
      ],
      "metadata": {
        "colab": {
          "base_uri": "https://localhost:8080/"
        },
        "id": "czfjsOEZ-m1g",
        "outputId": "760210d0-a12e-4094-eb46-00fb90ecb706"
      },
      "id": "czfjsOEZ-m1g",
      "execution_count": null,
      "outputs": [
        {
          "output_type": "execute_result",
          "data": {
            "text/plain": [
              "{0: 'Adult',\n",
              " 1: 'Art & Design',\n",
              " 10: 'Food & Dining',\n",
              " 11: 'Games',\n",
              " 12: 'Health',\n",
              " 13: 'History',\n",
              " 14: 'Home & Hobbies',\n",
              " 15: 'Industrial',\n",
              " 16: 'Literature',\n",
              " 17: 'Politics',\n",
              " 18: 'Religion',\n",
              " 19: 'Science & Tech.',\n",
              " 2: 'Software Dev.',\n",
              " 20: 'Software',\n",
              " 21: 'Sports & Fitness',\n",
              " 22: 'Transportation',\n",
              " 23: 'Travel',\n",
              " 3: 'Crime & Law',\n",
              " 4: 'Education & Jobs',\n",
              " 5: 'Hardware',\n",
              " 6: 'Entertainment',\n",
              " 7: 'Social Life',\n",
              " 8: 'Fashion & Beauty',\n",
              " 9: 'Finance & Business'}"
            ]
          },
          "metadata": {},
          "execution_count": 9
        }
      ]
    },
    {
      "cell_type": "markdown",
      "source": [
        "### Predicted label for one text"
      ],
      "metadata": {
        "id": "vZvOIx_M_AlU"
      },
      "id": "vZvOIx_M_AlU"
    },
    {
      "cell_type": "code",
      "source": [
        "model.config.id2label[label_id.item()]"
      ],
      "metadata": {
        "colab": {
          "base_uri": "https://localhost:8080/",
          "height": 146
        },
        "id": "jIEA3K3y9QIH",
        "outputId": "bcf39769-fb3f-43e7-dd71-2a6d7ff7defb"
      },
      "id": "jIEA3K3y9QIH",
      "execution_count": null,
      "outputs": [
        {
          "output_type": "error",
          "ename": "RuntimeError",
          "evalue": "a Tensor with 2 elements cannot be converted to Scalar",
          "traceback": [
            "\u001b[0;31m---------------------------------------------------------------------------\u001b[0m",
            "\u001b[0;31mRuntimeError\u001b[0m                              Traceback (most recent call last)",
            "\u001b[0;32m<ipython-input-10-4c5cb9f71e86>\u001b[0m in \u001b[0;36m<cell line: 0>\u001b[0;34m()\u001b[0m\n\u001b[0;32m----> 1\u001b[0;31m \u001b[0mmodel\u001b[0m\u001b[0;34m.\u001b[0m\u001b[0mconfig\u001b[0m\u001b[0;34m.\u001b[0m\u001b[0mid2label\u001b[0m\u001b[0;34m[\u001b[0m\u001b[0mlabel_id\u001b[0m\u001b[0;34m.\u001b[0m\u001b[0mitem\u001b[0m\u001b[0;34m(\u001b[0m\u001b[0;34m)\u001b[0m\u001b[0;34m]\u001b[0m\u001b[0;34m\u001b[0m\u001b[0;34m\u001b[0m\u001b[0m\n\u001b[0m",
            "\u001b[0;31mRuntimeError\u001b[0m: a Tensor with 2 elements cannot be converted to Scalar"
          ]
        }
      ]
    },
    {
      "cell_type": "code",
      "source": [
        "for lbl in label_id:\n",
        "    print(model.config.id2label[lbl.item()])"
      ],
      "metadata": {
        "colab": {
          "base_uri": "https://localhost:8080/"
        },
        "id": "eUfne4K2XzYP",
        "outputId": "426557d4-a601-4203-9cd9-f5fdf7cbf605"
      },
      "id": "eUfne4K2XzYP",
      "execution_count": null,
      "outputs": [
        {
          "output_type": "stream",
          "name": "stdout",
          "text": [
            "Social Life\n",
            "Social Life\n"
          ]
        }
      ]
    },
    {
      "cell_type": "markdown",
      "source": [
        "### Predicting 300 texts"
      ],
      "metadata": {
        "id": "V9z8mgyGY63x"
      },
      "id": "V9z8mgyGY63x"
    },
    {
      "cell_type": "code",
      "source": [
        "%%time\n",
        "\n",
        "three_hundred_texts = df.iloc[:300]\n",
        "three_hundred_texts.shape"
      ],
      "metadata": {
        "colab": {
          "base_uri": "https://localhost:8080/"
        },
        "id": "xc4GkH-1Y5K3",
        "outputId": "0e32356f-08cf-4237-f5ce-456cb3f489ea"
      },
      "id": "xc4GkH-1Y5K3",
      "execution_count": null,
      "outputs": [
        {
          "output_type": "stream",
          "name": "stdout",
          "text": [
            "CPU times: user 179 µs, sys: 0 ns, total: 179 µs\n",
            "Wall time: 183 µs\n"
          ]
        },
        {
          "output_type": "execute_result",
          "data": {
            "text/plain": [
              "(300, 10)"
            ]
          },
          "metadata": {},
          "execution_count": 3
        }
      ]
    },
    {
      "cell_type": "code",
      "source": [
        "multiple_texts = three_hundred_texts.combined_preprocessed.values.tolist()"
      ],
      "metadata": {
        "id": "E9RV_cXwZIKF"
      },
      "id": "E9RV_cXwZIKF",
      "execution_count": null,
      "outputs": []
    },
    {
      "cell_type": "markdown",
      "source": [
        "### Predicting all texts"
      ],
      "metadata": {
        "id": "Vv9oQKXZ_Enw"
      },
      "id": "Vv9oQKXZ_Enw"
    },
    {
      "cell_type": "markdown",
      "source": [
        "criar funcao com os passos\n",
        "e aplicar no for loop com iloc andando de chunksize em chunksize\n",
        "\n",
        "Rodar O modelo e depois fazer um pca para criar menos topicos ao inves de 36\n"
      ],
      "metadata": {
        "id": "9rHHQa5YyBzl"
      },
      "id": "9rHHQa5YyBzl"
    },
    {
      "cell_type": "code",
      "source": [
        "from transformers import AutoTokenizer, AutoModelForSequenceClassification"
      ],
      "metadata": {
        "id": "7Xxat5w9AsxU"
      },
      "id": "7Xxat5w9AsxU",
      "execution_count": null,
      "outputs": []
    },
    {
      "cell_type": "code",
      "source": [
        "# # Load tokenizer and model once (outside the loop to save memory)\n",
        "# tokenizer = AutoTokenizer.from_pretrained(\"WebOrganizer/TopicClassifier-NoURL\")\n",
        "# model = AutoModelForSequenceClassification.from_pretrained(\n",
        "#     \"WebOrganizer/TopicClassifier-NoURL\",\n",
        "#     trust_remote_code=True,\n",
        "#     use_memory_efficient_attention=False\n",
        "# )\n",
        "\n",
        "device = \"cuda\" if torch.cuda.is_available() else \"cpu\"  # Check if GPU is available\n",
        "\n",
        "tokenizer = AutoTokenizer.from_pretrained(\"WebOrganizer/TopicClassifier-NoURL\")\n",
        "model = AutoModelForSequenceClassification.from_pretrained(\n",
        "    \"WebOrganizer/TopicClassifier-NoURL\",\n",
        "    trust_remote_code=True,\n",
        "    use_memory_efficient_attention=False\n",
        ").to(device)  # Move model to GPU"
      ],
      "metadata": {
        "id": "GbygqR7G9yGU"
      },
      "id": "GbygqR7G9yGU",
      "execution_count": null,
      "outputs": []
    },
    {
      "cell_type": "code",
      "source": [
        "def compute_labels(texts):\n",
        "    \"\"\"Return the predicted label for multiple texts.\"\"\"\n",
        "\n",
        "    # Tokenization with padding/truncation and move tensors to GPU\n",
        "    inputs = tokenizer(texts, return_tensors=\"pt\", padding=True, truncation=True, max_length=512)\n",
        "    inputs = {k: v.to(device) for k, v in inputs.items()}  # Move input tensors to GPU\n",
        "\n",
        "    # Run model\n",
        "    with torch.no_grad():  # Disable gradient calculation for inference (saves memory)\n",
        "        outputs = model(**inputs)\n",
        "\n",
        "    # Convert to probabilities\n",
        "    probs = outputs.logits.softmax(dim=-1)\n",
        "\n",
        "    # Get predicted labels\n",
        "    predicted_labels = probs.argmax(dim=-1).tolist()\n",
        "    print(predicted_labels)\n",
        "    return predicted_labels\n"
      ],
      "metadata": {
        "id": "qEOfXROyXRMV"
      },
      "id": "qEOfXROyXRMV",
      "execution_count": null,
      "outputs": []
    },
    {
      "cell_type": "code",
      "source": [
        "%%time\n",
        "# Load dataset in chunks\n",
        "chunk_size = 300\n",
        "chunks = pd.read_csv(\n",
        "    '/content/drive/MyDrive/Colab Notebooks/amooora/raw_data/text_and_topics.csv',\n",
        "    keep_default_na=False,\n",
        "    chunksize=chunk_size)\n",
        "\n",
        "# Store predictions\n",
        "predictions = []\n",
        "\n",
        "for chunk in chunks:\n",
        "    texts = chunk[\"combined_preprocessed\"].values.tolist()\n",
        "    chunk_predictions = compute_labels(texts)\n",
        "    predictions.extend(chunk_predictions)"
      ],
      "metadata": {
        "id": "KbLpXIOjXS9K",
        "colab": {
          "base_uri": "https://localhost:8080/"
        },
        "outputId": "e02563bf-dcb6-4714-cfb0-54770e6b6627"
      },
      "id": "KbLpXIOjXS9K",
      "execution_count": null,
      "outputs": [
        {
          "output_type": "stream",
          "name": "stdout",
          "text": [
            "[7, 7, 7, 6, 7, 7, 16, 7, 7, 7, 7, 7, 0, 14, 7, 7, 7, 7, 7, 7, 7, 7, 7, 7, 7, 7, 7, 7, 7, 7, 7, 7, 7, 7, 7, 16, 23, 7, 7, 7, 7, 7, 6, 7, 7, 7, 16, 7, 0, 7, 7, 14, 7, 7, 7, 7, 7, 7, 8, 7, 7, 7, 7, 7, 14, 7, 7, 7, 16, 6, 7, 7, 4, 7, 7, 7, 6, 7, 7, 7, 14, 7, 7, 7, 14, 7, 7, 7, 7, 7, 8, 7, 0, 7, 7, 7, 6, 7, 6, 7, 7, 7, 7, 7, 7, 7, 7, 7, 7, 7, 7, 7, 7, 7, 7, 16, 7, 16, 7, 7, 7, 7, 7, 6, 7, 0, 11, 7, 7, 7, 0, 7, 7, 18, 4, 7, 7, 7, 7, 7, 7, 7, 7, 7, 16, 7, 0, 7, 7, 7, 7, 10, 7, 7, 7, 7, 7, 7, 7, 7, 7, 7, 7, 7, 7, 10, 7, 7, 7, 23, 7, 7, 7, 7, 7, 14, 7, 7, 7, 7, 7, 7, 7, 12, 7, 7, 14, 7, 7, 7, 7, 7, 7, 7, 7, 7, 7, 7, 7, 7, 0, 7, 7, 7, 7, 16, 7, 7, 7, 7, 7, 7, 7, 7, 7, 7, 6, 7, 7, 7, 7, 7, 14, 7, 7, 7, 0, 7, 7, 7, 7, 7, 7, 7, 7, 7, 7, 7, 4, 7, 7, 7, 7, 6, 7, 7, 7, 7, 7, 7, 6, 6, 7, 7, 6, 7, 7, 7, 7, 7, 7, 7, 7, 7, 7, 7, 7, 7, 7, 7, 7, 7, 16, 7, 6, 7, 7, 7, 7, 7, 6, 7, 7, 7, 7, 7, 6, 7, 7, 7, 7, 6, 7, 7, 16, 7, 7, 7, 7, 7]\n",
            "[7, 7, 7, 7, 7, 7, 7, 7, 7, 7, 7, 7, 7, 7, 7, 7, 7, 7, 7, 7, 7, 7, 6, 7, 7, 7, 7, 7, 7, 7, 7, 7, 7, 7, 7, 7, 7, 7, 7, 7, 6, 16, 7, 7, 7, 6, 7, 7, 7, 7, 16, 7, 7, 7, 7, 7, 6, 14, 14, 7, 7, 6, 6, 16, 7, 7, 7, 7, 7, 7, 7, 7, 16, 7, 7, 7, 7, 7, 7, 7, 7, 7, 6, 7, 6, 7, 7, 16, 7, 7, 7, 7, 7, 7, 7, 7, 7, 7, 7, 7, 7, 7, 6, 7, 0, 7, 4, 14, 7, 7, 7, 7, 7, 6, 7, 7, 6, 14, 7, 7, 7, 7, 7, 7, 7, 7, 7, 7, 7, 7, 7, 7, 6, 7, 7, 7, 7, 7, 7, 7, 7, 7, 7, 7, 7, 6, 0, 7, 7, 7, 16, 7, 6, 7, 7, 11, 16, 7, 7, 7, 7, 7, 7, 21, 7, 16, 6, 7, 7, 7, 7, 7, 7, 6, 7, 7, 7, 16, 7, 14, 14, 7, 16, 7, 7, 7, 7, 7, 7, 16, 7, 7, 16, 7, 7, 16, 7, 7, 7, 7, 7, 7, 7, 7, 7, 7, 7, 7, 7, 14, 0, 16, 7, 7, 7, 7, 7, 7, 0, 7, 4, 7, 14, 7, 7, 7, 7, 7, 7, 7, 7, 7, 7, 7, 7, 7, 7, 7, 7, 7, 7, 7, 14, 7, 6, 7, 7, 8, 0, 7, 18, 7, 7, 7, 7, 7, 7, 7, 7, 7, 7, 7, 7, 7, 7, 7, 7, 7, 7, 7, 7, 7, 7, 14, 7, 7, 7, 16, 7, 7, 18, 7, 7, 7, 7, 7, 16, 7, 7, 7, 7, 7, 7, 7, 7, 7, 7, 7, 7, 7]\n",
            "[7, 7, 7, 7, 7, 7, 7, 7, 14, 7, 7, 7, 7, 23, 7, 7, 7, 7, 7, 7, 7, 7, 14, 7, 7, 7, 7, 0, 7, 7, 23, 7, 7, 7, 14, 7, 7, 7, 7, 7, 7, 7, 7, 0, 7, 7, 18, 7, 7, 7, 7, 7, 7, 7, 7, 7, 7, 7, 14, 7, 7, 7, 7, 7, 7, 7, 7, 7, 7, 7, 7, 7, 7, 7, 7, 7, 7, 7, 7, 21, 7, 7, 7, 7, 7, 6, 7, 6, 7, 7, 7, 14, 7, 7, 7, 7, 7, 7, 7, 16, 6, 14, 0, 7, 7, 7, 7, 7, 7, 7, 7, 7, 7, 7, 0, 6, 7, 7, 7, 7, 7, 7, 7, 7, 7, 7, 7, 7, 7, 7, 7, 7, 7, 7, 14, 7, 7, 16, 7, 7, 7, 7, 7, 6, 14, 7, 7, 7, 7, 7, 7, 7, 14, 7, 7, 7, 7, 7, 7, 7, 7, 7, 7, 7, 7, 7, 0, 7, 7, 7, 7, 7, 7, 7, 7, 7, 7, 7, 7, 7, 7, 7, 7, 7, 7, 7, 7, 7, 6, 7, 14, 7, 7, 7, 18, 7, 7, 4, 4, 7, 14, 16, 7, 14, 23, 0, 7, 7, 7, 7, 7, 7, 7, 7, 7, 7, 7, 16, 7, 16, 14, 7, 14, 7, 7, 7, 7, 7, 6, 10, 7, 7, 7, 7, 7, 7, 7, 7, 7, 7, 7, 7, 6, 7, 7, 7, 7, 7, 7, 7, 7, 7, 7, 7, 7, 7, 7, 7, 7, 7, 16, 4, 7, 7, 7, 7, 7, 7, 10, 7, 7, 7, 7, 7, 7, 7, 20, 7, 7, 6, 7, 7, 16, 0, 16, 7, 7, 14, 7, 7, 7, 7, 7, 7, 7, 7, 7, 7, 7, 7]\n",
            "[8, 7, 7, 7, 7, 7, 7, 7, 7, 7, 7, 7, 7, 16, 16, 7, 7, 7, 7, 7, 7, 14, 7, 7, 7, 7, 7, 7, 7, 7, 1, 6, 7, 7, 7, 7, 16, 6, 7, 7, 7, 7, 7, 7, 7, 7, 7, 7, 14, 14, 7, 7, 7, 7, 7, 7, 14, 6, 7, 7, 4, 7, 6, 16, 7, 7, 10, 7, 7, 7, 7, 7, 6, 6, 7, 7, 6, 7, 7, 7, 7, 16, 7, 7, 7, 7, 7, 7, 7, 7, 7, 7, 7, 7, 7, 7, 16, 6, 14, 7, 7, 7, 7, 7, 7, 7, 6, 7, 7, 7, 14, 7, 7, 7, 6, 7, 7, 7, 7, 7, 7, 7, 16, 7, 7, 7, 7, 7, 7, 7, 7, 7, 6, 7, 7, 7, 7, 7, 7, 7, 7, 7, 7, 7, 7, 7, 7, 7, 7, 7, 7, 7, 7, 7, 7, 7, 7, 7, 7, 21, 16, 7, 6, 7, 7, 7, 7, 7, 7, 0, 7, 14, 7, 6, 7, 7, 7, 7, 7, 7, 6, 7, 7, 7, 7, 7, 6, 7, 14, 6, 7, 14, 1, 7, 7, 7, 7, 7, 6, 7, 7, 7, 7, 7, 7, 7, 7, 7, 7, 7, 7, 7, 21, 7, 7, 7, 7, 7, 7, 16, 16, 7, 7, 7, 7, 7, 21, 7, 7, 7, 7, 7, 7, 7, 7, 7, 7, 7, 14, 7, 7, 7, 7, 7, 7, 7, 7, 7, 7, 7, 7, 6, 7, 7, 16, 16, 7, 7, 7, 7, 7, 7, 11, 7, 7, 7, 7, 7, 7, 7, 7, 7, 7, 7, 0, 7, 7, 7, 7, 7, 7, 7, 7, 7, 7, 7, 7, 7, 7, 7, 7, 7, 7, 7, 7, 7, 7, 7, 7, 7]\n",
            "[16, 0, 7, 7, 7, 7, 7, 7, 7, 7, 7, 7, 7, 4, 7, 7, 6, 7, 7, 7, 7, 7, 6, 7, 7, 7, 7, 14, 1, 7, 7, 7, 14, 7, 7, 7, 7, 7, 6, 7, 14, 7, 6, 7, 7, 7, 7, 7, 7, 7, 16, 7, 0, 7, 7, 7, 7, 7, 7, 7, 7, 16, 7, 7, 7, 7, 16, 7, 7, 7, 7, 7, 7, 7, 7, 7, 14, 7, 7, 6, 7, 7, 7, 7, 10, 7, 7, 14, 7, 7, 6, 7, 7, 18, 7, 7, 7, 7, 7, 7, 1, 16, 16, 7, 7, 7, 7, 7, 7, 7, 7, 7, 7, 7, 7, 7, 6, 16, 7, 7, 6, 14, 7, 7, 7, 7, 7, 14, 7, 7, 7, 7, 7, 7, 16, 7, 7, 7, 1, 7, 7, 7, 7, 7, 10, 7, 7, 7, 8, 7, 7, 7, 16, 7, 7, 7, 7, 7, 7, 7, 7, 7, 7, 7, 7, 7, 1, 7, 7, 7, 7, 7, 7, 7, 7, 7, 23, 0, 6, 7, 7, 7, 7, 7, 7, 7, 7, 7, 7, 7, 7, 7, 16, 6, 7, 3, 7, 7, 7, 7, 7, 7, 7, 7, 6, 7, 7, 6, 7, 7, 7, 7, 7, 7, 7, 7, 7, 21, 7, 7, 7, 7, 7, 14, 6, 7, 7, 7, 7, 7, 7, 7, 7, 7, 7, 7, 7, 7, 7, 7, 16, 6, 7, 7, 7, 7, 16, 14, 4, 7, 7, 7, 7, 7, 14, 7, 7, 7, 7, 7, 7, 7, 7, 7, 14, 7, 6, 7, 7, 14, 7, 7, 7, 7, 4, 7, 7, 7, 7, 7, 7, 16, 7, 8, 14, 7, 7, 7, 7, 7, 6, 7, 7, 7, 7, 6, 7, 7, 7, 7]\n",
            "[7, 7, 7, 7, 7, 7, 14, 7, 7, 7, 7, 7, 7, 7, 7, 7, 7, 7, 7, 7, 7, 4, 7, 12, 7, 7, 7, 7, 7, 7, 16, 7, 7, 7, 7, 7, 7, 7, 8, 7, 7, 7, 7, 7, 7, 7, 7, 7, 7, 7, 7, 7, 7, 6, 7, 0, 7, 7, 7, 7, 7, 7, 7, 7, 7, 7, 7, 7, 7, 7, 7, 7, 6, 6, 7, 7, 7, 7, 7, 7, 7, 7, 6, 7, 7, 7, 7, 14, 7, 7, 7, 7, 7, 7, 7, 7, 7, 7, 7, 7, 7, 7, 7, 7, 7, 7, 7, 7, 7, 7, 7, 16, 6, 7, 7, 7, 7, 7, 7, 7, 7, 7, 7, 7, 7, 7, 6, 6, 7, 7, 7, 7, 7, 7, 7, 7, 7, 7, 7, 6, 7, 7, 7, 4, 7, 7, 7, 7, 7, 7, 7, 7, 7, 7, 0, 7, 7, 7, 6, 7, 7, 7, 7, 7, 23, 7, 7, 7, 7, 23, 7, 7, 7, 7, 7, 7, 7, 7, 7, 7, 7, 7, 7, 7, 7, 7, 7, 7, 7, 7, 7, 7, 7, 7, 7, 7, 7, 7, 7, 7, 7, 7, 7, 7, 7, 7, 14, 7, 7, 7, 7, 7, 16, 7, 7, 7, 7, 0, 7, 7, 7, 7, 7, 7, 14, 6, 7, 7, 7, 7, 18, 14, 7, 7, 7, 7, 7, 7, 7, 7, 7, 7, 7, 7, 7, 7, 7, 7, 7, 7, 7, 7, 7, 7, 23, 7, 7, 7, 7, 16, 7, 10, 7, 23, 7, 6, 7, 7, 7, 7, 7, 7, 7, 7, 7, 14, 7, 7, 7, 7, 7, 7, 7, 7, 7, 7, 7, 7, 7, 7, 14, 7, 16, 7, 7, 18, 6, 7, 7, 7]\n",
            "[7, 7, 7, 7, 7, 6, 7, 7, 7, 7, 7, 7, 7, 16, 7, 7, 7, 7, 7, 7, 7, 16, 7, 14, 16, 7, 7, 7, 7, 6, 6, 7, 7, 7, 6, 7, 7, 7, 7, 7, 16, 7, 7, 16, 7, 7, 7, 7, 7, 7, 7, 7, 7, 7, 7, 7, 7, 7, 7, 7, 7, 7, 7, 7, 6, 7, 7, 7, 7, 7, 7, 7, 14, 14, 7, 7, 7, 7, 7, 7, 7, 7, 7, 7, 7, 7, 7, 7, 7, 7, 8, 7, 7, 7, 7, 7, 7, 7, 7, 7, 7, 7, 7, 7, 7, 7, 7, 7, 7, 7, 7, 7, 7, 7, 7, 6, 7, 7, 7, 7, 7, 7, 4, 7, 7, 14, 7, 7, 7, 7, 7, 7, 7, 7, 7, 7, 7, 7, 7, 7, 7, 7, 7, 7, 4, 7, 7, 7, 7, 0, 0, 7, 7, 7, 7, 7, 7, 7, 7, 1, 7, 7, 7, 7, 7, 7, 7, 7, 7, 7, 7, 7, 14, 21, 7, 7, 7, 14, 7, 7, 7, 7, 16, 7, 7, 16, 7, 7, 7, 7, 7, 7, 7, 7, 7, 7, 7, 7, 7, 7, 7, 7, 7, 7, 7, 7, 6, 7, 7, 7, 14, 7, 7, 14, 7, 16, 7, 7, 7, 7, 7, 0, 7, 7, 7, 16, 7, 7, 7, 7, 8, 21, 7, 7, 7, 7, 7, 7, 7, 7, 7, 7, 7, 7, 7, 7, 7, 7, 7, 7, 7, 7, 7, 7, 7, 7, 7, 7, 7, 7, 7, 7, 7, 7, 7, 7, 7, 14, 7, 7, 7, 7, 6, 7, 7, 7, 7, 7, 7, 7, 7, 7, 7, 7, 7, 7, 7, 7, 7, 7, 7, 7, 7, 7, 7, 21, 7, 1, 7, 7]\n",
            "[14, 7, 7, 7, 14, 7, 7, 7, 7, 7, 7, 7, 7, 7, 7, 7, 7, 7, 7, 7, 7, 7, 7, 7, 0, 7, 7, 7, 7, 7, 7, 7, 7, 7, 7, 7, 7, 7, 7, 7, 7, 0, 7, 7, 7, 7, 4, 7, 7, 7, 7, 7, 7, 7, 14, 7, 6, 7, 7, 7, 7, 23, 7, 7, 7, 7, 7, 7, 7, 7, 7, 7, 7, 7, 7, 7, 7, 16, 6, 16, 7, 7, 7, 14, 7, 6, 14, 7, 7, 7, 7, 14, 7, 7, 7, 7, 7, 14, 7, 7, 7, 7, 7, 7, 7, 7, 7, 7, 7, 7, 7, 7, 7, 0, 7, 6, 7, 7, 7, 7, 7, 7, 7, 6, 7, 7, 14, 7, 7, 16, 7, 7, 7, 7, 6, 7, 7, 7, 7, 7, 7, 4, 14, 4, 7, 7, 7, 7, 16, 7, 7, 6, 7, 7, 7, 7, 7, 7, 7, 7, 7, 7, 7, 0, 7, 7, 7, 7, 7, 7, 7, 7, 7, 7, 14, 7, 7, 6, 7, 7, 7, 7, 7, 7, 7, 7, 7, 7, 7, 7, 7, 7, 7, 7, 14, 7, 7, 6, 7, 7, 6, 7, 7, 7, 6, 0, 7, 7, 7, 6, 7, 14, 7, 0, 7, 8, 7, 7, 7, 14, 7, 7, 7, 6, 7, 7, 7, 7, 7, 7, 7, 7, 7, 14, 4, 6, 7, 14, 7, 7, 7, 14, 7, 7, 7, 7, 7, 21, 7, 7, 7, 6, 7, 7, 7, 6, 7, 7, 7, 7, 7, 7, 7, 7, 6, 7, 7, 7, 7, 7, 7, 7, 4, 6, 7, 7, 7, 7, 7, 7, 7, 7, 7, 14, 7, 7, 7, 7, 4, 7, 7, 7, 7, 7, 7, 7, 7, 7, 7, 7]\n",
            "[7, 7, 7, 6, 7, 7, 7, 7, 7, 7, 7, 7, 7, 7, 7, 7, 7, 7, 7, 7, 11, 7, 7, 7, 7, 7, 7, 10, 7, 7, 7, 7, 7, 7, 7, 7, 7, 6, 7, 7, 8, 7, 7, 23, 14, 7, 7, 7, 7, 7, 7, 7, 7, 7, 7, 7, 12, 7, 7, 6, 7, 7, 7, 7, 7, 7, 7, 16, 1, 7, 7, 7, 7, 7, 7, 7, 14, 7, 7, 7, 7, 7, 7, 7, 7, 7, 7, 7, 7, 7, 1, 7, 7, 7, 7, 7, 7, 7, 7, 7, 0, 6, 7, 7, 7, 7, 7, 16, 7, 14, 7, 7, 14, 7, 7, 7, 7, 7, 16, 7, 7, 7, 12, 6, 7, 14, 7, 7, 14, 7, 7, 7, 7, 6, 7, 7, 7, 7, 7, 7, 7, 7, 7, 7, 7, 7, 7, 7, 14, 7, 16, 7, 7, 7, 7, 20, 7, 7, 7, 7, 7, 7, 7, 7, 7, 7, 7, 7, 7, 16, 7, 23, 7, 7, 16, 7, 7, 7, 7, 7, 7, 7, 23, 7, 7, 7, 7, 7, 7, 7, 7, 7, 7, 7, 7, 7, 7, 16, 7, 7, 7, 7, 7, 6, 7, 7, 7, 21, 7, 7, 7, 6, 7, 0, 7, 7, 7, 14, 7, 7, 7, 2, 7, 7, 7, 7, 7, 7, 7, 7, 7, 7, 7, 7, 7, 7, 7, 7, 7, 7, 7, 7, 7, 7, 7, 7, 7, 7, 7, 7, 7, 7, 7, 7, 7, 7, 7, 7, 7, 7, 7, 7, 7, 6, 7, 7, 7, 7, 7, 20, 7, 4, 14, 7, 7, 16, 16, 7, 7, 16, 6, 7, 7, 7, 7, 7, 7, 7, 7, 7, 7, 7, 7, 7, 7, 6, 7, 7, 7, 7]\n",
            "[6, 7, 7, 7, 7, 7, 7, 7, 7, 7, 7, 7, 7, 7, 16, 7, 7, 7, 7, 7, 7, 7, 7, 7, 7, 7, 7, 7, 14, 7, 16, 7, 7, 7, 7, 7, 7, 7, 14, 7, 7, 7, 7, 7, 23, 7, 7, 7, 7, 7, 7, 7, 7, 7, 7, 7, 0, 7, 7, 7, 7, 7, 7, 7, 7, 7, 7, 7, 16, 6, 7, 7, 16, 7, 7, 7, 7, 14, 7, 7, 7, 7, 7, 14, 7, 16, 7, 7, 7, 7, 7, 7, 7, 7, 7, 16, 7, 7, 7, 7, 7, 7, 7, 7, 16, 7, 7, 7, 7, 7, 14, 7, 7, 7, 7, 7, 7, 7, 7, 7, 7, 7, 7, 8, 7, 4, 7, 7, 16, 7, 7, 7, 7, 14, 6, 7, 16, 6, 7, 7, 7, 7, 7, 7, 7, 7, 7, 7, 7, 7, 7, 7, 14, 7, 7, 7, 7, 7, 7, 21, 14, 7, 7, 7, 7, 7, 16, 7, 7, 7, 7, 7, 7, 7, 7, 7, 7, 14, 7, 7, 14, 7, 6, 7, 7, 7, 7, 16, 7, 14, 7, 7, 7, 7, 7, 7, 7, 7, 7, 7, 7, 7, 7, 7, 7, 7, 7, 0, 7, 4, 7, 7, 7, 7, 7, 7, 7, 7, 16, 7, 7, 7, 7, 7, 7, 7, 7, 7, 7, 7, 7, 7, 7, 7, 7, 7, 7, 7, 7, 7, 7, 7, 7, 7, 7, 7, 7, 14, 7, 0, 7, 7, 6, 7, 7, 14, 7, 23, 7, 7, 7, 6, 7, 7, 7, 7, 7, 18, 7, 7, 7, 7, 7, 12, 7, 7, 7, 7, 7, 7, 7, 7, 7, 7, 7, 7, 7, 14, 7, 7, 7, 7, 7, 7, 7, 7, 7, 7, 7, 0]\n",
            "[7, 7, 7, 7, 7, 7, 7, 7, 7, 7, 7, 7, 7, 7, 7, 7, 7, 7, 7, 7, 7, 7, 7, 7, 14, 4, 7, 7, 7, 7, 7, 7, 7, 7, 7, 7, 7, 7, 7, 7, 7, 7, 7, 7, 7, 7, 7, 21, 7, 6, 7, 1, 7, 7, 7, 7, 7, 7, 7, 14, 7, 7, 7, 7, 7, 7, 7, 7, 7, 7, 10, 7, 7, 7, 7, 7, 7, 7, 16, 7, 6, 7, 7, 7, 21, 7, 7, 14, 7, 6, 7, 4, 7, 4, 7, 7, 7, 7, 7, 7, 7, 7, 7, 7, 7, 7, 7, 7, 7, 7, 7, 7, 16, 7, 6, 7, 6, 16, 7, 14, 7, 16, 7, 7, 7, 7, 7, 7, 7, 7, 23, 7, 10, 7, 7, 7, 7, 7, 4, 7, 7, 7, 7, 7, 7, 7, 7, 7, 7, 7, 7, 7, 7, 7, 7, 7, 7, 7, 7, 7, 7, 7, 7, 7, 7, 7, 7, 7, 7, 7, 7, 7, 7, 7, 6, 7, 7, 14, 7, 0, 7, 7, 7, 6, 7, 7, 7, 7, 7, 7, 7, 7, 7, 7, 16, 7, 7, 7, 7, 7, 7, 7, 7, 16, 7, 7, 0, 7, 7, 7, 7, 7, 7, 7, 7, 16, 16, 7, 7, 7, 7, 7, 7, 7, 7, 14, 7, 14, 7, 7, 7, 7, 7, 7, 7, 7, 7, 6, 7, 7, 7, 14, 7, 7, 7, 7, 7, 7, 7, 16, 16, 7, 16, 7, 6, 7, 7, 7, 7, 7, 7, 23, 7, 7, 7, 7, 7, 7, 7, 7, 7, 7, 7, 6, 7, 7, 7, 7, 7, 16, 7, 16, 7, 7, 7, 7, 7, 7, 7, 7, 7, 7, 7, 7, 7, 7, 7, 7, 7, 7]\n",
            "[7, 7, 7, 7, 14, 14, 7, 14, 7, 7, 7, 1, 7, 7, 7, 21, 7, 14, 7, 7, 7, 7, 7, 7, 7, 7, 7, 7, 7, 7, 7, 7, 7, 7, 7, 7, 7, 7, 7, 7, 7, 7, 7, 7, 6, 7, 7, 7, 14, 7, 7, 0, 7, 7, 7, 7, 6, 7, 7, 7, 7, 16, 6, 7, 7, 7, 7, 7, 7, 7, 7, 8, 7, 6, 7, 7, 7, 7, 7, 7, 7, 7, 7, 7, 7, 7, 7, 7, 7, 7, 7, 7, 7, 7, 7, 7, 7, 7, 7, 7, 7, 7, 14, 7, 7, 7, 7, 7, 7, 7, 7, 7, 7, 7, 7, 7, 4, 7, 7, 7, 7, 7, 7, 14, 7, 6, 7, 7, 7, 7, 7, 7, 0, 14, 7, 1, 7, 7, 7, 0, 7, 7, 7, 7, 7, 7, 7, 7, 7, 7, 7, 7, 7, 7, 7, 0, 0, 7, 7, 7, 6, 7, 7, 6, 7, 7, 7, 7, 7, 16, 14, 7, 7, 7, 7, 7, 14, 7, 7, 7, 7, 7, 7, 7, 7, 7, 7, 7, 7, 7, 7, 7, 7, 7, 7, 7, 7, 7, 7, 6, 7, 16, 7, 6, 7, 7, 7, 16, 7, 7, 7, 7, 7, 7, 7, 14, 7, 7, 7, 7, 7, 7, 1, 6, 7, 7, 7, 6, 7, 7, 7, 7, 7, 7, 7, 7, 7, 7, 7, 7, 7, 7, 7, 7, 7, 7, 7, 7, 7, 7, 7, 7, 7, 7, 7, 7, 7, 7, 7, 14, 6, 7, 16, 14, 7, 7, 7, 7, 7, 7, 7, 7, 7, 7, 7, 7, 16, 7, 7, 7, 7, 7, 6, 7, 14, 7, 7, 7, 4, 7, 16, 7, 7, 6, 7, 7, 7, 7, 7, 7]\n",
            "[7, 14, 7, 7, 7, 7, 7, 7, 7, 16, 7, 7, 7, 7, 7, 7, 7, 7, 7, 7, 7, 7, 7, 7, 7, 7, 7, 7, 7, 16, 7, 7, 7, 7, 7, 7, 7, 7, 23, 6, 7, 7, 7, 7, 1, 7, 7, 7, 7, 7, 7, 0, 7, 7, 7, 16, 7, 7, 7, 7, 7, 7, 7, 7, 7, 7, 7, 7, 7, 7, 7, 7, 7, 7, 7, 23, 7, 7, 7, 7, 7, 7, 6, 7, 7, 14, 7, 7, 7, 7, 7, 7, 7, 7, 7, 7, 7, 7, 7, 7, 7, 7, 7, 1, 7, 16, 7, 7, 7, 7, 7, 7, 7, 7, 7, 16, 6, 7, 7, 7, 6, 7, 7, 7, 7, 7, 7, 7, 7, 7, 7, 7, 7, 0, 7, 7, 7, 7, 7, 7, 7, 7, 7, 16, 16, 7, 7, 7, 7, 7, 6, 7, 7, 7, 7, 7, 7, 7, 6, 7, 7, 7, 7, 7, 7, 0, 7, 7, 7, 7, 4, 7, 14, 7, 7, 7, 1, 7, 14, 7, 14, 7, 7, 7, 0, 1, 7, 7, 7, 7, 14, 7, 7, 8, 7, 16, 14, 7, 7, 7, 7, 14, 7, 7, 7, 7, 7, 7, 7, 7, 16, 7, 7, 7, 7, 7, 7, 7, 14, 7, 14, 7, 7, 7, 7, 7, 7, 7, 7, 7, 6, 7, 7, 7, 6, 7, 7, 7, 7, 7, 7, 7, 7, 7, 7, 7, 7, 7, 7, 7, 14, 7, 7, 7, 7, 7, 7, 7, 7, 7, 7, 7, 7, 7, 7, 14, 4, 6, 7, 7, 7, 7, 7, 7, 16, 7, 7, 7, 7, 7, 7, 0, 7, 7, 7, 7, 7, 7, 7, 7, 7, 7, 7, 7, 7, 7, 7, 7, 7, 7]\n",
            "[6, 7, 16, 7, 7, 7, 7, 7, 7, 7, 7, 7, 7, 14, 7, 7, 6, 7, 7, 7, 14, 7, 7, 7, 7, 7, 7, 7, 7, 7, 7, 7, 7, 7, 7, 23, 7, 7, 7, 7, 7, 7, 7, 7, 16, 7, 7, 7, 7, 7, 6, 7, 7, 7, 7, 7, 7, 16, 7, 21, 16, 7, 7, 7, 16, 7, 4, 7, 7, 7, 7, 7, 7, 7, 7, 7, 7, 7, 7, 14, 7, 7, 16, 7, 1, 7, 7, 7, 7, 7, 7, 7, 7, 7, 7, 7, 7, 7, 16, 7, 7, 7, 6, 7, 7, 4, 7, 7, 7, 7, 7, 7, 7, 7, 16, 7, 7, 7, 7, 7, 7, 7, 7, 7, 7, 6, 7, 7, 7, 7, 7, 7, 7, 7, 7, 7, 7, 6, 0, 7, 7, 7, 7, 7, 7, 7, 14, 7, 7, 7, 7, 7, 7, 7, 7, 7, 7, 7, 7, 7, 7, 6, 7, 6, 7, 7, 4, 6, 16, 7, 7, 16, 7, 7, 7, 7, 7, 7, 7, 7, 7, 7, 7, 7, 7, 7, 0, 6, 7, 7, 7, 0, 7, 7, 7, 7, 7, 7, 7, 7, 7, 7, 21, 7, 11, 6, 7, 7, 6, 7, 7, 7, 7, 7, 7, 7, 7, 6, 7, 7, 7, 7, 7, 7, 7, 7, 7, 7, 7, 14, 7, 7, 10, 6, 7, 7, 7, 11, 7, 7, 7, 7, 7, 7, 7, 14, 14, 7, 7, 7, 7, 7, 14, 7, 7, 7, 7, 7, 6, 7, 7, 7, 7, 7, 7, 7, 7, 7, 7, 7, 7, 7, 7, 7, 7, 7, 14, 7, 7, 7, 7, 7, 7, 7, 7, 7, 7, 7, 7, 6, 7, 7, 7, 7, 7, 7, 7, 7, 7, 7]\n",
            "[14, 7, 7, 7, 7, 7, 7, 6, 7, 14, 18, 7, 7, 7, 6, 7, 7, 7, 7, 7, 7, 7, 7, 7, 1, 14, 7, 16, 7, 4, 7, 7, 7, 7, 7, 7, 7, 4, 16, 7, 7, 14, 1, 7, 7, 17, 16, 7, 7, 7, 7, 7, 7, 7, 7, 7, 7, 14, 7, 7, 7, 7, 7, 7, 7, 1, 7, 7, 7, 7, 7, 7, 7, 7, 7, 7, 7, 7, 7, 7, 7, 7, 7, 7, 7, 7, 7, 7, 7, 7, 7, 7, 7, 7, 14, 7, 7, 7, 7, 7, 7, 7, 0, 7, 7, 7, 16, 7, 7, 7, 7, 7, 7, 14, 16, 7, 7, 7, 7, 7, 0, 7, 7, 7, 14, 7, 7, 7, 7, 7, 7, 7, 7, 7, 7, 7, 14, 7, 7, 7, 7, 7, 14, 7, 7, 7, 7, 7, 7, 21, 7, 6, 7, 7, 7, 7, 7, 7, 7, 7, 7, 7, 7, 7, 7, 7, 19, 7, 7, 7, 7, 7, 7, 7, 6, 7, 0, 7, 7, 7, 7, 7, 7, 7, 7, 7, 14, 7, 14, 7, 7, 7, 7, 7, 7, 7, 6, 14, 7, 7, 7, 6, 7, 7, 23, 7, 7, 7, 7, 7, 7, 7, 7, 7, 7, 14, 7, 7, 6, 7, 7, 7, 7, 7, 7, 7, 7, 6, 7, 7, 7, 7, 16, 7, 1, 7, 6, 7, 7, 7, 7, 6, 7, 0, 7, 7, 7, 7, 7, 7, 7, 16, 7, 7, 7, 7, 7, 7, 7, 7, 7, 7, 7, 7, 7, 7, 7, 0, 7, 7, 7, 7, 7, 7, 7, 7, 6, 16, 7, 7, 7, 7, 7, 7, 7, 7, 7, 7, 7, 7, 7, 7, 7, 6, 7, 7, 7, 7, 7, 14]\n",
            "[6, 6, 7, 7, 7, 7, 7, 7, 7, 7, 7, 7, 7, 7, 7, 7, 7, 7, 7, 7, 7, 7, 6, 7, 7, 7, 7, 7, 7, 7, 7, 7, 7, 7, 6, 7, 7, 7, 14, 6, 7, 6, 7, 7, 7, 7, 7, 7, 7, 7, 7, 7, 7, 7, 7, 16, 0, 14, 14, 7, 7, 7, 7, 7, 6, 7, 7, 7, 6, 7, 7, 7, 7, 16, 7, 7, 7, 7, 7, 7, 7, 7, 14, 7, 7, 6, 7, 14, 7, 7, 7, 7, 7, 7, 7, 7, 7, 7, 7, 6, 7, 7, 7, 6, 7, 7, 7, 7, 7, 7, 7, 14, 23, 7, 7, 14, 7, 7, 7, 7, 7, 7, 7, 7, 7, 6, 7, 7, 7, 14, 7, 7, 0, 7, 7, 7, 7, 14, 7, 7, 7, 7, 7, 7, 7, 7, 7, 14, 14, 0, 7, 7, 16, 7, 7, 7, 7, 14, 7, 18, 7, 7, 7, 7, 7, 16, 7, 7, 7, 7, 6, 7, 16, 7, 6, 6, 7, 7, 7, 7, 7, 7, 7, 7, 7, 7, 7, 7, 16, 7, 16, 0, 6, 1, 8, 7, 7, 14, 7, 7, 7, 6, 14, 0, 7, 7, 7, 7, 7, 7, 7, 7, 7, 7, 7, 17, 7, 7, 7, 7, 7, 0, 14, 7, 7, 7, 14, 7, 21, 7, 7, 7, 7, 7, 7, 7, 7, 7, 7, 7, 7, 7, 7, 7, 7, 7, 7, 7, 7, 7, 7, 14, 7, 7, 7, 7, 7, 7, 7, 7, 6, 4, 4, 16, 7, 7, 7, 7, 16, 8, 6, 7, 7, 7, 7, 7, 7, 7, 7, 7, 7, 16, 7, 7, 16, 7, 7, 18, 7, 7, 7, 7, 7, 7, 7, 7, 7, 7, 14, 7]\n",
            "[7, 7, 7, 7, 7, 7, 7, 7, 7, 7, 7, 7, 16, 7, 7, 7, 7, 7, 7, 7, 7, 7, 7, 7, 7, 14, 14, 7, 14, 7, 7, 7, 7, 7, 6, 7, 7, 7, 6, 7, 7, 7, 7, 6, 7, 7, 6, 7, 7, 7, 7, 7, 7, 18, 7, 7, 7, 7, 7, 0, 7, 7, 7, 7, 7, 7, 7, 7, 7, 7, 7, 7, 7, 7, 7, 7, 7, 7, 7, 7, 7, 7, 7, 7, 14, 7, 7, 7, 6, 7, 7, 7, 21, 7, 7, 7, 7, 7, 7, 7, 7, 7, 7, 1, 6, 7, 7, 7, 7, 6, 7, 7, 7, 7, 7, 7, 7, 7, 7, 7, 7, 7, 7, 7, 7, 16, 7, 7, 7, 7, 7, 7, 14, 14, 7, 7, 7, 7, 7, 0, 16, 7, 11, 7, 0, 7, 7, 7, 7, 1, 6, 7, 7, 7, 7, 7, 7, 7, 7, 7, 8, 7, 7, 14, 7, 7, 7, 7, 7, 7, 7, 7, 7, 7, 7, 7, 7, 7, 9, 7, 7, 6, 7, 16, 7, 7, 7, 7, 7, 7, 7, 7, 0, 10, 7, 7, 21, 7, 6, 16, 7, 7, 7, 7, 7, 7, 7, 7, 7, 7, 7, 7, 7, 7, 7, 1, 7, 7, 7, 7, 6, 7, 7, 7, 7, 7, 7, 7, 7, 7, 7, 7, 7, 7, 7, 7, 7, 7, 7, 7, 7, 7, 4, 7, 7, 7, 7, 7, 7, 7, 4, 7, 7, 7, 7, 7, 7, 7, 7, 6, 7, 7, 0, 7, 7, 7, 7, 7, 7, 7, 7, 14, 7, 7, 7, 14, 7, 7, 7, 7, 4, 7, 7, 7, 7, 7, 7, 7, 7, 7, 7, 7, 7, 7, 7, 7, 14, 0, 7, 7]\n",
            "[7, 7, 7, 7, 7, 6, 7, 7, 21, 7, 7, 7, 7, 7, 7, 7, 0, 16, 20, 7, 7, 7, 6, 7, 7, 7, 7, 7, 7, 7, 7, 14, 7, 7, 7, 6, 7, 7, 0, 7, 9, 7, 7, 1, 7, 7, 7, 7, 7, 7, 7, 7, 7, 7, 7, 7, 15, 7, 7, 7, 16, 7, 7, 7, 7, 7, 7, 7, 14, 7, 7, 7, 7, 7, 8, 7, 7, 6, 7, 7, 7, 6, 14, 6, 6, 7, 6, 7, 14, 7, 7, 7, 7, 7, 7, 7, 7, 7, 7, 7, 7, 7, 7, 7, 7, 7, 7, 7, 7, 7, 7, 6, 7, 7, 7, 6, 7, 7, 7, 7, 7, 7, 7, 16, 7, 6, 7, 7, 7, 7, 0, 16, 7, 20, 14, 7, 0, 7, 14, 6, 7, 7, 7, 7, 7, 6, 7, 7, 7, 7, 7, 7, 14, 7, 7, 7, 7, 7, 7, 7, 7, 7, 7, 7, 7, 16, 7, 7, 7, 7, 7, 0, 6, 7, 7, 7, 7, 7, 7, 7, 7, 7, 7, 7, 7, 0, 7, 6, 7, 0, 7, 7, 7, 7, 10, 7, 7, 7, 7, 7, 7, 7, 7, 7, 0, 7, 7, 7, 7, 7, 7, 6, 7, 7, 7, 21, 7, 16, 7, 7, 7, 7, 6, 8, 7, 7, 14, 11, 7, 7, 7, 7, 7, 7, 7, 7, 7, 7, 6, 6, 7, 7, 7, 7, 7, 7, 16, 23, 7, 7, 7, 7, 7, 7, 7, 7, 7, 7, 7, 1, 7, 7, 0, 7, 7, 7, 7, 7, 6, 7, 7, 7, 7, 7, 0, 7, 7, 6, 7, 7, 7, 7, 7, 7, 7, 14, 7, 7, 7, 7, 7, 7, 7, 7, 7, 7, 7, 7, 7, 7]\n",
            "[8, 7, 6, 7, 7, 6, 7, 16, 7, 7, 7, 7, 7, 6, 7, 16, 6, 7, 6, 7, 7, 7, 14, 6, 16, 6, 7, 7, 7, 7, 7, 7, 7, 6, 7, 7, 7, 7, 16, 7, 7, 7, 7, 21, 7, 7, 7, 7, 7, 7, 21, 7, 7, 7, 7, 7, 16, 7, 7, 7, 7, 7, 7, 7, 7, 7, 7, 7, 7, 7, 7, 14, 6, 7, 14, 7, 7, 7, 7, 7, 7, 7, 7, 7, 6, 7, 7, 7, 7, 7, 7, 7, 6, 7, 7, 7, 7, 7, 7, 7, 7, 0, 7, 1, 14, 6, 7, 7, 16, 6, 7, 7, 7, 7, 7, 7, 7, 7, 7, 7, 7, 7, 7, 7, 7, 7, 7, 7, 7, 7, 7, 7, 7, 7, 7, 7, 7, 7, 7, 7, 11, 7, 7, 7, 0, 7, 7, 7, 7, 7, 7, 7, 7, 7, 7, 7, 7, 7, 7, 7, 7, 7, 7, 7, 7, 7, 7, 9, 7, 7, 7, 7, 7, 7, 7, 7, 7, 7, 7, 7, 7, 7, 23, 7, 7, 7, 14, 7, 7, 4, 7, 7, 14, 7, 7, 7, 7, 7, 7, 7, 7, 7, 7, 7, 7, 7, 7, 7, 7, 7, 7, 7, 7, 7, 8, 7, 7, 14, 0, 7, 7, 7, 0, 7, 7, 7, 7, 7, 7, 16, 7, 7, 7, 7, 7, 7, 7, 7, 7, 7, 7, 7, 7, 7, 7, 7, 7, 14, 16, 7, 7, 7, 0, 7, 7, 7, 6, 7, 7, 7, 7, 7, 7, 7, 7, 7, 6, 16, 7, 7, 7, 21, 7, 7, 7, 7, 7, 6, 7, 7, 6, 7, 14, 7, 7, 7, 7, 7, 7, 14, 7, 7, 7, 7, 11, 7, 7, 6, 14, 7]\n",
            "[7, 7, 7, 7, 7, 14, 0, 7, 7, 7, 7, 7, 7, 7, 7, 7, 6, 7, 7, 7, 7, 7, 7, 7, 7, 7, 7, 7, 7, 7, 7, 7, 7, 7, 7, 7, 14, 7, 7, 7, 7, 7, 7, 0, 7, 7, 7, 6, 7, 7, 7, 7, 7, 7, 7, 7, 14, 14, 7, 7, 7, 7, 7, 7, 7, 7, 14, 7, 7, 7, 7, 7, 7, 7, 16, 7, 7, 7, 7, 7, 7, 7, 7, 7, 7, 7, 7, 7, 7, 7, 7, 7, 7, 14, 7, 7, 7, 7, 16, 7, 7, 7, 7, 7, 16, 7, 14, 7, 7, 7, 6, 7, 6, 7, 7, 6, 6, 7, 7, 7, 7, 7, 7, 7, 7, 7, 7, 16, 6, 1, 6, 7, 7, 0, 7, 7, 7, 7, 16, 6, 7, 7, 7, 7, 16, 6, 7, 7, 7, 7, 7, 7, 6, 7, 7, 1, 7, 14, 7, 7, 7, 7, 7, 7, 7, 7, 7, 7, 7, 16, 0, 7, 7, 7, 7, 7, 7, 7, 7, 7, 7, 7, 7, 14, 7, 21, 7, 7, 7, 7, 7, 7, 7, 7, 7, 14, 7, 7, 7, 7, 7, 21, 7, 7, 7, 7, 7, 7, 7, 7, 7, 7, 7, 7, 7, 7, 7, 7, 7, 7, 7, 14, 7, 7, 7, 7, 7, 7, 7, 7, 7, 7, 14, 7, 7, 7, 7, 7, 7, 0, 7, 7, 7, 7, 7, 7, 7, 7, 6, 7, 7, 7, 7, 7, 7, 7, 7, 7, 7, 7, 16, 7, 7, 7, 7, 7, 7, 4, 7, 7, 7, 7, 4, 7, 7, 14, 7, 16, 7, 7, 7, 7, 7, 7, 7, 7, 16, 7, 7, 7, 7, 7, 6, 7, 7, 7, 7, 7, 7, 7]\n",
            "[7, 7, 7, 7, 7, 7, 7, 7, 7, 7, 14, 16, 7, 7, 14, 18, 7, 7, 16, 7, 7, 7, 14, 16, 7, 4, 7, 7, 7, 7, 7, 7, 7, 7, 7, 7, 7, 7, 7, 7, 7, 7, 7, 7, 4, 7, 7, 7, 7, 7, 7, 7, 7, 7, 7, 7, 7, 7, 7, 7, 7, 6, 7, 7, 7, 7, 7, 7, 7, 7, 7, 7, 7, 7, 7, 16, 7, 7, 7, 7, 7, 7, 7, 7, 16, 7, 7, 7, 7, 7, 7, 7, 7, 7, 7, 7, 16, 7, 7, 7, 7, 7, 7, 7, 7, 7, 7, 7, 10, 7, 7, 7, 7, 7, 16, 7, 7, 7, 7, 7, 7, 16, 7, 7, 7, 7, 7, 7, 7, 7, 6, 7, 7, 0, 7, 7, 7, 4, 7, 7, 7, 7, 7, 7, 7, 7, 14, 16, 7, 7, 14, 7, 7, 16, 7, 7, 7, 7, 7, 7, 7, 6, 16, 7, 7, 7, 7, 7, 7, 7, 7, 7, 7, 7, 7, 7, 7, 7, 7, 7, 14, 7, 7, 7, 7, 6, 6, 7, 7, 7, 7, 21, 7, 7, 23, 7, 7, 7, 16, 7, 6, 7, 7, 7, 7, 7, 6, 8, 7, 7, 7, 7, 7, 7, 0, 7, 16, 7, 7, 7, 23, 7, 7, 7, 7, 7, 7, 6, 7, 7, 7, 7, 7, 6, 10, 7, 7, 7, 7, 7, 7, 7, 7, 7, 7, 7, 7, 7, 7, 7, 7, 7, 7, 7, 7, 7, 7, 7, 7, 7, 7, 7, 7, 7, 7, 7, 6, 18, 7, 7, 7, 7, 6, 7, 7, 7, 7, 7, 7, 7, 7, 7, 7, 21, 7, 7, 7, 7, 16, 7, 14, 7, 7, 7, 7, 7, 7, 7, 7, 7]\n",
            "[7, 7, 7, 7, 1, 7, 0, 7, 7, 7, 14, 7, 7, 7, 7, 7, 16, 7, 7, 1, 7, 7, 7, 7, 7, 7, 7, 7, 7, 7, 7, 7, 7, 16, 16, 7, 7, 7, 7, 7, 7, 7, 7, 4, 7, 7, 7, 7, 7, 7, 7, 7, 7, 16, 7, 7, 7, 14, 7, 7, 7, 7, 7, 7, 7, 7, 7, 7, 7, 7, 7, 7, 7, 7, 7, 14, 7, 7, 7, 7, 21, 7, 7, 7, 7, 6, 7, 7, 7, 7, 7, 7, 7, 7, 7, 7, 7, 7, 7, 7, 7, 7, 7, 7, 7, 7, 7, 7, 7, 7, 7, 7, 5, 7, 14, 7, 7, 7, 7, 7, 7, 7, 7, 7, 7, 7, 7, 10, 7, 7, 7, 7, 7, 7, 7, 7, 7, 7, 7, 7, 7, 7, 6, 7, 7, 7, 7, 7, 7, 7, 7, 7, 7, 7, 7, 7, 7, 7, 21, 7, 7, 18, 7, 7, 7, 7, 7, 6, 7, 7, 7, 7, 7, 7, 7, 7, 7, 7, 7, 7, 7, 7, 0, 7, 7, 21, 7, 7, 0, 7, 7, 0, 7, 7, 7, 7, 7, 4, 7, 7, 7, 7, 7, 7, 7, 7, 7, 14, 7, 14, 7, 4, 7, 7, 7, 8, 7, 7, 14, 7, 7, 7, 22, 7, 7, 7, 7, 7, 7, 7, 7, 7, 7, 7, 7, 7, 7, 7, 16, 4, 6, 7, 7, 7, 7, 16, 7, 7, 7, 7, 7, 6, 7, 7, 7, 7, 14, 7, 7, 7, 7, 7, 6, 7, 14, 7, 7, 0, 6, 7, 0, 7, 7, 7, 7, 7, 10, 7, 7, 7, 7, 7, 7, 7, 7, 7, 16, 7, 7, 7, 7, 7, 16, 7, 7, 7, 7, 7, 7, 7]\n",
            "[7, 7, 7, 7, 14, 7, 7, 7, 7, 7, 7, 7, 7, 14, 7, 7, 7, 7, 7, 7, 10, 7, 7, 7, 7, 7, 7, 7, 7, 7, 7, 7, 7, 7, 7, 7, 7, 14, 7, 7, 7, 7, 7, 7, 6, 7, 7, 7, 6, 7, 6, 7, 7, 14, 7, 7, 7, 7, 7, 7, 7, 7, 7, 7, 7, 7, 7, 7, 7, 7, 0, 7, 7, 7, 7, 6, 7, 0, 7, 14, 7, 7, 6, 14, 7, 7, 7, 6, 7, 7, 6, 23, 7, 7, 7, 14, 7, 7, 7, 7, 7, 7, 7, 7, 7, 7, 6, 7, 7, 7, 7, 7, 7, 16, 7, 7, 7, 7, 16, 7, 7, 6, 7, 7, 7, 7, 7, 7, 7, 7, 7, 7, 7, 7, 7, 7, 7, 7, 7, 7, 7, 7, 7, 7, 7, 7, 7, 7, 7, 7, 6, 7, 16, 7, 16, 7, 7, 7, 7, 7, 16, 7, 7, 7, 7, 16, 0, 7, 7, 7, 7, 7, 7, 6, 7, 4, 7, 7, 7, 7, 7, 7, 14, 7, 7, 7, 7, 7, 7, 7, 7, 7, 7, 7, 7, 7, 0, 7, 7, 7, 7, 7, 7, 0, 7, 7, 7, 7, 7, 7, 7, 7, 7, 7, 7, 7, 7, 7, 14, 7, 7, 7, 7, 7, 7, 0, 7, 7, 7, 6, 7, 7, 14, 7, 7, 7, 7, 16, 7, 7, 18, 7, 6, 16, 7, 1, 7, 7, 7, 7, 11, 6, 14, 7, 16, 7, 7, 7, 7, 7, 7, 16, 7, 7, 7, 14, 7, 7, 7, 7, 7, 7, 7, 7, 7, 7, 7, 7, 7, 6, 7, 7, 7, 7, 7, 7, 7, 7, 14, 7, 7, 7, 7, 16, 7, 7, 7, 7, 7, 7]\n",
            "[7, 7, 7, 7, 7, 7, 7, 7, 7, 7, 7, 7, 10, 7, 10, 7, 1, 7, 7, 7, 7, 9, 7, 7, 7, 0, 7, 7, 7, 7, 7, 7, 4, 7, 7, 7, 7, 7, 6, 7, 7, 7, 7, 7, 7, 7, 7, 7, 7, 7, 6, 7, 4, 16, 7, 7, 7, 7, 7, 7, 7, 7, 14, 7, 12, 7, 7, 7, 7, 0, 7, 7, 7, 7, 11, 7, 7, 7, 14, 7, 7, 7, 7, 7, 7, 7, 7, 7, 7, 10, 7, 7, 10, 7, 7, 7, 7, 7, 14, 7, 7, 7, 7, 7, 7, 7, 7, 7, 7, 0, 21, 7, 7, 7, 7, 7, 7, 7, 7, 7, 7, 7, 7, 7, 7, 7, 7, 7, 7, 7, 7, 6, 7, 21, 7, 7, 7, 7, 7, 7, 7, 7, 16, 7, 7, 7, 7, 7, 7, 7, 7, 7, 7, 16, 7, 16, 16, 7, 7, 7, 7, 10, 7, 7, 7, 7, 14, 7, 7, 7, 14, 7, 7, 7, 7, 7, 7, 7, 6, 16, 7, 7, 6, 7, 7, 7, 7, 7, 7, 7, 7, 7, 18, 14, 7, 6, 7, 7, 7, 10, 7, 7, 7, 7, 6, 7, 7, 7, 7, 7, 7, 7, 7, 7, 16, 7, 7, 7, 7, 7, 7, 7, 7, 7, 7, 7, 7, 7, 6, 7, 7, 7, 7, 7, 7, 7, 7, 7, 7, 7, 7, 7, 7, 7, 7, 21, 7, 7, 7, 7, 7, 7, 7, 16, 7, 14, 7, 7, 16, 7, 7, 7, 7, 7, 6, 7, 7, 7, 7, 7, 7, 0, 7, 7, 7, 7, 7, 7, 7, 7, 7, 7, 7, 7, 7, 7, 14, 7, 16, 7, 7, 7, 8, 7, 7, 7, 8, 7, 7, 7]\n",
            "[7, 14, 7, 7, 7, 7, 7, 16, 7, 7, 7, 16, 7, 7, 7, 16, 7, 0, 7, 7, 7, 7, 7, 7, 7, 7, 7, 7, 7, 7, 7, 7, 7, 7, 7, 6, 7, 7, 6, 7, 7, 7, 7, 7, 7, 7, 7, 6, 14, 7, 7, 16, 7, 7, 7, 7, 7, 7, 7, 7, 7, 7, 7, 7, 7, 7, 7, 7, 7, 7, 7, 7, 7, 7, 7, 7, 7, 7, 16, 7, 7, 7, 7, 14, 7, 7, 7, 7, 7, 7, 7, 7, 7, 7, 7, 6, 1, 7, 4, 7, 7, 7, 7, 7, 14, 7, 7, 6, 14, 14, 7, 7, 7, 7, 6, 7, 7, 14, 7, 7, 7, 7, 16, 7, 7, 7, 7, 7, 6, 14, 7, 7, 7, 6, 7, 7, 7, 6, 7, 7, 7, 7, 7, 6, 7, 7, 7, 7, 7, 7, 7, 7, 14, 7, 16, 7, 7, 7, 7, 7, 7, 7, 7, 7, 7, 7, 7, 21, 7, 7, 7, 7, 7, 16, 6, 7, 7, 7, 7, 7, 7, 7, 7, 7, 7, 7, 7, 7, 7, 7, 14, 10, 7, 7, 6, 7, 7, 7, 6, 7, 7, 7, 0, 7, 7, 7, 7, 0, 7, 7, 6, 7, 7, 7, 7, 7, 7, 7, 7, 1, 7, 7, 7, 7, 7, 7, 7, 7, 7, 7, 7, 7, 7, 6, 7, 7, 7, 16, 7, 14, 7, 7, 7, 7, 7, 7, 7, 14, 7, 7, 7, 7, 7, 0, 7, 16, 7, 6, 7, 7, 7, 0, 7, 18, 7, 7, 7, 9, 7, 7, 6, 7, 7, 7, 7, 7, 7, 7, 7, 7, 7, 7, 7, 7, 6, 7, 7, 23, 7, 0, 16, 0, 7, 7, 7, 7, 7, 7, 7, 7]\n",
            "[7, 6, 7, 7, 7, 14, 7, 7, 7, 7, 7, 16, 7, 7, 7, 7, 7, 7, 16, 7, 7, 7, 7, 7, 10, 7, 7, 7, 6, 7, 7, 7, 10, 7, 7, 10, 7, 7, 16, 7, 14, 6, 7, 7, 0, 7, 7, 7, 7, 7, 7, 7, 7, 7, 6, 7, 7, 7, 14, 7, 14, 14, 7, 7, 7, 7, 7, 7, 7, 7, 10, 7, 7, 7, 7, 7, 7, 7, 7, 7, 7, 7, 7, 7, 6, 7, 7, 7, 7, 7, 7, 7, 7, 7, 8, 7, 7, 7, 0, 0, 7, 7, 7, 7, 16, 7, 4, 7, 7, 7, 7, 7, 7, 7, 7, 7, 7, 16, 16, 7, 7, 7, 7, 7, 7, 7, 0, 7, 7, 0, 7, 7, 7, 7, 7, 7, 7, 21, 7, 6, 7, 0, 7, 16, 7, 7, 16, 7, 7, 7, 6, 7, 16, 7, 7, 7, 7, 7, 7, 7, 7, 7, 7, 7, 7, 7, 7, 6, 7, 7, 7, 7, 7, 16, 7, 6, 7, 14, 7, 7, 7, 7, 7, 7, 7, 7, 7, 7, 7, 0, 16, 7, 7, 0, 7, 7, 7, 6, 7, 7, 7, 7, 7, 7, 7, 20, 16, 7, 7, 7, 7, 7, 7, 7, 7, 7, 7, 7, 7, 7, 6, 7, 7, 7, 7, 7, 7, 6, 7, 7, 7, 7, 7, 7, 7, 7, 7, 7, 7, 6, 7, 7, 7, 6, 7, 7, 7, 6, 7, 7, 16, 7, 7, 7, 7, 7, 7, 6, 6, 6, 7, 7, 7, 7, 7, 7, 7, 7, 7, 7, 7, 7, 0, 7, 6, 6, 7, 7, 7, 7, 7, 7, 16, 7, 7, 7, 7, 7, 7, 6, 0, 7, 7, 7, 7, 7, 7, 7, 7, 7]\n",
            "[7, 7, 7, 7, 7, 7, 7, 7, 7, 7, 7, 7, 0, 7, 7, 7, 7, 7, 7, 7, 7, 7, 7, 7, 7, 7, 7, 7, 7, 7, 7, 7, 7, 7, 6, 14, 7, 7, 7, 7, 7, 7, 14, 7, 7, 7, 7, 14, 7, 7, 7, 7, 7, 16, 7, 7, 6, 7, 7, 7, 4, 7, 7, 16, 7, 7, 16, 7, 7, 16, 7, 7, 7, 7, 7, 7, 7, 7, 7, 7, 7, 7, 7, 7, 7, 21, 7, 7, 7, 7, 7, 7, 7, 7, 0, 14, 7, 7, 7, 4, 7, 7, 7, 7, 7, 7, 7, 7, 7, 7, 7, 7, 1, 7, 7, 7, 7, 7, 7, 7, 7, 7, 7, 7, 7, 7, 7, 7, 14, 7, 7, 7, 7, 6, 7, 7, 21, 7, 7, 7, 7, 7, 7, 7, 7, 21, 7, 7, 7, 7, 7, 7, 7, 7, 7, 7, 7, 7, 7, 7, 14, 7, 7, 7, 7, 7, 7, 7, 7, 7, 7, 7, 7, 7, 7, 1, 7, 7, 7, 7, 7, 7, 7, 7, 7, 7, 7, 7, 7, 16, 7, 7, 23, 7, 7, 0, 6, 21, 7, 7, 7, 7, 7, 7, 7, 7, 7, 7, 7, 6, 7, 7, 7, 7, 6, 7, 14, 7, 7, 6, 7, 6, 7, 7, 7, 7, 7, 7, 7, 7, 7, 7, 7, 4, 8, 7, 16, 7, 7, 7, 6, 7, 7, 7, 7, 16, 6, 7, 6, 7, 7, 7, 7, 7, 7, 7, 0, 7, 6, 7, 7, 7, 7, 7, 7, 7, 6, 1, 7, 7, 14, 7, 7, 7, 7, 7, 7, 7, 7, 7, 7, 7, 7, 16, 7, 7, 7, 7, 7, 6, 6, 7, 7, 7, 7, 7, 7, 7, 7, 14]\n",
            "[7, 7, 7, 7, 7, 7, 7, 16, 6, 7, 7, 7, 7, 7, 7, 0, 7, 14, 7, 7, 7, 7, 14, 7, 7, 7, 16, 7, 6, 7, 7, 7, 7, 7, 7, 7, 7, 14, 7, 7, 7, 16, 7, 7, 7, 7, 7, 7, 7, 7, 7, 7, 7, 7, 7, 7, 7, 7, 6, 7, 7, 7, 7, 7, 0, 7, 7, 7, 7, 7, 7, 7, 7, 7, 7, 7, 7, 7, 7, 7, 7, 6, 7, 7, 7, 7, 16, 7, 7, 7, 7, 7, 7, 7, 7, 7, 7, 16, 7, 7, 7, 7, 7, 7, 7, 7, 6, 7, 7, 7, 7, 7, 6, 7, 7, 8, 7, 7, 7, 7, 7, 7, 7, 7, 7, 7, 7, 7, 7, 7, 0, 7, 7, 7, 7, 7, 7, 7, 7, 7, 7, 7, 7, 7, 7, 7, 4, 7, 7, 7, 7, 7, 7, 7, 7, 7, 7, 7, 7, 7, 7, 7, 7, 7, 7, 7, 7, 7, 7, 7, 7, 6, 7, 7, 7, 7, 7, 7, 7, 7, 7, 16, 7, 7, 7, 7, 6, 7, 7, 7, 7, 14, 7, 7, 7, 14, 7, 7, 7, 7, 7, 7, 7, 14, 7, 7, 7, 7, 7, 7, 7, 10, 7, 7, 16, 7, 7, 7, 7, 7, 7, 7, 7, 7, 7, 7, 7, 7, 7, 7, 7, 0, 6, 7, 16, 7, 7, 7, 6, 7, 7, 7, 7, 7, 6, 7, 7, 7, 0, 7, 7, 21, 7, 7, 14, 7, 7, 7, 7, 7, 7, 7, 7, 7, 7, 7, 7, 7, 7, 7, 7, 7, 7, 14, 7, 7, 7, 7, 7, 7, 7, 7, 7, 16, 7, 7, 7, 7, 7, 7, 1, 6, 7, 7, 7, 7, 7, 7, 6, 7]\n",
            "[6, 7, 7, 0, 6, 6, 7, 7, 7, 7, 14, 7, 7, 6, 16, 7, 7, 7, 7, 0, 7, 7, 7, 7, 7, 7, 1, 7, 7, 7, 7, 7, 7, 7, 7, 4, 7, 0, 7, 7, 7, 7, 7, 7, 7, 6, 7, 0, 7, 7, 7, 7, 7, 7, 0, 7, 0, 7, 7, 7, 7, 7, 7, 7, 7, 1, 7, 16, 7, 14, 7, 7, 7, 7, 6, 7, 7, 7, 7, 7, 7, 7, 7, 7, 7, 14, 7, 6, 7, 16, 7, 7, 14, 7, 7, 7, 7, 7, 7, 7, 6, 8, 7, 7, 7, 14, 7, 7, 7, 7, 7, 7, 7, 7, 7, 7, 7, 7, 6, 7, 7, 7, 7, 7, 7, 14, 7, 7, 7, 7, 11, 7, 7, 7, 7, 7, 7, 0, 7, 7, 7, 7, 7, 7, 7, 7, 7, 7, 7, 7, 7, 7, 7, 14, 7, 7, 23, 7, 7, 7, 7, 7, 7, 7, 7, 7, 7, 7, 7, 7, 7, 7, 7, 4, 7, 7, 14, 7, 7, 7, 7, 7, 23, 7, 14, 7, 7, 7, 7, 7, 7, 7, 7, 7, 7, 7, 7, 7, 7, 7, 7, 6, 7, 16, 7, 7, 6, 7, 7, 7, 7, 16, 7, 14, 16, 7, 7, 7, 7, 7, 7, 7, 7, 7, 7, 7, 14, 0, 7, 7, 7, 7, 7, 7, 7, 7, 7, 14, 7, 4, 7, 7, 7, 7, 7, 7, 7, 7, 7, 23, 7, 21, 7, 14, 7, 7, 7, 21, 7, 7, 12, 7, 7, 7, 10, 7, 7, 7, 6, 14, 6, 7, 7, 7, 7, 7, 7, 6, 7, 16, 7, 7, 7, 7, 7, 7, 7, 6, 7, 7, 17, 14, 16, 16, 7, 7, 7, 7, 7, 7]\n",
            "[14, 7, 7, 7, 7, 6, 16, 7, 7, 7, 7, 7, 7, 7, 7, 7, 7, 7, 7, 7, 7, 7, 7, 7, 7, 7, 14, 7, 7, 7, 7, 7, 7, 7, 7, 7, 7, 7, 7, 7, 7, 7, 7, 7, 7, 7, 7, 7, 7, 7, 7, 7, 7, 7, 7, 4, 7, 7, 7, 7, 7, 6, 7, 7, 6, 7, 7, 7, 7, 7, 7, 7, 7, 7, 6, 7, 7, 7, 7, 7, 7, 7, 7, 7, 7, 7, 7, 7, 6, 7, 7, 7, 7, 7, 7, 14, 0, 17, 7, 7, 7, 7, 7, 7, 7, 7, 7, 7, 7, 7, 7, 7, 7, 16, 7, 7, 7, 7, 7, 7, 16, 7, 7, 7, 7, 7, 14, 7, 7, 7, 7, 7, 7, 7, 7, 7, 7, 7, 7, 7, 7, 7, 7, 7, 23, 7, 6, 7, 7, 7, 7, 7, 7, 7, 7, 7, 4, 7, 7, 0, 7, 7, 7, 7, 7, 7, 7, 7, 23, 7, 7, 7, 7, 7, 7, 7, 7, 1, 7, 7, 7, 7, 7, 7, 7, 7, 7, 7, 7, 14, 7, 7, 7, 7, 7, 7, 7, 7, 7, 7, 14, 4, 16, 14, 7, 7, 7, 7, 7, 7, 7, 7, 7, 7, 7, 7, 7, 7, 7, 14, 7, 7, 7, 7, 7, 10, 7, 7, 7, 7, 7, 7, 7, 7, 7, 7, 7, 7, 14, 7, 7, 7, 14, 7, 7, 7, 6, 7, 7, 7, 7, 7, 7, 7, 7, 7, 7, 7, 7, 7, 7, 7, 7, 7, 7, 7, 7, 7, 7, 7, 7, 7, 7, 7, 7, 7, 7, 7, 0, 7, 7, 7, 7, 14, 7, 6, 7, 7, 7, 7, 7, 6, 6, 7, 7, 14, 7, 7, 7, 6]\n",
            "[7, 7, 7, 7, 7, 8, 7, 16, 7, 7, 16, 7, 16, 7, 7, 7, 7, 7, 7, 14, 7, 7, 7, 7, 7, 16, 7, 7, 7, 7, 7, 7, 14, 7, 7, 7, 7, 7, 7, 7, 7, 7, 7, 7, 16, 7, 7, 7, 7, 6, 7, 14, 7, 7, 7, 7, 7, 7, 7, 7, 7, 7, 7, 7, 7, 7, 7, 7, 0, 7, 4, 7, 14, 7, 7, 7, 7, 7, 6, 6, 7, 7, 7, 7, 7, 7, 7, 7, 7, 7, 7, 7, 7, 7, 7, 16, 7, 7, 7, 14, 7, 7, 16, 7, 14, 7, 14, 7, 7, 7, 7, 7, 7, 7, 7, 7, 7, 7, 7, 7, 7, 7, 7, 7, 7, 11, 7, 6, 7, 16, 7, 4, 7, 7, 22, 6, 7, 7, 7, 7, 16, 7, 7, 7, 7, 14, 7, 7, 7, 7, 7, 7, 6, 7, 16, 7, 7, 16, 6, 7, 7, 7, 0, 7, 7, 7, 7, 7, 7, 7, 7, 18, 7, 7, 7, 7, 7, 7, 7, 18, 7, 7, 7, 7, 6, 16, 7, 7, 7, 7, 7, 6, 7, 7, 7, 7, 14, 16, 7, 7, 7, 6, 16, 7, 7, 7, 7, 7, 7, 7, 7, 7, 7, 7, 7, 7, 7, 7, 16, 7, 7, 7, 14, 6, 7, 7, 0, 6, 14, 7, 7, 7, 7, 7, 6, 0, 6, 7, 14, 7, 7, 7, 7, 7, 7, 7, 7, 7, 7, 7, 7, 7, 7, 7, 7, 7, 7, 7, 7, 7, 7, 4, 7, 14, 7, 0, 7, 7, 7, 7, 4, 7, 7, 7, 7, 7, 7, 7, 7, 6, 7, 7, 7, 7, 23, 7, 7, 7, 7, 7, 7, 14, 7, 7, 7, 7, 7, 7, 7, 16]\n",
            "[7, 7, 7, 7, 6, 7, 7, 7, 7, 7, 7, 7, 7, 7, 7, 7, 7, 14, 14, 14, 16, 7, 7, 7, 7, 7, 7, 7, 7, 7, 7, 7, 7, 7, 7, 7, 16, 7, 7, 7, 7, 7, 7, 7, 7, 0, 7, 7, 6, 7, 7, 7, 7, 7, 7, 7, 7, 18, 7, 7, 7, 7, 7, 7, 7, 7, 7, 14, 7, 7, 7, 7, 7, 4, 4, 7, 7, 7, 7, 7, 7, 7, 7, 7, 7, 7, 6, 7, 0, 7, 7, 7, 7, 7, 7, 7, 7, 7, 7, 7, 7, 14, 6, 8, 7, 7, 7, 7, 7, 7, 7, 7, 7, 7, 7, 7, 7, 7, 7, 7, 7, 16, 7, 6, 7, 7, 6, 6, 7, 7, 7, 7, 7, 7, 6, 7, 7, 7, 7, 7, 7, 7, 7, 6, 7, 7, 7, 7, 7, 7, 7, 7, 6, 7, 7, 7, 7, 7, 7, 7, 7, 7, 7, 7, 7, 7, 7, 7, 7, 7, 7, 7, 7, 14, 7, 7, 16, 7, 7, 0, 7, 6, 7, 7, 7, 7, 7, 7, 7, 7, 6, 7, 7, 7, 7, 6, 7, 6, 9, 7, 7, 7, 7, 7, 16, 7, 7, 7, 7, 7, 8, 7, 14, 6, 7, 7, 7, 7, 7, 7, 6, 7, 7, 7, 7, 7, 7, 7, 7, 7, 7, 7, 7, 7, 7, 7, 7, 7, 7, 7, 7, 7, 7, 7, 7, 7, 7, 21, 7, 7, 7, 7, 7, 7, 16, 7, 7, 7, 7, 7, 14, 7, 7, 7, 7, 7, 7, 7, 7, 7, 7, 7, 7, 7, 7, 7, 7, 7, 7, 7, 7, 6, 7, 7, 7, 7, 6, 7, 7, 10, 7, 6, 7, 7, 7, 6, 7, 7, 7, 7]\n",
            "[7, 7, 7, 7, 14, 7, 10, 8, 21, 7, 7, 7, 7, 11, 7, 16, 14, 0, 7, 21, 7, 6, 7, 7, 7, 7, 7, 6, 7, 7, 7, 7, 6, 7, 7, 10, 7, 16, 7, 6, 7, 7, 7, 7, 7, 7, 14, 14, 7, 7, 7, 7, 14, 7, 7, 14, 7, 7, 7, 7, 7, 7, 7, 7, 7, 7, 7, 7, 7, 7, 7, 7, 7, 7, 14, 10, 7, 7, 14, 14, 7, 7, 7, 7, 7, 7, 14, 6, 14, 7, 7, 7, 7, 7, 7, 6, 7, 7, 7, 7, 7, 7, 7, 7, 7, 7, 7, 7, 6, 7, 7, 7, 7, 10, 7, 14, 7, 7, 7, 7, 7, 7, 7, 7, 7, 7, 7, 7, 1, 7, 7, 7, 7, 7, 7, 7, 7, 7, 7, 7, 7, 7, 7, 7, 7, 0, 7, 14, 7, 7, 10, 7, 7, 7, 7, 16, 7, 7, 7, 6, 6, 7, 7, 23, 7, 6, 7, 7, 21, 7, 7, 7, 7, 21, 7, 7, 7, 7, 7, 7, 7, 6, 14, 7, 7, 7, 7, 7, 7, 7, 7, 7, 7, 7, 7, 7, 7, 16, 7, 6, 1, 7, 6, 7, 7, 6, 4, 7, 7, 7, 7, 17, 7, 7, 7, 7, 7, 7, 7, 7, 7, 7, 7, 7, 16, 7, 7, 7, 7, 7, 7, 7, 7, 7, 7, 7, 7, 7, 7, 7, 7, 16, 7, 7, 7, 7, 7, 16, 7, 7, 6, 7, 7, 7, 7, 10, 4, 7, 7, 7, 7, 7, 7, 7, 7, 7, 7, 7, 7, 14, 7, 7, 7, 14, 7, 7, 7, 7, 7, 14, 7, 7, 7, 4, 7, 7, 7, 7, 7, 7, 7, 7, 7, 7, 7, 16, 7, 7, 7, 7]\n",
            "[16, 7, 7, 7, 7, 7, 7, 7, 7, 7, 7, 7, 6, 0, 6, 7, 14, 7, 7, 7, 7, 7, 7, 16, 0, 7, 0, 7, 7, 7, 7, 6, 7, 7, 14, 10, 7, 7, 7, 7, 7, 7, 7, 6, 16, 7, 7, 16, 7, 7, 7, 7, 7, 7, 7, 16, 7, 16, 7, 7, 7, 7, 7, 16, 7, 7, 9, 7, 7, 7, 6, 7, 7, 7, 7, 7, 7, 16, 7, 7, 7, 7, 7, 7, 7, 7, 7, 7, 7, 16, 7, 7, 7, 7, 14, 7, 4, 0, 7, 7, 7, 7, 7, 7, 7, 7, 7, 7, 7, 7, 7, 7, 7, 7, 7, 7, 7, 7, 7, 7, 6, 7, 7, 7, 7, 7, 19, 7, 7, 7, 7, 7, 6, 7, 7, 7, 16, 7, 6, 7, 7, 7, 7, 14, 7, 16, 7, 7, 7, 12, 7, 7, 7, 1, 7, 7, 7, 7, 7, 7, 7, 16, 7, 7, 7, 7, 4, 7, 7, 7, 14, 7, 7, 7, 7, 7, 7, 7, 7, 6, 14, 7, 7, 7, 7, 7, 7, 7, 7, 7, 7, 7, 7, 7, 7, 7, 6, 7, 7, 7, 7, 7, 7, 7, 7, 7, 14, 7, 7, 7, 7, 4, 7, 6, 7, 7, 7, 7, 7, 7, 7, 7, 7, 6, 4, 7, 7, 7, 14, 6, 7, 7, 14, 7, 7, 7, 7, 7, 21, 7, 6, 7, 7, 7, 7, 6, 7, 7, 6, 7, 7, 7, 7, 7, 7, 7, 7, 14, 7, 7, 7, 7, 7, 7, 16, 16, 6, 7, 7, 14, 7, 7, 10, 7, 0, 7, 7, 7, 7, 7, 6, 6, 7, 7, 7, 10, 7, 7, 7, 7, 7, 7, 7, 7, 7, 6, 7, 7, 7, 14]\n",
            "[14, 7, 7, 7, 7, 7, 7, 7, 7, 7, 7, 7, 1, 7, 16, 6, 7, 7, 7, 10, 7, 7, 14, 7, 7, 7, 7, 7, 7, 7, 7, 7, 7, 7, 10, 7, 14, 9, 7, 7, 7, 7, 14, 7, 7, 7, 7, 7, 10, 7, 7, 7, 14, 14, 7, 7, 6, 7, 7, 7, 7, 7, 7, 7, 7, 7, 7, 7, 6, 7, 7, 7, 7, 7, 7, 7, 6, 7, 7, 7, 7, 7, 7, 7, 7, 7, 10, 7, 7, 7, 7, 7, 7, 7, 8, 7, 21, 7, 7, 7, 7, 7, 23, 7, 7, 0, 7, 7, 7, 7, 7, 7, 0, 6, 7, 7, 7, 7, 7, 7, 7, 7, 7, 11, 0, 7, 7, 7, 7, 7, 7, 7, 7, 7, 7, 7, 7, 6, 7, 7, 7, 7, 6, 7, 7, 7, 7, 7, 7, 7, 7, 7, 7, 7, 7, 7, 7, 7, 7, 7, 7, 7, 7, 6, 7, 7, 7, 7, 7, 9, 7, 7, 7, 16, 7, 7, 7, 6, 14, 7, 7, 7, 7, 7, 7, 7, 7, 14, 7, 7, 7, 7, 7, 7, 7, 7, 7, 0, 7, 7, 7, 4, 7, 7, 7, 16, 7, 6, 16, 7, 7, 7, 7, 7, 7, 14, 7, 6, 7, 7, 7, 7, 7, 6, 7, 21, 7, 7, 7, 7, 6, 14, 7, 7, 1, 7, 7, 7, 7, 16, 7, 7, 7, 16, 7, 7, 7, 7, 7, 7, 7, 0, 7, 16, 7, 7, 7, 7, 7, 7, 7, 7, 7, 14, 7, 7, 7, 7, 7, 7, 16, 7, 7, 14, 7, 7, 7, 7, 7, 7, 7, 7, 7, 7, 7, 7, 7, 7, 7, 7, 7, 7, 7, 7, 7, 12, 7, 7, 7, 7]\n",
            "[6, 7, 7, 6, 7, 7, 7, 7, 7, 7, 14, 7, 7, 7, 7, 7, 7, 7, 7, 7, 7, 16, 7, 7, 7, 7, 7, 14, 7, 7, 4, 14, 7, 7, 7, 0, 14, 0, 7, 7, 7, 7, 7, 7, 7, 7, 7, 7, 7, 7, 7, 14, 7, 7, 7, 7, 7, 7, 7, 7, 7, 7, 7, 7, 16, 7, 7, 7, 7, 7, 7, 7, 6, 7, 7, 7, 7, 7, 7, 7, 6, 7, 7, 16, 7, 7, 7, 7, 7, 7, 7, 7, 23, 7, 7, 7, 7, 6, 7, 14, 6, 7, 7, 7, 7, 7, 7, 7, 4, 7, 7, 7, 7, 21, 7, 7, 7, 7, 7, 7, 7, 7, 7, 7, 4, 7, 7, 16, 7, 7, 7, 7, 7, 7, 7, 7, 7, 7, 7, 7, 7, 7, 7, 7, 7, 14, 7, 7, 7, 7, 7, 7, 14, 6, 7, 7, 7, 7, 6, 14, 14, 7, 7, 6, 7, 7, 7, 23, 14, 7, 7, 7, 7, 7, 7, 7, 6, 7, 7, 7, 7, 7, 14, 7, 7, 7, 7, 7, 7, 7, 14, 7, 7, 7, 7, 7, 0, 7, 7, 21, 7, 7, 7, 7, 7, 7, 7, 7, 7, 7, 7, 7, 7, 4, 7, 7, 7, 7, 7, 7, 7, 7, 7, 7, 14, 7, 7, 4, 7, 7, 7, 7, 7, 7, 7, 6, 7, 7, 7, 7, 7, 14, 6, 7, 7, 7, 8, 7, 7, 7, 7, 7, 7, 7, 14, 7, 7, 7, 7, 7, 7, 7, 7, 7, 6, 7, 7, 7, 7, 7, 7, 7, 7, 7, 7, 7, 6, 7, 7, 4, 7, 7, 7, 7, 6, 14, 7, 7, 7, 7, 14, 8, 7, 7, 0, 7, 7, 7, 7, 7]\n",
            "[7, 7, 7, 7, 7, 7, 7, 7, 7, 7, 7, 21, 6, 6, 7, 16, 7, 7, 0, 7, 7, 7, 7, 7, 7, 7, 7, 7, 21, 7, 7, 7, 7, 7, 7, 7, 14, 16, 7, 7, 7, 7, 7, 7, 7, 7, 7, 7, 7, 7, 7, 7, 6, 6, 7, 6, 7, 7, 6, 16, 7, 7, 7, 6, 7, 7, 7, 14, 0, 6, 7, 7, 6, 7, 7, 7, 7, 7, 7, 7, 7, 7, 7, 6, 0, 7, 7, 7, 0, 7, 7, 7, 7, 7, 7, 7, 7, 8, 7, 7, 7, 7, 7, 7, 7, 7, 7, 7, 7, 7, 7, 7, 7, 7, 6, 7, 6, 7, 7, 7, 7, 7, 7, 7, 7, 14, 7, 7, 7, 7, 7, 7, 7, 7, 6, 7, 21, 7, 7, 7, 7, 7, 7, 7, 0, 7, 7, 7, 7, 7, 7, 7, 7, 7, 7, 7, 16, 7, 7, 7, 7, 7, 7, 7, 7, 7, 7, 7, 7, 7, 6, 7, 7, 7, 7, 7, 7, 14, 7, 7, 7, 9, 7, 7, 7, 7, 7, 22, 7, 7, 7, 7, 7, 7, 7, 7, 7, 14, 7, 7, 4, 0, 7, 7, 7, 6, 7, 7, 7, 7, 7, 7, 7, 7, 7, 7, 7, 7, 7, 7, 7, 7, 7, 7, 7, 7, 7, 7, 7, 7, 14, 7, 7, 7, 7, 7, 7, 7, 7, 7, 7, 7, 7, 14, 7, 7, 21, 7, 7, 7, 7, 7, 7, 14, 7, 7, 7, 7, 7, 7, 7, 7, 7, 7, 7, 7, 7, 7, 7, 7, 7, 7, 7, 7, 4, 7, 7, 7, 7, 7, 7, 7, 7, 14, 7, 16, 7, 7, 7, 7, 7, 7, 7, 7, 7, 7, 6, 7, 7, 7]\n",
            "[7, 7, 7, 7, 7, 7, 7, 7, 7, 7, 7, 7, 7, 7, 7, 7, 7, 7, 7, 16, 7, 7, 7, 7, 7, 7, 7, 7, 0, 7, 7, 7, 7, 14, 7, 14, 7, 16, 16, 7, 7, 7, 14, 7, 7, 7, 7, 7, 7, 7, 12, 7, 14, 7, 7, 14, 7, 14, 7, 7, 7, 7, 7, 7, 14, 7, 7, 7, 7, 16, 6, 14, 7, 7, 7, 6, 7, 7, 7, 7, 7, 7, 7, 7, 7, 7, 7, 7, 7, 7, 7, 7, 7, 7, 7, 7, 7, 7, 7, 7, 7, 7, 7, 7, 7, 7, 7, 7, 7, 6, 7, 0, 7, 16, 7, 7, 7, 6, 7, 7, 7, 7, 7, 7, 7, 7, 7, 7, 10, 7, 7, 7, 7, 7, 21, 6, 6, 7, 21, 7, 7, 7, 7, 10, 7, 7, 7, 7, 7, 7, 7, 7, 7, 7, 7, 7, 0, 7, 7, 6, 7, 7, 7, 7, 7, 7, 7, 7, 7, 7, 7, 7, 7, 7, 7, 6, 7, 7, 7, 7, 7, 7, 7, 7, 16, 7, 7, 7, 7, 7, 7, 7, 7, 7, 7, 7, 7, 7, 6, 7, 7, 7, 7, 7, 7, 7, 7, 16, 7, 6, 7, 14, 7, 7, 7, 7, 7, 7, 7, 7, 7, 7, 7, 7, 7, 7, 7, 14, 7, 7, 7, 7, 7, 7, 7, 6, 6, 7, 7, 7, 7, 7, 7, 7, 7, 7, 7, 14, 7, 7, 7, 7, 7, 7, 7, 7, 6, 7, 7, 7, 7, 7, 7, 7, 14, 7, 7, 7, 7, 7, 7, 7, 6, 7, 7, 7, 7, 6, 7, 7, 7, 7, 7, 7, 7, 7, 7, 7, 7, 7, 16, 7, 7, 7, 7, 0, 7, 0, 7, 7]\n",
            "[7, 7, 7, 7, 6, 7, 7, 0, 7, 0, 7, 16, 7, 7, 7, 7, 14, 7, 7, 7, 7, 7, 7, 7, 4, 7, 7, 7, 7, 7, 7, 7, 7, 10, 7, 6, 7, 7, 8, 7, 7, 7, 7, 7, 7, 7, 7, 7, 14, 7, 16, 16, 16, 7, 7, 7, 7, 7, 7, 7, 7, 7, 7, 7, 7, 7, 7, 7, 7, 7, 7, 7, 7, 7, 7, 7, 7, 6, 7, 7, 7, 7, 7, 7, 7, 7, 7, 14, 7, 7, 7, 7, 7, 7, 7, 7, 7, 7, 7, 16, 7, 16, 7, 7, 0, 7, 7, 16, 7, 7, 7, 7, 16, 12, 7, 7, 7, 7, 16, 7, 7, 7, 7, 16, 7, 14, 7, 7, 7, 7, 7, 7, 7, 7, 7, 7, 7, 7, 7, 7, 7, 7, 7, 16, 7, 7, 7, 16, 7, 7, 7, 7, 16, 7, 7, 14, 7, 7, 7, 7, 7, 7, 7, 7, 7, 7, 7, 7, 7, 14, 7, 7, 7, 7, 7, 7, 7, 7, 7, 7, 6, 10, 7, 7, 6, 16, 7, 6, 7, 7, 6, 7, 7, 16, 6, 7, 7, 7, 7, 7, 7, 7, 16, 7, 7, 7, 7, 0, 6, 7, 7, 7, 7, 7, 7, 7, 7, 7, 7, 0, 7, 7, 16, 7, 7, 7, 7, 7, 7, 7, 7, 7, 7, 7, 16, 7, 7, 7, 7, 7, 7, 7, 7, 7, 14, 7, 7, 7, 0, 7, 7, 7, 14, 7, 6, 14, 7, 7, 7, 7, 7, 16, 7, 7, 7, 7, 7, 7, 7, 7, 7, 7, 7, 7, 6, 7, 7, 7, 7, 7, 6, 7, 7, 7, 4, 7, 7, 7, 7, 7, 7, 6, 7, 7, 7, 7, 6, 7, 7, 7]\n",
            "[7, 7, 7, 16, 7, 7, 7, 7, 7, 7, 6, 7, 16, 7, 7, 7, 7, 7, 7, 7, 7, 7, 7, 7, 7, 7, 7, 14, 6, 7, 0, 7, 7, 18, 7, 7, 7, 7, 16, 7, 7, 7, 10, 7, 7, 7, 7, 7, 7, 7, 7, 6, 7, 7, 7, 6, 7, 7, 7, 7, 7, 7, 14, 7, 7, 7, 7, 1, 7, 7, 7, 7, 7, 7, 7, 6, 7, 7, 7, 7, 7, 7, 7, 7, 7, 7, 11, 7, 7, 7, 7, 7, 7, 14, 7, 7, 7, 7, 7, 7, 7, 7, 10, 7, 7, 7, 7, 7, 14, 7, 7, 7, 0, 7, 7, 7, 7, 14, 7, 7, 7, 7, 7, 7, 7, 7, 7, 7, 7, 7, 6, 7, 7, 7, 7, 6, 7, 7, 0, 7, 0, 7, 7, 7, 7, 7, 7, 7, 7, 7, 7, 7, 7, 7, 7, 7, 7, 16, 7, 7, 7, 7, 7, 7, 7, 7, 6, 0, 7, 14, 6, 7, 7, 7, 7, 7, 7, 16, 6, 7, 7, 7, 7, 7, 16, 16, 7, 7, 7, 6, 7, 7, 7, 7, 7, 7, 7, 7, 7, 7, 14, 7, 7, 7, 7, 6, 7, 7, 7, 7, 7, 16, 7, 7, 7, 7, 7, 7, 16, 7, 0, 7, 7, 14, 7, 7, 7, 7, 7, 16, 7, 7, 7, 6, 16, 7, 7, 7, 8, 7, 7, 7, 7, 7, 7, 7, 7, 6, 7, 7, 7, 7, 6, 7, 7, 6, 7, 16, 7, 7, 7, 7, 7, 7, 7, 7, 7, 14, 7, 7, 7, 6, 7, 7, 7, 7, 7, 7, 7, 7, 7, 7, 7, 14, 6, 7, 7, 7, 7, 7, 7, 7, 7, 7, 7, 7, 7, 7, 7, 4]\n",
            "[7, 7, 7, 7, 7, 7, 7, 7, 7, 7, 7, 7, 7, 6, 16, 7, 7, 7, 7, 7, 7, 11, 14, 7, 7, 7, 7, 7, 7, 7, 7, 7, 7, 14, 7, 7, 17, 7, 11, 7, 7, 6, 7, 7, 7, 6, 7, 7, 7, 16, 14, 7, 14, 6, 7, 7, 6, 7, 7, 7, 0, 7, 7, 6, 7, 7, 6, 11, 7, 7, 7, 7, 7, 7, 21, 16, 7, 7, 7, 7, 7, 7, 7, 7, 19, 7, 7, 7, 6, 7, 7, 7, 6, 7, 7, 7, 7, 7, 7, 7, 7, 14, 7, 7, 7, 7, 7, 7, 7, 16, 7, 11, 7, 7, 7, 7, 7, 0, 18, 7, 7, 7, 16, 6, 7, 7, 7, 7, 7, 7, 7, 7, 14, 7, 7, 16, 14, 7, 16, 6, 7, 7, 7, 7, 7, 7, 16, 7, 0, 7, 7, 7, 7, 7, 7, 16, 7, 7, 6, 7, 7, 7, 7, 7, 7, 7, 0, 7, 7, 7, 7, 7, 7, 7, 7, 7, 7, 4, 7, 7, 7, 7, 7, 7, 7, 7, 7, 14, 14, 7, 6, 7, 7, 7, 7, 7, 7, 16, 7, 7, 6, 7, 7, 7, 16, 7, 7, 7, 7, 7, 7, 7, 7, 7, 14, 7, 7, 7, 7, 7, 7, 7, 7, 7, 7, 23, 7, 7, 7, 7, 7, 7, 7, 7, 7, 16, 7, 6, 7, 20, 7, 7, 7, 7, 7, 7, 7, 7, 7, 7, 23, 7, 7, 7, 7, 7, 7, 7, 7, 7, 7, 7, 7, 7, 7, 7, 6, 7, 7, 7, 7, 7, 6, 14, 7, 14, 6, 16, 7, 7, 7, 7, 7, 7, 7, 7, 7, 7, 7, 7, 7, 7, 7, 7, 7, 7, 7, 7, 7, 7]\n",
            "[7, 7, 7, 7, 0, 7, 7, 14, 4, 14, 7, 7, 16, 19, 7, 7, 7, 7, 7, 7, 7, 6, 7, 7, 7, 7, 7, 7, 7, 7, 7, 8, 7, 7, 6, 10, 0, 7, 7, 7, 7, 7, 16, 7, 7, 7, 7, 7, 7, 14, 7, 7, 7, 1, 7, 7, 0, 7, 7, 7, 7, 14, 7, 7, 7, 7, 7, 7, 7, 6, 7, 7, 7, 7, 7, 7, 6, 7, 7, 7, 7, 7, 7, 7, 7, 7, 7, 7, 7, 6, 7, 7, 7, 7, 7, 7, 16, 7, 7, 7, 16, 7, 7, 7, 7, 8, 7, 7, 16, 7, 7, 7, 7, 7, 7, 7, 7, 21, 7, 7, 7, 7, 7, 7, 7, 7, 7, 7, 7, 7, 7, 7, 7, 7, 7, 7, 7, 7, 7, 7, 14, 7, 16, 16, 7, 16, 7, 7, 7, 7, 7, 7, 7, 7, 7, 7, 7, 14, 9, 7, 7, 7, 7, 14, 11, 6, 0, 7, 7, 7, 7, 6, 16, 7, 7, 7, 6, 0, 16, 16, 7, 7, 7, 7, 7, 7, 7, 7, 7, 7, 7, 7, 7, 7, 16, 7, 7, 16, 7, 7, 7, 7, 7, 7, 7, 7, 1, 7, 7, 7, 6, 6, 7, 7, 7, 7, 0, 7, 7, 7, 7, 7, 7, 7, 6, 7, 6, 7, 7, 16, 7, 7, 6, 6, 7, 22, 7, 7, 6, 7, 7, 7, 7, 7, 16, 7, 7, 6, 7, 7, 6, 7, 6, 7, 7, 7, 7, 7, 7, 7, 7, 14, 7, 7, 0, 7, 7, 7, 7, 7, 7, 7, 7, 7, 7, 7, 7, 7, 7, 7, 7, 7, 7, 7, 7, 7, 7, 7, 7, 7, 7, 7, 14, 7, 7, 7, 7, 14, 7, 7]\n",
            "[7, 7, 7, 7, 7, 16, 7, 7, 7, 7, 7, 7, 7, 7, 7, 7, 7, 7, 7, 7, 7, 7, 7, 7, 7, 7, 7, 7, 7, 7, 7, 7, 7, 7, 7, 7, 7, 7, 7, 7, 7, 7, 11, 7, 7, 14, 7, 7, 7, 7, 7, 14, 7, 7, 7, 7, 7, 7, 16, 7, 7, 7, 7, 7, 7, 7, 7, 6, 7, 7, 6, 7, 7, 7, 7, 7, 7, 7, 7, 16, 7, 7, 7, 6, 7, 16, 7, 16, 7, 7, 7, 7, 7, 7, 7, 7, 7, 7, 7, 16, 7, 7, 7, 14, 7, 10, 7, 7, 7, 7, 7, 20, 7, 7, 7, 7, 7, 6, 7, 7, 7, 1, 7, 7, 7, 7, 7, 7, 7, 7, 7, 7, 7, 7, 7, 7, 7, 16, 7, 7, 7, 7, 7, 7, 7, 7, 7, 14, 7, 7, 7, 4, 14, 14, 7, 7, 7, 7, 7, 7, 7, 14, 7, 7, 7, 7, 0, 7, 7, 7, 7, 7, 0, 7, 6, 14, 7, 7, 7, 7, 7, 16, 7, 16, 7, 7, 7, 7, 7, 7, 7, 7, 14, 7, 7, 7, 7, 7, 7, 7, 7, 7, 7, 7, 7, 7, 7, 7, 7, 7, 7, 7, 7, 7, 7, 7, 7, 7, 7, 14, 7, 7, 7, 7, 7, 6, 7, 7, 14, 7, 7, 1, 7, 7, 7, 7, 7, 7, 7, 7, 4, 6, 7, 7, 7, 7, 7, 7, 7, 7, 7, 6, 7, 7, 7, 7, 16, 6, 7, 7, 7, 7, 21, 7, 7, 7, 7, 7, 7, 7, 7, 7, 14, 7, 7, 7, 7, 7, 7, 7, 7, 7, 8, 7, 7, 7, 7, 7, 7, 7, 14, 7, 7, 7, 7, 7, 7, 7, 7, 14]\n",
            "[7, 7, 7, 7, 7, 7, 7, 7, 7, 7, 6, 7, 7, 7, 7, 7, 7, 7, 7, 21, 7, 7, 7, 1, 7, 7, 7, 7, 7, 7, 7, 23, 7, 7, 7, 7, 6, 7, 14, 8, 7, 7, 7, 7, 23, 7, 7, 7, 7, 14, 7, 11, 7, 7, 7, 7, 7, 7, 7, 7, 7, 7, 7, 14, 7, 7, 7, 7, 7, 7, 14, 7, 16, 7, 7, 0, 7, 7, 7, 7, 7, 7, 7, 7, 7, 0, 7, 7, 7, 7, 7, 22, 7, 16, 7, 7, 7, 1, 16, 7, 7, 11, 14, 7, 7, 7, 7, 7, 7, 7, 7, 7, 7, 7, 7, 7, 7, 6, 7, 14, 7, 7, 7, 7, 7, 14, 7, 7, 7, 7, 7, 7, 7, 7, 7, 7, 7, 7, 7, 7, 7, 7, 7, 7, 7, 7, 6, 7, 7, 7, 7, 7, 6, 7, 7, 7, 7, 7, 7, 7, 7, 7, 7, 7, 7, 7, 7, 7, 7, 7, 7, 7, 6, 7, 14, 7, 7, 7, 7, 7, 7, 7, 7, 7, 7, 7, 7, 7, 7, 7, 7, 7, 16, 7, 7, 7, 7, 7, 7, 7, 7, 7, 7, 7, 7, 7, 7, 0, 7, 7, 7, 7, 7, 7, 7, 7, 7, 7, 7, 7, 7, 7, 7, 7, 7, 7, 7, 14, 7, 7, 7, 7, 7, 0, 7, 7, 7, 7, 6, 7, 7, 7, 7, 7, 7, 7, 7, 7, 14, 7, 7, 7, 7, 7, 7, 7, 7, 10, 7, 7, 7, 7, 7, 7, 7, 7, 7, 7, 7, 7, 7, 7, 7, 7, 7, 1, 7, 14, 7, 0, 7, 7, 7, 7, 7, 6, 7, 7, 7, 7, 7, 7, 7, 6, 7, 23, 7, 7, 7, 7]\n",
            "[7, 7, 7, 7, 7, 7, 7, 7, 7, 6, 7, 7, 7, 7, 7, 7, 7, 7, 7, 7, 7, 7, 7, 7, 7, 7, 14, 7, 7, 14, 7, 7, 7, 21, 7, 21, 7, 7, 7, 7, 7, 7, 16, 7, 7, 7, 7, 7, 7, 7, 7, 7, 7, 7, 16, 7, 7, 7, 7, 7, 7, 7, 7, 7, 7, 7, 1, 7, 7, 7, 1, 7, 7, 7, 7, 7, 1, 7, 7, 7, 6, 7, 7, 7, 7, 7, 7, 7, 7, 7, 7, 7, 7, 14, 7, 7, 7, 7, 9, 7, 7, 7, 7, 7, 14, 7, 7, 7, 0, 7, 16, 7, 7, 16, 7, 7, 7, 7, 23, 7, 7, 7, 7, 7, 6, 7, 7, 7, 16, 6, 7, 7, 14, 7, 7, 7, 7, 7, 7, 7, 7, 7, 7, 4, 7, 14, 7, 7, 7, 7, 7, 7, 7, 7, 7, 7, 7, 7, 7, 7, 7, 7, 7, 7, 7, 7, 7, 7, 7, 7, 7, 7, 7, 7, 1, 16, 7, 7, 7, 7, 7, 7, 7, 7, 7, 7, 7, 7, 7, 7, 7, 16, 7, 7, 7, 21, 7, 16, 7, 7, 7, 7, 7, 7, 7, 7, 7, 7, 7, 7, 14, 7, 6, 7, 7, 7, 7, 7, 7, 7, 7, 7, 6, 7, 7, 7, 7, 7, 7, 7, 14, 7, 7, 7, 7, 7, 7, 7, 7, 7, 7, 7, 4, 7, 7, 7, 7, 7, 7, 7, 7, 6, 7, 7, 7, 7, 7, 7, 7, 6, 7, 7, 7, 7, 7, 7, 7, 7, 7, 7, 7, 16, 0, 7, 7, 7, 7, 7, 7, 7, 1, 7, 7, 7, 7, 7, 7, 7, 7, 7, 6, 6, 7, 7, 7, 7, 7, 7, 7, 7]\n",
            "[7, 7, 7, 7, 6, 7, 7, 6, 7, 7, 7, 7, 7, 7, 7, 7, 7, 16, 7, 7, 7, 6, 7, 7, 7, 7, 7, 7, 7, 14, 7, 7, 7, 7, 7, 7, 7, 14, 7, 7, 7, 7, 7, 16, 7, 7, 7, 14, 7, 7, 7, 7, 7, 7, 10, 8, 7, 7, 4, 7, 7, 7, 7, 7, 0, 16, 7, 7, 7, 0, 7, 7, 6, 7, 7, 6, 7, 7, 7, 14, 7, 7, 6, 6, 7, 7, 7, 7, 7, 7, 7, 7, 7, 7, 7, 7, 7, 7, 7, 7, 7, 7, 7, 7, 7, 7, 7, 7, 7, 0, 7, 7, 7, 7, 6, 7, 0, 7, 7, 7, 7, 7, 7, 14, 16, 7, 7, 7, 7, 7, 7, 7, 7, 21, 7, 16, 7, 7, 7, 7, 7, 7, 7, 7, 7, 7, 7, 7, 7, 7, 7, 7, 7, 12, 7, 7, 6, 7, 7, 7, 7, 7, 7, 7, 7, 7, 7, 7, 14, 7, 7, 7, 7, 7, 7, 14, 7, 7, 7, 7, 16, 7, 6, 7, 7, 7, 7, 10, 7, 7, 7, 6, 7, 7, 7, 7, 7, 7, 7, 7, 7, 7, 7, 7, 7, 9, 7, 7, 7, 7, 7, 7, 7, 7, 7, 7, 14, 16, 7, 7, 7, 7, 7, 7, 7, 7, 7, 7, 7, 7, 7, 7, 7, 7, 7, 7, 7, 1, 7, 7, 16, 7, 8, 7, 7, 16, 7, 7, 7, 7, 6, 7, 7, 6, 23, 7, 16, 6, 7, 7, 7, 7, 7, 1, 6, 7, 7, 7, 7, 7, 7, 7, 16, 7, 7, 7, 6, 7, 8, 7, 7, 7, 7, 7, 7, 7, 7, 7, 7, 7, 6, 7, 7, 16, 7, 7, 7, 7, 16, 7]\n",
            "[7, 7, 7, 0, 7, 21, 7, 7, 7, 7, 7, 0, 7, 7, 7, 7, 7, 7, 7, 7, 7, 0, 0, 7, 7, 7, 7, 1, 7, 7, 7, 7, 11, 7, 7, 6, 7, 7, 16, 7, 14, 7, 6, 7, 7, 7, 7, 7, 7, 7, 7, 7, 6, 7, 7, 7, 7, 7, 7, 7, 7, 16, 7, 7, 10, 7, 7, 23, 7, 7, 7, 7, 7, 7, 7, 7, 7, 7, 7, 6, 7, 0, 6, 7, 7, 7, 14, 7, 7, 7, 7, 16, 7, 7, 7, 7, 7, 7, 7, 7, 6, 0, 6, 7, 7, 7, 6, 7, 7, 0, 7, 7, 7, 7, 7, 7, 7, 7, 7, 7, 7, 7, 7, 7, 7, 16, 7, 7, 7, 21, 7, 16, 7, 7, 7, 7, 7, 7, 14, 6, 7, 7, 7, 7, 7, 7, 7, 7, 7, 7, 7, 7, 7, 7, 7, 7, 7, 7, 7, 7, 7, 7, 16, 7, 7, 14, 7, 6, 7, 7, 7, 7, 7, 7, 7, 7, 7, 7, 7, 14, 7, 7, 7, 7, 7, 7, 14, 7, 7, 7, 7, 7, 16, 6, 7, 7, 6, 7, 7, 7, 7, 7, 7, 7, 7, 7, 7, 7, 14, 7, 7, 7, 7, 7, 7, 7, 7, 7, 7, 18, 7, 6, 7, 7, 7, 14, 7, 7, 0, 7, 7, 7, 7, 7, 7, 7, 16, 7, 7, 7, 7, 7, 6, 6, 7, 7, 7, 7, 7, 7, 7, 7, 6, 7, 7, 14, 14, 7, 7, 14, 7, 6, 7, 7, 7, 21, 14, 7, 18, 7, 7, 0, 7, 6, 7, 7, 7, 7, 7, 7, 7, 7, 7, 7, 7, 7, 7, 7, 7, 7, 14, 14, 6, 7, 0, 7, 7, 7, 7, 7]\n",
            "[7, 7, 7, 7, 7, 7, 7, 7, 7, 7, 7, 7, 14, 7, 7, 7, 7, 7, 6, 7, 7, 7, 7, 7, 7, 7, 7, 7, 6, 7, 7, 7, 7, 7, 7, 7, 7, 4, 7, 7, 7, 7, 7, 7, 7, 7, 7, 7, 7, 0, 7, 7, 7, 11, 7, 7, 7, 7, 14, 7, 7, 7, 14, 7, 7, 7, 7, 7, 0, 7, 7, 7, 7, 7, 7, 7, 14, 7, 7, 7, 6, 7, 7, 7, 7, 7, 7, 7, 7, 7, 7, 7, 7, 7, 7, 7, 7, 7, 7, 7, 7, 8, 7, 7, 6, 7, 16, 7, 7, 7, 7, 7, 7, 7, 7, 7, 14, 7, 7, 7, 7, 6, 7, 7, 7, 7, 7, 7, 7, 7, 7, 7, 7, 7, 16, 7, 7, 7, 7, 7, 7, 7, 7, 0, 7, 7, 7, 7, 7, 7, 7, 16, 7, 7, 7, 7, 7, 7, 7, 7, 7, 14, 7, 21, 7, 7, 7, 7, 7, 7, 16, 7, 7, 7, 7, 7, 14, 7, 7, 7, 7, 7, 7, 7, 7, 7, 7, 7, 7, 7, 7, 10, 7, 7, 7, 7, 7, 7, 7, 7, 7, 7, 7, 7, 7, 14, 7, 7, 7, 6, 6, 7, 7, 7, 6, 7, 7, 7, 7, 7, 7, 7, 7, 7, 7, 7, 14, 7, 7, 14, 7, 14, 7, 14, 7, 7, 4, 7, 7, 7, 7, 18, 7, 7, 7, 6, 7, 0, 7, 6, 0, 7, 7, 7, 7, 7, 0, 6, 7, 7, 7, 7, 14, 7, 7, 7, 7, 7, 7, 14, 7, 7, 7, 7, 7, 7, 7, 14, 7, 7, 14, 6, 14, 14, 7, 7, 7, 7, 14, 7, 7, 7, 5, 7, 7, 7, 10, 7, 7, 7]\n",
            "[7, 7, 7, 7, 7, 7, 7, 7, 7, 7, 7, 7, 7, 7, 7, 16, 7, 7, 7, 7, 7, 7, 7, 7, 7, 7, 10, 16, 7, 7, 6, 7, 7, 7, 16, 7, 7, 7, 16, 7, 7, 7, 0, 16, 7, 7, 4, 7, 7, 7, 7, 7, 7, 7, 7, 7, 7, 7, 7, 7, 7, 7, 7, 4, 7, 7, 7, 7, 7, 7, 7, 7, 7, 4, 16, 7, 7, 0, 7, 7, 7, 7, 7, 7, 6, 7, 7, 7, 7, 6, 7, 7, 7, 7, 7, 7, 7, 7, 7, 7, 6, 7, 7, 7, 7, 7, 7, 7, 7, 0, 7, 0, 0, 7, 0, 7, 7, 7, 7, 7, 7, 7, 7, 7, 11, 7, 7, 7, 7, 0, 0, 7, 7, 7, 7, 6, 6, 7, 7, 6, 7, 7, 4, 7, 7, 7, 7, 14, 7, 7, 6, 7, 7, 7, 7, 7, 7, 7, 7, 7, 7, 7, 7, 7, 7, 7, 7, 16, 7, 7, 7, 7, 7, 7, 6, 7, 7, 7, 7, 7, 14, 7, 6, 7, 7, 7, 6, 7, 7, 7, 7, 7, 7, 6, 7, 7, 7, 7, 7, 7, 6, 7, 7, 7, 7, 7, 7, 7, 7, 7, 7, 7, 6, 7, 7, 7, 16, 7, 7, 7, 0, 6, 16, 7, 7, 7, 16, 7, 7, 7, 7, 14, 7, 16, 7, 7, 7, 7, 7, 7, 7, 7, 7, 7, 21, 7, 14, 14, 7, 0, 7, 6, 7, 7, 7, 7, 7, 7, 7, 7, 7, 10, 7, 7, 7, 7, 7, 7, 6, 7, 7, 7, 7, 7, 7, 7, 7, 7, 7, 7, 7, 7, 7, 7, 7, 7, 7, 7, 14, 7, 6, 7, 7, 0, 7, 7, 16, 7, 7, 7]\n",
            "[7, 16, 7, 7, 14, 7, 7, 7, 7, 0, 16, 7, 7, 7, 7, 7, 7, 6, 7, 7, 7, 7, 7, 6, 7, 7, 16, 16, 7, 7, 7, 7, 7, 7, 6, 6, 16, 16, 7, 7, 16, 7, 7, 7, 7, 7, 7, 7, 14, 7, 7, 7, 7, 7, 0, 7, 7, 7, 16, 7, 7, 14, 7, 7, 7, 7, 7, 7, 7, 7, 6, 7, 7, 7, 7, 7, 7, 7, 7, 7, 7, 7, 7, 7, 7, 7, 21, 7, 7, 6, 7, 7, 7, 7, 17, 7, 7, 7, 7, 7, 7, 7, 7, 7, 7, 7, 16, 7, 6, 7, 7, 7, 7, 7, 7, 7, 7, 7, 7, 7, 7, 7, 7, 7, 7, 16, 7, 7, 7, 7, 7, 6, 7, 6, 7, 7, 7, 7, 7, 7, 16, 7, 7, 7, 10, 7, 7, 7, 7, 7, 7, 7, 7, 7, 14, 7, 7, 7, 7, 7, 7, 7, 7, 7, 7, 7, 14, 14, 7, 7, 7, 7, 7, 7, 7, 7, 7, 7, 7, 7, 7, 4, 7, 0, 7, 7, 4, 7, 11, 7, 7, 7, 7, 7, 0, 7, 7, 6, 7, 7, 7, 7, 7, 6, 7, 7, 7, 7, 6, 7, 7, 7, 7, 7, 7, 21, 7, 7, 7, 7, 7, 7, 7, 7, 7, 7, 7, 7, 6, 6, 7, 14, 21, 7, 7, 0, 7, 7, 7, 10, 7, 7, 1, 7, 7, 7, 7, 7, 18, 7, 7, 7, 7, 7, 7, 6, 7, 23, 7, 7, 7, 6, 7, 7, 7, 7, 7, 7, 7, 7, 7, 7, 4, 7, 7, 7, 7, 7, 7, 7, 7, 7, 7, 7, 7, 7, 7, 7, 7, 7, 7, 7, 7, 7, 7, 7, 7, 7, 7, 7]\n",
            "[7, 7, 7, 16, 7, 7, 7, 7, 16, 7, 7, 7, 7, 5, 7, 7, 7, 7, 7, 7, 16, 7, 7, 7, 7, 7, 7, 7, 7, 7, 7, 7, 7, 7, 7, 7, 0, 7, 7, 7, 7, 7, 14, 7, 7, 7, 7, 16, 7, 7, 7, 7, 7, 14, 7, 0, 14, 23, 7, 7, 14, 7, 7, 7, 6, 7, 7, 7, 7, 7, 7, 7, 7, 7, 6, 7, 7, 9, 7, 7, 7, 7, 6, 7, 7, 7, 7, 7, 7, 6, 7, 8, 7, 7, 4, 14, 7, 7, 7, 16, 7, 7, 7, 7, 8, 14, 7, 7, 7, 7, 7, 7, 11, 14, 7, 7, 7, 7, 7, 7, 7, 7, 6, 7, 7, 7, 7, 7, 7, 7, 7, 7, 7, 7, 7, 7, 7, 7, 7, 7, 7, 7, 16, 7, 7, 7, 7, 7, 7, 6, 14, 7, 7, 7, 7, 7, 7, 7, 7, 7, 7, 7, 23, 6, 7, 7, 7, 7, 7, 7, 7, 7, 7, 7, 7, 7, 7, 14, 7, 7, 7, 7, 6, 7, 7, 7, 16, 7, 7, 7, 7, 7, 7, 7, 7, 7, 7, 7, 7, 7, 7, 14, 7, 7, 7, 7, 7, 7, 7, 7, 7, 7, 6, 7, 14, 6, 7, 7, 14, 7, 7, 6, 7, 7, 7, 7, 7, 7, 7, 7, 7, 16, 6, 7, 7, 7, 7, 7, 7, 7, 7, 7, 7, 7, 14, 7, 7, 4, 7, 7, 16, 7, 7, 7, 7, 7, 7, 7, 7, 7, 7, 6, 7, 14, 7, 14, 7, 7, 7, 7, 21, 7, 7, 7, 7, 7, 7, 7, 7, 7, 7, 7, 16, 7, 7, 6, 7, 7, 7, 7, 7, 7, 6, 7, 7, 7, 7, 7, 14, 7]\n",
            "[10, 7, 7, 7, 16, 7, 7, 7, 7, 7, 7, 7, 7, 7, 7, 7, 23, 16, 6, 7, 7, 7, 7, 7, 7, 7, 0, 7, 7, 7, 7, 7, 7, 7, 7, 7, 14, 7, 7, 7, 7, 14, 7, 7, 7, 7, 7, 14, 0, 6, 7, 7, 7, 7, 7, 14, 7, 7, 14, 7, 7, 7, 12, 7, 7, 7, 7, 6, 7, 7, 16, 7, 7, 16, 7, 7, 7, 7, 14, 7, 7, 7, 7, 0, 7, 7, 7, 7, 7, 7, 7, 7, 6, 7, 7, 6, 7, 7, 7, 16, 7, 16, 7, 7, 7, 6, 14, 7, 7, 7, 14, 7, 7, 7, 7, 7, 7, 7, 7, 7, 7, 7, 7, 7, 7, 7, 7, 7, 8, 7, 7, 7, 7, 7, 7, 7, 7, 7, 7, 7, 7, 7, 7, 7, 7, 7, 7, 7, 10, 7, 7, 7, 7, 7, 7, 7, 7, 7, 14, 7, 7, 7, 7, 6, 7, 7, 6, 7, 7, 0, 7, 7, 7, 7, 14, 7, 7, 7, 7, 7, 7, 14, 7, 7, 7, 7, 7, 7, 7, 6, 0, 7, 7, 7, 7, 7, 6, 7, 6, 7, 7, 7, 7, 7, 6, 0, 7, 14, 7, 7, 7, 7, 7, 6, 7, 7, 16, 7, 7, 7, 14, 7, 16, 14, 23, 7, 7, 16, 7, 7, 7, 7, 7, 7, 7, 7, 7, 7, 7, 7, 7, 7, 7, 7, 7, 7, 7, 7, 7, 7, 7, 7, 7, 7, 14, 7, 7, 1, 14, 7, 7, 7, 6, 7, 7, 7, 7, 7, 7, 7, 14, 7, 7, 7, 7, 7, 7, 7, 7, 7, 7, 7, 7, 7, 7, 7, 7, 7, 7, 7, 14, 7, 14, 7, 14, 7, 7, 7, 0, 7]\n",
            "[7, 7, 7, 8, 7, 7, 7, 7, 7, 16, 0, 19, 7, 23, 7, 7, 7, 7, 7, 7, 7, 7, 7, 7, 7, 7, 7, 7, 7, 7, 7, 7, 7, 7, 7, 7, 7, 0, 7, 7, 7, 7, 7, 7, 7, 7, 6, 7, 7, 7, 7, 7, 14, 7, 7, 0, 7, 14, 22, 7, 7, 6, 7, 0, 6, 7, 7, 7, 7, 7, 7, 6, 7, 7, 7, 7, 7, 7, 7, 7, 7, 7, 4, 7, 7, 7, 10, 7, 7, 0, 7, 7, 6, 7, 7, 7, 7, 1, 6, 7, 7, 7, 7, 7, 7, 7, 14, 7, 7, 7, 7, 7, 7, 7, 14, 7, 7, 6, 7, 7, 7, 7, 7, 16, 7, 7, 7, 6, 7, 7, 1, 7, 6, 7, 7, 6, 0, 7, 7, 7, 16, 7, 7, 7, 7, 14, 7, 7, 7, 7, 7, 7, 7, 7, 7, 7, 7, 7, 7, 16, 6, 7, 0, 7, 7, 7, 7, 7, 4, 7, 7, 16, 7, 6, 7, 16, 7, 7, 7, 7, 7, 6, 7, 7, 7, 7, 7, 7, 7, 7, 14, 7, 7, 6, 7, 7, 7, 7, 7, 7, 7, 7, 7, 7, 7, 7, 7, 7, 7, 7, 7, 7, 1, 7, 7, 7, 7, 7, 7, 7, 14, 6, 7, 7, 14, 7, 7, 7, 7, 7, 7, 8, 7, 7, 7, 7, 7, 6, 7, 7, 7, 7, 7, 7, 7, 7, 7, 7, 7, 7, 7, 7, 18, 7, 14, 7, 14, 7, 7, 7, 7, 7, 7, 16, 7, 7, 7, 7, 7, 16, 16, 7, 14, 7, 14, 7, 7, 7, 7, 7, 7, 7, 7, 8, 17, 7, 7, 14, 7, 7, 6, 7, 7, 7, 0, 7, 7, 7, 7, 7]\n",
            "[7, 10, 7, 14, 7, 7, 16, 7, 7, 7, 7, 7, 7, 7, 7, 7, 7, 16, 7, 7, 6, 6, 7, 7, 7, 7, 7, 14, 7, 7, 7, 7, 7, 16, 16, 6, 6, 0, 14, 7, 7, 10, 16, 7, 7, 7, 6, 7, 7, 6, 7, 7, 7, 7, 6, 7, 7, 14, 7, 7, 7, 7, 7, 7, 7, 7, 7, 14, 7, 7, 7, 7, 7, 7, 16, 7, 7, 7, 7, 7, 7, 7, 7, 7, 7, 7, 7, 7, 7, 7, 7, 7, 7, 7, 7, 7, 7, 14, 7, 7, 7, 7, 7, 7, 7, 7, 14, 7, 18, 7, 7, 14, 7, 7, 7, 7, 7, 14, 7, 7, 7, 7, 7, 7, 0, 7, 7, 7, 7, 7, 7, 7, 7, 4, 7, 7, 14, 16, 7, 14, 7, 7, 7, 7, 7, 16, 7, 21, 18, 7, 7, 6, 7, 7, 7, 7, 7, 7, 6, 7, 6, 7, 6, 7, 7, 7, 7, 16, 7, 7, 7, 7, 7, 14, 7, 7, 7, 16, 7, 7, 7, 0, 7, 7, 4, 7, 7, 0, 7, 14, 7, 21, 7, 7, 7, 7, 4, 0, 7, 7, 14, 6, 7, 7, 14, 7, 7, 7, 14, 7, 7, 7, 7, 7, 7, 7, 7, 7, 7, 14, 7, 16, 7, 7, 7, 7, 7, 7, 14, 7, 7, 7, 4, 7, 14, 7, 7, 6, 16, 7, 7, 7, 7, 7, 7, 7, 7, 7, 7, 6, 7, 7, 7, 7, 7, 1, 7, 7, 7, 6, 7, 7, 7, 7, 7, 7, 16, 7, 7, 7, 7, 0, 8, 7, 0, 7, 7, 7, 6, 14, 7, 14, 7, 7, 7, 7, 7, 7, 16, 7, 7, 7, 7, 7, 7, 4, 7, 7, 7, 7]\n",
            "[16, 7, 7, 16, 7, 7, 6, 7, 16, 7, 7, 7, 7, 7, 7, 14, 7, 14, 6, 7, 7, 7, 7, 7, 7, 7, 21, 7, 7, 7, 7, 7, 7, 7, 7, 7, 7, 7, 7, 7, 7, 7, 6, 7, 7, 7, 16, 7, 7, 7, 7, 7, 7, 7, 7, 0, 7, 7, 7, 7, 7, 0, 7, 7, 7, 11, 0, 7, 7, 7, 7, 7, 7, 7, 6, 11, 7, 7, 7, 0, 7, 7, 7, 7, 7, 7, 7, 7, 7, 16, 7, 7, 4, 7, 7, 0, 7, 7, 7, 4, 7, 7, 7, 4, 14, 14, 7, 7, 7, 0, 14, 7, 7, 7, 7, 7, 7, 7, 7, 7, 7, 7, 7, 7, 7, 7, 14, 4, 7, 7, 7, 7, 7, 7, 7, 7, 7, 7, 7, 10, 14, 7, 7, 7, 7, 7, 7, 7, 7, 16, 7, 7, 7, 7, 7, 7, 7, 1, 7, 7, 7, 7, 7, 14, 7, 7, 7, 14, 11, 7, 7, 7, 7, 7, 7, 7, 7, 7, 7, 14, 20, 7, 7, 6, 7, 7, 11, 7, 7, 23, 14, 7, 7, 7, 7, 7, 7, 7, 7, 7, 7, 7, 7, 7, 14, 16, 7, 7, 14, 7, 7, 7, 7, 16, 7, 16, 7, 7, 7, 7, 7, 7, 7, 7, 7, 14, 7, 7, 7, 14, 7, 7, 7, 7, 7, 7, 6, 7, 7, 7, 7, 7, 7, 7, 6, 7, 4, 7, 14, 7, 7, 7, 18, 16, 7, 7, 7, 7, 16, 7, 7, 7, 16, 7, 7, 7, 7, 7, 7, 7, 7, 7, 4, 7, 16, 7, 7, 7, 7, 7, 7, 7, 7, 7, 7, 4, 7, 7, 7, 7, 7, 7, 6, 7, 7, 7, 7, 7, 7, 7]\n",
            "[16, 7, 7, 7, 7, 16, 0, 7, 7, 7, 7, 7, 7, 7, 7, 7, 7, 7, 16, 7, 16, 7, 7, 7, 7, 7, 7, 7, 7, 7, 7, 14, 7, 7, 7, 7, 7, 7, 6, 7, 7, 7, 7, 7, 7, 7, 7, 14, 7, 7, 7, 7, 7, 7, 14, 7, 7, 7, 7, 7, 7, 7, 14, 7, 20, 7, 7, 7, 7, 7, 7, 7, 7, 7, 7, 7, 7, 7, 16, 7, 14, 14, 7, 7, 4, 7, 7, 7, 6, 7, 7, 7, 6, 6, 7, 7, 7, 7, 7, 7, 7, 7, 7, 7, 6, 6, 7, 7, 7, 7, 14, 7, 16, 7, 7, 7, 7, 7, 7, 7, 7, 7, 7, 10, 23, 7, 14, 6, 7, 7, 6, 1, 7, 7, 7, 7, 7, 7, 7, 7, 7, 7, 7, 7, 7, 7, 7, 7, 14, 7, 7, 6, 7, 7, 7, 7, 7, 7, 7, 6, 7, 7, 7, 7, 7, 7, 7, 7, 6, 7, 7, 7, 7, 7, 7, 7, 7, 7, 7, 7, 16, 4, 7, 7, 7, 7, 9, 7, 7, 7, 14, 6, 7, 21, 7, 6, 7, 6, 7, 7, 7, 7, 7, 7, 7, 7, 7, 7, 7, 7, 7, 7, 7, 7, 7, 7, 7, 0, 6, 7, 21, 7, 7, 7, 7, 7, 7, 0, 14, 7, 7, 0, 7, 16, 7, 7, 7, 7, 7, 14, 7, 7, 7, 7, 7, 6, 7, 7, 7, 7, 7, 7, 7, 7, 7, 7, 7, 7, 7, 7, 7, 6, 7, 7, 7, 14, 7, 7, 7, 7, 7, 7, 7, 7, 6, 7, 7, 7, 7, 7, 7, 7, 7, 16, 7, 6, 7, 14, 7, 7, 4, 7, 14, 7, 7, 7, 7, 7, 21, 14]\n",
            "[6, 7, 7, 14, 7, 16, 0, 7, 7, 7, 7, 7, 7, 7, 7, 7, 14, 7, 23, 7, 7, 7, 7, 7, 7, 7, 16, 8, 7, 7, 7, 7, 7, 7, 7, 7, 7, 7, 7, 7, 7, 7, 7, 7, 7, 7, 7, 7, 7, 7, 7, 7, 7, 7, 7, 16, 7, 7, 7, 7, 7, 7, 7, 7, 7, 6, 0, 7, 7, 7, 7, 7, 7, 7, 7, 7, 7, 6, 7, 7, 7, 7, 7, 7, 7, 7, 7, 7, 16, 7, 7, 16, 7, 7, 7, 7, 6, 7, 0, 7, 7, 7, 7, 7, 7, 5, 7, 7, 7, 7, 0, 7, 7, 7, 7, 7, 7, 7, 7, 7, 7, 7, 7, 7, 7, 7, 7, 7, 6, 7, 7, 7, 7, 7, 7, 7, 7, 7, 7, 7, 7, 7, 7, 7, 7, 7, 0, 7, 10, 7, 7, 7, 7, 7, 7, 7, 7, 7, 6, 7, 7, 7, 7, 7, 7, 7, 4, 6, 7, 7, 7, 7, 7, 7, 16, 16, 7, 16, 7, 7, 7, 7, 7, 10, 0, 7, 7, 7, 7, 7, 7, 6, 7, 7, 7, 7, 7, 7, 1, 6, 7, 7, 16, 7, 7, 7, 7, 7, 7, 16, 7, 7, 6, 7, 7, 7, 7, 16, 7, 7, 7, 7, 7, 7, 7, 7, 7, 7, 7, 7, 6, 7, 7, 23, 7, 7, 7, 10, 7, 7, 7, 7, 7, 7, 7, 16, 7, 7, 7, 7, 7, 7, 7, 16, 14, 14, 7, 7, 16, 7, 7, 7, 7, 7, 5, 7, 7, 6, 14, 7, 7, 7, 7, 7, 6, 14, 7, 7, 7, 7, 7, 7, 7, 7, 7, 7, 7, 7, 7, 7, 7, 7, 7, 0, 7, 12, 14, 7, 7, 7]\n",
            "[7, 7, 7, 4, 7, 6, 7, 7, 7, 7, 0, 7, 7, 7, 7, 0, 7, 7, 0, 7, 7, 0, 7, 7, 7, 7, 7, 7, 7, 7, 7, 7, 1, 7, 7, 7, 7, 0, 7, 7, 7, 7, 7, 7, 7, 7, 7, 7, 7, 14, 4, 16, 7, 7, 7, 7, 7, 7, 7, 7, 7, 7, 7, 7, 6, 7, 7, 14, 7, 7, 0, 7, 7, 7, 7, 7, 14, 7, 16, 7, 7, 7, 7, 7, 7, 7, 7, 7, 7, 10, 7, 14, 6, 7, 7, 14, 7, 6, 7, 7, 7, 7, 7, 7, 7, 0, 23, 14, 7, 7, 14, 7, 7, 7, 7, 7, 7, 14, 14, 7, 7, 7, 7, 7, 7, 16, 21, 7, 7, 7, 7, 7, 7, 7, 7, 7, 7, 7, 7, 7, 7, 7, 7, 7, 7, 7, 7, 7, 7, 7, 7, 7, 7, 7, 7, 7, 7, 7, 0, 7, 7, 7, 7, 7, 7, 7, 7, 7, 7, 6, 7, 4, 7, 6, 16, 7, 7, 7, 7, 7, 7, 7, 7, 7, 6, 6, 7, 6, 14, 7, 6, 7, 7, 7, 4, 7, 7, 7, 7, 7, 7, 7, 1, 7, 7, 6, 7, 7, 7, 7, 7, 7, 7, 7, 14, 7, 7, 0, 6, 7, 7, 7, 10, 0, 7, 14, 7, 23, 14, 7, 7, 6, 11, 7, 7, 7, 7, 1, 7, 7, 7, 7, 7, 7, 7, 14, 7, 7, 7, 7, 7, 7, 7, 6, 7, 7, 7, 7, 7, 7, 7, 6, 7, 7, 7, 14, 7, 7, 14, 7, 7, 7, 6, 7, 7, 7, 7, 7, 7, 7, 7, 20, 7, 14, 7, 7, 7, 7, 18, 7, 16, 7, 7, 0, 7, 7, 7, 6, 7, 1]\n",
            "[7, 7, 7, 7, 7, 7, 7, 6, 7, 7, 7, 7, 7, 7, 7, 7, 7, 7, 6, 7, 14, 7, 7, 7, 7, 7, 7, 10, 7, 7, 7, 7, 7, 7, 7, 6, 7, 14, 7, 7, 7, 7, 7, 10, 7, 7, 7, 7, 7, 7, 7, 14, 7, 7, 7, 7, 6, 7, 7, 7, 1, 7, 7, 7, 7, 7, 7, 7, 14, 14, 16, 7, 14, 7, 7, 7, 7, 14, 16, 7, 7, 7, 7, 7, 7, 7, 7, 7, 14, 7, 7, 7, 7, 7, 7, 7, 6, 7, 7, 7, 7, 7, 6, 7, 7, 14, 7, 6, 7, 7, 7, 7, 7, 0, 7, 9, 7, 7, 7, 7, 7, 7, 8, 7, 7, 6, 7, 16, 7, 7, 7, 7, 7, 7, 7, 7, 7, 7, 7, 7, 7, 7, 6, 7, 7, 7, 7, 7, 16, 7, 14, 7, 7, 7, 7, 7, 4, 7, 7, 7, 7, 7, 16, 7, 7, 7, 7, 7, 7, 7, 7, 7, 7, 7, 7, 7, 0, 6, 7, 7, 7, 7, 6, 7, 7, 7, 7, 7, 7, 7, 7, 23, 7, 7, 7, 7, 7, 9, 7, 7, 7, 7, 7, 7, 7, 16, 16, 6, 7, 7, 7, 6, 7, 7, 7, 7, 7, 7, 7, 7, 7, 7, 7, 7, 7, 6, 7, 16, 7, 4, 7, 7, 7, 7, 7, 1, 7, 7, 7, 6, 7, 7, 14, 7, 0, 7, 7, 7, 7, 7, 7, 7, 7, 7, 7, 7, 14, 7, 7, 7, 7, 9, 7, 7, 7, 7, 14, 7, 7, 7, 7, 7, 7, 14, 0, 7, 7, 7, 14, 7, 7, 7, 7, 7, 7, 7, 7, 7, 7, 7, 7, 7, 7, 7, 7, 7, 7, 7, 7, 7]\n",
            "[7, 7, 7, 7, 6, 7, 7, 7, 7, 6, 7, 7, 7, 7, 7, 7, 7, 0, 7, 7, 6, 7, 7, 7, 7, 7, 7, 1, 7, 7, 7, 6, 9, 7, 7, 7, 7, 7, 7, 7, 7, 16, 7, 6, 7, 7, 7, 14, 7, 7, 7, 7, 7, 16, 7, 7, 7, 6, 7, 7, 7, 7, 7, 7, 7, 6, 6, 7, 7, 7, 7, 7, 0, 1, 6, 7, 16, 7, 7, 7, 7, 0, 7, 7, 7, 7, 6, 7, 7, 7, 7, 7, 8, 7, 7, 14, 7, 7, 7, 7, 7, 7, 7, 7, 16, 7, 7, 6, 7, 7, 6, 7, 7, 7, 7, 6, 11, 7, 7, 16, 7, 7, 6, 7, 7, 7, 7, 14, 14, 14, 7, 4, 7, 7, 7, 6, 14, 7, 14, 7, 7, 7, 7, 7, 7, 7, 7, 7, 7, 7, 7, 7, 7, 7, 14, 7, 7, 7, 7, 6, 7, 6, 7, 7, 7, 7, 7, 7, 7, 7, 7, 7, 7, 7, 7, 7, 7, 7, 7, 7, 7, 7, 7, 7, 7, 7, 7, 7, 16, 7, 7, 7, 7, 7, 7, 6, 7, 7, 7, 7, 7, 7, 7, 6, 7, 7, 7, 7, 1, 7, 7, 7, 7, 7, 7, 7, 7, 7, 7, 7, 7, 7, 7, 8, 7, 7, 7, 16, 7, 7, 7, 7, 7, 7, 7, 7, 21, 7, 7, 7, 7, 7, 7, 16, 7, 7, 7, 7, 7, 0, 0, 7, 7, 7, 7, 7, 14, 7, 7, 7, 16, 7, 7, 7, 7, 7, 7, 7, 7, 14, 7, 7, 7, 7, 7, 7, 7, 7, 14, 0, 7, 7, 7, 7, 7, 14, 7, 7, 7, 7, 7, 7, 7, 7, 7, 7, 6, 7, 7, 7]\n",
            "[7, 7, 7, 7, 0, 7, 7, 7, 7, 7, 7, 7, 1, 7, 7, 7, 7, 7, 7, 7, 7, 4, 7, 7, 7, 7, 7, 7, 7, 6, 7, 7, 7, 7, 7, 16, 7, 7, 7, 7, 18, 7, 7, 14, 7, 7, 7, 7, 7, 8, 17, 7, 7, 14, 7, 7, 7, 7, 7, 7, 7, 7, 7, 7, 7, 7, 7, 7, 7, 14, 7, 7, 7, 7, 7, 7, 7, 14, 7, 7, 7, 6, 7, 7, 16, 7, 7, 7, 7, 7, 7, 7, 7, 16, 7, 7, 7, 7, 7, 7, 7, 7, 7, 7, 7, 14, 7, 7, 7, 7, 7, 7, 16, 7, 7, 7, 7, 6, 14, 7, 7, 0, 7, 9, 7, 7, 7, 7, 7, 16, 0, 7, 7, 7, 7, 7, 7, 7, 7, 7, 7, 7, 7, 7, 7, 7, 7, 7, 7, 7, 7, 7, 7, 7, 7, 7, 7, 7, 7, 14, 7, 7, 7, 7, 10, 7, 7, 7, 7, 16, 7, 7, 7, 7, 7, 7, 7, 21, 7, 7, 7, 16, 7, 7, 7, 7, 16, 7, 7, 7, 7, 7, 7, 7, 6, 7, 7, 7, 6, 7, 6, 7, 7, 7, 7, 7, 7, 7, 7, 7, 0, 7, 7, 7, 7, 7, 7, 6, 7, 7, 7, 7, 7, 7, 7, 7, 7, 7, 7, 7, 7, 7, 7, 7, 7, 7, 19, 7, 7, 7, 7, 7, 7, 7, 14, 7, 7, 7, 7, 7, 7, 7, 7, 7, 7, 7, 7, 7, 7, 7, 7, 7, 7, 7, 7, 7, 7, 7, 7, 7, 7, 7, 7, 7, 7, 7, 7, 7, 7, 7, 7, 6, 7, 7, 7, 14, 6, 7, 6, 7, 16, 7, 7, 7, 7, 7, 14, 7, 7, 7]\n",
            "[7, 7, 7, 7, 7, 7, 7, 7, 7, 7, 6, 7, 7, 7, 7, 7, 7, 16, 7, 7, 16, 7, 7, 7, 0, 5, 7, 7, 7, 7, 7, 7, 7, 7, 16, 7, 7, 7, 7, 7, 7, 0, 7, 7, 7, 7, 7, 7, 14, 7, 7, 7, 7, 7, 7, 7, 7, 7, 7, 7, 7, 7, 0, 7, 16, 7, 7, 7, 7, 7, 6, 6, 7, 7, 7, 7, 14, 7, 7, 7, 7, 7, 7, 7, 7, 7, 7, 7, 7, 7, 7, 7, 7, 14, 7, 7, 7, 7, 7, 7, 7, 14, 7, 7, 7, 7, 7, 7, 7, 7, 7, 7, 7, 7, 7, 14, 7, 7, 7, 7, 7, 7, 7, 7, 6, 7, 7, 7, 7, 7, 7, 7, 7, 7, 7, 14, 7, 7, 7, 7, 7, 10, 7, 7, 7, 7, 7, 7, 7, 7, 7, 7, 7, 7, 7, 7, 7, 1, 7, 14, 16, 7, 7, 0, 7, 14, 7, 7, 7, 7, 7, 7, 7, 16, 7, 7, 7, 7, 7, 7, 7, 7, 7, 6, 7, 7, 7, 7, 7, 7, 7, 7, 7, 7, 7, 7, 7, 7, 7, 7, 7, 7, 7, 7, 4, 7, 7, 7, 7, 7, 7, 7, 7, 7, 7, 7, 7, 7, 7, 7, 6, 6, 7, 7, 7, 7, 7, 7, 7, 14, 16, 7, 7, 7, 7, 7, 7, 7, 6, 7, 7, 7, 7, 7, 7, 7, 7, 7, 7, 7, 7, 7, 7, 7, 7, 0, 7, 7, 7, 6, 14, 7, 7, 14, 7, 7, 7, 7, 7, 7, 7, 6, 16, 7, 7, 7, 7, 16, 7, 7, 7, 7, 4, 1, 7, 7, 7, 7, 0, 7, 7, 7, 21, 7, 7, 7, 7, 6, 14, 7]\n",
            "[7, 7, 7, 7, 4, 7, 7, 7, 7, 7, 7, 7, 7, 7, 7, 7, 7, 7, 7, 14, 7, 7, 6, 7, 7, 7, 7, 7, 7, 14, 7, 7, 7, 7, 7, 7, 10, 7, 7, 7, 7, 4, 7, 0, 7, 7, 7, 7, 7, 7, 7, 7, 14, 7, 0, 7, 7, 7, 7, 7, 7, 6, 7, 16, 7, 6, 7, 7, 7, 7, 6, 7, 7, 7, 7, 7, 7, 7, 7, 7, 14, 7, 16, 7, 7, 7, 7, 7, 7, 7, 7, 16, 7, 7, 7, 7, 6, 7, 7, 7, 7, 7, 7, 7, 7, 7, 7, 14, 7, 7, 7, 7, 7, 7, 7, 7, 16, 6, 7, 7, 7, 7, 7, 7, 7, 7, 7, 7, 7, 7, 7, 7, 16, 7, 7, 7, 7, 7, 7, 7, 7, 7, 7, 0, 16, 7, 0, 6, 23, 7, 7, 7, 7, 7, 7, 7, 7, 7, 7, 7, 7, 7, 6, 7, 7, 7, 7, 4, 14, 7, 7, 7, 7, 1, 7, 7, 16, 7, 16, 7, 7, 16, 7, 7, 7, 7, 16, 7, 7, 7, 10, 7, 7, 7, 7, 16, 14, 7, 7, 7, 16, 7, 7, 7, 7, 7, 7, 7, 0, 7, 7, 7, 6, 7, 7, 7, 7, 7, 7, 7, 7, 14, 7, 7, 7, 7, 7, 7, 7, 7, 14, 7, 7, 7, 7, 0, 7, 7, 7, 7, 7, 7, 7, 0, 7, 7, 7, 7, 7, 14, 7, 7, 16, 7, 19, 7, 7, 16, 16, 7, 1, 7, 7, 7, 7, 7, 7, 7, 16, 7, 7, 7, 7, 7, 7, 0, 7, 7, 14, 7, 14, 7, 14, 7, 7, 7, 7, 7, 7, 7, 7, 7, 14, 7, 7, 7, 7, 7, 7, 7]\n",
            "[7, 7, 7, 7, 7, 7, 7, 7, 7, 7, 7, 7, 7, 7, 7, 7, 7, 7, 7, 21, 0, 7, 16, 7, 7, 7, 4, 7, 14, 7, 7, 7, 16, 7, 7, 6, 7, 7, 7, 7, 7, 14, 7, 7, 7, 7, 7, 14, 1, 16, 16, 7, 6, 7, 7, 7, 7, 7, 7, 7, 7, 7, 7, 7, 7, 7, 7, 7, 6, 7, 14, 4, 6, 20, 7, 6, 7, 7, 7, 16, 7, 16, 8, 16, 7, 7, 7, 7, 7, 7, 7, 14, 7, 7, 7, 7, 7, 7, 7, 7, 7, 7, 16, 7, 7, 7, 14, 1, 7, 7, 7, 0, 16, 7, 7, 16, 7, 7, 4, 7, 0, 7, 7, 7, 7, 7, 7, 7, 7, 7, 7, 7, 7, 7, 7, 7, 7, 7, 7, 7, 7, 7, 7, 7, 7, 7, 7, 7, 7, 7, 7, 16, 7, 7, 7, 7, 7, 6, 7, 14, 7, 7, 7, 21, 6, 7, 7, 7, 7, 16, 7, 7, 7, 7, 7, 7, 7, 7, 7, 7, 7, 7, 7, 7, 7, 7, 7, 7, 7, 7, 7, 7, 7, 7, 7, 7, 7, 7, 7, 7, 7, 7, 7, 7, 7, 7, 7, 7, 7, 7, 7, 7, 7, 7, 7, 7, 7, 16, 7, 16, 7, 7, 7, 7, 6, 7, 6, 7, 7, 0, 7, 7, 0, 7, 7, 6, 7, 7, 7, 7, 14, 7, 7, 7, 14, 7, 7, 16, 7, 7, 6, 22, 7, 7, 7, 7, 7, 7, 7, 6, 7, 7, 7, 7, 7, 16, 7, 7, 7, 6, 7, 6, 7, 7, 7, 10, 7, 7, 7, 7, 7, 16, 7, 7, 7, 7, 14, 7, 7, 16, 7, 7, 7, 7, 7, 7, 7, 7, 7, 7]\n",
            "[7, 7, 7, 7, 7, 7, 7, 7, 7, 7, 16, 7, 7, 19, 7, 7, 7, 7, 7, 7, 16, 6, 6, 7, 7, 7, 7, 7, 7, 14, 7, 7, 7, 7, 7, 7, 7, 7, 7, 7, 7, 7, 7, 7, 16, 7, 7, 7, 7, 7, 7, 7, 7, 7, 7, 11, 7, 7, 7, 7, 7, 7, 7, 7, 7, 7, 7, 7, 7, 7, 6, 21, 6, 1, 7, 0, 7, 7, 7, 7, 7, 7, 7, 7, 7, 7, 6, 7, 7, 7, 7, 7, 7, 7, 7, 7, 7, 14, 7, 7, 20, 7, 6, 7, 7, 7, 1, 7, 7, 14, 7, 7, 7, 14, 23, 7, 7, 7, 7, 7, 7, 7, 7, 7, 7, 7, 7, 7, 7, 7, 14, 7, 7, 7, 7, 10, 7, 7, 16, 7, 7, 7, 7, 7, 7, 7, 7, 7, 7, 6, 14, 7, 7, 7, 7, 7, 7, 16, 7, 7, 7, 7, 7, 7, 7, 4, 7, 7, 7, 23, 7, 7, 7, 7, 7, 7, 7, 7, 7, 7, 7, 21, 7, 7, 7, 7, 7, 0, 7, 7, 14, 7, 7, 7, 16, 7, 7, 7, 7, 7, 7, 7, 7, 7, 21, 16, 7, 7, 7, 7, 7, 14, 7, 7, 7, 7, 7, 7, 7, 7, 7, 1, 7, 7, 7, 7, 7, 7, 7, 7, 7, 16, 7, 7, 7, 14, 7, 7, 7, 7, 16, 7, 16, 7, 7, 7, 7, 7, 16, 7, 7, 6, 11, 7, 14, 7, 7, 7, 6, 7, 7, 7, 7, 14, 7, 7, 7, 7, 7, 7, 7, 6, 7, 7, 19, 7, 4, 14, 7, 7, 7, 7, 6, 7, 7, 7, 7, 7, 7, 7, 7, 7, 7, 7, 7, 7, 7, 7, 7, 7]\n",
            "[7, 7, 7, 16, 7, 7, 7, 7, 7, 7, 7, 7, 7, 7, 7, 6, 7, 7, 7, 7, 7, 16, 0, 7, 7, 6, 7, 7, 7, 7, 7, 7, 16, 7, 7, 7, 7, 0, 0, 0, 7, 7, 7, 7, 7, 7, 7, 7, 7, 7, 7, 7, 7, 15, 7, 7, 7, 7, 7, 16, 14, 7, 7, 7, 7, 7, 7, 7, 7, 7, 7, 7, 7, 0, 16, 7, 7, 7, 7, 6, 6, 14, 7, 7, 7, 7, 7, 7, 7, 6, 7, 7, 7, 7, 7, 9, 16, 7, 7, 7, 6, 7, 7, 14, 7, 7, 7, 7, 7, 7, 7, 7, 7, 7, 7, 7, 7, 14, 7, 7, 7, 7, 6, 7, 7, 7, 7, 7, 14, 7, 7, 6, 7, 6, 7, 7, 7, 7, 7, 7, 7, 0, 6, 7, 7, 7, 7, 7, 7, 14, 6, 7, 7, 6, 14, 7, 7, 14, 7, 7, 21, 7, 7, 7, 1, 7, 7, 7, 7, 6, 7, 7, 7, 7, 7, 7, 6, 7, 7, 7, 7, 7, 7, 7, 7, 7, 7, 7, 7, 7, 7, 7, 7, 7, 7, 7, 14, 7, 16, 7, 7, 7, 7, 7, 16, 7, 7, 7, 7, 7, 6, 7, 7, 16, 7, 7, 7, 7, 7, 7, 7, 7, 7, 6, 7, 6, 7, 7, 14, 7, 7, 7, 7, 7, 7, 6, 3, 14, 7, 7, 7, 7, 7, 7, 7, 7, 7, 7, 7, 7, 7, 7, 7, 7, 7, 7, 7, 7, 7, 7, 1, 7, 7, 7, 6, 7, 7, 7, 7, 4, 7, 7, 7, 7, 16, 7, 7, 6, 7, 16, 7, 7, 7, 7, 23, 7, 7, 7, 7, 7, 16, 7, 7, 7, 7, 16, 7, 7, 7, 7]\n",
            "[0, 7, 7, 7, 7, 14, 7, 7, 7, 7, 7, 14, 14, 16, 7, 14, 7, 7, 7, 7, 7, 7, 14, 14, 7, 7, 7, 7, 7, 7, 7, 7, 14, 7, 7, 7, 7, 7, 7, 7, 7, 7, 7, 7, 7, 7, 7, 7, 14, 7, 7, 7, 7, 7, 7, 7, 7, 7, 7, 7, 6, 7, 7, 7, 7, 7, 7, 7, 7, 7, 7, 16, 7, 7, 7, 7, 7, 7, 7, 7, 7, 7, 7, 7, 7, 7, 7, 7, 9, 7, 7, 7, 7, 7, 7, 7, 7, 7, 7, 7, 7, 6, 7, 21, 7, 7, 7, 0, 0, 7, 7, 7, 7, 7, 14, 6, 6, 8, 7, 0, 7, 7, 7, 7, 7, 7, 7, 1, 6, 14, 7, 6, 7, 7, 7, 7, 14, 7, 7, 7, 14, 7, 7, 7, 6, 7, 7, 7, 7, 7, 7, 7, 7, 7, 7, 7, 7, 7, 14, 7, 14, 7, 7, 7, 7, 7, 7, 7, 7, 7, 7, 7, 7, 7, 7, 7, 16, 1, 7, 7, 7, 14, 7, 7, 7, 7, 8, 7, 7, 7, 7, 7, 7, 7, 7, 7, 7, 7, 7, 7, 7, 7, 7, 7, 7, 7, 7, 7, 6, 7, 7, 7, 7, 7, 7, 7, 7, 7, 14, 16, 7, 0, 4, 7, 7, 7, 7, 7, 7, 7, 7, 6, 7, 7, 6, 7, 0, 5, 7, 7, 7, 7, 7, 7, 7, 7, 7, 7, 7, 7, 7, 7, 0, 7, 7, 4, 7, 7, 7, 7, 16, 7, 7, 7, 7, 16, 7, 1, 7, 7, 7, 7, 7, 7, 7, 7, 6, 7, 7, 7, 7, 7, 7, 6, 7, 16, 7, 7, 7, 7, 7, 7, 7, 7, 7, 7, 7, 7, 7, 7]\n",
            "[7, 7, 7, 7, 7, 0, 14, 7, 7, 7, 7, 7, 17, 7, 14, 7, 7, 7, 7, 7, 7, 7, 6, 7, 14, 7, 7, 16, 7, 7, 6, 7, 7, 7, 7, 7, 7, 7, 16, 7, 8, 7, 7, 7, 21, 7, 7, 0, 0, 7, 7, 7, 14, 7, 7, 7, 7, 7, 16, 7, 16, 23, 7, 7, 7, 7, 7, 7, 7, 7, 7, 7, 7, 7, 7, 7, 7, 7, 7, 7, 7, 7, 7, 7, 7, 7, 7, 16, 7, 11, 7, 7, 7, 7, 7, 7, 7, 7, 7, 7, 1, 7, 7, 7, 7, 7, 7, 7, 7, 14, 7, 7, 7, 7, 7, 7, 7, 7, 7, 7, 7, 7, 7, 7, 16, 7, 7, 7, 7, 14, 7, 7, 7, 7, 7, 7, 7, 7, 7, 7, 7, 7, 7, 7, 7, 7, 7, 7, 7, 7, 7, 7, 7, 7, 7, 7, 7, 7, 7, 6, 16, 7, 7, 23, 7, 7, 7, 7, 7, 7, 23, 7, 0, 7, 7, 7, 7, 7, 7, 7, 21, 7, 7, 7, 7, 7, 7, 11, 7, 7, 7, 14, 7, 7, 7, 14, 7, 7, 7, 7, 7, 7, 7, 7, 7, 7, 7, 7, 7, 0, 7, 7, 7, 7, 14, 0, 7, 7, 7, 7, 7, 14, 7, 7, 7, 7, 16, 7, 7, 7, 7, 0, 7, 7, 7, 7, 7, 6, 7, 7, 7, 0, 7, 7, 7, 7, 7, 7, 7, 7, 14, 7, 7, 7, 7, 14, 7, 6, 7, 7, 7, 7, 7, 16, 6, 10, 7, 7, 7, 7, 7, 7, 7, 7, 23, 6, 7, 7, 7, 7, 7, 7, 16, 6, 7, 7, 7, 7, 6, 7, 7, 7, 7, 7, 7, 7, 7, 7, 7, 7]\n",
            "[7, 7, 7, 7, 7, 11, 7, 7, 7, 7, 7, 7, 7, 7, 7, 7, 7, 7, 14, 7, 7, 7, 7, 6, 7, 7, 0, 7, 7, 7, 7, 6, 7, 7, 7, 7, 7, 7, 14, 7, 7, 7, 7, 7, 7, 7, 7, 7, 7, 7, 6, 7, 4, 6, 7, 7, 7, 7, 16, 7, 6, 7, 7, 7, 7, 7, 4, 7, 7, 7, 7, 7, 7, 7, 7, 7, 7, 7, 14, 16, 7, 14, 7, 7, 7, 7, 7, 7, 7, 7, 7, 7, 7, 7, 14, 6, 7, 7, 7, 7, 7, 7, 7, 7, 7, 6, 7, 7, 7, 7, 7, 7, 7, 7, 14, 7, 6, 7, 7, 7, 7, 7, 7, 7, 7, 7, 7, 7, 7, 7, 7, 7, 16, 7, 14, 7, 7, 7, 7, 7, 0, 7, 7, 23, 7, 14, 7, 7, 16, 7, 0, 6, 7, 7, 7, 6, 7, 6, 7, 7, 7, 7, 7, 7, 14, 7, 1, 7, 16, 7, 7, 7, 7, 7, 7, 12, 7, 7, 16, 7, 6, 7, 7, 14, 7, 7, 7, 7, 7, 7, 7, 7, 7, 6, 7, 7, 4, 7, 7, 7, 7, 10, 7, 7, 0, 7, 7, 7, 16, 7, 7, 7, 7, 7, 6, 7, 8, 14, 7, 7, 7, 7, 6, 7, 7, 7, 7, 7, 7, 7, 6, 7, 7, 0, 7, 7, 7, 7, 16, 7, 7, 7, 7, 7, 7, 7, 7, 7, 7, 7, 7, 7, 7, 7, 7, 7, 7, 7, 7, 7, 7, 7, 7, 7, 7, 7, 7, 7, 7, 16, 7, 21, 7, 7, 7, 7, 7, 7, 7, 7, 21, 7, 7, 7, 7, 7, 7, 7, 7, 7, 14, 7, 14, 7, 7, 16, 7, 7, 7, 7]\n",
            "[7, 7, 7, 7, 7, 7, 7, 7, 7, 7, 7, 7, 7, 7, 7, 7, 7, 7, 7, 14, 7, 7, 7, 7, 4, 7, 7, 7, 7, 7, 7, 7, 7, 7, 14, 7, 7, 7, 7, 7, 7, 7, 6, 7, 7, 7, 7, 7, 7, 7, 7, 6, 7, 7, 7, 7, 7, 7, 7, 7, 7, 7, 7, 6, 7, 7, 7, 7, 7, 7, 7, 7, 7, 7, 7, 7, 7, 7, 16, 7, 7, 1, 7, 7, 6, 7, 7, 7, 7, 7, 6, 6, 7, 7, 6, 6, 0, 7, 7, 7, 7, 7, 0, 7, 7, 7, 7, 7, 7, 7, 7, 7, 7, 6, 14, 7, 7, 7, 7, 7, 7, 7, 7, 7, 7, 7, 7, 10, 7, 7, 7, 7, 7, 14, 7, 7, 7, 7, 7, 7, 16, 7, 10, 14, 7, 6, 7, 7, 7, 7, 7, 7, 7, 0, 7, 7, 7, 7, 7, 7, 8, 7, 6, 7, 7, 7, 7, 7, 7, 7, 7, 7, 7, 7, 7, 7, 7, 7, 7, 7, 7, 7, 7, 7, 7, 7, 7, 7, 7, 7, 6, 6, 9, 7, 14, 7, 7, 6, 14, 0, 7, 7, 7, 7, 7, 7, 1, 7, 7, 7, 7, 7, 6, 7, 7, 16, 7, 7, 7, 7, 7, 7, 7, 7, 14, 7, 7, 7, 7, 7, 7, 7, 7, 7, 7, 16, 7, 7, 7, 7, 7, 6, 14, 7, 7, 7, 7, 1, 7, 6, 6, 7, 0, 7, 7, 7, 7, 7, 7, 7, 7, 7, 7, 7, 7, 7, 7, 7, 7, 7, 1, 7, 7, 7, 7, 7, 7, 7, 7, 7, 7, 7, 7, 7, 7, 7, 14, 7, 0, 7, 7, 7, 1, 7, 14, 6, 7, 6, 7, 14]\n",
            "[7, 7, 1, 7, 0, 7, 7, 7, 7, 7, 7, 7, 7, 7, 7, 7, 8, 7, 7, 7, 7, 7, 6, 7, 7, 7, 7, 7, 7, 7, 7, 7, 16, 7, 7, 7, 7, 7, 7, 7, 7, 14, 9, 7, 1, 7, 7, 9, 7, 7, 7, 6, 16, 7, 7, 7, 7, 7, 7, 18, 7, 7, 21, 7, 7, 0, 16, 7, 7, 16, 7, 15, 7, 7, 7, 7, 7, 7, 7, 7, 7, 7, 7, 10, 7, 7, 16, 6, 7, 7, 7, 7, 7, 7, 16, 7, 7, 7, 14, 7, 7, 7, 7, 7, 7, 7, 7, 7, 7, 7, 16, 7, 7, 7, 6, 4, 7, 7, 7, 7, 7, 7, 7, 7, 7, 7, 7, 7, 7, 7, 7, 7, 7, 7, 7, 7, 7, 14, 7, 7, 7, 7, 7, 7, 7, 7, 7, 7, 7, 7, 7, 7, 7, 6, 7, 7, 4, 7, 14, 7, 7, 7, 7, 7, 7, 7, 7, 7, 7, 7, 7, 7, 7, 7, 7, 7, 7, 14, 7, 3, 6, 16, 7, 7, 10, 7, 7, 7, 7, 7, 7, 7, 7, 7, 0, 7, 7, 7, 7, 7, 7, 7, 7, 7, 7, 8, 7, 7, 7, 7, 6, 7, 7, 7, 7, 21, 16, 7, 7, 7, 7, 8, 7, 7, 7, 7, 7, 7, 7, 7, 6, 7, 7, 1, 14, 6, 7, 7, 7, 7, 7, 7, 7, 7, 7, 7, 6, 7, 7, 6, 1, 7, 7, 7, 7, 7, 6, 7, 7, 7, 7, 14, 7, 0, 10, 7, 6, 7, 6, 16, 7, 7, 7, 7, 7, 7, 7, 7, 7, 7, 7, 0, 7, 7, 7, 7, 7, 7, 7, 14, 7, 6, 7, 7, 7, 7, 7, 7, 7, 7]\n",
            "[7, 7, 7, 6, 7, 7, 14, 7, 7, 7, 7, 14, 7, 7, 7, 7, 0, 7, 7, 7, 16, 7, 6, 7, 7, 7, 7, 7, 7, 7, 14, 7, 7, 7, 7, 7, 7, 7, 7, 7, 7, 7, 7, 6, 7, 7, 7, 7, 14, 7, 7, 14, 7, 7, 7, 7, 7, 7, 7, 7, 7, 16, 7, 7, 7, 7, 7, 7, 7, 14, 7, 7, 7, 7, 7, 7, 7, 7, 7, 7, 7, 6, 7, 7, 7, 7, 7, 7, 7, 7, 7, 7, 7, 7, 7, 14, 7, 21, 7, 7, 7, 7, 7, 7, 7, 7, 16, 7, 7, 7, 7, 7, 7, 7, 7, 4, 23, 7, 7, 6, 7, 7, 7, 7, 14, 7, 16, 6, 7, 7, 7, 0, 7, 7, 7, 4, 7, 7, 7, 7, 7, 7, 7, 7, 7, 7, 7, 16, 16, 7, 7, 7, 7, 7, 7, 7, 7, 7, 7, 7, 7, 7, 3, 7, 14, 7, 7, 16, 7, 7, 6, 7, 7, 7, 7, 7, 6, 7, 7, 7, 7, 7, 7, 7, 7, 7, 7, 14, 16, 7, 7, 11, 16, 7, 7, 7, 7, 7, 7, 7, 7, 7, 7, 7, 7, 7, 7, 16, 7, 7, 7, 14, 7, 7, 7, 7, 7, 7, 16, 7, 14, 7, 7, 7, 7, 7, 7, 7, 7, 7, 7, 7, 7, 7, 7, 7, 7, 7, 7, 7, 6, 7, 7, 7, 7, 7, 7, 7, 7, 7, 7, 14, 7, 7, 7, 7, 7, 7, 7, 6, 7, 7, 7, 7, 7, 7, 7, 7, 14, 7, 14, 7, 7, 7, 7, 7, 7, 7, 7, 7, 7, 0, 7, 7, 7, 14, 7, 7, 7, 7, 7, 7, 7, 14, 7, 7, 7, 7, 0, 7]\n",
            "[7, 7, 7, 7, 7, 7, 7, 7, 6, 7, 7, 7, 7, 7, 10, 7, 7, 7, 7, 7, 6, 7, 7, 7, 14, 7, 7, 7, 7, 7, 7, 7, 7, 0, 7, 7, 7, 7, 7, 7, 14, 7, 7, 8, 7, 7, 7, 6, 7, 7, 7, 7, 7, 6, 7, 4, 10, 14, 7, 7, 7, 7, 7, 7, 7, 16, 7, 7, 7, 7, 14, 7, 6, 14, 0, 7, 7, 7, 7, 1, 7, 7, 7, 7, 7, 6, 7, 7, 6, 7, 9, 10, 7, 7, 7, 7, 7, 7, 7, 7, 7, 7, 9, 10, 7, 14, 7, 7, 7, 6, 7, 7, 4, 7, 7, 7, 7, 7, 7, 7, 7, 7, 7, 7, 7, 7, 7, 7, 7, 7, 7, 7, 7, 20, 0, 16, 7, 7, 7, 7, 7, 7, 7, 7, 7, 7, 7, 7, 7, 7, 7, 7, 7, 7, 7, 7, 10, 7, 7, 7, 7, 7, 7, 7, 7, 16, 7, 7, 7, 7, 7, 7, 7, 7, 4, 7, 7, 7, 7, 16, 7, 7, 7, 7, 14, 7, 7, 7, 14, 7, 8, 7, 7, 7, 7, 16, 7, 7, 7, 7, 7, 7, 7, 7, 7, 7, 7, 7, 7, 7, 7, 7, 7, 7, 7, 7, 7, 7, 6, 7, 7, 7, 7, 7, 7, 7, 7, 7, 7, 7, 7, 7, 7, 7, 7, 7, 14, 7, 7, 7, 7, 7, 7, 7, 7, 7, 7, 7, 7, 7, 16, 7, 7, 7, 7, 7, 7, 7, 7, 7, 7, 0, 7, 7, 7, 7, 7, 7, 7, 7, 7, 7, 7, 7, 7, 7, 7, 7, 7, 7, 7, 7, 7, 7, 7, 7, 6, 8, 7, 7, 7, 7, 7, 7, 16, 7, 7, 7, 7, 7]\n",
            "[11, 7, 7, 7, 7, 8, 7, 7, 7, 6, 7, 7, 7, 7, 7, 7, 7, 7, 7, 7, 7, 7, 7, 7, 7, 7, 7, 7, 7, 7, 7, 7, 7, 7, 7, 7, 12, 7, 1, 7, 7, 7, 7, 4, 7, 7, 7, 7, 7, 7, 7, 7, 7, 7, 7, 7, 14, 7, 6, 0, 7, 21, 7, 7, 7, 7, 7, 7, 7, 7, 7, 6, 7, 7, 7, 16, 6, 7, 7, 7, 7, 7, 7, 6, 7, 7, 7, 7, 7, 7, 7, 7, 7, 7, 7, 7, 7, 7, 6, 7, 7, 7, 6, 7, 7, 7, 7, 7, 7, 7, 7, 7, 7, 7, 0, 16, 14, 14, 1, 7, 7, 7, 7, 7, 7, 7, 7, 7, 7, 7, 7, 7, 7, 7, 7, 7, 7, 7, 7, 7, 7, 7, 21, 7, 7, 7, 7, 7, 16, 7, 7, 7, 6, 7, 16, 7, 7, 7, 7, 7, 7, 7, 7, 7, 16, 7, 7, 7, 7, 7, 7, 7, 7, 7, 7, 7, 7, 7, 7, 7, 7, 7, 6, 16, 7, 7, 7, 6, 7, 7, 23, 7, 7, 7, 7, 7, 7, 14, 7, 6, 7, 16, 6, 7, 7, 7, 5, 16, 7, 7, 7, 7, 7, 7, 7, 7, 6, 7, 7, 7, 21, 16, 7, 6, 7, 7, 7, 7, 7, 7, 7, 16, 7, 7, 7, 7, 7, 7, 7, 7, 16, 7, 7, 10, 7, 14, 7, 7, 7, 7, 7, 6, 7, 7, 7, 7, 6, 7, 7, 14, 7, 18, 7, 7, 7, 7, 7, 6, 7, 10, 7, 7, 7, 7, 14, 7, 7, 23, 7, 7, 7, 7, 7, 7, 7, 7, 7, 7, 16, 7, 6, 7, 7, 7, 13, 7, 7, 7, 7, 7]\n",
            "[7, 7, 16, 7, 7, 4, 7, 7, 7, 7, 7, 16, 14, 7, 7, 7, 7, 7, 7, 7, 7, 4, 16, 7, 7, 7, 7, 1, 7, 7, 7, 7, 7, 7, 7, 7, 16, 7, 7, 7, 7, 7, 7, 0, 7, 7, 16, 7, 7, 6, 7, 7, 7, 7, 7, 7, 0, 7, 7, 7, 7, 7, 7, 7, 7, 7, 7, 7, 7, 7, 0, 7, 4, 7, 7, 7, 7, 7, 7, 16, 7, 7, 7, 7, 7, 7, 7, 10, 7, 7, 6, 7, 7, 7, 7, 7, 7, 7, 7, 7, 7, 16, 6, 7, 16, 7, 7, 7, 6, 4, 7, 7, 7, 7, 7, 7, 7, 7, 7, 7, 7, 7, 7, 7, 7, 7, 6, 7, 7, 14, 7, 7, 7, 7, 7, 7, 16, 7, 7, 7, 7, 7, 6, 7, 7, 16, 0, 7, 7, 7, 7, 7, 7, 7, 7, 7, 7, 7, 6, 7, 7, 7, 7, 7, 7, 7, 7, 7, 14, 6, 7, 7, 7, 7, 7, 7, 7, 7, 7, 7, 7, 7, 7, 7, 7, 7, 7, 7, 7, 7, 7, 7, 7, 14, 7, 7, 16, 7, 7, 7, 7, 7, 7, 7, 7, 7, 0, 7, 16, 7, 7, 7, 7, 7, 7, 7, 0, 7, 7, 16, 7, 7, 7, 7, 14, 7, 7, 7, 1, 7, 7, 7, 7, 7, 7, 7, 7, 7, 7, 7, 7, 7, 7, 7, 7, 7, 7, 7, 7, 14, 7, 14, 7, 7, 7, 14, 7, 7, 7, 7, 7, 7, 7, 7, 7, 7, 7, 7, 7, 7, 7, 7, 16, 7, 7, 7, 7, 7, 7, 7, 7, 7, 7, 14, 7, 16, 16, 7, 7, 7, 7, 0, 7, 7, 16, 16, 7, 7, 7, 7]\n",
            "[7, 6, 7, 7, 7, 7, 7, 7, 7, 7, 7, 6, 7, 16, 7, 20, 7, 7, 7, 7, 6, 7, 7, 6, 7, 7, 7, 7, 7, 7, 7, 7, 14, 7, 7, 7, 7, 7, 14, 7, 7, 7, 7, 6, 7, 7, 7, 7, 0, 7, 7, 7, 7, 7, 7, 7, 7, 7, 7, 7, 7, 7, 7, 7, 7, 7, 7, 7, 7, 7, 7, 16, 7, 21, 4, 7, 7, 0, 7, 7, 7, 7, 7, 7, 7, 7, 7, 16, 7, 7, 7, 7, 7, 7, 7, 6, 7, 7, 7, 7, 7, 7, 7, 7, 7, 7, 7, 7, 7, 7, 7, 7, 14, 7, 7, 7, 7, 7, 7, 7, 14, 7, 7, 14, 7, 7, 7, 7, 7, 7, 6, 7, 7, 7, 7, 7, 7, 7, 7, 7, 7, 7, 7, 7, 7, 7, 7, 7, 7, 4, 7, 7, 7, 7, 7, 7, 7, 6, 7, 7, 7, 6, 7, 7, 7, 16, 7, 7, 7, 6, 16, 16, 6, 7, 1, 7, 7, 7, 14, 7, 7, 7, 7, 7, 7, 7, 7, 7, 7, 7, 7, 6, 7, 7, 14, 7, 7, 7, 10, 0, 7, 7, 14, 7, 7, 7, 7, 7, 14, 14, 14, 7, 16, 7, 7, 7, 7, 14, 0, 7, 7, 6, 6, 7, 7, 7, 7, 7, 7, 7, 7, 7, 7, 7, 7, 7, 7, 7, 7, 7, 14, 7, 6, 7, 7, 4, 7, 7, 7, 0, 7, 7, 7, 7, 7, 7, 7, 7, 7, 7, 7, 14, 7, 7, 1, 7, 7, 7, 6, 6, 6, 14, 7, 7, 6, 7, 7, 7, 7, 7, 7, 7, 7, 6, 7, 7, 7, 7, 7, 7, 7, 7, 7, 7, 7, 7, 7, 7, 7, 7]\n",
            "[7, 7, 7, 7, 7, 7, 7, 0, 7, 7, 7, 7, 7, 3, 7, 7, 7, 7, 7, 7, 7, 7, 7, 7, 7, 7, 7, 10, 7, 7, 7, 7, 7, 7, 7, 7, 7, 14, 7, 7, 7, 6, 7, 7, 7, 7, 7, 7, 7, 10, 7, 7, 7, 23, 0, 7, 7, 7, 7, 7, 16, 7, 7, 7, 7, 7, 7, 7, 7, 7, 7, 7, 7, 14, 7, 14, 7, 0, 7, 7, 7, 7, 7, 7, 16, 7, 7, 7, 7, 7, 7, 7, 7, 7, 7, 16, 7, 7, 7, 7, 0, 7, 7, 7, 7, 7, 7, 7, 7, 7, 7, 7, 7, 7, 14, 7, 7, 7, 7, 7, 7, 0, 7, 6, 7, 7, 7, 7, 7, 7, 7, 6, 7, 7, 7, 15, 7, 7, 6, 7, 7, 7, 0, 7, 7, 7, 7, 7, 0, 7, 14, 7, 7, 16, 7, 7, 7, 7, 7, 7, 7, 7, 7, 7, 7, 7, 6, 7, 7, 7, 7, 7, 7, 7, 7, 7, 7, 7, 7, 16, 7, 7, 7, 7, 7, 7, 7, 7, 7, 7, 7, 10, 7, 7, 7, 7, 7, 7, 7, 7, 7, 7, 7, 7, 7, 7, 7, 7, 14, 7, 7, 21, 7, 7, 7, 7, 7, 7, 7, 7, 7, 7, 7, 7, 7, 7, 7, 7, 7, 7, 7, 7, 7, 7, 7, 7, 7, 7, 7, 7, 7, 7, 7, 7, 7, 7, 7, 7, 7, 14, 11, 7, 6, 16, 7, 7, 7, 7, 7, 16, 7, 14, 7, 7, 7, 7, 7, 16, 7, 7, 7, 7, 7, 7, 7, 7, 7, 7, 7, 7, 7, 7, 7, 14, 7, 6, 7, 7, 7, 7, 14, 7, 7, 7, 7, 7, 6, 7, 7, 7]\n",
            "[16, 7, 7, 7, 7, 14, 7, 7, 7, 7, 6, 7, 7, 14, 6, 7, 7, 7, 7, 7, 7, 7, 7, 7, 7, 7, 7, 7, 6, 7, 7, 7, 7, 7, 7, 7, 7, 7, 4, 7, 7, 7, 7, 7, 7, 7, 7, 7, 7, 7, 7, 7, 7, 7, 7, 0, 7, 7, 7, 7, 16, 7, 7, 16, 7, 7, 7, 6, 7, 7, 7, 7, 7, 7, 16, 7, 7, 7, 7, 7, 7, 7, 6, 7, 16, 14, 16, 7, 14, 7, 7, 7, 7, 7, 7, 7, 7, 4, 7, 7, 7, 7, 6, 7, 7, 7, 7, 7, 7, 7, 7, 7, 7, 7, 7, 7, 7, 7, 7, 7, 7, 7, 7, 7, 7, 7, 7, 7, 16, 7, 7, 7, 7, 7, 10, 7, 7, 7, 7, 7, 7, 7, 7, 7, 7, 7, 7, 7, 7, 7, 7, 7, 14, 7, 7, 7, 7, 7, 6, 7, 7, 7, 7, 6, 7, 7, 7, 16, 7, 7, 7, 7, 7, 7, 7, 16, 7, 7, 16, 7, 6, 7, 14, 7, 7, 14, 7, 6, 14, 7, 7, 7, 7, 14, 7, 7, 21, 7, 14, 7, 7, 7, 7, 7, 6, 7, 7, 14, 7, 6, 7, 7, 7, 16, 0, 7, 7, 7, 7, 7, 6, 7, 7, 16, 7, 7, 7, 7, 7, 6, 7, 16, 7, 14, 7, 7, 14, 7, 7, 7, 6, 7, 7, 7, 7, 7, 7, 7, 16, 7, 7, 7, 7, 7, 7, 7, 19, 7, 7, 7, 7, 7, 7, 7, 7, 6, 7, 7, 14, 7, 7, 6, 16, 7, 7, 7, 4, 7, 7, 7, 7, 7, 7, 7, 16, 7, 7, 8, 7, 7, 7, 7, 7, 7, 7, 14, 6, 7, 7, 7]\n",
            "[7, 7, 7, 6, 7, 7, 7, 7, 7, 7, 7, 7, 7, 7, 11, 7, 7, 7, 7, 7, 16, 7, 7, 7, 7, 7, 7, 7, 7, 7, 7, 7, 8, 7, 6, 6, 6, 7, 7, 7, 7, 7, 7, 7, 6, 14, 7, 7, 7, 7, 7, 7, 7, 7, 7, 7, 7, 7, 7, 7, 7, 7, 7, 7, 7, 7, 7, 7, 7, 7, 7, 7, 7, 14, 7, 14, 7, 16, 7, 7, 7, 7, 7, 0, 7, 7, 7, 7, 7, 7, 7, 7, 16, 0, 7, 0, 14, 14, 7, 7, 7, 7, 14, 7, 16, 7, 7, 7, 7, 7, 7, 6, 7, 7, 7, 6, 7, 7, 7, 7, 7, 7, 7, 7, 7, 7, 7, 7, 7, 7, 14, 14, 7, 7, 7, 7, 7, 7, 7, 7, 7, 7, 8, 7, 16, 7, 7, 7, 7, 7, 7, 7, 6, 7, 7, 7, 6, 7, 7, 4, 7, 7, 7, 7, 7, 7, 7, 7, 7, 16, 6, 7, 7, 7, 7, 7, 7, 7, 6, 16, 0, 7, 7, 6, 7, 7, 7, 7, 7, 16, 0, 7, 7, 7, 7, 7, 7, 14, 7, 7, 7, 7, 7, 7, 7, 7, 0, 7, 7, 7, 7, 7, 7, 7, 7, 7, 7, 7, 7, 7, 0, 7, 7, 14, 7, 7, 7, 7, 7, 6, 7, 7, 7, 14, 7, 7, 7, 7, 10, 7, 7, 7, 7, 14, 6, 7, 7, 7, 7, 7, 14, 7, 7, 7, 14, 14, 7, 10, 7, 6, 20, 7, 7, 7, 7, 7, 7, 7, 7, 7, 7, 7, 7, 7, 14, 7, 7, 7, 7, 7, 1, 16, 6, 7, 7, 7, 7, 7, 7, 7, 0, 7, 7, 7, 23, 7, 7, 7, 7, 7]\n",
            "[7, 7, 7, 7, 7, 7, 7, 7, 7, 7, 6, 7, 7, 7, 0, 7, 7, 7, 7, 7, 7, 7, 7, 7, 16, 6, 7, 20, 1, 7, 7, 23, 7, 7, 7, 7, 7, 7, 7, 7, 7, 7, 0, 16, 7, 7, 7, 7, 7, 7, 7, 7, 14, 6, 7, 7, 7, 7, 7, 7, 14, 0, 7, 7, 7, 7, 6, 7, 7, 7, 14, 7, 7, 7, 7, 7, 7, 7, 7, 7, 7, 7, 7, 7, 7, 7, 7, 7, 7, 7, 7, 7, 7, 7, 14, 10, 7, 1, 7, 7, 7, 7, 7, 7, 16, 7, 14, 6, 7, 7, 7, 7, 7, 7, 7, 6, 22, 7, 5, 7, 7, 7, 7, 0, 7, 16, 7, 7, 7, 7, 6, 7, 7, 16, 7, 6, 7, 7, 7, 7, 6, 7, 7, 7, 7, 7, 7, 7, 21, 7, 0, 7, 7, 4, 7, 7, 7, 7, 7, 7, 7, 0, 7, 7, 7, 7, 7, 7, 7, 7, 7, 14, 0, 7, 6, 7, 7, 7, 7, 6, 7, 7, 7, 7, 7, 7, 0, 16, 7, 7, 7, 6, 7, 7, 7, 7, 7, 7, 6, 7, 7, 7, 7, 7, 7, 6, 7, 1, 7, 7, 7, 7, 14, 7, 7, 7, 16, 6, 7, 7, 7, 7, 7, 7, 7, 7, 7, 7, 7, 7, 7, 7, 7, 6, 7, 7, 7, 7, 7, 7, 7, 16, 6, 7, 7, 7, 7, 7, 7, 7, 7, 7, 7, 7, 16, 7, 7, 7, 7, 7, 7, 7, 7, 7, 0, 7, 7, 1, 7, 7, 7, 7, 7, 7, 7, 7, 7, 7, 14, 7, 7, 7, 7, 7, 7, 7, 7, 7, 16, 21, 7, 7, 10, 7, 7, 14, 7, 16, 7, 7]\n",
            "[7, 0, 0, 7, 7, 7, 7, 0, 14, 6, 0, 18, 7, 7, 7, 7, 7, 21, 7, 7, 7, 16, 7, 7, 7, 7, 7, 7, 7, 7, 7, 15, 7, 7, 4, 16, 7, 7, 16, 4, 7, 7, 7, 7, 7, 7, 6, 16, 7, 7, 14, 7, 7, 7, 7, 7, 7, 6, 7, 7, 7, 16, 7, 7, 7, 7, 7, 7, 6, 7, 7, 7, 6, 6, 7, 7, 7, 7, 16, 7, 7, 7, 7, 7, 7, 7, 7, 7, 7, 7, 7, 6, 7, 14, 7, 7, 7, 7, 7, 7, 7, 7, 7, 7, 7, 7, 16, 7, 7, 7, 7, 14, 7, 7, 7, 7, 4, 7, 7, 7, 7, 7, 14, 7, 6, 7, 7, 7, 7, 6, 7, 7, 7, 6, 6, 7, 7, 7, 7, 7, 7, 16, 7, 7, 7, 7, 16, 7, 14, 7, 7, 7, 1, 7, 7, 7, 7, 7, 7, 7, 7, 7, 6, 7, 7, 7, 7, 7, 7, 7, 21, 7, 7, 7, 6, 7, 7, 7, 7, 7, 7, 7, 7, 7, 7, 7, 7, 6, 7, 7, 7, 7, 7, 7, 11, 7, 7, 7, 11, 7, 0, 7, 7, 14, 7, 7, 11, 7, 7, 7, 7, 16, 7, 7, 7, 7, 7, 7, 7, 7, 7, 7, 6, 7, 7, 7, 16, 14, 7, 7, 7, 7, 16, 7, 21, 6, 7, 7, 7, 7, 7, 7, 7, 7, 7, 7, 7, 7, 7, 7, 7, 14, 7, 7, 7, 0, 7, 7, 1, 7, 7, 16, 7, 7, 7, 7, 7, 7, 7, 7, 7, 7, 7, 7, 7, 7, 7, 7, 7, 0, 7, 7, 7, 6, 7, 6, 7, 7, 7, 23, 6, 7, 7, 7, 7, 7, 7, 14, 7, 7]\n",
            "[1, 7, 7, 7, 7, 7, 7, 7, 7, 7, 7, 7, 7, 7, 7, 7, 6, 7, 7, 7, 16, 7, 7, 7, 7, 7, 7, 7, 7, 7, 7, 7, 7, 7, 7, 7, 7, 7, 7, 7, 7, 14, 7, 6, 14, 7, 7, 7, 7, 10, 7, 7, 7, 7, 7, 7, 7, 7, 7, 7, 7, 16, 16, 7, 7, 6, 16, 4, 7, 7, 7, 7, 7, 7, 7, 6, 7, 7, 7, 7, 7, 10, 7, 7, 7, 7, 21, 7, 7, 7, 7, 7, 7, 6, 7, 7, 16, 7, 7, 7, 7, 7, 7, 7, 7, 7, 7, 7, 7, 7, 7, 7, 7, 1, 7, 7, 7, 7, 7, 7, 6, 7, 7, 7, 7, 7, 7, 7, 7, 7, 7, 7, 7, 7, 7, 7, 0, 7, 16, 7, 7, 7, 7, 7, 7, 7, 7, 7, 7, 7, 7, 7, 7, 7, 7, 8, 1, 7, 7, 7, 7, 7, 7, 7, 7, 7, 7, 7, 7, 7, 7, 7, 7, 7, 7, 7, 7, 7, 7, 7, 7, 7, 7, 7, 7, 7, 7, 7, 7, 7, 7, 16, 7, 7, 7, 7, 7, 7, 7, 7, 7, 7, 7, 7, 7, 7, 7, 7, 7, 7, 7, 7, 7, 7, 7, 7, 7, 7, 7, 7, 7, 7, 7, 7, 7, 7, 7, 7, 7, 7, 7, 18, 7, 7, 6, 7, 7, 7, 7, 7, 7, 7, 7, 7, 7, 7, 7, 6, 7, 7, 7, 7, 7, 7, 7, 7, 7, 14, 16, 23, 1, 7, 18, 7, 7, 7, 4, 7, 7, 7, 7, 7, 4, 7, 7, 7, 7, 7, 7, 7, 7, 7, 7, 7, 6, 7, 6, 7, 7, 7, 14, 7, 7, 7, 7, 7, 7, 7, 7, 7]\n",
            "[7, 7, 7, 6, 7, 7, 7, 7, 7, 7, 7, 7, 7, 7, 7, 7, 7, 16, 21, 7, 7, 7, 6, 7, 0, 7, 7, 7, 7, 7, 14, 7, 7, 16, 7, 7, 7, 7, 1, 7, 7, 7, 7, 7, 7, 7, 7, 6, 7, 16, 7, 7, 7, 7, 7, 7, 7, 7, 7, 7, 7, 7, 7, 7, 7, 7, 7, 7, 7, 7, 7, 7, 7, 7, 7, 7, 1, 10, 7, 6, 7, 6, 7, 6, 7, 7, 7, 7, 6, 7, 7, 7, 7, 7, 7, 10, 7, 7, 6, 7, 7, 7, 7, 7, 6, 7, 7, 7, 7, 7, 21, 7, 7, 14, 7, 7, 7, 6, 7, 0, 7, 7, 7, 6, 1, 7, 7, 6, 7, 1, 7, 7, 14, 7, 7, 7, 14, 7, 7, 7, 7, 7, 7, 7, 7, 7, 7, 7, 16, 7, 6, 7, 6, 7, 7, 7, 6, 7, 0, 14, 7, 7, 7, 7, 7, 7, 7, 7, 0, 7, 7, 7, 6, 7, 7, 7, 7, 7, 14, 14, 7, 7, 6, 7, 7, 7, 7, 7, 6, 7, 6, 7, 7, 16, 7, 7, 7, 7, 6, 7, 7, 7, 14, 7, 7, 7, 7, 6, 4, 7, 7, 7, 7, 7, 7, 7, 14, 7, 7, 7, 7, 0, 7, 7, 7, 7, 7, 14, 7, 14, 7, 7, 7, 4, 7, 7, 7, 7, 7, 7, 7, 7, 7, 7, 7, 7, 7, 7, 6, 7, 7, 7, 7, 7, 7, 7, 16, 7, 7, 7, 7, 7, 7, 7, 7, 7, 7, 7, 7, 7, 23, 7, 7, 7, 7, 7, 7, 16, 7, 7, 7, 14, 16, 14, 7, 7, 7, 7, 7, 7, 7, 0, 7, 7, 6, 7, 7, 7, 7, 7]\n",
            "[7, 7, 7, 7, 7, 7, 7, 7, 7, 7, 7, 7, 7, 7, 7, 6, 14, 6, 7, 16, 7, 7, 7, 7, 7, 7, 7, 7, 7, 7, 7, 7, 9, 7, 7, 7, 7, 7, 6, 7, 7, 7, 7, 0, 7, 7, 7, 7, 7, 7, 7, 16, 14, 7, 6, 7, 7, 7, 7, 7, 14, 7, 7, 7, 7, 7, 7, 7, 0, 7, 7, 11, 7, 6, 10, 7, 7, 7, 7, 7, 7, 7, 7, 7, 7, 7, 7, 7, 7, 6, 7, 7, 7, 14, 7, 7, 7, 7, 7, 7, 7, 7, 7, 7, 7, 7, 16, 7, 0, 7, 7, 7, 7, 7, 7, 7, 7, 7, 7, 7, 7, 7, 7, 7, 7, 7, 7, 7, 7, 14, 7, 7, 7, 7, 14, 7, 7, 7, 7, 7, 6, 7, 7, 7, 7, 0, 7, 7, 7, 7, 7, 7, 7, 7, 7, 7, 7, 7, 7, 7, 8, 7, 6, 7, 7, 7, 7, 7, 7, 7, 7, 7, 7, 7, 7, 7, 7, 7, 7, 7, 7, 7, 7, 7, 7, 7, 7, 7, 7, 14, 7, 7, 7, 16, 7, 7, 6, 7, 7, 7, 6, 7, 10, 7, 7, 6, 7, 7, 7, 7, 7, 7, 7, 7, 7, 4, 7, 7, 7, 7, 16, 7, 7, 7, 7, 7, 7, 6, 7, 7, 7, 7, 8, 7, 7, 7, 7, 7, 0, 7, 7, 7, 16, 14, 7, 7, 7, 7, 7, 7, 6, 7, 7, 7, 7, 7, 7, 7, 7, 7, 7, 7, 7, 7, 7, 7, 7, 7, 7, 21, 7, 7, 7, 7, 7, 6, 7, 7, 7, 7, 7, 7, 14, 23, 7, 7, 7, 7, 7, 7, 7, 7, 7, 7, 7, 7, 7, 7, 7, 7]\n",
            "[7, 7, 23, 7, 7, 7, 7, 7, 7, 7, 7, 7, 7, 7, 7, 7, 7, 7, 7, 7, 7, 6, 7, 7, 6, 7, 7, 6, 14, 7, 14, 7, 7, 7, 7, 7, 7, 7, 7, 7, 7, 7, 7, 7, 6, 7, 7, 7, 7, 7, 7, 7, 7, 7, 7, 7, 7, 7, 7, 7, 7, 14, 4, 23, 7, 7, 7, 0, 16, 7, 8, 7, 7, 7, 6, 7, 7, 4, 7, 7, 7, 7, 7, 7, 7, 7, 7, 7, 7, 7, 7, 7, 7, 7, 7, 7, 23, 7, 7, 7, 7, 7, 7, 7, 7, 7, 7, 7, 7, 7, 7, 7, 7, 7, 7, 7, 7, 21, 7, 7, 7, 7, 7, 7, 16, 6, 4, 7, 7, 7, 7, 8, 7, 7, 7, 16, 7, 7, 7, 7, 7, 7, 7, 7, 7, 7, 7, 7, 7, 7, 7, 8, 7, 7, 7, 6, 7, 7, 6, 7, 7, 7, 7, 7, 7, 7, 7, 6, 7, 7, 7, 7, 7, 14, 7, 7, 7, 14, 7, 16, 7, 7, 7, 7, 7, 7, 7, 6, 7, 7, 7, 7, 7, 7, 6, 7, 7, 7, 7, 14, 7, 7, 14, 7, 7, 7, 7, 7, 16, 7, 7, 7, 7, 7, 7, 7, 7, 7, 7, 7, 7, 7, 7, 16, 7, 7, 14, 7, 7, 7, 7, 7, 7, 7, 7, 7, 7, 6, 7, 7, 3, 14, 7, 8, 7, 7, 7, 7, 7, 7, 7, 7, 14, 7, 7, 7, 7, 7, 7, 7, 7, 7, 7, 7, 7, 7, 7, 7, 16, 7, 7, 7, 7, 7, 23, 7, 7, 7, 10, 7, 7, 7, 7, 7, 7, 14, 7, 7, 0, 7, 7, 7, 7, 7, 7, 6, 7, 7, 7, 7]\n",
            "[7, 7, 7, 7, 6, 7, 14, 7, 7, 10, 7, 7, 7, 7, 7, 7, 7, 7, 7, 23, 7, 7, 7, 7, 7, 7, 7, 7, 7, 7, 7, 7, 7, 7, 7, 7, 7, 7, 7, 7, 7, 7, 7, 7, 7, 7, 7, 7, 7, 7, 7, 4, 7, 7, 7, 7, 7, 7, 7, 7, 14, 7, 7, 7, 7, 16, 7, 7, 7, 7, 0, 7, 7, 7, 7, 7, 7, 7, 7, 16, 7, 14, 7, 14, 7, 6, 7, 7, 7, 7, 7, 7, 7, 7, 7, 7, 7, 7, 16, 7, 7, 0, 14, 7, 7, 7, 7, 16, 7, 7, 7, 7, 7, 7, 7, 7, 7, 7, 7, 7, 6, 23, 7, 7, 7, 7, 7, 7, 7, 7, 7, 7, 7, 14, 7, 11, 7, 14, 7, 7, 7, 7, 6, 7, 7, 7, 7, 7, 7, 7, 7, 7, 7, 7, 7, 7, 7, 14, 7, 14, 7, 7, 7, 0, 0, 7, 14, 7, 7, 7, 7, 7, 7, 14, 9, 7, 7, 7, 7, 7, 0, 7, 7, 7, 7, 14, 7, 7, 7, 0, 7, 7, 7, 7, 7, 7, 16, 7, 7, 7, 7, 1, 7, 16, 16, 16, 7, 16, 7, 7, 7, 11, 7, 7, 7, 7, 16, 7, 7, 7, 7, 7, 7, 7, 7, 7, 7, 7, 7, 7, 7, 7, 6, 7, 7, 7, 14, 7, 7, 7, 7, 7, 7, 7, 7, 7, 7, 7, 7, 7, 7, 16, 6, 7, 4, 7, 7, 6, 7, 7, 7, 7, 6, 7, 7, 7, 7, 6, 7, 7, 16, 7, 20, 16, 7, 7, 7, 7, 7, 7, 7, 14, 7, 7, 7, 7, 7, 7, 7, 7, 4, 7, 7, 7, 7, 7, 7, 7, 7, 7]\n",
            "[7, 7, 7, 7, 7, 7, 7, 7, 7, 7, 7, 7, 7, 7, 7, 7, 7, 7, 7, 7, 7, 7, 7, 7, 6, 14, 7, 7, 7, 7, 7, 7, 7, 7, 7, 7, 7, 7, 7, 7, 7, 7, 7, 7, 7, 7, 0, 7, 7, 7, 7, 7, 7, 7, 7, 7, 7, 7, 7, 14, 7, 7, 7, 7, 7, 7, 7, 7, 7, 7, 23, 7, 7, 7, 7, 7, 7, 7, 7, 7, 16, 14, 6, 8, 7, 7, 1, 6, 4, 0, 7, 7, 7, 7, 7, 7, 7, 7, 7, 7, 14, 7, 7, 7, 7, 7, 7, 7, 7, 7, 6, 7, 7, 7, 6, 7, 16, 7, 7, 16, 7, 7, 7, 7, 7, 6, 6, 7, 7, 7, 7, 7, 7, 7, 6, 16, 6, 7, 7, 16, 7, 7, 7, 7, 7, 0, 6, 7, 7, 7, 7, 7, 4, 0, 7, 7, 7, 14, 7, 7, 7, 7, 7, 7, 7, 7, 16, 7, 6, 7, 7, 7, 7, 6, 7, 7, 7, 7, 7, 7, 16, 7, 7, 4, 7, 7, 7, 7, 7, 7, 7, 7, 7, 7, 7, 7, 7, 6, 7, 18, 7, 7, 16, 7, 7, 7, 7, 6, 7, 7, 7, 7, 7, 7, 7, 7, 7, 7, 7, 7, 7, 7, 7, 7, 7, 7, 10, 0, 7, 7, 16, 7, 12, 7, 16, 7, 7, 7, 7, 14, 7, 7, 7, 7, 7, 7, 7, 7, 7, 14, 7, 7, 7, 14, 7, 7, 10, 7, 7, 7, 12, 7, 7, 7, 7, 7, 7, 7, 6, 7, 7, 7, 7, 7, 0, 7, 7, 7, 7, 7, 7, 7, 7, 7, 7, 7, 7, 7, 7, 7, 7, 7, 7, 7, 7, 7, 14, 7, 11, 7]\n",
            "[7, 7, 7, 7, 7, 6, 7, 7, 7, 0, 7, 7, 6, 7, 7, 7, 7, 7, 7, 7, 7, 7, 16, 7, 7, 6, 6, 7, 7, 7, 7, 7, 7, 7, 7, 7, 7, 7, 7, 7, 4, 7, 7, 7, 7, 7, 6, 7, 6, 0, 6, 7, 7, 7, 7, 7, 7, 7, 7, 7, 6, 7, 7, 7, 7, 7, 7, 7, 7, 7, 7, 7, 7, 7, 18, 7, 7, 7, 7, 7, 7, 7, 10, 7, 7, 7, 7, 7, 6, 7, 7, 7, 23, 21, 7, 23, 7, 7, 7, 7, 16, 7, 7, 7, 7, 7, 7, 7, 7, 7, 7, 7, 7, 7, 4, 7, 7, 7, 7, 7, 7, 7, 7, 7, 7, 6, 7, 16, 7, 16, 7, 14, 7, 7, 7, 7, 7, 6, 6, 7, 7, 7, 7, 7, 7, 7, 16, 7, 7, 14, 7, 7, 7, 7, 7, 7, 14, 7, 7, 7, 7, 14, 7, 6, 7, 7, 7, 7, 7, 7, 7, 7, 7, 7, 7, 7, 14, 14, 7, 7, 7, 7, 7, 7, 7, 7, 7, 7, 7, 7, 11, 7, 7, 7, 14, 7, 16, 7, 7, 7, 0, 7, 7, 7, 7, 7, 7, 7, 7, 7, 7, 7, 7, 7, 7, 7, 7, 7, 7, 7, 7, 7, 7, 7, 7, 7, 7, 7, 7, 7, 7, 7, 7, 7, 7, 7, 7, 7, 7, 7, 7, 7, 7, 7, 7, 4, 7, 7, 16, 7, 7, 21, 16, 16, 7, 7, 7, 7, 7, 7, 7, 0, 7, 7, 7, 7, 7, 7, 7, 7, 7, 18, 7, 7, 7, 7, 7, 7, 7, 7, 7, 7, 7, 7, 7, 6, 7, 14, 6, 7, 7, 7, 8, 7, 21, 14, 7, 7, 7, 7]\n",
            "[7, 7, 7, 7, 7, 7, 7, 7, 1, 7, 7, 7, 6, 7, 7, 6, 6, 7, 7, 7, 7, 7, 7, 10, 16, 7, 7, 7, 7, 7, 7, 7, 7, 7, 7, 7, 7, 7, 7, 7, 7, 7, 7, 7, 14, 6, 7, 7, 7, 7, 16, 7, 7, 7, 7, 16, 7, 7, 7, 7, 7, 7, 7, 0, 6, 7, 4, 7, 7, 7, 0, 7, 7, 7, 7, 7, 14, 7, 7, 7, 6, 0, 7, 7, 7, 7, 7, 7, 7, 7, 7, 6, 7, 7, 7, 7, 7, 0, 7, 7, 7, 7, 1, 7, 7, 16, 7, 7, 7, 7, 7, 10, 7, 7, 7, 7, 7, 7, 7, 7, 7, 7, 7, 7, 0, 7, 7, 7, 7, 7, 7, 6, 7, 7, 7, 7, 7, 7, 7, 16, 7, 7, 7, 4, 7, 7, 7, 14, 6, 6, 6, 7, 16, 7, 7, 7, 7, 7, 7, 7, 7, 16, 7, 7, 7, 7, 0, 7, 7, 7, 7, 7, 16, 7, 7, 14, 7, 7, 7, 7, 7, 4, 7, 7, 7, 7, 7, 7, 7, 7, 7, 7, 7, 14, 14, 7, 7, 7, 7, 7, 7, 7, 7, 7, 7, 6, 7, 7, 7, 7, 7, 7, 7, 7, 7, 14, 6, 14, 7, 7, 7, 7, 7, 21, 7, 7, 7, 7, 7, 14, 7, 7, 7, 7, 7, 7, 16, 10, 7, 7, 7, 7, 7, 7, 7, 7, 7, 7, 7, 7, 7, 7, 7, 7, 7, 7, 7, 7, 7, 7, 7, 7, 7, 7, 7, 7, 7, 7, 7, 7, 14, 6, 7, 7, 7, 4, 7, 7, 6, 7, 7, 7, 6, 7, 7, 7, 7, 7, 7, 6, 7, 7, 7, 7, 7, 7, 7, 7, 7, 7]\n",
            "[7, 16, 7, 7, 7, 16, 7, 7, 7, 7, 7, 7, 7, 7, 7, 7, 10, 7, 4, 7, 7, 7, 7, 16, 7, 7, 7, 7, 7, 7, 7, 19, 7, 7, 7, 16, 7, 7, 7, 7, 7, 7, 16, 7, 7, 6, 7, 7, 6, 6, 7, 7, 7, 7, 7, 7, 7, 7, 7, 7, 7, 7, 7, 7, 7, 7, 16, 16, 7, 7, 7, 7, 7, 7, 7, 7, 14, 7, 7, 7, 7, 7, 7, 7, 7, 6, 7, 7, 10, 7, 14, 4, 6, 7, 7, 7, 7, 7, 7, 7, 7, 16, 7, 7, 7, 7, 7, 7, 7, 6, 7, 0, 4, 7, 7, 7, 6, 7, 7, 7, 7, 7, 7, 7, 7, 7, 7, 14, 7, 7, 7, 7, 7, 7, 7, 7, 7, 14, 7, 20, 7, 7, 7, 7, 7, 7, 7, 7, 7, 7, 7, 7, 7, 7, 10, 6, 7, 7, 7, 7, 7, 7, 7, 7, 7, 7, 7, 7, 7, 1, 7, 6, 7, 7, 21, 7, 14, 4, 7, 7, 7, 7, 7, 7, 6, 7, 7, 8, 7, 7, 14, 7, 7, 1, 7, 6, 17, 7, 7, 7, 7, 7, 7, 7, 7, 7, 7, 7, 14, 7, 7, 23, 7, 7, 7, 7, 7, 7, 7, 14, 7, 6, 7, 7, 7, 0, 7, 7, 7, 7, 7, 7, 7, 7, 7, 7, 7, 7, 7, 7, 7, 7, 7, 7, 7, 16, 7, 7, 7, 16, 0, 7, 7, 7, 7, 7, 7, 7, 7, 14, 14, 7, 7, 7, 7, 7, 7, 6, 7, 7, 7, 10, 20, 6, 7, 7, 7, 7, 7, 7, 7, 7, 6, 7, 7, 7, 7, 7, 7, 7, 7, 7, 0, 7, 21, 16, 4, 7, 4, 7]\n",
            "[7, 7, 7, 7, 7, 7, 7, 7, 7, 7, 7, 7, 6, 7, 7, 7, 7, 6, 6, 7, 7, 8, 7, 7, 7, 7, 7, 7, 4, 14, 7, 7, 7, 7, 7, 7, 7, 7, 6, 7, 14, 7, 7, 7, 7, 6, 7, 6, 7, 11, 7, 7, 7, 7, 7, 7, 7, 7, 7, 7, 7, 7, 7, 7, 7, 7, 7, 4, 1, 7, 7, 7, 7, 6, 7, 7, 7, 7, 7, 6, 7, 0, 7, 18, 7, 7, 7, 6, 7, 7, 7, 7, 7, 7, 7, 7, 7, 7, 7, 7, 7, 7, 7, 7, 7, 7, 7, 7, 7, 7, 7, 7, 7, 7, 7, 7, 6, 7, 7, 7, 7, 7, 4, 7, 7, 9, 7, 4, 7, 7, 7, 7, 7, 7, 7, 7, 6, 7, 16, 7, 7, 7, 7, 14, 7, 7, 7, 7, 7, 16, 7, 7, 7, 7, 14, 7, 7, 7, 7, 7, 14, 7, 7, 7, 7, 6, 7, 7, 6, 7, 10, 7, 7, 7, 7, 7, 7, 7, 7, 7, 16, 7, 7, 7, 7, 7, 7, 7, 7, 7, 14, 7, 7, 7, 7, 7, 7, 7, 7, 7, 7, 7, 7, 7, 14, 6, 7, 7, 7, 7, 7, 7, 7, 7, 7, 7, 7, 7, 7, 6, 17, 7, 7, 7, 7, 12, 11, 7, 20, 10, 7, 7, 14, 7, 0, 7, 7, 7, 7, 7, 7, 7, 7, 7, 7, 7, 7, 7, 7, 7, 7, 1, 7, 0, 7, 7, 6, 7, 6, 7, 7, 7, 7, 6, 10, 7, 7, 7, 7, 14, 7, 7, 7, 7, 16, 7, 7, 7, 0, 7, 7, 7, 7, 7, 16, 7, 7, 7, 7, 7, 7, 7, 7, 7, 7, 7, 7, 14, 7, 7]\n",
            "[7, 16, 7, 7, 7, 7, 7, 6, 7, 7, 7, 7, 21, 7, 14, 7, 7, 7, 7, 7, 7, 7, 7, 7, 7, 7, 7, 7, 7, 7, 7, 7, 7, 7, 7, 7, 7, 7, 7, 7, 7, 7, 7, 14, 7, 7, 7, 0, 7, 7, 7, 6, 6, 7, 7, 7, 1, 7, 7, 7, 7, 7, 7, 7, 7, 6, 4, 14, 7, 7, 6, 7, 7, 7, 14, 7, 7, 0, 7, 7, 7, 7, 6, 7, 7, 16, 6, 14, 4, 7, 7, 6, 7, 14, 7, 7, 7, 7, 7, 7, 7, 7, 7, 7, 7, 14, 7, 7, 7, 7, 7, 7, 7, 4, 7, 7, 7, 7, 7, 7, 7, 16, 7, 7, 7, 7, 7, 7, 7, 7, 7, 16, 7, 7, 7, 7, 7, 7, 7, 7, 7, 7, 7, 7, 7, 7, 7, 7, 7, 7, 7, 14, 7, 7, 7, 6, 7, 7, 7, 7, 7, 7, 7, 7, 7, 7, 7, 7, 7, 7, 7, 7, 6, 6, 14, 14, 7, 7, 7, 7, 7, 7, 6, 12, 7, 11, 6, 7, 7, 7, 7, 7, 7, 7, 7, 4, 7, 7, 7, 7, 7, 7, 7, 7, 6, 16, 6, 7, 0, 7, 7, 7, 6, 7, 7, 7, 7, 7, 7, 7, 7, 7, 7, 7, 7, 7, 7, 7, 7, 7, 4, 7, 6, 7, 7, 7, 7, 7, 7, 7, 7, 21, 7, 23, 7, 7, 7, 14, 7, 7, 7, 7, 7, 7, 7, 7, 7, 7, 7, 7, 7, 7, 7, 6, 7, 16, 7, 0, 8, 7, 21, 7, 23, 7, 7, 7, 7, 7, 7, 7, 7, 7, 6, 7, 7, 7, 6, 7, 7, 7, 7, 7, 7, 7, 7, 7, 7, 7, 7, 7]\n",
            "[7, 7, 7, 7, 7, 7, 18, 7, 7, 7, 14, 7, 7, 7, 7, 7, 7, 7, 7, 7, 7, 7, 7, 7, 7, 7, 7, 7, 7, 7, 0, 7, 7, 7, 7, 7, 7, 7, 7, 7, 7, 7, 0, 7, 7, 7, 7, 7, 7, 7, 7, 7, 7, 7, 7, 7, 7, 14, 7, 7, 16, 7, 7, 7, 7, 7, 7, 7, 7, 7, 7, 7, 7, 7, 7, 7, 7, 6, 7, 7, 7, 7, 7, 23, 7, 7, 14, 7, 7, 7, 7, 7, 7, 6, 14, 16, 7, 7, 7, 7, 7, 7, 7, 7, 7, 6, 7, 7, 7, 7, 7, 7, 7, 7, 7, 7, 7, 7, 7, 7, 7, 16, 7, 7, 7, 7, 7, 7, 7, 7, 7, 21, 7, 7, 7, 6, 7, 7, 7, 7, 7, 7, 14, 7, 7, 7, 7, 7, 7, 7, 7, 7, 7, 7, 7, 7, 6, 7, 7, 7, 16, 14, 7, 7, 7, 7, 7, 7, 7, 7, 7, 4, 7, 7, 7, 6, 6, 7, 7, 6, 6, 7, 7, 7, 7, 7, 7, 7, 7, 7, 7, 7, 16, 7, 7, 7, 7, 7, 7, 7, 7, 7, 7, 7, 7, 16, 7, 7, 7, 7, 7, 7, 7, 7, 7, 7, 7, 21, 7, 7, 7, 7, 7, 7, 7, 7, 7, 7, 7, 6, 0, 16, 7, 7, 0, 16, 16, 4, 7, 7, 7, 7, 7, 7, 7, 6, 7, 7, 7, 7, 7, 7, 7, 7, 7, 7, 7, 7, 7, 6, 6, 7, 7, 6, 7, 7, 7, 7, 7, 1, 7, 7, 7, 6, 7, 7, 7, 14, 7, 7, 7, 14, 7, 7, 7, 7, 7, 7, 7, 7, 7, 7, 7, 6, 7, 7, 7, 7, 7, 7]\n",
            "[7, 7, 7, 0, 7, 0, 7, 6, 7, 7, 7, 7, 7, 7, 7, 7, 7, 7, 6, 7, 7, 7, 14, 7, 7, 20, 7, 7, 7, 7, 7, 7, 7, 7, 7, 7, 7, 12, 7, 7, 7, 0, 7, 14, 7, 7, 7, 7, 7, 1, 0, 16, 14, 7, 7, 7, 7, 16, 7, 7, 7, 7, 7, 6, 7, 7, 14, 7, 6, 7, 7, 7, 7, 7, 6, 7, 7, 7, 7, 14, 7, 7, 16, 7, 7, 4, 14, 7, 16, 7, 7, 7, 7, 7, 7, 7, 7, 14, 7, 7, 7, 7, 7, 7, 7, 7, 7, 7, 7, 7, 6, 7, 7, 7, 7, 7, 7, 14, 7, 7, 16, 14, 7, 14, 7, 7, 7, 7, 7, 16, 7, 7, 7, 6, 7, 7, 7, 7, 7, 7, 7, 7, 7, 7, 7, 7, 7, 7, 6, 6, 7, 7, 7, 7, 7, 7, 8, 14, 7, 7, 7, 7, 7, 7, 7, 7, 7, 7, 7, 7, 6, 7, 7, 7, 7, 7, 7, 7, 7, 7, 7, 20, 16, 7, 7, 7, 0, 7, 7, 7, 7, 7, 7, 7, 7, 7, 7, 7, 7, 7, 7, 7, 7, 7, 7, 7, 0, 7, 7, 7, 7, 7, 7, 7, 6, 14, 6, 16, 14, 1, 7, 7, 7, 14, 7, 7, 7, 7, 16, 7, 7, 6, 0, 7, 7, 7, 7, 7, 6, 7, 7, 7, 7, 7, 7, 7, 7, 7, 7, 7, 16, 7, 7, 7, 7, 7, 7, 7, 7, 14, 7, 7, 14, 7, 7, 7, 14, 7, 7, 7, 7, 7, 7, 7, 7, 7, 7, 7, 7, 7, 7, 7, 6, 7, 7, 7, 7, 6, 0, 7, 7, 7, 7, 7, 7, 6, 6, 7, 14, 7]\n",
            "[7, 7, 7, 7, 7, 7, 7, 7, 7, 7, 18, 7, 7, 7, 7, 7, 7, 7, 7, 7, 7, 7, 7, 7, 7, 7, 7, 7, 7, 6, 7, 7, 7, 7, 7, 7, 7, 7, 7, 0, 7, 7, 7, 7, 16, 7, 7, 7, 7, 7, 7, 7, 7, 7, 7, 7, 6, 7, 16, 7, 7, 7, 7, 16, 7, 7, 7, 7, 6, 0, 7, 7, 7, 7, 6, 7, 7, 14, 10, 6, 16, 7, 7, 7, 7, 7, 7, 7, 7, 7, 7, 7, 7, 7, 7, 7, 14, 6, 7, 7, 7, 7, 7, 7, 7, 7, 7, 7, 7, 7, 7, 7, 7, 7, 7, 7, 7, 7, 7, 14, 7, 7, 16, 14, 7, 7, 7, 7, 7, 7, 14, 14, 7, 7, 7, 7, 7, 7, 7, 16, 7, 16, 7, 7, 7, 7, 0, 7, 6, 7, 7, 6, 7, 18, 7, 7, 7, 7, 7, 7, 7, 7, 7, 7, 7, 7, 7, 7, 7, 7, 7, 14, 7, 7, 7, 7, 7, 7, 7, 7, 6, 7, 7, 7, 6, 0, 7, 6, 7, 7, 7, 7, 7, 14, 7, 6, 7, 7, 7, 7, 7, 7, 7, 6, 6, 7, 7, 7, 7, 7, 7, 7, 7, 7, 7, 7, 7, 7, 7, 7, 7, 7, 7, 7, 7, 7, 7, 7, 7, 7, 7, 7, 11, 7, 7, 0, 7, 7, 7, 7, 7, 7, 4, 7, 7, 7, 7, 7, 6, 7, 7, 7, 7, 7, 7, 16, 7, 8, 7, 7, 7, 7, 7, 7, 7, 7, 7, 7, 7, 7, 7, 7, 7, 7, 14, 0, 14, 7, 7, 7, 7, 7, 7, 7, 7, 7, 7, 7, 0, 7, 7, 7, 7, 7, 7, 7, 7, 7, 7, 7]\n",
            "[7, 7, 7, 7, 7, 6, 7, 7, 7, 7, 7, 7, 7, 7, 7, 7, 0, 7, 7, 14, 7, 7, 7, 0, 7, 7, 7, 4, 7, 0, 7, 1, 7, 7, 7, 7, 7, 7, 7, 7, 7, 23, 20, 7, 7, 7, 7, 7, 7, 7, 7, 4, 7, 7, 7, 7, 7, 7, 7, 7, 7, 7, 7, 7, 7, 7, 7, 7, 4, 7, 7, 7, 7, 7, 7, 7, 7, 7, 7, 7, 7, 7, 7, 7, 7, 6, 7, 7, 6, 7, 7, 7, 7, 7, 7, 7, 7, 7, 7, 7, 16, 7, 14, 7, 7, 7, 7, 7, 7, 7, 7, 6, 7, 7, 7, 16, 7, 4, 7, 7, 10, 7, 7, 7, 7, 0, 7, 7, 7, 7, 6, 7, 7, 7, 6, 7, 4, 6, 7, 7, 7, 7, 7, 7, 7, 7, 6, 7, 7, 7, 0, 7, 7, 7, 7, 7, 16, 7, 7, 7, 7, 14, 7, 7, 7, 7, 6, 7, 7, 7, 7, 7, 7, 7, 7, 16, 7, 7, 7, 7, 7, 7, 7, 7, 7, 6, 7, 7, 7, 7, 7, 7, 7, 7, 7, 7, 7, 6, 7, 6, 7, 7, 7, 7, 14, 1, 7, 7, 6, 7, 7, 14, 7, 7, 7, 7, 7, 7, 7, 7, 7, 7, 7, 7, 7, 7, 6, 7, 7, 7, 7, 7, 7, 7, 7, 7, 7, 7, 7, 7, 7, 7, 14, 7, 6, 7, 7, 7, 7, 7, 7, 7, 7, 7, 7, 7, 7, 7, 7, 6, 6, 7, 7, 7, 7, 7, 7, 7, 7, 7, 7, 7, 7, 7, 7, 7, 7, 7, 7, 7, 7, 7, 7, 7, 16, 7, 7, 7, 7, 7, 7, 7, 6, 7, 7, 7, 7, 7, 7, 7]\n",
            "[7, 7, 7, 7, 18, 7, 7, 7, 7, 7, 7, 7, 7, 7, 7, 7, 7, 7, 6, 7, 7, 7, 4, 7, 7, 7, 7, 7, 20, 7, 7, 7, 7, 7, 1, 7, 7, 7, 16, 7, 1, 14, 7, 7, 7, 7, 7, 7, 7, 7, 7, 7, 7, 14, 7, 0, 7, 7, 7, 7, 7, 7, 7, 7, 7, 7, 7, 7, 7, 0, 7, 7, 7, 6, 7, 7, 14, 7, 16, 7, 7, 7, 7, 7, 0, 7, 7, 7, 0, 7, 14, 7, 7, 7, 7, 7, 7, 4, 7, 6, 4, 7, 7, 7, 7, 7, 7, 4, 7, 7, 7, 7, 7, 7, 7, 7, 7, 7, 7, 7, 7, 7, 7, 14, 7, 7, 23, 16, 7, 7, 7, 7, 7, 7, 7, 7, 7, 14, 7, 0, 7, 7, 0, 7, 7, 7, 7, 7, 16, 7, 7, 7, 7, 16, 7, 7, 6, 7, 7, 7, 7, 7, 16, 7, 7, 16, 7, 7, 7, 7, 7, 7, 7, 7, 7, 7, 7, 7, 7, 7, 7, 7, 7, 7, 7, 7, 7, 21, 7, 7, 7, 7, 7, 7, 6, 7, 16, 7, 7, 7, 7, 7, 7, 7, 7, 7, 7, 7, 7, 7, 7, 7, 7, 7, 10, 7, 6, 7, 7, 7, 7, 7, 7, 7, 7, 7, 7, 7, 7, 7, 7, 7, 1, 14, 7, 7, 7, 7, 7, 7, 7, 7, 7, 7, 7, 7, 7, 7, 14, 14, 14, 16, 7, 7, 14, 7, 7, 7, 14, 6, 7, 7, 7, 7, 7, 7, 7, 7, 0, 14, 7, 14, 7, 7, 7, 7, 7, 7, 7, 7, 7, 7, 7, 7, 7, 7, 7, 7, 7, 7, 7, 7, 7, 6, 7, 7, 7, 7, 0, 6]\n",
            "[6, 21, 7, 7, 7, 7, 7, 7, 7, 7, 7, 7, 7, 16, 7, 7, 14, 14, 7, 7, 16, 14, 7, 7, 7, 7, 7, 7, 7, 7, 7, 7, 1, 7, 0, 10, 7, 6, 7, 7, 7, 7, 7, 7, 7, 7, 7, 7, 7, 7, 7, 7, 7, 7, 6, 7, 7, 7, 7, 7, 21, 7, 7, 7, 7, 7, 7, 7, 6, 7, 7, 7, 7, 7, 7, 7, 7, 7, 7, 7, 6, 7, 7, 0, 7, 7, 7, 7, 7, 7, 6, 14, 7, 7, 7, 7, 7, 7, 7, 7, 7, 7, 7, 7, 7, 7, 7, 7, 6, 6, 7, 16, 7, 7, 6, 7, 7, 7, 7, 7, 7, 14, 7, 7, 7, 21, 7, 16, 7, 7, 7, 7, 7, 7, 7, 7, 7, 7, 7, 1, 7, 0, 7, 16, 7, 7, 7, 7, 7, 7, 7, 6, 7, 7, 7, 7, 7, 14, 4, 7, 7, 16, 7, 7, 7, 6, 7, 7, 7, 7, 14, 7, 7, 14, 7, 7, 7, 8, 7, 7, 7, 7, 7, 0, 7, 7, 7, 7, 7, 7, 7, 7, 14, 7, 7, 7, 7, 7, 7, 7, 7, 7, 7, 7, 7, 7, 7, 6, 7, 7, 7, 7, 7, 14, 7, 7, 7, 7, 7, 7, 7, 7, 7, 7, 7, 7, 16, 7, 7, 7, 7, 7, 7, 7, 4, 7, 7, 7, 6, 7, 7, 7, 7, 16, 7, 7, 7, 1, 7, 7, 7, 7, 7, 7, 7, 7, 7, 7, 7, 7, 7, 8, 7, 16, 7, 0, 7, 7, 7, 7, 7, 6, 7, 7, 7, 7, 7, 7, 6, 7, 7, 7, 7, 7, 7, 7, 7, 7, 4, 7, 7, 16, 7, 6, 7, 7, 14, 14, 7, 7]\n",
            "[7, 14, 7, 14, 6, 7, 7, 7, 7, 7, 14, 7, 6, 7, 6, 7, 7, 7, 7, 7, 7, 6, 7, 7, 7, 7, 7, 7, 7, 7, 7, 7, 7, 7, 7, 7, 7, 7, 7, 7, 7, 16, 14, 4, 14, 21, 7, 7, 7, 0, 14, 7, 7, 7, 7, 7, 7, 7, 7, 7, 7, 6, 7, 7, 7, 7, 7, 7, 7, 7, 7, 7, 7, 7, 7, 7, 14, 0, 7, 7, 7, 7, 7, 14, 7, 7, 7, 14, 7, 7, 7, 7, 7, 7, 7, 7, 7, 7, 7, 7, 7, 7, 4, 7, 7, 7, 7, 7, 7, 7, 7, 7, 16, 7, 7, 7, 7, 7, 7, 7, 6, 7, 0, 7, 14, 7, 6, 7, 7, 7, 7, 7, 7, 7, 7, 6, 7, 7, 7, 7, 6, 7, 7, 7, 7, 7, 7, 7, 7, 7, 14, 7, 7, 7, 6, 7, 7, 7, 7, 7, 7, 7, 7, 7, 7, 7, 7, 7, 7, 7, 7, 7, 7, 7, 7, 7, 7, 7, 7, 7, 7, 7, 7, 7, 7, 14, 14, 7, 7, 1, 7, 7, 14, 7, 7, 7, 7, 7, 7, 7, 7, 7, 7, 7, 7, 7, 7, 7, 7, 0, 7, 7, 7, 7, 7, 7, 7, 7, 7, 14, 7, 7, 7, 7, 7, 14, 7, 7, 7, 7, 7, 7, 7, 7, 7, 7, 7, 7, 7, 6, 7, 7, 4, 7, 7, 7, 7, 7, 7, 7, 14, 7, 7, 14, 7, 7, 7, 7, 7, 8, 7, 7, 7, 7, 7, 7, 4, 7, 0, 7, 7, 7, 7, 7, 7, 7, 7, 7, 7, 7, 7, 7, 7, 7, 7, 6, 7, 7, 7, 7, 7, 7, 7, 7, 7, 0, 7, 7, 7, 6]\n",
            "[7, 7, 7, 7, 7, 7, 7, 7, 7, 7, 7, 7, 7, 7, 7, 0, 16, 7, 7, 7, 7, 7, 7, 7, 7, 6, 7, 7, 7, 16, 7, 7, 7, 7, 0, 7, 7, 7, 16, 7, 7, 7, 7, 7, 17, 7, 7, 7, 7, 6, 7, 7, 7, 7, 14, 7, 1, 7, 10, 14, 7, 0, 7, 14, 7, 7, 14, 4, 7, 7, 7, 7, 7, 7, 7, 7, 7, 7, 7, 7, 7, 0, 7, 7, 22, 14, 7, 18, 16, 7, 7, 7, 7, 14, 4, 7, 7, 7, 6, 7, 6, 7, 6, 7, 6, 7, 7, 7, 7, 7, 7, 7, 7, 7, 8, 7, 7, 7, 7, 7, 6, 7, 7, 7, 6, 7, 8, 7, 7, 7, 7, 7, 7, 7, 7, 16, 7, 7, 7, 7, 7, 7, 7, 7, 7, 7, 7, 7, 7, 7, 7, 14, 7, 0, 7, 7, 7, 7, 7, 7, 7, 7, 7, 7, 7, 6, 16, 7, 22, 4, 7, 0, 7, 6, 10, 7, 7, 0, 7, 7, 0, 6, 7, 7, 7, 7, 7, 7, 6, 7, 7, 7, 6, 7, 7, 7, 7, 7, 0, 7, 7, 7, 0, 7, 7, 7, 7, 16, 0, 0, 0, 7, 7, 7, 7, 14, 7, 14, 7, 7, 7, 7, 7, 7, 7, 7, 7, 7, 7, 7, 7, 7, 7, 7, 7, 7, 7, 6, 14, 7, 7, 7, 7, 23, 7, 16, 7, 7, 7, 7, 14, 7, 7, 4, 7, 4, 7, 1, 7, 7, 7, 7, 7, 7, 7, 14, 7, 16, 7, 7, 7, 7, 7, 7, 7, 7, 7, 7, 7, 7, 7, 7, 7, 4, 7, 7, 0, 7, 7, 7, 7, 7, 7, 7, 7, 7, 7, 7, 16, 7]\n",
            "[7, 7, 7, 7, 14, 7, 14, 7, 14, 7, 7, 7, 7, 7, 6, 7, 7, 7, 7, 7, 7, 16, 0, 7, 7, 7, 7, 7, 7, 7, 7, 7, 7, 7, 7, 7, 7, 7, 7, 7, 6, 7, 7, 14, 7, 7, 7, 7, 7, 7, 7, 7, 7, 14, 7, 7, 7, 7, 7, 7, 7, 7, 7, 7, 7, 7, 7, 6, 0, 7, 7, 7, 7, 16, 7, 7, 7, 7, 7, 7, 7, 7, 7, 18, 7, 7, 23, 7, 14, 7, 7, 7, 23, 7, 16, 7, 7, 7, 7, 7, 7, 7, 7, 7, 7, 23, 7, 7, 4, 7, 6, 7, 7, 7, 7, 1, 7, 6, 7, 7, 7, 7, 7, 7, 7, 7, 6, 7, 7, 7, 0, 7, 7, 7, 7, 7, 7, 7, 7, 7, 7, 7, 7, 7, 6, 7, 7, 7, 7, 14, 7, 7, 7, 7, 7, 0, 7, 7, 7, 7, 7, 7, 6, 7, 7, 7, 7, 7, 7, 7, 7, 7, 18, 7, 7, 7, 7, 7, 23, 7, 7, 7, 7, 7, 7, 7, 7, 6, 7, 16, 7, 7, 14, 7, 7, 7, 7, 7, 7, 0, 7, 7, 7, 6, 7, 7, 16, 7, 7, 7, 7, 7, 7, 7, 7, 7, 1, 7, 7, 7, 7, 7, 7, 7, 7, 7, 6, 14, 7, 7, 7, 7, 7, 7, 7, 23, 7, 7, 7, 7, 7, 14, 7, 7, 7, 7, 7, 7, 14, 18, 7, 7, 6, 7, 7, 7, 7, 16, 7, 7, 7, 6, 14, 7, 7, 7, 16, 0, 7, 6, 7, 16, 7, 7, 7, 7, 7, 6, 6, 7, 7, 7, 7, 7, 7, 7, 7, 7, 7, 7, 4, 23, 7, 6, 14, 7, 7, 7, 7, 7]\n",
            "[7, 7, 7, 7, 7, 7, 7, 7, 6, 16, 7, 7, 7, 7, 16, 7, 7, 14, 16, 7, 7, 6, 7, 14, 7, 0, 7, 7, 14, 7, 7, 7, 7, 7, 7, 7, 7, 7, 7, 7, 7, 7, 7, 7, 7, 7, 7, 7, 7, 7, 7, 7, 23, 7, 7, 7, 7, 7, 7, 7, 7, 7, 16, 7, 14, 7, 16, 7, 4, 7, 7, 7, 7, 7, 23, 7, 16, 0, 23, 7, 7, 7, 7, 7, 7, 7, 7, 7, 7, 7, 7, 1, 4, 7, 7, 7, 7, 7, 7, 7, 7, 6, 7, 16, 6, 7, 7, 7, 7, 7, 7, 7, 7, 6, 7, 7, 7, 7, 7, 16, 7, 7, 7, 7, 0, 7, 7, 7, 7, 7, 7, 7, 7, 7, 14, 7, 7, 7, 7, 7, 7, 7, 7, 17, 7, 7, 7, 10, 16, 6, 7, 7, 7, 7, 7, 7, 7, 21, 14, 7, 7, 6, 7, 7, 7, 16, 7, 7, 7, 7, 7, 7, 7, 7, 14, 7, 4, 7, 7, 7, 7, 7, 7, 7, 7, 7, 16, 7, 7, 7, 0, 7, 7, 7, 7, 16, 7, 7, 7, 7, 7, 7, 12, 7, 7, 7, 1, 7, 7, 7, 7, 7, 7, 7, 7, 7, 7, 7, 7, 7, 0, 7, 7, 7, 7, 7, 7, 7, 7, 7, 7, 7, 7, 7, 7, 7, 7, 7, 7, 7, 10, 7, 7, 7, 7, 7, 7, 14, 0, 7, 7, 7, 7, 6, 7, 7, 7, 7, 7, 7, 7, 7, 7, 7, 7, 7, 7, 7, 7, 7, 7, 7, 7, 7, 7, 7, 7, 7, 6, 0, 7, 7, 7, 7, 14, 7, 7, 7, 7, 7, 6, 7, 7, 7, 7, 7, 7, 18, 7, 7]\n",
            "[7, 7, 7, 7, 7, 7, 7, 7, 7, 7, 7, 6, 7, 7, 7, 7, 7, 7, 7, 7, 0, 7, 7, 7, 7, 7, 7, 6, 7, 7, 7, 7, 7, 11, 7, 7, 7, 7, 7, 7, 7, 7, 7, 7, 7, 7, 7, 7, 7, 7, 7, 7, 0, 7, 7, 6, 7, 7, 7, 0, 7, 6, 16, 7, 6, 7, 7, 7, 16, 7, 7, 14, 7, 7, 7, 7, 7, 7, 7, 7, 7, 16, 7, 7, 7, 7, 7, 7, 7, 7, 7, 7, 7, 7, 7, 7, 7, 7, 7, 7, 7, 7, 16, 6, 7, 7, 7, 18, 4, 7, 7, 14, 7, 7, 7, 7, 7, 14, 7, 7, 7, 7, 7, 7, 7, 7, 7, 7, 7, 7, 7, 7, 7, 7, 7, 7, 7, 7, 7, 7, 7, 7, 7, 7, 7, 7, 7, 7, 7, 7, 7, 7, 7, 7, 7, 7, 7, 7, 7, 7, 7, 7, 7, 8, 7, 7, 7, 7, 7, 7, 7, 7, 7, 7, 7, 7, 14, 0, 7, 7, 7, 7, 7, 7, 7, 7, 19, 7, 7, 7, 7, 7, 7, 7, 7, 7, 7, 7, 7, 7, 6, 4, 7, 0, 7, 6, 7, 7, 7, 7, 16, 7, 7, 7, 16, 7, 7, 7, 7, 7, 0, 7, 7, 6, 7, 7, 7, 7, 7, 7, 7, 7, 1, 7, 7, 7, 0, 7, 7, 7, 7, 7, 7, 7, 7, 7, 7, 7, 0, 7, 7, 7, 7, 7, 7, 7, 7, 6, 7, 7, 7, 7, 7, 7, 7, 7, 7, 7, 7, 7, 7, 6, 7, 7, 7, 7, 7, 7, 7, 7, 7, 7, 7, 7, 7, 7, 7, 7, 7, 7, 7, 7, 7, 7, 7, 7, 7, 7, 7, 7]\n",
            "[7, 7, 7, 7, 7, 7, 7, 7, 7, 7, 7, 7, 7, 7, 7, 7, 7, 7, 14, 7, 7, 7, 7, 4, 7, 7, 7, 7, 7, 7, 7, 7, 7, 6, 7, 7, 7, 7, 7, 7, 7, 7, 7, 7, 7, 7, 7, 7, 7, 7, 7, 7, 7, 16, 7, 7, 7, 7, 7, 7, 7, 7, 0, 7, 7, 0, 16, 6, 7, 7, 7, 7, 7, 7, 7, 7, 7, 7, 16, 7, 7, 7, 7, 1, 7, 7, 7, 7, 7, 7, 7, 6, 7, 7, 7, 7, 7, 7, 7, 7, 7, 7, 7, 16, 4, 7, 7, 7, 7, 7, 7, 7, 7, 7, 7, 7, 7, 7, 7, 7, 7, 7, 7, 7, 7, 7, 7, 7, 7, 7, 14, 14, 7, 7, 7, 7, 7, 7, 7, 7, 7, 7, 7, 7, 7, 7, 7, 7, 7, 7, 7, 7, 7, 7, 7, 7, 0, 7, 7, 7, 7, 7, 7, 7, 16, 7, 6, 7, 7, 7, 16, 7, 7, 7, 7, 7, 7, 7, 7, 7, 7, 7, 7, 16, 7, 7, 7, 0, 7, 6, 7, 0, 7, 14, 7, 14, 7, 7, 7, 7, 7, 7, 7, 7, 7, 7, 7, 7, 7, 7, 7, 6, 7, 7, 7, 7, 14, 7, 7, 7, 7, 7, 7, 7, 7, 7, 7, 7, 7, 7, 7, 16, 7, 7, 7, 7, 14, 7, 7, 7, 7, 14, 7, 7, 7, 7, 7, 7, 7, 7, 7, 7, 7, 6, 1, 7, 14, 7, 6, 7, 7, 7, 7, 7, 7, 7, 7, 7, 7, 7, 7, 7, 7, 7, 14, 14, 7, 7, 7, 16, 7, 7, 7, 7, 7, 7, 7, 7, 7, 7, 7, 7, 14, 7, 7, 7, 7, 7, 14, 7]\n",
            "[7, 7, 7, 6, 7, 7, 7, 7, 7, 7, 7, 6, 7, 7, 7, 6, 7, 7, 7, 16, 7, 6, 7, 7, 7, 7, 7, 7, 7, 7, 7, 7, 7, 7, 7, 7, 7, 7, 14, 0, 7, 7, 7, 7, 7, 6, 7, 7, 6, 7, 7, 7, 14, 7, 7, 7, 7, 0, 7, 7, 16, 7, 7, 7, 7, 18, 7, 8, 7, 7, 6, 7, 7, 7, 14, 7, 7, 7, 7, 7, 7, 7, 16, 7, 6, 7, 7, 21, 7, 14, 7, 7, 7, 7, 16, 23, 7, 14, 7, 7, 7, 7, 7, 7, 7, 7, 7, 7, 7, 7, 7, 7, 7, 7, 7, 7, 7, 7, 7, 7, 7, 7, 7, 7, 16, 7, 7, 7, 6, 7, 7, 7, 7, 7, 7, 7, 6, 7, 7, 7, 4, 7, 16, 7, 7, 7, 14, 7, 7, 7, 7, 7, 7, 7, 7, 7, 6, 7, 7, 7, 7, 7, 7, 7, 7, 7, 7, 7, 7, 7, 6, 14, 7, 7, 7, 0, 7, 7, 7, 7, 7, 7, 7, 7, 7, 7, 7, 7, 7, 7, 6, 7, 7, 6, 7, 7, 7, 7, 7, 7, 7, 7, 7, 6, 7, 7, 7, 14, 7, 7, 7, 7, 7, 7, 6, 7, 7, 16, 7, 7, 7, 7, 7, 7, 7, 7, 7, 7, 7, 7, 7, 14, 6, 7, 7, 7, 7, 7, 7, 7, 7, 7, 7, 7, 7, 4, 16, 7, 7, 14, 7, 7, 7, 7, 7, 7, 7, 7, 7, 7, 7, 7, 6, 16, 6, 7, 7, 7, 7, 7, 7, 7, 7, 0, 0, 7, 10, 7, 0, 7, 7, 18, 7, 7, 7, 7, 7, 7, 7, 7, 7, 7, 7, 7, 7, 7, 7, 6, 6, 7]\n",
            "[14, 7, 7, 13, 7, 6, 7, 7, 6, 7, 7, 7, 7, 7, 7, 6, 7, 7, 7, 7, 7, 7, 7, 7, 14, 6, 7, 7, 7, 7, 7, 7, 7, 7, 14, 4, 7, 6, 7, 14, 7, 7, 7, 7, 7, 7, 7, 7, 7, 7, 7, 7, 7, 6, 7, 7, 7, 7, 7, 7, 7, 7, 14, 7, 7, 7, 7, 7, 7, 7, 7, 16, 6, 7, 7, 7, 7, 16, 7, 14, 7, 7, 7, 7, 7, 16, 7, 7, 7, 7, 7, 7, 7, 7, 7, 7, 7, 7, 7, 16, 7, 7, 7, 7, 7, 7, 7, 14, 6, 7, 6, 7, 7, 7, 7, 7, 7, 7, 16, 7, 16, 7, 7, 7, 7, 7, 7, 7, 7, 7, 6, 7, 7, 7, 7, 7, 7, 7, 7, 7, 7, 7, 4, 7, 7, 7, 16, 7, 16, 7, 7, 6, 7, 7, 7, 7, 7, 7, 14, 7, 7, 7, 16, 7, 7, 7, 7, 14, 7, 7, 7, 7, 7, 14, 7, 7, 7, 7, 7, 19, 7, 7, 7, 7, 7, 7, 7, 7, 7, 7, 7, 7, 7, 6, 7, 7, 6, 7, 7, 14, 7, 7, 7, 7, 7, 7, 7, 7, 7, 7, 14, 14, 7, 7, 7, 7, 7, 7, 7, 7, 7, 7, 7, 7, 7, 7, 7, 16, 7, 7, 14, 7, 7, 7, 11, 7, 0, 7, 7, 7, 16, 7, 7, 7, 7, 14, 14, 7, 7, 7, 16, 7, 10, 7, 7, 7, 7, 7, 7, 7, 7, 7, 14, 8, 7, 7, 7, 7, 7, 7, 7, 14, 7, 6, 7, 7, 7, 7, 7, 7, 6, 10, 7, 7, 6, 6, 4, 7, 7, 7, 7, 7, 7, 7, 7, 7, 7, 0, 7, 16]\n",
            "[7, 7, 6, 7, 7, 7, 7, 7, 7, 7, 7, 23, 14, 7, 7, 7, 7, 7, 7, 7, 7, 7, 7, 14, 7, 1, 7, 7, 7, 14, 7, 7, 21, 7, 7, 14, 7, 7, 7, 7, 7, 7, 7, 7, 6, 0, 7, 7, 7, 7, 7, 7, 7, 7, 7, 23, 7, 7, 7, 7, 7, 7, 7, 0, 7, 7, 7, 7, 7, 7, 7, 7, 7, 7, 7, 7, 7, 7, 7, 7, 7, 7, 7, 7, 14, 7, 7, 7, 7, 7, 7, 7, 7, 7, 7, 7, 4, 7, 7, 7, 7, 7, 14, 16, 7, 7, 6, 7, 4, 7, 7, 7, 7, 7, 7, 7, 7, 14, 7, 7, 7, 7, 7, 7, 7, 7, 7, 7, 7, 7, 7, 7, 7, 7, 7, 7, 7, 14, 7, 7, 14, 7, 7, 16, 7, 7, 7, 7, 7, 7, 7, 7, 7, 7, 7, 7, 7, 7, 7, 7, 14, 7, 7, 7, 7, 7, 7, 7, 7, 7, 7, 7, 7, 7, 7, 7, 7, 7, 0, 7, 7, 7, 7, 7, 7, 7, 7, 7, 7, 7, 16, 14, 7, 7, 7, 7, 7, 7, 1, 7, 7, 7, 7, 7, 7, 7, 7, 7, 7, 7, 7, 7, 16, 7, 7, 7, 7, 7, 7, 6, 7, 7, 7, 10, 14, 6, 7, 7, 7, 7, 7, 7, 7, 7, 7, 7, 7, 7, 16, 7, 6, 7, 7, 7, 7, 7, 7, 6, 7, 7, 7, 7, 7, 7, 0, 7, 7, 7, 7, 10, 7, 7, 7, 14, 7, 7, 14, 6, 7, 7, 7, 7, 7, 7, 7, 7, 7, 7, 7, 7, 7, 14, 7, 7, 7, 7, 0, 7, 7, 7, 7, 7, 7, 7, 6, 7, 7, 7, 14, 7]\n",
            "[7, 7, 7, 7, 7, 7, 7, 7, 7, 7, 7, 7, 7, 7, 7, 7, 18, 7, 7, 7, 7, 7, 7, 7, 7, 7, 7, 7, 7, 0, 7, 16, 7, 7, 7, 0, 7, 7, 7, 7, 7, 7, 7, 7, 7, 7, 7, 7, 7, 7, 7, 7, 7, 7, 7, 16, 7, 7, 7, 7, 7, 7, 7, 7, 7, 7, 14, 7, 6, 7, 7, 16, 7, 6, 7, 6, 14, 7, 7, 7, 7, 7, 7, 7, 7, 7, 7, 7, 7, 7, 7, 7, 7, 7, 14, 6, 7, 7, 6, 14, 7, 7, 7, 7, 7, 14, 7, 0, 7, 7, 7, 7, 7, 7, 7, 6, 7, 7, 7, 7, 7, 7, 7, 7, 7, 7, 7, 7, 7, 7, 10, 7, 7, 7, 16, 7, 7, 7, 7, 16, 7, 7, 7, 7, 7, 4, 7, 7, 6, 7, 7, 7, 7, 7, 6, 7, 7, 7, 7, 7, 7, 7, 7, 14, 7, 7, 7, 1, 7, 7, 7, 7, 7, 7, 7, 7, 7, 16, 7, 7, 7, 7, 7, 7, 7, 14, 7, 7, 10, 7, 0, 7, 7, 7, 7, 7, 7, 7, 7, 7, 4, 7, 14, 7, 7, 7, 7, 7, 7, 7, 7, 7, 7, 0, 16, 0, 7, 4, 7, 7, 7, 7, 7, 0, 7, 7, 7, 7, 7, 7, 7, 16, 7, 7, 7, 7, 7, 7, 7, 20, 7, 7, 7, 7, 7, 7, 16, 7, 6, 7, 7, 7, 16, 7, 7, 7, 14, 14, 7, 14, 7, 7, 7, 7, 6, 7, 7, 7, 7, 7, 7, 7, 7, 7, 7, 21, 7, 7, 7, 16, 7, 7, 7, 7, 7, 7, 7, 6, 14, 7, 7, 7, 7, 7, 7, 7, 7, 7, 6, 0]\n",
            "[7, 7, 7, 7, 7, 7, 7, 7, 7, 7, 14, 14, 7, 6, 7, 14, 7, 7, 7, 7, 7, 7, 7, 6, 7, 7, 7, 7, 14, 7, 14, 7, 7, 7, 7, 7, 7, 7, 7, 14, 7, 7, 7, 0, 7, 7, 7, 7, 7, 7, 7, 7, 7, 7, 10, 7, 7, 7, 7, 7, 0, 23, 7, 16, 14, 7, 7, 7, 7, 7, 7, 7, 7, 7, 7, 7, 7, 10, 7, 7, 7, 7, 16, 7, 7, 7, 7, 4, 7, 7, 7, 4, 7, 7, 7, 7, 7, 7, 7, 14, 7, 14, 7, 7, 7, 7, 7, 7, 7, 7, 6, 7, 7, 7, 7, 7, 7, 7, 7, 7, 21, 7, 12, 7, 7, 7, 7, 7, 7, 7, 4, 7, 7, 7, 7, 7, 7, 7, 7, 7, 7, 7, 7, 7, 7, 7, 7, 7, 7, 7, 6, 16, 7, 7, 7, 7, 7, 7, 7, 7, 7, 7, 16, 7, 8, 7, 7, 7, 16, 7, 7, 7, 7, 7, 7, 14, 7, 7, 7, 7, 7, 7, 7, 7, 7, 7, 6, 7, 14, 7, 7, 7, 7, 7, 7, 7, 7, 7, 7, 7, 7, 7, 6, 7, 7, 7, 7, 7, 7, 7, 7, 7, 7, 7, 7, 7, 7, 7, 7, 7, 7, 7, 7, 7, 7, 7, 7, 7, 16, 16, 7, 7, 7, 7, 7, 7, 7, 6, 7, 7, 7, 7, 7, 7, 7, 23, 7, 7, 7, 7, 7, 7, 14, 5, 14, 7, 7, 7, 7, 7, 7, 7, 7, 7, 7, 7, 7, 1, 7, 8, 7, 23, 7, 7, 14, 6, 7, 7, 7, 6, 7, 7, 7, 7, 7, 7, 7, 7, 7, 7, 7, 7, 7, 14, 7, 7, 7, 6, 7, 7]\n",
            "[7, 7, 7, 7, 7, 7, 7, 7, 7, 7, 7, 7, 7, 7, 7, 6, 14, 7, 7, 7, 14, 7, 7, 7, 7, 7, 7, 7, 7, 7, 7, 7, 7, 7, 7, 7, 7, 7, 7, 7, 7, 7, 7, 7, 7, 7, 7, 7, 7, 7, 7, 7, 7, 7, 7, 7, 7, 7, 7, 7, 7, 7, 7, 7, 7, 7, 7, 7, 7, 7, 7, 0, 7, 0, 7, 7, 7, 7, 7, 6, 7, 7, 7, 7, 7, 7, 7, 7, 7, 7, 7, 7, 7, 7, 7, 4, 7, 16, 7, 7, 7, 0, 7, 7, 7, 7, 7, 7, 6, 7, 7, 14, 7, 7, 7, 6, 7, 7, 7, 6, 7, 7, 7, 7, 6, 7, 7, 7, 7, 7, 7, 7, 4, 7, 7, 7, 7, 7, 7, 7, 7, 7, 7, 7, 7, 7, 7, 7, 7, 7, 7, 7, 7, 7, 7, 7, 7, 7, 7, 7, 16, 7, 7, 7, 7, 7, 7, 7, 0, 7, 7, 7, 7, 6, 6, 7, 7, 7, 7, 7, 7, 7, 7, 7, 7, 7, 7, 7, 4, 7, 7, 7, 7, 14, 7, 7, 16, 7, 7, 7, 7, 7, 7, 7, 7, 7, 14, 7, 7, 7, 7, 7, 7, 16, 7, 7, 7, 10, 7, 6, 7, 7, 7, 9, 7, 7, 7, 7, 7, 16, 7, 7, 7, 7, 7, 7, 7, 7, 7, 16, 7, 0, 7, 7, 6, 7, 7, 14, 7, 14, 7, 7, 7, 7, 7, 7, 7, 14, 7, 7, 7, 7, 7, 7, 7, 7, 14, 7, 7, 7, 7, 7, 7, 7, 7, 7, 7, 7, 7, 0, 7, 14, 7, 7, 7, 7, 7, 6, 7, 7, 7, 7, 7, 7, 7, 14, 7, 7, 7, 7]\n",
            "[7, 7, 7, 7, 7, 14, 7, 7, 7, 14, 7, 7, 7, 7, 7, 7, 7, 7, 14, 4, 7, 7, 7, 7, 7, 7, 7, 7, 7, 7, 7, 7, 6, 6, 7, 7, 7, 7, 7, 0, 7, 7, 7, 7, 7, 7, 7, 7, 14, 7, 7, 7, 6, 7, 7, 16, 7, 7, 7, 7, 7, 7, 7, 7, 7, 7, 7, 7, 7, 7, 7, 14, 5, 7, 7, 7, 7, 14, 7, 16, 7, 7, 7, 7, 7, 7, 7, 7, 7, 7, 7, 7, 7, 7, 10, 7, 7, 7, 7, 7, 7, 7, 7, 7, 7, 7, 16, 7, 7, 7, 7, 7, 7, 7, 7, 7, 7, 7, 7, 10, 7, 7, 7, 7, 7, 7, 7, 7, 7, 7, 7, 7, 16, 14, 7, 7, 7, 7, 7, 7, 6, 7, 7, 7, 7, 7, 7, 6, 7, 7, 7, 7, 7, 7, 6, 7, 7, 7, 7, 7, 7, 7, 7, 7, 7, 7, 7, 7, 7, 7, 7, 7, 7, 6, 7, 7, 7, 7, 7, 7, 7, 7, 7, 7, 14, 7, 7, 0, 7, 7, 7, 7, 7, 7, 7, 7, 7, 7, 7, 7, 7, 7, 7, 7, 7, 7, 7, 7, 7, 10, 14, 7, 7, 7, 7, 7, 7, 7, 7, 7, 7, 7, 16, 7, 7, 7, 7, 7, 7, 7, 7, 7, 7, 7, 7, 7, 7, 7, 18, 7, 7, 18, 7, 7, 7, 7, 7, 7, 7, 7, 7, 7, 7, 7, 7, 7, 6, 7, 7, 7, 7, 7, 7, 7, 7, 7, 7, 14, 21, 7, 7, 7, 7, 7, 7, 7, 16, 7, 7, 0, 14, 7, 7, 7, 7, 18, 7, 7, 7, 7, 7, 7, 7, 7, 7, 7, 7, 7, 7, 7]\n",
            "[7, 7, 7, 7, 7, 7, 14, 7, 7, 7, 7, 7, 7, 7, 7, 7, 7, 21, 7, 7, 7, 7, 7, 7, 7, 7, 7, 7, 14, 7, 6, 7, 7, 7, 7, 7, 7, 16, 7, 7, 7, 7, 7, 7, 7, 14, 7, 7, 7, 7, 7, 7, 7, 16, 7, 7, 6, 7, 7, 7, 14, 7, 7, 7, 7, 7, 7, 7, 7, 7, 7, 7, 14, 7, 14, 7, 7, 7, 7, 7, 7, 7, 7, 7, 7, 7, 7, 7, 7, 7, 7, 7, 7, 7, 7, 7, 7, 7, 7, 7, 7, 7, 7, 7, 7, 7, 7, 7, 7, 7, 7, 7, 7, 7, 7, 7, 7, 7, 7, 7, 6, 7, 7, 7, 7, 7, 7, 7, 7, 7, 14, 23, 7, 7, 7, 14, 19, 7, 7, 7, 16, 7, 7, 7, 6, 7, 7, 7, 7, 7, 7, 7, 7, 7, 7, 7, 7, 12, 7, 7, 7, 7, 7, 7, 7, 7, 7, 7, 7, 7, 7, 7, 7, 7, 7, 7, 7, 7, 7, 7, 7, 7, 7, 7, 0, 7, 7, 7, 7, 7, 7, 7, 7, 7, 7, 6, 16, 7, 7, 7, 7, 7, 23, 7, 7, 7, 7, 6, 7, 6, 7, 7, 7, 7, 7, 7, 0, 7, 7, 6, 7, 7, 7, 7, 14, 7, 7, 7, 7, 7, 7, 7, 9, 7, 7, 7, 7, 7, 7, 7, 7, 7, 7, 7, 7, 7, 7, 7, 7, 7, 7, 6, 6, 7, 7, 23, 7, 7, 7, 7, 7, 7, 7, 7, 7, 6, 9, 7, 16, 7, 7, 7, 7, 7, 14, 7, 7, 7, 7, 11, 7, 7, 7, 7, 7, 7, 7, 14, 7, 7, 7, 7, 7, 7, 7, 7, 7, 6, 7, 7]\n",
            "[7, 7, 6, 7, 7, 7, 7, 10, 7, 7, 7, 7, 7, 7, 6, 7, 7, 7, 14, 7, 4, 7, 7, 7, 16, 0, 7, 7, 16, 7, 6, 7, 7, 7, 7, 7, 7, 7, 7, 7, 7, 7, 7, 14, 6, 7, 16, 7, 7, 7, 14, 7, 7, 7, 6, 7, 7, 7, 14, 7, 7, 7, 16, 7, 7, 14, 7, 9, 7, 14, 14, 7, 7, 6, 7, 7, 7, 7, 7, 7, 7, 7, 6, 7, 14, 7, 7, 7, 7, 7, 7, 6, 7, 7, 7, 14, 7, 7, 7, 10, 7, 7, 7, 7, 7, 7, 7, 7, 14, 7, 7, 6, 7, 6, 7, 7, 7, 7, 7, 16, 7, 7, 7, 7, 7, 6, 16, 14, 7, 16, 7, 7, 4, 7, 7, 7, 7, 6, 7, 16, 7, 7, 7, 7, 7, 21, 7, 7, 7, 16, 4, 7, 7, 7, 7, 7, 7, 7, 0, 7, 7, 7, 7, 7, 7, 7, 7, 7, 7, 7, 7, 7, 7, 7, 7, 7, 7, 7, 7, 4, 7, 7, 7, 7, 7, 7, 7, 6, 7, 14, 7, 0, 7, 7, 7, 7, 7, 7, 16, 7, 16, 7, 7, 7, 7, 7, 7, 7, 7, 6, 7, 23, 7, 7, 7, 7, 7, 7, 7, 7, 7, 7, 7, 16, 7, 7, 7, 7, 1, 7, 16, 6, 7, 7, 7, 7, 7, 12, 7, 7, 7, 7, 7, 7, 7, 7, 7, 16, 7, 7, 7, 7, 7, 11, 7, 7, 7, 7, 7, 7, 7, 7, 7, 7, 7, 7, 7, 16, 7, 7, 16, 6, 7, 7, 7, 7, 7, 7, 7, 7, 7, 7, 21, 7, 7, 0, 7, 7, 7, 7, 6, 7, 7, 4, 7, 7, 7, 7, 7, 7]\n",
            "[7, 7, 7, 16, 7, 7, 14, 7, 7, 7, 7, 7, 7, 7, 7, 7, 7, 7, 7, 7, 7, 7, 7, 7, 6, 7, 21, 7, 7, 7, 11, 7, 7, 7, 7, 16, 7, 7, 7, 7, 7, 7, 7, 7, 7, 7, 7, 7, 7, 16, 7, 7, 7, 7, 7, 6, 7, 7, 7, 7, 7, 7, 7, 7, 7, 7, 7, 7, 7, 14, 7, 7, 7, 7, 7, 16, 7, 7, 7, 7, 7, 7, 7, 7, 7, 7, 7, 7, 7, 7, 7, 7, 7, 7, 7, 14, 7, 7, 7, 16, 7, 7, 21, 14, 6, 7, 7, 7, 7, 7, 7, 14, 7, 7, 7, 7, 7, 7, 7, 7, 14, 7, 7, 7, 7, 7, 7, 7, 21, 7, 7, 7, 7, 7, 14, 7, 7, 7, 7, 7, 7, 14, 1, 7, 7, 7, 7, 7, 7, 7, 7, 16, 11, 7, 7, 7, 7, 7, 7, 16, 6, 16, 7, 7, 7, 7, 7, 7, 14, 7, 7, 7, 7, 7, 7, 16, 16, 7, 7, 1, 7, 8, 14, 14, 7, 14, 7, 7, 7, 7, 7, 7, 7, 7, 7, 7, 7, 7, 7, 7, 7, 7, 7, 7, 7, 7, 7, 7, 7, 7, 7, 7, 7, 7, 7, 7, 6, 7, 7, 7, 7, 23, 7, 7, 7, 7, 7, 7, 7, 7, 7, 7, 7, 7, 7, 7, 7, 0, 7, 7, 14, 7, 7, 7, 7, 7, 6, 7, 14, 7, 7, 7, 16, 7, 7, 7, 7, 7, 7, 0, 7, 14, 0, 7, 7, 7, 14, 7, 7, 7, 7, 7, 14, 7, 14, 7, 7, 7, 7, 23, 7, 7, 7, 7, 7, 7, 7, 7, 7, 7, 7, 7, 7, 7, 7, 7, 7, 7, 7, 7]\n",
            "[7, 16, 7, 7, 7, 7, 7, 7, 7, 7, 7, 7, 4, 7, 6, 7, 7, 6, 7, 7, 7, 7, 7, 7, 14, 7, 7, 7, 7, 7, 7, 7, 7, 7, 7, 18, 6, 7, 7, 7, 4, 7, 7, 23, 7, 7, 7, 7, 7, 14, 7, 7, 7, 7, 7, 7, 7, 7, 7, 7, 7, 6, 7, 7, 7, 7, 7, 6, 7, 7, 7, 7, 7, 7, 0, 6, 7, 7, 7, 16, 7, 7, 7, 7, 7, 7, 14, 7, 7, 7, 7, 7, 7, 16, 7, 7, 7, 7, 7, 7, 7, 6, 7, 7, 7, 7, 7, 7, 7, 7, 6, 7, 7, 7, 7, 6, 7, 7, 7, 7, 7, 7, 7, 7, 7, 7, 7, 7, 7, 7, 7, 7, 7, 7, 7, 7, 7, 7, 7, 7, 7, 7, 7, 7, 7, 7, 7, 7, 8, 7, 7, 7, 7, 7, 7, 7, 7, 7, 7, 7, 7, 4, 7, 7, 7, 7, 7, 7, 7, 7, 14, 7, 7, 7, 7, 7, 7, 7, 7, 6, 12, 7, 14, 14, 7, 7, 7, 0, 7, 7, 16, 7, 7, 7, 7, 7, 7, 7, 7, 7, 7, 7, 7, 7, 7, 7, 0, 7, 7, 7, 0, 7, 7, 7, 7, 7, 7, 7, 7, 7, 7, 7, 7, 7, 7, 7, 7, 7, 7, 7, 7, 14, 6, 7, 7, 0, 7, 7, 7, 6, 7, 16, 21, 7, 0, 8, 7, 7, 7, 7, 7, 7, 7, 7, 7, 7, 7, 7, 6, 7, 7, 7, 0, 0, 0, 0, 7, 14, 7, 7, 7, 7, 7, 7, 7, 7, 7, 7, 7, 7, 7, 7, 7, 0, 7, 6, 16, 7, 7, 7, 6, 7, 7, 14, 7, 7, 7, 7, 7, 7]\n",
            "[7, 7, 7, 7, 7, 7, 7, 7, 7, 7, 7, 7, 7, 14, 7, 7, 7, 7, 7, 6, 7, 7, 7, 7, 7, 16, 7, 7, 8, 7, 7, 7, 7, 7, 7, 7, 7, 7, 7, 7, 7, 7, 0, 14, 7, 7, 7, 7, 14, 7, 7, 7, 7, 7, 7, 7, 0, 6, 7, 7, 6, 16, 7, 7, 7, 7, 7, 7, 7, 7, 7, 7, 7, 7, 7, 7, 7, 7, 6, 7, 7, 16, 7, 7, 7, 6, 7, 7, 7, 7, 7, 7, 7, 7, 7, 7, 14, 7, 7, 14, 16, 7, 6, 7, 7, 7, 7, 7, 7, 7, 7, 7, 7, 7, 1, 7, 14, 7, 8, 7, 7, 7, 0, 16, 7, 7, 7, 7, 16, 7, 7, 7, 7, 7, 7, 7, 7, 7, 7, 4, 7, 7, 7, 7, 7, 7, 7, 7, 0, 7, 6, 7, 7, 7, 7, 7, 7, 7, 0, 7, 21, 7, 7, 7, 7, 7, 7, 7, 7, 7, 7, 7, 16, 7, 7, 7, 14, 0, 7, 7, 7, 7, 7, 7, 7, 7, 7, 7, 7, 7, 16, 7, 7, 7, 7, 7, 7, 7, 6, 4, 7, 0, 7, 7, 0, 7, 7, 18, 7, 7, 7, 7, 7, 7, 7, 7, 10, 7, 7, 7, 7, 7, 7, 7, 7, 7, 7, 7, 7, 7, 6, 7, 7, 7, 7, 7, 7, 7, 7, 7, 7, 6, 0, 7, 7, 7, 7, 7, 7, 7, 7, 14, 6, 7, 7, 7, 1, 7, 7, 7, 7, 7, 7, 7, 7, 7, 7, 7, 7, 14, 7, 16, 14, 7, 7, 7, 7, 7, 7, 7, 4, 7, 7, 7, 7, 7, 7, 7, 7, 7, 7, 7, 7, 7, 14, 7, 7, 6, 7, 7]\n",
            "[16, 7, 16, 14, 7, 16, 7, 7, 7, 7, 7, 7, 7, 7, 7, 7, 7, 7, 7, 7, 7, 7, 7, 7, 7, 6, 7, 7, 0, 7, 7, 14, 7, 7, 7, 14, 7, 7, 7, 7, 7, 7, 7, 6, 7, 7, 7, 7, 6, 16, 7, 7, 7, 7, 7, 7, 7, 6, 7, 7, 7, 0, 7, 7, 7, 7, 7, 7, 7, 7, 7, 7, 7, 7, 7, 0, 7, 7, 7, 7, 7, 7, 7, 7, 6, 7, 7, 7, 7, 7, 7, 7, 6, 7, 7, 7, 7, 7, 7, 7, 7, 0, 7, 7, 7, 7, 16, 7, 7, 23, 0, 7, 7, 7, 7, 7, 7, 18, 16, 7, 7, 1, 16, 7, 7, 7, 7, 7, 7, 7, 7, 7, 7, 7, 7, 7, 7, 7, 14, 7, 7, 7, 7, 7, 7, 7, 7, 7, 7, 7, 7, 7, 7, 7, 7, 14, 7, 7, 7, 7, 7, 7, 6, 7, 7, 7, 7, 7, 7, 7, 7, 7, 7, 7, 6, 7, 7, 8, 7, 7, 7, 7, 0, 7, 7, 7, 7, 0, 7, 7, 7, 7, 14, 7, 9, 7, 14, 6, 7, 7, 7, 7, 7, 16, 7, 7, 7, 21, 16, 7, 7, 6, 7, 7, 14, 7, 7, 7, 7, 7, 7, 14, 7, 7, 7, 0, 7, 7, 7, 7, 7, 6, 7, 7, 16, 7, 7, 7, 7, 7, 7, 7, 7, 7, 7, 7, 7, 7, 7, 7, 7, 7, 7, 16, 7, 7, 7, 7, 7, 7, 7, 7, 16, 7, 10, 7, 7, 7, 7, 7, 7, 0, 7, 7, 7, 7, 7, 7, 7, 7, 7, 7, 7, 14, 7, 7, 7, 7, 7, 11, 7, 7, 7, 7, 7, 7, 7, 7, 14, 7]\n",
            "[7, 7, 7, 7, 14, 7, 7, 7, 7, 7, 7, 7, 7, 7, 7, 7, 7, 7, 7, 7, 7, 7, 7, 7, 7, 7, 0, 7, 7, 7, 7, 6, 7, 4, 7, 7, 7, 7, 6, 7, 6, 7, 7, 7, 7, 7, 7, 7, 7, 7, 7, 7, 7, 1, 7, 7, 7, 7, 7, 7, 7, 7, 1, 7, 7, 7, 7, 7, 7, 7, 7, 14, 16, 7, 7, 14, 7, 7, 7, 7, 7, 7, 7, 4, 7, 7, 7, 7, 7, 16, 7, 7, 7, 7, 7, 4, 16, 7, 7, 7, 7, 4, 7, 7, 7, 7, 7, 7, 7, 7, 7, 7, 7, 7, 7, 7, 7, 7, 7, 16, 7, 0, 7, 7, 7, 7, 7, 7, 7, 7, 7, 7, 7, 7, 7, 7, 7, 7, 7, 7, 7, 7, 1, 7, 7, 7, 7, 7, 7, 7, 7, 6, 7, 7, 7, 7, 7, 7, 7, 7, 7, 7, 7, 7, 7, 7, 7, 16, 7, 7, 7, 7, 7, 7, 7, 7, 7, 7, 7, 7, 7, 7, 7, 16, 7, 7, 16, 7, 7, 7, 7, 7, 7, 7, 16, 14, 7, 7, 7, 14, 7, 7, 16, 7, 7, 7, 7, 14, 7, 7, 7, 7, 7, 7, 7, 7, 7, 7, 7, 7, 7, 7, 7, 6, 7, 7, 7, 7, 7, 7, 7, 7, 7, 7, 7, 7, 7, 7, 7, 6, 7, 7, 7, 7, 7, 7, 6, 7, 7, 7, 0, 7, 16, 7, 7, 7, 7, 7, 7, 7, 7, 0, 14, 7, 7, 7, 14, 7, 7, 7, 7, 7, 7, 7, 0, 7, 7, 7, 7, 7, 7, 7, 7, 7, 14, 7, 7, 7, 7, 7, 7, 16, 14, 7, 6, 7, 0, 7, 7, 7]\n",
            "[7, 7, 6, 7, 7, 7, 7, 6, 7, 7, 7, 7, 6, 7, 7, 7, 7, 7, 18, 7, 7, 7, 10, 7, 7, 7, 14, 7, 7, 7, 7, 7, 0, 10, 7, 7, 7, 7, 7, 7, 7, 7, 7, 7, 14, 7, 7, 7, 14, 7, 7, 7, 7, 7, 7, 16, 21, 7, 7, 7, 7, 7, 7, 7, 7, 7, 7, 7, 16, 7, 6, 7, 7, 7, 1, 7, 7, 7, 7, 6, 7, 14, 7, 6, 7, 16, 7, 7, 7, 7, 7, 7, 7, 7, 7, 7, 7, 7, 7, 7, 7, 7, 7, 7, 16, 7, 6, 6, 7, 7, 7, 7, 7, 21, 7, 7, 7, 7, 7, 16, 7, 7, 7, 7, 7, 7, 7, 7, 7, 7, 7, 7, 7, 7, 7, 7, 7, 7, 8, 7, 7, 7, 7, 7, 7, 7, 7, 7, 14, 7, 9, 7, 7, 0, 16, 7, 7, 7, 7, 7, 7, 0, 4, 7, 7, 7, 7, 20, 7, 7, 7, 7, 16, 7, 7, 7, 14, 0, 4, 7, 7, 7, 7, 7, 7, 7, 7, 7, 7, 7, 6, 14, 7, 6, 7, 7, 7, 7, 7, 7, 7, 7, 7, 14, 7, 7, 6, 7, 7, 7, 7, 7, 6, 7, 7, 7, 7, 7, 14, 7, 7, 7, 7, 7, 7, 7, 7, 7, 7, 16, 7, 7, 7, 6, 7, 7, 7, 7, 7, 7, 7, 6, 7, 7, 7, 7, 7, 7, 7, 7, 7, 7, 20, 7, 7, 7, 7, 16, 7, 7, 4, 7, 1, 7, 7, 7, 16, 7, 7, 7, 21, 4, 7, 18, 7, 7, 7, 6, 7, 7, 7, 7, 7, 7, 16, 7, 7, 7, 7, 7, 7, 14, 7, 7, 7, 7, 7, 7, 7, 7]\n",
            "[7, 7, 7, 14, 6, 7, 7, 7, 7, 6, 7, 20, 7, 7, 7, 6, 7, 7, 7, 7, 6, 7, 7, 7, 7, 7, 7, 7, 7, 7, 7, 7, 7, 7, 7, 7, 7, 7, 7, 7, 7, 7, 7, 7, 18, 17, 7, 7, 6, 7, 7, 7, 7, 14, 7, 7, 7, 6, 7, 7, 7, 7, 7, 7, 7, 7, 14, 14, 7, 7, 7, 7, 7, 7, 7, 7, 6, 7, 7, 14, 7, 7, 7, 14, 16, 7, 7, 7, 7, 7, 6, 7, 7, 7, 7, 7, 7, 16, 7, 7, 7, 7, 7, 7, 7, 14, 7, 7, 7, 14, 6, 7, 7, 7, 6, 7, 7, 0, 7, 7, 7, 7, 7, 7, 7, 7, 14, 7, 7, 7, 7, 7, 7, 7, 7, 7, 7, 7, 7, 6, 14, 7, 7, 7, 7, 7, 7, 7, 7, 7, 7, 7, 7, 7, 7, 0, 7, 7, 7, 14, 7, 7, 7, 7, 7, 7, 7, 14, 7, 7, 7, 7, 7, 7, 5, 0, 7, 7, 7, 7, 7, 7, 7, 7, 7, 7, 7, 7, 16, 7, 7, 7, 7, 7, 14, 7, 7, 7, 7, 7, 7, 7, 16, 14, 7, 7, 7, 7, 7, 7, 7, 7, 7, 7, 7, 7, 14, 7, 7, 7, 7, 7, 7, 7, 23, 7, 14, 7, 7, 7, 7, 6, 7, 6, 7, 7, 7, 7, 7, 7, 7, 7, 6, 7, 14, 7, 7, 14, 7, 1, 7, 7, 7, 7, 7, 7, 7, 7, 7, 7, 7, 7, 7, 16, 0, 6, 7, 7, 7, 7, 6, 7, 6, 14, 1, 7, 7, 7, 7, 7, 7, 7, 7, 7, 7, 7, 7, 7, 7, 7, 7, 7, 14, 7, 7, 7, 7, 7, 7, 7]\n",
            "[7, 7, 14, 7, 7, 7, 7, 7, 7, 7, 7, 8, 7, 7, 7, 7, 6, 7, 6, 19, 7, 7, 7, 7, 7, 7, 7, 7, 7, 7, 7, 7, 7, 6, 7, 7, 7, 7, 7, 7, 7, 7, 7, 7, 7, 16, 7, 7, 7, 4, 7, 7, 7, 7, 7, 7, 7, 6, 7, 7, 7, 7, 7, 7, 7, 7, 7, 7, 7, 12, 7, 7, 7, 14, 7, 7, 7, 7, 18, 7, 7, 7, 0, 7, 7, 7, 7, 7, 6, 7, 14, 7, 7, 7, 16, 7, 7, 7, 7, 7, 7, 7, 7, 7, 7, 7, 7, 7, 7, 7, 4, 7, 7, 7, 7, 6, 7, 7, 7, 7, 7, 4, 6, 7, 14, 16, 7, 6, 1, 14, 7, 7, 7, 6, 7, 7, 7, 7, 7, 7, 7, 7, 19, 7, 7, 7, 7, 7, 7, 7, 7, 7, 7, 7, 7, 7, 7, 7, 10, 7, 16, 6, 7, 7, 7, 7, 7, 7, 7, 0, 7, 7, 11, 7, 14, 16, 7, 7, 7, 0, 7, 7, 7, 7, 7, 7, 7, 7, 7, 7, 7, 7, 7, 7, 7, 7, 7, 7, 7, 7, 7, 7, 7, 7, 7, 14, 7, 6, 7, 7, 7, 7, 10, 0, 7, 7, 7, 7, 6, 7, 7, 7, 7, 7, 7, 7, 7, 8, 7, 7, 7, 7, 7, 10, 14, 7, 7, 7, 7, 7, 7, 7, 7, 7, 7, 7, 7, 7, 7, 7, 7, 7, 7, 7, 7, 7, 7, 7, 7, 0, 7, 7, 7, 7, 7, 7, 7, 7, 7, 7, 23, 7, 7, 7, 6, 7, 7, 7, 7, 7, 7, 6, 7, 7, 7, 7, 7, 7, 7, 7, 7, 7, 7, 7, 7, 7, 7, 7, 7, 7]\n",
            "[7, 7, 6, 7, 7, 4, 6, 14, 7, 7, 7, 7, 7, 7, 7, 7, 7, 7, 6, 7, 10, 7, 7, 14, 7, 14, 0, 7, 7, 6, 7, 7, 7, 7, 7, 7, 7, 7, 7, 7, 7, 7, 16, 7, 7, 7, 7, 16, 7, 7, 7, 7, 7, 7, 7, 6, 4, 14, 7, 7, 7, 7, 6, 7, 7, 7, 7, 7, 4, 7, 7, 7, 7, 7, 7, 7, 7, 7, 14, 7, 7, 7, 7, 7, 14, 6, 7, 7, 7, 7, 7, 7, 7, 7, 7, 7, 7, 7, 7, 7, 7, 16, 7, 7, 7, 7, 10, 14, 7, 7, 7, 7, 7, 7, 7, 7, 7, 7, 7, 7, 7, 7, 7, 7, 7, 6, 7, 7, 16, 14, 7, 7, 7, 7, 7, 7, 7, 6, 7, 7, 19, 7, 7, 7, 7, 7, 7, 7, 1, 7, 7, 7, 7, 7, 7, 7, 7, 7, 7, 7, 7, 6, 7, 7, 7, 7, 7, 7, 7, 7, 7, 7, 7, 7, 7, 23, 7, 16, 7, 4, 7, 7, 7, 7, 7, 7, 7, 16, 7, 7, 7, 14, 14, 7, 15, 7, 14, 7, 7, 7, 7, 7, 6, 7, 16, 7, 7, 7, 21, 7, 7, 7, 7, 7, 7, 7, 7, 7, 7, 7, 7, 7, 7, 7, 7, 7, 7, 7, 7, 7, 7, 7, 7, 7, 14, 7, 7, 7, 7, 7, 7, 7, 0, 7, 7, 0, 7, 7, 7, 7, 7, 4, 14, 7, 7, 7, 7, 7, 7, 16, 16, 7, 7, 7, 7, 7, 7, 7, 7, 0, 7, 7, 6, 7, 7, 7, 7, 7, 7, 7, 7, 7, 7, 7, 7, 7, 16, 7, 7, 7, 7, 7, 7, 7, 7, 7, 7, 7, 7, 7]\n",
            "[7, 7, 7, 7, 7, 7, 7, 7, 7, 7, 7, 7, 6, 7, 0, 7, 7, 7, 7, 14, 6, 7, 7, 7, 7, 7, 7, 7, 7, 4, 6, 16, 7, 7, 14, 7, 7, 7, 7, 7, 7, 6, 7, 7, 7, 7, 7, 7, 7, 7, 14, 2, 7, 7, 7, 7, 7, 7, 6, 7, 6, 10, 7, 14, 16, 7, 7, 7, 7, 7, 7, 7, 7, 6, 7, 7, 6, 7, 7, 7, 6, 7, 0, 7, 7, 6, 7, 7, 6, 7, 7, 7, 7, 7, 7, 7, 7, 7, 7, 7, 7, 7, 7, 7, 7, 4, 7, 7, 7, 16, 7, 10, 7, 7, 7, 7, 7, 7, 7, 7, 7, 7, 14, 7, 7, 7, 6, 7, 7, 7, 7, 7, 7, 7, 7, 7, 7, 7, 7, 7, 7, 7, 6, 7, 7, 7, 7, 7, 7, 7, 7, 7, 14, 7, 7, 7, 14, 7, 7, 16, 7, 7, 7, 6, 7, 7, 0, 14, 7, 7, 7, 7, 7, 7, 11, 7, 7, 7, 6, 7, 7, 7, 7, 7, 7, 7, 7, 7, 7, 7, 7, 7, 7, 7, 7, 7, 7, 7, 7, 7, 7, 7, 6, 7, 16, 7, 7, 7, 7, 7, 7, 7, 7, 7, 7, 7, 7, 7, 7, 7, 7, 7, 7, 7, 7, 7, 7, 7, 7, 21, 6, 7, 7, 7, 7, 7, 7, 7, 7, 7, 7, 7, 7, 7, 0, 7, 7, 6, 7, 7, 7, 7, 7, 7, 7, 7, 7, 7, 7, 7, 7, 7, 7, 7, 7, 16, 7, 7, 7, 7, 6, 7, 7, 7, 7, 7, 7, 7, 7, 7, 7, 7, 7, 7, 16, 7, 7, 14, 7, 7, 7, 7, 7, 7, 7, 7, 16, 7, 7, 7]\n",
            "[7, 7, 7, 7, 7, 7, 7, 7, 7, 20, 7, 7, 14, 7, 7, 7, 7, 10, 7, 7, 16, 14, 6, 7, 7, 7, 7, 7, 7, 0, 7, 7, 1, 7, 6, 7, 7, 14, 7, 7, 7, 7, 7, 7, 14, 7, 7, 7, 7, 7, 7, 7, 7, 7, 7, 7, 7, 7, 7, 7, 7, 7, 7, 7, 7, 7, 7, 7, 7, 7, 16, 21, 7, 7, 7, 7, 7, 7, 7, 7, 7, 7, 4, 7, 7, 7, 14, 7, 7, 7, 7, 7, 7, 7, 7, 7, 7, 7, 7, 7, 7, 21, 7, 7, 7, 7, 7, 7, 7, 7, 0, 6, 7, 7, 7, 7, 7, 7, 7, 10, 7, 6, 7, 7, 7, 1, 7, 7, 7, 7, 7, 7, 7, 7, 7, 7, 7, 6, 6, 4, 0, 7, 7, 7, 7, 7, 7, 7, 7, 7, 7, 7, 7, 6, 7, 7, 7, 7, 14, 16, 7, 7, 14, 7, 16, 7, 7, 7, 7, 6, 7, 7, 7, 16, 7, 7, 7, 7, 7, 7, 7, 7, 7, 7, 7, 7, 7, 7, 7, 7, 7, 16, 7, 4, 7, 7, 7, 7, 7, 7, 7, 7, 7, 7, 7, 7, 7, 7, 7, 16, 16, 7, 7, 7, 7, 7, 7, 7, 7, 7, 0, 7, 16, 7, 6, 7, 7, 7, 7, 7, 7, 7, 7, 7, 7, 7, 7, 6, 7, 7, 7, 14, 6, 7, 7, 7, 7, 7, 7, 7, 7, 6, 7, 7, 7, 7, 7, 7, 7, 7, 4, 7, 7, 16, 7, 7, 6, 7, 7, 7, 7, 7, 6, 7, 16, 7, 7, 7, 6, 7, 7, 7, 7, 16, 7, 6, 7, 7, 7, 7, 7, 7, 7, 4, 7, 7, 7, 7, 6, 7]\n",
            "[7, 7, 7, 7, 7, 6, 16, 7, 7, 7, 7, 7, 7, 7, 7, 7, 7, 7, 7, 14, 7, 7, 7, 7, 7, 7, 7, 7, 7, 7, 14, 7, 14, 7, 7, 7, 6, 7, 7, 6, 7, 7, 7, 7, 7, 7, 7, 7, 7, 7, 1, 7, 7, 7, 7, 7, 7, 7, 7, 0, 0, 7, 7, 7, 7, 7, 7, 7, 7, 16, 14, 7, 7, 14, 7, 7, 14, 7, 7, 7, 7, 7, 16, 7, 7, 7, 7, 7, 7, 7, 7, 7, 7, 7, 7, 7, 14, 7, 7, 7, 7, 7, 7, 7, 7, 7, 7, 7, 7, 7, 7, 7, 7, 7, 7, 7, 7, 7, 7, 14, 7, 16, 14, 7, 7, 7, 7, 7, 7, 7, 7, 7, 6, 0, 7, 7, 7, 16, 7, 7, 7, 7, 7, 7, 7, 7, 7, 7, 7, 7, 7, 7, 6, 4, 7, 16, 14, 7, 7, 7, 7, 7, 7, 7, 7, 7, 7, 7, 7, 7, 7, 7, 7, 7, 16, 7, 7, 7, 7, 7, 7, 6, 7, 7, 6, 7, 7, 6, 7, 7, 6, 7, 7, 7, 7, 7, 7, 7, 7, 7, 7, 7, 7, 7, 7, 7, 7, 14, 7, 7, 16, 7, 7, 7, 7, 7, 7, 7, 7, 14, 7, 7, 7, 7, 7, 7, 7, 7, 7, 7, 7, 0, 7, 6, 0, 7, 7, 7, 7, 7, 7, 7, 7, 7, 16, 7, 7, 7, 7, 7, 7, 7, 7, 7, 7, 16, 6, 7, 7, 7, 7, 7, 7, 14, 7, 7, 7, 7, 7, 7, 7, 0, 6, 7, 7, 7, 7, 7, 7, 7, 7, 7, 7, 7, 7, 7, 7, 7, 6, 7, 7, 7, 7, 7, 7, 7, 7, 7, 7, 7]\n",
            "[7, 7, 7, 16, 7, 7, 7, 7, 7, 7, 7, 7, 7, 7, 7, 7, 7, 14, 7, 7, 7, 0, 7, 7, 8, 7, 7, 7, 7, 7, 14, 7, 7, 7, 7, 7, 7, 7, 7, 7, 16, 7, 7, 16, 7, 14, 7, 7, 7, 7, 7, 7, 7, 7, 7, 6, 14, 7, 7, 7, 7, 7, 7, 7, 7, 7, 7, 7, 7, 7, 7, 7, 7, 7, 7, 7, 19, 7, 7, 7, 7, 7, 7, 7, 7, 7, 7, 7, 7, 7, 7, 4, 7, 7, 7, 7, 7, 7, 7, 7, 7, 7, 7, 7, 7, 7, 7, 7, 7, 7, 7, 7, 7, 7, 16, 0, 6, 16, 7, 7, 0, 7, 7, 7, 7, 7, 7, 7, 7, 7, 7, 7, 7, 7, 16, 1, 7, 7, 7, 7, 7, 7, 16, 14, 7, 7, 7, 7, 7, 7, 7, 7, 7, 7, 7, 7, 7, 7, 7, 7, 7, 7, 7, 7, 7, 7, 7, 7, 7, 7, 7, 7, 7, 7, 11, 7, 7, 7, 7, 7, 7, 7, 7, 7, 7, 7, 7, 7, 7, 7, 6, 7, 7, 14, 16, 7, 7, 7, 7, 0, 7, 7, 7, 7, 7, 7, 7, 7, 7, 7, 7, 7, 7, 6, 7, 7, 7, 7, 7, 7, 7, 7, 14, 7, 7, 7, 0, 7, 7, 7, 7, 7, 7, 7, 7, 7, 7, 7, 7, 7, 7, 7, 7, 7, 7, 7, 7, 7, 7, 7, 7, 7, 7, 7, 7, 7, 7, 7, 7, 7, 7, 14, 7, 7, 7, 7, 4, 7, 7, 7, 7, 7, 7, 7, 7, 7, 14, 7, 7, 7, 7, 7, 7, 7, 7, 7, 7, 7, 7, 6, 0, 7, 7, 7, 7, 7, 7, 7, 7, 7]\n",
            "[7, 7, 16, 7, 7, 7, 7, 7, 7, 7, 1, 7, 6, 7, 7, 7, 7, 7, 7, 7, 7, 7, 7, 7, 7, 7, 7, 7, 7, 7, 7, 7, 7, 7, 7, 7, 7, 7, 7, 7, 7, 14, 7, 7, 7, 7, 7, 7, 7, 7, 7, 7, 7, 0, 7, 7, 7, 6, 14, 7, 7, 7, 7, 7, 7, 7, 7, 7, 7, 7, 7, 7, 7, 14, 7, 14, 7, 7, 7, 7, 14, 21, 7, 7, 0, 7, 7, 7, 7, 6, 7, 7, 7, 7, 7, 7, 7, 7, 7, 7, 7, 7, 7, 7, 7, 6, 14, 7, 7, 7, 7, 7, 7, 6, 7, 7, 7, 7, 6, 7, 7, 7, 7, 7, 7, 7, 6, 7, 6, 7, 7, 7, 7, 7, 7, 7, 7, 7, 7, 7, 7, 7, 16, 7, 7, 1, 7, 7, 7, 16, 7, 7, 7, 7, 7, 7, 7, 7, 7, 7, 7, 7, 7, 7, 7, 7, 7, 7, 7, 7, 7, 7, 7, 16, 14, 7, 7, 7, 7, 7, 16, 4, 7, 7, 7, 7, 7, 7, 7, 7, 7, 7, 14, 7, 7, 7, 7, 7, 7, 7, 16, 7, 7, 7, 7, 7, 7, 7, 7, 7, 7, 7, 7, 7, 7, 7, 7, 7, 7, 7, 7, 19, 12, 7, 7, 7, 7, 7, 7, 7, 7, 0, 7, 21, 7, 7, 7, 7, 7, 7, 7, 7, 7, 7, 16, 7, 7, 7, 7, 7, 6, 7, 7, 7, 7, 7, 7, 7, 7, 7, 7, 7, 7, 7, 6, 7, 7, 14, 7, 7, 7, 7, 7, 7, 7, 7, 7, 7, 7, 7, 7, 14, 7, 7, 7, 7, 7, 7, 14, 11, 7, 7, 7, 7, 7, 7, 7, 7, 7, 7]\n",
            "[6, 7, 7, 7, 7, 7, 7, 7, 16, 7, 7, 7, 7, 7, 7, 7, 16, 7, 7, 7, 7, 7, 7, 7, 7, 14, 7, 7, 7, 7, 7, 7, 7, 7, 7, 7, 7, 7, 7, 7, 7, 16, 16, 7, 7, 7, 7, 7, 6, 16, 7, 7, 7, 7, 7, 7, 7, 7, 7, 16, 7, 7, 7, 7, 7, 7, 7, 7, 7, 7, 6, 7, 7, 7, 7, 7, 7, 7, 7, 7, 7, 7, 6, 6, 7, 6, 7, 7, 7, 7, 7, 7, 18, 7, 7, 7, 7, 6, 7, 7, 7, 14, 7, 7, 7, 7, 7, 7, 7, 7, 7, 7, 14, 7, 7, 6, 7, 7, 7, 6, 7, 7, 7, 7, 7, 6, 6, 7, 7, 7, 7, 7, 7, 7, 14, 7, 7, 7, 7, 7, 7, 7, 7, 7, 16, 16, 8, 7, 7, 21, 10, 7, 7, 7, 7, 7, 7, 7, 7, 7, 7, 7, 0, 7, 7, 7, 1, 7, 7, 7, 7, 7, 7, 6, 7, 7, 7, 7, 7, 7, 7, 7, 7, 7, 7, 6, 7, 7, 7, 7, 7, 7, 7, 7, 7, 7, 7, 7, 6, 6, 7, 7, 6, 7, 7, 7, 7, 7, 7, 7, 7, 7, 1, 7, 7, 7, 7, 7, 7, 7, 7, 7, 7, 7, 7, 7, 7, 7, 7, 14, 7, 7, 7, 14, 7, 6, 21, 7, 7, 7, 7, 0, 7, 7, 7, 7, 7, 7, 7, 7, 7, 7, 7, 7, 0, 6, 7, 7, 7, 7, 7, 7, 7, 7, 7, 7, 16, 7, 7, 7, 7, 7, 7, 7, 7, 7, 7, 7, 7, 7, 12, 7, 7, 7, 4, 23, 7, 7, 7, 7, 7, 7, 7, 7, 7, 7, 7, 7, 7, 7]\n",
            "[7, 6, 7, 7, 7, 7, 7, 6, 14, 7, 7, 7, 7, 7, 7, 7, 7, 7, 7, 16, 7, 7, 7, 14, 7, 20, 7, 7, 7, 7, 7, 7, 7, 7, 7, 14, 7, 7, 7, 7, 6, 7, 7, 7, 7, 7, 16, 7, 7, 7, 7, 7, 7, 7, 7, 14, 7, 7, 7, 7, 7, 7, 7, 7, 7, 4, 7, 6, 7, 7, 7, 7, 7, 23, 7, 7, 7, 6, 7, 7, 7, 14, 7, 7, 6, 7, 7, 14, 7, 7, 7, 14, 7, 7, 7, 7, 6, 7, 7, 7, 7, 7, 7, 7, 7, 8, 7, 4, 7, 7, 0, 7, 7, 7, 7, 7, 7, 7, 7, 7, 7, 7, 7, 7, 7, 7, 7, 7, 20, 7, 7, 7, 7, 7, 7, 7, 7, 7, 7, 7, 7, 7, 7, 7, 7, 7, 10, 7, 6, 7, 7, 7, 7, 7, 14, 16, 7, 7, 7, 7, 23, 14, 7, 7, 14, 7, 7, 7, 7, 7, 6, 7, 7, 7, 7, 7, 7, 7, 7, 16, 7, 7, 7, 6, 7, 7, 7, 7, 7, 7, 7, 7, 7, 8, 7, 23, 16, 7, 7, 7, 7, 17, 0, 7, 7, 7, 7, 7, 7, 7, 7, 16, 7, 7, 7, 6, 7, 7, 7, 7, 4, 16, 7, 7, 7, 7, 6, 7, 7, 7, 7, 7, 7, 7, 16, 7, 7, 7, 7, 7, 16, 7, 7, 21, 16, 7, 7, 7, 7, 7, 7, 7, 7, 7, 7, 7, 7, 7, 7, 7, 1, 6, 7, 7, 7, 7, 7, 7, 7, 6, 7, 7, 7, 7, 7, 16, 7, 7, 7, 7, 7, 4, 21, 7, 7, 7, 7, 7, 7, 7, 7, 7, 6, 14, 16, 7, 16, 7, 7, 7]\n",
            "[7, 7, 7, 7, 7, 7, 7, 7, 7, 7, 7, 7, 7, 7, 7, 0, 7, 7, 7, 0, 6, 7, 7, 7, 16, 7, 6, 7, 7, 6, 7, 7, 7, 7, 7, 7, 7, 7, 7, 7, 7, 7, 7, 7, 14, 7, 7, 7, 7, 7, 7, 7, 7, 6, 16, 7, 7, 11, 6, 7, 7, 7, 7, 7, 7, 7, 7, 7, 7, 7, 7, 7, 4, 7, 7, 7, 6, 7, 7, 7, 7, 14, 4, 7, 14, 1, 4, 7, 7, 7, 7, 7, 7, 7, 7, 7, 7, 7, 7, 7, 14, 7, 7, 16, 7, 0, 7, 0, 7, 7, 7, 7, 7, 7, 7, 7, 7, 7, 7, 7, 7, 7, 7, 7, 7, 7, 6, 7, 7, 7, 7, 7, 7, 16, 7, 7, 14, 7, 7, 7, 7, 7, 7, 6, 6, 7, 16, 7, 7, 7, 7, 0, 7, 7, 7, 6, 7, 7, 7, 7, 7, 7, 7, 7, 7, 7, 7, 7, 7, 7, 7, 7, 7, 7, 7, 7, 14, 7, 7, 7, 4, 7, 7, 7, 7, 14, 7, 7, 7, 7, 7, 7, 7, 7, 7, 7, 7, 7, 7, 7, 7, 7, 7, 7, 7, 7, 7, 7, 7, 7, 7, 0, 7, 7, 7, 7, 7, 7, 7, 6, 7, 7, 7, 7, 6, 7, 6, 7, 7, 7, 14, 7, 7, 7, 7, 7, 7, 7, 6, 7, 7, 7, 7, 7, 7, 7, 7, 7, 7, 21, 7, 7, 7, 7, 7, 7, 7, 7, 7, 14, 6, 16, 7, 7, 7, 7, 7, 6, 1, 7, 14, 7, 7, 7, 7, 7, 6, 0, 7, 6, 7, 7, 7, 7, 7, 7, 7, 7, 7, 7, 7, 7, 7, 7, 14, 7, 7, 7, 7, 7]\n",
            "[7, 7, 7, 7, 7, 7, 7, 7, 14, 7, 7, 1, 7, 7, 7, 0, 7, 7, 7, 7, 14, 7, 7, 21, 7, 7, 7, 7, 7, 7, 7, 7, 7, 16, 16, 7, 7, 7, 7, 7, 7, 6, 7, 7, 7, 7, 7, 7, 7, 7, 7, 7, 7, 7, 7, 7, 7, 7, 7, 7, 7, 7, 7, 7, 7, 7, 7, 7, 7, 7, 7, 7, 0, 14, 7, 18, 9, 7, 16, 7, 7, 4, 14, 7, 7, 7, 7, 7, 7, 6, 14, 7, 7, 7, 7, 7, 7, 14, 7, 7, 6, 7, 20, 4, 7, 7, 7, 7, 7, 7, 7, 7, 7, 7, 7, 7, 1, 7, 14, 6, 7, 7, 7, 7, 0, 0, 7, 6, 7, 7, 0, 14, 8, 7, 7, 7, 7, 7, 0, 7, 16, 1, 7, 7, 7, 7, 7, 7, 7, 7, 7, 6, 7, 7, 16, 7, 7, 7, 7, 16, 6, 10, 7, 7, 7, 7, 7, 7, 7, 7, 7, 6, 4, 7, 7, 7, 7, 7, 7, 7, 7, 7, 6, 7, 16, 7, 6, 7, 7, 7, 7, 7, 7, 7, 7, 7, 7, 7, 7, 7, 7, 7, 7, 7, 7, 6, 7, 7, 7, 7, 7, 7, 7, 16, 7, 7, 7, 7, 7, 7, 6, 7, 0, 7, 7, 7, 7, 7, 7, 7, 7, 7, 7, 7, 7, 7, 7, 7, 7, 7, 1, 7, 7, 7, 7, 7, 7, 7, 7, 7, 7, 7, 7, 7, 7, 7, 7, 7, 7, 7, 7, 7, 7, 6, 7, 7, 7, 7, 7, 7, 7, 7, 7, 7, 7, 21, 7, 7, 7, 7, 6, 0, 7, 7, 7, 7, 6, 7, 7, 7, 7, 7, 7, 7, 7, 7, 7, 7, 1, 7]\n",
            "[7, 7, 6, 7, 7, 7, 7, 7, 7, 7, 7, 4, 1, 7, 7, 7, 7, 7, 7, 7, 7, 14, 7, 7, 7, 7, 7, 7, 7, 7, 7, 14, 6, 7, 7, 7, 7, 21, 7, 7, 7, 7, 7, 7, 7, 7, 7, 7, 7, 6, 7, 7, 7, 7, 7, 7, 7, 4, 7, 7, 7, 7, 7, 7, 7, 14, 7, 7, 7, 7, 7, 7, 16, 7, 7, 14, 7, 7, 7, 7, 7, 7, 7, 7, 7, 7, 7, 7, 7, 7, 7, 7, 7, 7, 7, 7, 7, 7, 7, 6, 6, 14, 7, 7, 7, 7, 7, 7, 7, 11, 7, 7, 7, 7, 7, 7, 7, 16, 7, 7, 6, 16, 0, 6, 7, 7, 7, 16, 7, 7, 7, 7, 7, 14, 6, 7, 7, 6, 7, 7, 7, 7, 7, 7, 7, 7, 7, 6, 7, 7, 7, 7, 6, 7, 7, 16, 7, 7, 7, 12, 7, 7, 7, 7, 7, 0, 7, 7, 10, 7, 7, 7, 7, 16, 7, 7, 7, 7, 7, 7, 6, 7, 7, 7, 7, 7, 7, 7, 14, 7, 7, 7, 7, 7, 7, 7, 16, 7, 7, 7, 7, 7, 7, 7, 14, 7, 7, 21, 7, 7, 7, 7, 7, 7, 6, 7, 14, 0, 7, 7, 7, 7, 10, 7, 7, 7, 7, 7, 6, 7, 7, 7, 6, 7, 7, 10, 7, 7, 14, 7, 14, 7, 7, 7, 7, 7, 7, 7, 16, 14, 7, 7, 7, 7, 7, 6, 7, 10, 7, 7, 7, 7, 16, 7, 7, 7, 7, 7, 7, 7, 7, 7, 7, 7, 7, 7, 7, 7, 14, 7, 6, 7, 7, 7, 7, 0, 7, 7, 7, 7, 7, 7, 7, 7, 7, 0, 7, 7, 7, 7]\n",
            "[7, 0, 7, 7, 7, 7, 7, 7, 7, 7, 7, 7, 7, 16, 0, 7, 7, 7, 7, 7, 7, 6, 7, 7, 7, 7, 14, 7, 7, 7, 7, 7, 7, 7, 7, 7, 7, 7, 7, 7, 7, 7, 7, 7, 7, 7, 7, 7, 7, 7, 7, 7, 7, 7, 7, 7, 7, 7, 6, 7, 7, 7, 16, 7, 7, 7, 7, 7, 7, 7, 7, 7, 7, 7, 7, 7, 14, 7, 7, 7, 14, 7, 7, 7, 7, 7, 7, 7, 7, 7, 7, 7, 7, 7, 7, 7, 16, 7, 7, 7, 10, 7, 7, 7, 7, 7, 7, 7, 7, 14, 7, 7, 7, 7, 7, 7, 14, 7, 7, 7, 7, 7, 7, 7, 7, 16, 7, 14, 7, 7, 7, 7, 7, 7, 7, 7, 8, 7, 7, 7, 7, 7, 6, 7, 0, 7, 7, 7, 7, 7, 7, 7, 7, 7, 7, 6, 7, 7, 7, 7, 7, 7, 14, 7, 14, 7, 4, 7, 7, 7, 7, 7, 7, 7, 14, 7, 7, 7, 7, 7, 14, 7, 7, 7, 7, 7, 7, 14, 7, 7, 7, 7, 6, 7, 7, 7, 7, 7, 7, 7, 6, 7, 7, 7, 7, 14, 20, 7, 14, 7, 16, 7, 7, 7, 7, 7, 14, 16, 7, 7, 7, 7, 6, 7, 7, 7, 7, 7, 7, 16, 7, 1, 7, 6, 7, 7, 7, 7, 7, 6, 7, 7, 7, 7, 7, 7, 1, 7, 7, 7, 16, 7, 7, 14, 7, 7, 8, 7, 7, 7, 7, 7, 7, 6, 7, 7, 7, 6, 7, 7, 7, 7, 7, 7, 7, 7, 7, 7, 7, 7, 7, 7, 7, 7, 22, 16, 7, 7, 7, 7, 4, 7, 7, 7, 7, 7, 7, 7, 7, 7]\n",
            "[7, 7, 7, 7, 7, 7, 8, 7, 7, 7, 7, 7, 6, 6, 7, 7, 7, 7, 7, 6, 7, 7, 7, 7, 6, 7, 22, 7, 7, 7, 7, 7, 0, 7, 7, 7, 7, 7, 7, 7, 7, 7, 7, 7, 20, 20, 7, 7, 12, 7, 7, 0, 7, 14, 0, 7, 16, 7, 7, 7, 7, 7, 7, 14, 7, 7, 7, 14, 7, 14, 7, 7, 7, 7, 7, 7, 7, 7, 7, 19, 7, 7, 7, 7, 4, 7, 7, 14, 7, 7, 7, 7, 7, 14, 7, 7, 7, 14, 0, 7, 7, 7, 7, 7, 18, 7, 6, 23, 7, 7, 6, 7, 7, 7, 7, 0, 7, 7, 7, 14, 7, 7, 7, 7, 7, 0, 7, 14, 7, 7, 7, 7, 7, 4, 7, 14, 7, 7, 7, 7, 6, 7, 16, 16, 7, 7, 7, 7, 7, 7, 7, 7, 7, 7, 7, 7, 7, 7, 7, 7, 7, 7, 7, 4, 7, 7, 7, 7, 7, 7, 6, 7, 7, 7, 7, 7, 7, 7, 4, 7, 7, 7, 7, 7, 7, 7, 7, 7, 7, 7, 7, 16, 7, 14, 7, 7, 23, 7, 7, 7, 14, 7, 14, 6, 7, 7, 0, 7, 7, 16, 7, 7, 7, 7, 7, 23, 7, 7, 7, 7, 7, 6, 7, 7, 7, 7, 7, 14, 7, 6, 7, 7, 0, 7, 7, 7, 7, 7, 7, 21, 7, 15, 7, 7, 7, 7, 7, 7, 11, 7, 7, 7, 7, 7, 6, 7, 7, 7, 7, 7, 7, 7, 7, 7, 7, 7, 16, 14, 7, 7, 7, 16, 7, 16, 7, 6, 7, 7, 0, 7, 7, 14, 7, 7, 7, 7, 7, 6, 7, 7, 7, 16, 7, 7, 7, 7, 7, 7, 7, 7]\n",
            "[6, 7, 7, 7, 7, 7, 6, 7, 7, 7, 7, 7, 7, 0, 7, 7, 7, 7, 7, 4, 7, 7, 7, 7, 9, 7, 7, 16, 4, 16, 7, 7, 7, 7, 7, 7, 7, 7, 6, 7, 7, 7, 7, 7, 6, 14, 7, 7, 7, 14, 7, 7, 7, 7, 7, 7, 7, 7, 7, 7, 7, 7, 7, 7, 7, 7, 7, 7, 7, 7, 7, 16, 7, 7, 7, 7, 7, 7, 6, 7, 7, 7, 6, 7, 14, 7, 7, 7, 7, 7, 7, 16, 7, 7, 7, 7, 7, 7, 7, 16, 7, 7, 7, 7, 14, 7, 16, 14, 6, 7, 7, 7, 7, 7, 6, 7, 7, 7, 7, 7, 6, 7, 6, 7, 7, 7, 7, 7, 7, 7, 7, 7, 7, 7, 7, 7, 7, 7, 7, 7, 7, 7, 7, 7, 7, 7, 7, 14, 7, 7, 16, 0, 7, 7, 7, 7, 7, 7, 14, 7, 7, 14, 7, 7, 7, 7, 6, 7, 7, 7, 7, 7, 7, 1, 7, 7, 7, 7, 7, 7, 7, 7, 7, 7, 14, 7, 7, 7, 7, 7, 7, 7, 7, 7, 7, 7, 7, 7, 7, 7, 7, 7, 7, 22, 6, 6, 7, 7, 7, 7, 7, 7, 7, 7, 7, 14, 7, 7, 7, 7, 10, 7, 7, 7, 7, 7, 7, 7, 7, 7, 7, 7, 7, 7, 7, 14, 7, 7, 14, 7, 7, 22, 7, 7, 7, 7, 6, 7, 7, 7, 7, 7, 7, 7, 6, 16, 7, 7, 7, 16, 7, 16, 7, 7, 14, 7, 7, 7, 7, 7, 7, 7, 7, 7, 0, 7, 7, 7, 7, 7, 7, 7, 6, 7, 7, 14, 7, 7, 7, 7, 7, 7, 7, 6, 7, 7, 7, 6, 7, 7]\n",
            "[7, 7, 7, 7, 6, 0, 7, 7, 6, 7, 6, 7, 7, 7, 7, 16, 7, 7, 7, 7, 7, 7, 16, 7, 6, 7, 7, 7, 7, 7, 7, 7, 7, 7, 16, 7, 7, 7, 7, 7, 7, 7, 7, 7, 7, 7, 7, 7, 7, 6, 7, 7, 6, 7, 7, 7, 7, 7, 7, 0, 7, 7, 6, 7, 7, 7, 7, 6, 16, 7, 7, 7, 7, 7, 14, 16, 7, 7, 7, 7, 7, 7, 7, 7, 7, 7, 7, 7, 7, 10, 7, 7, 7, 7, 7, 6, 7, 7, 7, 7, 7, 7, 7, 7, 7, 7, 7, 7, 7, 7, 6, 7, 7, 7, 7, 7, 14, 7, 7, 6, 7, 7, 4, 7, 7, 7, 7, 7, 7, 21, 7, 7, 7, 7, 7, 0, 7, 7, 7, 7, 14, 7, 7, 14, 7, 6, 7, 7, 7, 14, 7, 7, 7, 0, 7, 7, 7, 7, 7, 7, 7, 7, 7, 7, 7, 7, 7, 7, 7, 7, 7, 7, 7, 7, 7, 7, 7, 7, 7, 7, 7, 7, 7, 14, 7, 7, 7, 7, 7, 7, 7, 7, 7, 7, 14, 7, 7, 23, 7, 7, 7, 7, 7, 7, 7, 7, 14, 7, 7, 14, 7, 7, 16, 7, 16, 7, 7, 7, 7, 7, 7, 7, 7, 7, 7, 7, 7, 7, 7, 7, 7, 14, 7, 7, 7, 7, 7, 7, 7, 7, 7, 7, 7, 7, 6, 7, 7, 7, 7, 7, 7, 7, 7, 7, 7, 7, 7, 6, 7, 7, 7, 7, 7, 14, 7, 7, 7, 7, 7, 16, 7, 7, 16, 7, 7, 7, 7, 6, 0, 7, 7, 7, 7, 7, 7, 7, 7, 7, 7, 7, 7, 21, 7, 7, 6, 7, 7, 7, 7, 7]\n",
            "[7, 7, 14, 7, 7, 7, 7, 7, 7, 7, 7, 7, 7, 7, 7, 11, 7, 7, 7, 7, 6, 7, 7, 7, 7, 7, 7, 7, 7, 7, 7, 7, 0, 7, 7, 7, 7, 7, 7, 6, 7, 7, 7, 14, 7, 6, 6, 7, 7, 7, 7, 7, 7, 7, 7, 7, 7, 7, 6, 7, 7, 7, 7, 7, 7, 7, 7, 7, 7, 7, 7, 14, 7, 7, 7, 7, 7, 7, 7, 7, 7, 7, 6, 7, 14, 7, 7, 16, 14, 7, 14, 7, 7, 7, 16, 7, 7, 7, 7, 7, 7, 6, 6, 7, 7, 7, 7, 7, 7, 7, 7, 7, 7, 7, 7, 7, 7, 7, 16, 7, 16, 7, 7, 7, 16, 14, 7, 7, 7, 16, 6, 7, 7, 7, 7, 16, 7, 7, 7, 7, 6, 7, 14, 7, 7, 7, 7, 7, 7, 7, 16, 7, 7, 7, 7, 14, 14, 7, 7, 16, 7, 7, 7, 7, 7, 7, 7, 7, 7, 7, 7, 7, 0, 7, 21, 7, 7, 7, 7, 14, 7, 7, 7, 7, 7, 7, 7, 7, 7, 7, 7, 14, 23, 14, 7, 6, 7, 7, 14, 7, 7, 7, 7, 7, 7, 7, 7, 7, 7, 6, 7, 7, 7, 7, 7, 7, 7, 7, 6, 7, 7, 7, 7, 7, 7, 7, 7, 14, 7, 7, 6, 7, 7, 6, 7, 6, 7, 7, 7, 6, 7, 7, 7, 7, 6, 7, 14, 7, 7, 7, 7, 7, 7, 7, 14, 7, 7, 0, 7, 7, 7, 7, 7, 7, 7, 7, 7, 7, 7, 7, 7, 7, 7, 7, 7, 7, 7, 7, 7, 7, 7, 7, 0, 16, 7, 7, 7, 6, 7, 7, 6, 7, 16, 7, 7, 7, 16, 7, 16, 7]\n",
            "[7, 6, 7, 7, 7, 7, 7, 7, 7, 7, 6, 7, 6, 7, 7, 7, 7, 7, 7, 4, 7, 7, 8, 7, 7, 7, 7, 7, 14, 6, 14, 7, 7, 14, 7, 7, 7, 6, 7, 7, 7, 14, 7, 7, 6, 7, 7, 7, 7, 7, 7, 14, 7, 14, 7, 7, 7, 14, 7, 7, 7, 14, 7, 22, 7, 8, 6, 7, 16, 7, 7, 7, 7, 6, 14, 7, 7, 7, 7, 7, 7, 7, 7, 7, 7, 14, 6, 6, 6, 7, 7, 7, 6, 7, 7, 7, 7, 4, 7, 7, 7, 7, 7, 7, 7, 7, 7, 7, 7, 7, 6, 7, 7, 7, 7, 7, 6, 7, 7, 7, 7, 7, 14, 7, 7, 7, 7, 7, 6, 6, 6, 7, 6, 7, 7, 7, 7, 7, 4, 7, 7, 7, 16, 7, 7, 7, 16, 7, 7, 6, 7, 7, 7, 7, 14, 7, 7, 7, 7, 7, 7, 7, 7, 7, 16, 7, 7, 7, 7, 7, 7, 7, 1, 7, 7, 7, 7, 7, 7, 7, 7, 7, 7, 7, 7, 7, 7, 7, 14, 7, 7, 7, 16, 7, 7, 7, 7, 7, 16, 16, 6, 7, 7, 7, 16, 7, 7, 7, 7, 7, 7, 7, 7, 7, 7, 7, 7, 7, 7, 7, 16, 7, 14, 7, 7, 7, 0, 9, 7, 7, 7, 0, 7, 4, 7, 7, 0, 7, 7, 7, 7, 7, 7, 7, 7, 7, 7, 7, 7, 7, 7, 7, 6, 7, 7, 7, 7, 7, 7, 7, 7, 7, 7, 7, 7, 7, 6, 7, 7, 7, 7, 7, 4, 6, 7, 7, 7, 7, 7, 14, 6, 16, 7, 7, 7, 5, 7, 7, 7, 7, 7, 7, 7, 7, 7, 16, 7, 7, 7, 7]\n",
            "[7, 7, 7, 7, 7, 16, 16, 7, 7, 7, 7, 7, 7, 7, 7, 7, 7, 7, 7, 7, 7, 7, 7, 7, 7, 7, 7, 7, 7, 14, 7, 7, 7, 0, 7, 6, 7, 7, 7, 7, 7, 7, 7, 7, 16, 14, 7, 7, 7, 7, 7, 7, 20, 7, 16, 7, 7, 7, 7, 7, 7, 7, 7, 7, 7, 23, 6, 7, 7, 7, 7, 7, 7, 7, 7, 7, 7, 7, 7, 7, 7, 7, 7, 7, 7, 7, 7, 6, 7, 7, 7, 7, 7, 4, 7, 7, 7, 7, 7, 7, 23, 7, 7, 7, 6, 7, 7, 7, 7, 7, 7, 7, 7, 7, 7, 7, 7, 7, 7, 7, 10, 7, 16, 7, 7, 7, 16, 7, 7, 7, 14, 18, 7, 7, 7, 7, 7, 14, 7, 7, 7, 7, 7, 7, 7, 14, 7, 7, 7, 7, 7, 7, 7, 7, 7, 7, 7, 7, 7, 7, 7, 7, 7, 7, 7, 7, 7, 7, 7, 7, 7, 7, 14, 7, 7, 7, 7, 6, 7, 7, 4, 7, 7, 7, 7, 0, 7, 8, 7, 7, 7, 7, 7, 7, 7, 7, 0, 7, 7, 7, 7, 7, 7, 6, 7, 7, 7, 0, 7, 7, 7, 7, 7, 7, 7, 7, 7, 7, 1, 14, 7, 7, 7, 7, 18, 7, 7, 7, 7, 7, 7, 0, 14, 6, 7, 7, 7, 7, 7, 7, 14, 7, 6, 7, 7, 7, 7, 7, 6, 4, 7, 7, 7, 7, 7, 7, 7, 7, 7, 7, 7, 21, 7, 7, 7, 7, 7, 7, 7, 7, 10, 7, 7, 7, 7, 7, 7, 7, 14, 7, 7, 7, 7, 7, 7, 7, 7, 7, 7, 7, 7, 7, 14, 7, 14, 6, 7, 7, 7, 7]\n",
            "[16, 7, 6, 7, 7, 7, 7, 7, 7, 6, 6, 7, 7, 7, 7, 7, 7, 7, 14, 7, 7, 7, 7, 7, 7, 7, 6, 7, 7, 7, 7, 7, 7, 7, 7, 7, 14, 7, 7, 7, 7, 7, 7, 7, 7, 7, 7, 7, 7, 7, 7, 7, 16, 7, 7, 7, 7, 7, 7, 7, 7, 0, 7, 7, 7, 7, 7, 7, 7, 7, 7, 7, 7, 7, 14, 7, 7, 7, 7, 7, 7, 7, 7, 7, 7, 7, 7, 7, 4, 7, 7, 7, 7, 7, 7, 7, 7, 7, 7, 7, 7, 7, 7, 7, 16, 7, 7, 7, 7, 7, 7, 7, 7, 7, 6, 7, 7, 7, 7, 7, 6, 7, 7, 6, 7, 7, 7, 7, 7, 7, 7, 11, 7, 6, 6, 7, 7, 7, 7, 7, 7, 7, 7, 7, 7, 7, 7, 7, 7, 14, 14, 7, 16, 6, 7, 7, 7, 7, 7, 7, 7, 7, 7, 7, 7, 7, 7, 7, 7, 7, 16, 7, 7, 7, 7, 7, 7, 7, 7, 7, 7, 7, 14, 7, 6, 7, 7, 7, 7, 7, 7, 7, 7, 7, 1, 7, 7, 7, 7, 7, 7, 0, 6, 7, 16, 7, 6, 7, 7, 0, 6, 7, 6, 7, 7, 7, 0, 7, 7, 7, 7, 7, 7, 7, 7, 7, 20, 7, 7, 7, 7, 7, 7, 7, 6, 14, 7, 7, 7, 7, 7, 7, 7, 7, 7, 7, 7, 7, 7, 7, 7, 6, 7, 7, 7, 7, 7, 7, 7, 6, 6, 7, 7, 14, 7, 6, 7, 7, 7, 7, 7, 7, 7, 7, 7, 7, 7, 7, 7, 7, 7, 7, 7, 7, 7, 7, 14, 7, 7, 7, 16, 7, 7, 7, 7, 7, 7, 7, 7, 7]\n",
            "[7, 7, 7, 7, 7, 7, 7, 7, 16, 7, 7, 14, 7, 7, 7, 7, 7, 7, 14, 7, 7, 7, 14, 7, 14, 7, 7, 7, 7, 7, 4, 16, 0, 7, 18, 7, 7, 7, 7, 7, 7, 14, 7, 14, 0, 7, 7, 7, 7, 7, 7, 7, 7, 7, 8, 7, 7, 7, 7, 7, 7, 14, 7, 7, 7, 7, 7, 11, 7, 7, 6, 14, 7, 7, 7, 7, 2, 7, 7, 7, 7, 7, 7, 7, 7, 14, 7, 7, 7, 7, 7, 7, 7, 7, 7, 6, 7, 7, 7, 7, 7, 7, 7, 14, 7, 7, 7, 7, 7, 7, 7, 7, 7, 7, 7, 16, 7, 7, 7, 7, 7, 7, 7, 7, 7, 7, 7, 7, 7, 7, 7, 7, 7, 7, 7, 7, 14, 7, 7, 7, 6, 7, 7, 7, 7, 7, 7, 7, 7, 7, 7, 7, 7, 7, 7, 7, 7, 7, 7, 7, 7, 7, 7, 7, 7, 7, 7, 7, 7, 7, 7, 7, 7, 7, 7, 7, 7, 7, 7, 6, 7, 7, 7, 7, 7, 7, 7, 7, 7, 7, 7, 7, 7, 14, 7, 7, 7, 6, 7, 7, 7, 14, 7, 7, 7, 7, 7, 7, 7, 7, 7, 7, 7, 7, 7, 16, 7, 7, 7, 7, 7, 7, 23, 7, 7, 7, 7, 7, 7, 7, 7, 7, 7, 14, 7, 7, 14, 6, 7, 7, 7, 7, 14, 7, 7, 7, 7, 7, 21, 7, 16, 7, 7, 7, 7, 7, 7, 7, 7, 6, 7, 7, 7, 7, 7, 7, 7, 7, 7, 7, 7, 7, 7, 7, 7, 7, 7, 7, 7, 7, 7, 7, 7, 23, 6, 7, 7, 16, 7, 7, 7, 7, 15, 7, 7, 7, 6, 7, 7, 7]\n",
            "[1, 7, 7, 14, 7, 7, 7, 7, 7, 7, 7, 14, 7, 7, 7, 14, 6, 7, 7, 7, 7, 7, 7, 7, 7, 7, 7, 7, 7, 7, 7, 7, 7, 16, 7, 7, 10, 7, 7, 7, 7, 7, 14, 14, 7, 14, 7, 7, 7, 1, 7, 6, 7, 7, 7, 7, 7, 7, 6, 7, 7, 7, 7, 7, 7, 7, 7, 16, 7, 16, 7, 7, 7, 14, 7, 7, 7, 7, 7, 7, 7, 7, 0, 7, 0, 7, 7, 7, 7, 14, 7, 6, 7, 7, 7, 7, 7, 7, 7, 7, 7, 7, 7, 7, 7, 7, 7, 7, 7, 7, 7, 7, 7, 7, 7, 7, 7, 7, 7, 7, 7, 7, 7, 7, 7, 7, 6, 7, 7, 7, 7, 7, 7, 7, 7, 7, 7, 7, 7, 7, 7, 7, 7, 7, 7, 7, 7, 7, 6, 7, 7, 7, 7, 7, 7, 7, 7, 7, 14, 7, 7, 7, 7, 7, 7, 7, 7, 7, 10, 7, 0, 7, 7, 7, 7, 7, 7, 16, 7, 7, 7, 7, 7, 7, 21, 21, 7, 6, 7, 7, 14, 7, 7, 7, 7, 7, 7, 7, 14, 7, 7, 7, 16, 7, 7, 7, 7, 7, 7, 7, 7, 7, 7, 7, 7, 7, 7, 7, 7, 7, 8, 7, 7, 7, 0, 7, 7, 10, 7, 7, 7, 7, 16, 7, 14, 7, 7, 16, 7, 7, 7, 7, 7, 7, 7, 16, 7, 7, 7, 7, 20, 7, 7, 7, 7, 7, 7, 7, 7, 7, 7, 7, 7, 16, 7, 7, 7, 7, 6, 7, 7, 7, 7, 14, 7, 7, 7, 7, 6, 7, 7, 7, 7, 14, 7, 0, 7, 7, 7, 7, 7, 7, 7, 7, 7, 11, 6, 7, 6, 0]\n",
            "[7, 7, 14, 7, 7, 14, 7, 7, 7, 7, 7, 7, 7, 7, 7, 7, 14, 7, 7, 7, 7, 14, 7, 6, 7, 7, 7, 7, 7, 7, 7, 7, 7, 7, 10, 7, 7, 7, 7, 7, 7, 7, 7, 7, 7, 7, 7, 7, 7, 7, 7, 7, 7, 7, 7, 7, 7, 14, 7, 7, 16, 6, 7, 7, 7, 4, 7, 7, 7, 7, 7, 7, 7, 7, 7, 14, 0, 7, 7, 7, 7, 7, 7, 7, 7, 7, 7, 7, 7, 14, 7, 7, 7, 7, 7, 16, 16, 6, 6, 7, 7, 7, 7, 7, 7, 7, 14, 7, 7, 7, 7, 7, 7, 7, 14, 7, 7, 7, 7, 7, 7, 7, 7, 7, 7, 7, 7, 7, 7, 7, 7, 7, 7, 7, 7, 7, 6, 7, 7, 7, 4, 7, 6, 7, 7, 7, 7, 6, 21, 7, 16, 7, 7, 16, 7, 7, 7, 7, 7, 6, 7, 7, 7, 7, 7, 7, 7, 7, 7, 14, 7, 6, 9, 21, 7, 7, 7, 14, 7, 7, 7, 7, 6, 7, 7, 7, 7, 7, 7, 14, 7, 7, 7, 16, 6, 7, 6, 7, 7, 7, 7, 7, 14, 7, 7, 7, 7, 7, 7, 7, 7, 14, 7, 7, 16, 7, 7, 7, 7, 7, 7, 7, 6, 7, 7, 7, 7, 7, 7, 7, 7, 7, 6, 7, 7, 7, 7, 6, 7, 7, 7, 7, 9, 7, 7, 7, 7, 7, 6, 7, 7, 7, 7, 7, 7, 7, 7, 8, 7, 7, 7, 7, 7, 7, 7, 7, 7, 7, 7, 7, 7, 7, 7, 7, 16, 7, 7, 7, 7, 7, 6, 7, 7, 7, 14, 7, 7, 7, 7, 7, 7, 7, 7, 4, 7, 7, 7, 7, 7, 7]\n",
            "[7, 7, 7, 7, 7, 7, 7, 7, 7, 7, 0, 7, 7, 14, 14, 7, 7, 16, 7, 7, 7, 7, 7, 7, 7, 7, 7, 7, 7, 6, 7, 6, 7, 7, 7, 0, 7, 7, 7, 7, 7, 7, 23, 7, 7, 7, 7, 7, 6, 7, 7, 7, 14, 7, 14, 7, 7, 7, 7, 7, 7, 7, 14, 6, 7, 7, 7, 14, 7, 7, 7, 7, 7, 7, 7, 7, 7, 7, 11, 7, 7, 7, 7, 7, 0, 7, 7, 16, 16, 7, 7, 7, 7, 7, 7, 7, 7, 7, 7, 7, 7, 7, 7, 7, 7, 7, 14, 7, 16, 7, 7, 21, 7, 7, 0, 7, 7, 7, 12, 7, 7, 7, 7, 7, 7, 6, 7, 7, 7, 7, 16, 6, 7, 7, 7, 7, 6, 7, 7, 7, 7, 7, 7, 7, 7, 7, 7, 7, 14, 7, 7, 7, 7, 7, 7, 7, 7, 7, 7, 6, 14, 7, 7, 7, 7, 7, 7, 7, 7, 6, 7, 7, 7, 7, 7, 16, 0, 7, 7, 4, 16, 10, 7, 7, 11, 6, 7, 7, 7, 7, 7, 7, 7, 7, 18, 7, 7, 7, 7, 7, 7, 7, 7, 6, 7, 7, 7, 0, 7, 10, 7, 7, 7, 7, 7, 7, 7, 7, 7, 7, 7, 7, 7, 7, 7, 7, 6, 7, 7, 7, 16, 16, 7, 7, 7, 7, 7, 8, 7, 7, 7, 7, 7, 14, 7, 7, 7, 7, 7, 7, 7, 7, 6, 7, 7, 7, 7, 7, 7, 7, 7, 7, 7, 7, 7, 7, 7, 7, 7, 7, 7, 7, 7, 7, 7, 7, 7, 7, 7, 7, 7, 7, 7, 7, 0, 16, 7, 0, 7, 7, 7, 7, 7, 7, 1, 7, 7, 7, 7, 7]\n",
            "[7, 7, 7, 7, 7, 7, 7, 7, 7, 7, 0, 7, 7, 7, 7, 14, 7, 7, 7, 14, 6, 7, 7, 7, 7, 7, 7, 7, 7, 7, 6, 7, 7, 7, 4, 7, 7, 7, 7, 6, 7, 7, 7, 7, 7, 7, 7, 7, 7, 7, 7, 7, 7, 7, 7, 7, 7, 7, 7, 7, 14, 7, 14, 7, 7, 7, 7, 7, 7, 7, 7, 7, 23, 7, 7, 14, 6, 7, 7, 4, 7, 7, 7, 7, 7, 7, 7, 7, 7, 7, 7, 7, 7, 7, 7, 7, 6, 7, 7, 7, 7, 7, 7, 7, 7, 7, 6, 7, 7, 7, 7, 7, 7, 7, 4, 7, 7, 7, 7, 7, 7, 7, 7, 6, 7, 7, 0, 7, 7, 7, 7, 7, 7, 7, 7, 7, 7, 7, 7, 7, 7, 14, 7, 7, 7, 1, 7, 7, 7, 7, 21, 7, 7, 7, 7, 7, 14, 7, 7, 7, 7, 7, 7, 7, 4, 7, 7, 7, 7, 7, 7, 7, 7, 7, 7, 7, 7, 7, 14, 7, 6, 7, 7, 7, 7, 7, 7, 7, 7, 14, 14, 7, 7, 7, 0, 6, 7, 7, 7, 7, 7, 7, 7, 7, 14, 7, 7, 7, 7, 6, 7, 7, 7, 7, 7, 7, 7, 7, 7, 7, 6, 6, 7, 7, 7, 7, 4, 7, 7, 7, 7, 7, 7, 14, 0, 14, 7, 7, 7, 18, 7, 7, 7, 7, 7, 7, 7, 6, 7, 7, 7, 7, 6, 7, 7, 7, 7, 7, 7, 7, 7, 7, 7, 7, 7, 7, 7, 7, 7, 6, 7, 7, 9, 7, 7, 7, 7, 7, 6, 7, 6, 4, 16, 6, 16, 7, 7, 7, 7, 7, 7, 7, 7, 7, 7, 7, 7, 6, 7, 7]\n",
            "[7, 7, 7, 14, 7, 7, 7, 7, 7, 7, 7, 7, 7, 7, 7, 7, 7, 0, 7, 6, 7, 7, 7, 7, 7, 6, 7, 7, 7, 7, 8, 7, 7, 7, 7, 7, 14, 7, 7, 7, 14, 7, 7, 7, 6, 7, 0, 7, 6, 7, 7, 7, 7, 7, 7, 7, 7, 7, 7, 6, 7, 6, 16, 7, 7, 7, 7, 7, 7, 7, 6, 21, 7, 9, 7, 7, 7, 7, 7, 7, 7, 14, 7, 6, 7, 7, 7, 6, 7, 7, 23, 7, 7, 7, 6, 7, 6, 7, 7, 7, 7, 7, 7, 18, 7, 7, 7, 6, 7, 11, 7, 16, 1, 7, 6, 7, 7, 7, 7, 7, 7, 7, 7, 7, 7, 7, 7, 7, 7, 7, 7, 7, 6, 7, 0, 12, 7, 7, 16, 7, 7, 7, 0, 7, 7, 7, 21, 7, 7, 7, 7, 7, 7, 7, 7, 7, 7, 7, 7, 7, 7, 14, 7, 6, 1, 7, 7, 7, 7, 7, 7, 16, 7, 7, 7, 7, 6, 6, 7, 7, 7, 7, 14, 23, 7, 7, 7, 7, 7, 7, 14, 7, 7, 7, 7, 6, 7, 7, 7, 10, 7, 7, 7, 7, 7, 7, 7, 7, 6, 7, 7, 0, 7, 7, 6, 7, 7, 7, 6, 16, 7, 7, 7, 7, 18, 7, 7, 7, 16, 7, 7, 7, 7, 7, 6, 7, 7, 7, 7, 7, 7, 21, 7, 7, 7, 16, 7, 6, 8, 7, 6, 14, 7, 7, 7, 7, 7, 7, 7, 14, 7, 7, 7, 7, 14, 7, 7, 7, 6, 7, 7, 7, 7, 7, 7, 7, 7, 7, 7, 14, 7, 7, 7, 7, 7, 7, 4, 7, 7, 7, 1, 7, 14, 7, 7, 7, 16, 7, 7, 14]\n",
            "[7, 7, 7, 7, 6, 7, 6, 7, 7, 7, 7, 14, 7, 7, 7, 7, 7, 6, 7, 7, 7, 0, 7, 7, 7, 7, 0, 7, 16, 14, 16, 7, 14, 7, 7, 16, 7, 7, 7, 7, 7, 7, 7, 7, 7, 7, 7, 7, 7, 7, 7, 7, 8, 7, 7, 7, 16, 7, 7, 0, 7, 7, 5, 23, 7, 7, 7, 14, 7, 7, 7, 7, 14, 7, 7, 7, 7, 7, 7, 7, 7, 7, 7, 7, 7, 10, 7, 7, 0, 7, 7, 7, 7, 7, 7, 7, 7, 6, 7, 7, 6, 14, 7, 7, 7, 7, 7, 7, 7, 7, 7, 7, 7, 7, 7, 12, 6, 7, 7, 7, 7, 7, 14, 7, 7, 7, 7, 7, 7, 7, 0, 11, 7, 7, 7, 7, 7, 6, 7, 7, 7, 14, 14, 7, 7, 4, 7, 16, 7, 7, 7, 14, 7, 7, 7, 7, 7, 7, 7, 7, 16, 7, 7, 7, 7, 7, 7, 7, 16, 7, 7, 7, 7, 14, 7, 7, 7, 7, 7, 7, 14, 7, 7, 7, 7, 7, 7, 7, 7, 7, 7, 7, 7, 7, 7, 7, 7, 7, 7, 7, 7, 14, 7, 7, 7, 6, 7, 7, 7, 4, 7, 7, 7, 7, 7, 7, 7, 7, 16, 7, 7, 6, 7, 7, 7, 7, 7, 14, 7, 0, 21, 7, 7, 11, 7, 16, 7, 16, 8, 7, 14, 14, 7, 7, 14, 6, 7, 7, 7, 7, 4, 7, 7, 7, 7, 7, 7, 7, 7, 7, 7, 7, 7, 23, 7, 7, 6, 7, 7, 7, 7, 7, 7, 7, 7, 7, 7, 7, 7, 7, 16, 7, 16, 10, 7, 7, 7, 7, 7, 7, 7, 7, 7, 7, 7, 7, 7, 7, 14, 0]\n",
            "[7, 7, 7, 7, 7, 7, 7, 7, 7, 7, 7, 7, 7, 7, 7, 7, 7, 7, 7, 7, 7, 7, 7, 7, 7, 7, 7, 7, 7, 7, 7, 14, 7, 14, 7, 7, 14, 7, 16, 7, 7, 7, 7, 7, 7, 7, 7, 7, 7, 7, 7, 14, 7, 7, 7, 7, 16, 7, 7, 7, 7, 14, 7, 7, 7, 7, 7, 7, 7, 16, 7, 23, 7, 16, 7, 7, 7, 7, 0, 7, 16, 7, 7, 7, 16, 7, 7, 0, 7, 7, 1, 7, 7, 7, 7, 7, 7, 7, 7, 7, 16, 7, 7, 18, 7, 7, 7, 7, 7, 7, 4, 7, 7, 7, 14, 7, 12, 14, 0, 6, 7, 7, 7, 7, 0, 7, 7, 7, 7, 8, 6, 6, 7, 16, 7, 7, 7, 7, 7, 7, 7, 7, 7, 7, 7, 23, 7, 7, 23, 6, 14, 7, 7, 14, 7, 7, 7, 7, 7, 7, 7, 16, 7, 6, 6, 7, 7, 7, 14, 7, 7, 7, 0, 7, 7, 7, 7, 7, 7, 7, 7, 7, 7, 7, 7, 7, 6, 7, 7, 7, 7, 7, 7, 7, 7, 7, 7, 7, 7, 7, 14, 7, 7, 7, 7, 7, 7, 7, 8, 7, 7, 16, 7, 7, 6, 7, 7, 7, 7, 6, 7, 7, 7, 7, 7, 7, 7, 7, 16, 7, 7, 7, 7, 7, 7, 7, 7, 7, 16, 7, 7, 7, 0, 7, 7, 7, 1, 7, 7, 6, 7, 7, 7, 7, 7, 6, 7, 6, 7, 7, 7, 7, 7, 7, 7, 7, 7, 7, 7, 7, 7, 7, 4, 7, 7, 7, 7, 7, 7, 7, 7, 16, 7, 7, 7, 10, 7, 7, 16, 7, 7, 14, 7, 7, 7, 7, 7, 7, 7, 7]\n",
            "[6, 7, 7, 7, 7, 7, 7, 6, 6, 7, 7, 7, 7, 7, 7, 7, 7, 7, 7, 7, 7, 14, 0, 7, 7, 16, 6, 7, 7, 7, 7, 7, 7, 7, 7, 7, 7, 4, 7, 14, 7, 7, 20, 7, 7, 7, 7, 16, 7, 7, 7, 7, 7, 7, 7, 7, 7, 7, 7, 7, 7, 7, 7, 6, 7, 7, 7, 7, 4, 7, 14, 7, 7, 7, 7, 6, 7, 7, 7, 7, 7, 7, 7, 7, 7, 7, 7, 7, 7, 6, 7, 7, 0, 7, 6, 7, 7, 7, 7, 7, 7, 7, 7, 21, 7, 7, 0, 7, 7, 16, 7, 7, 7, 7, 7, 7, 7, 0, 7, 7, 7, 7, 7, 7, 7, 7, 7, 7, 7, 7, 7, 10, 7, 14, 16, 7, 7, 7, 7, 7, 7, 7, 1, 6, 7, 7, 7, 7, 7, 7, 16, 7, 7, 7, 7, 7, 7, 7, 7, 7, 16, 7, 7, 7, 7, 16, 7, 14, 7, 7, 7, 7, 7, 7, 6, 14, 7, 7, 7, 7, 7, 7, 7, 4, 0, 7, 7, 7, 7, 6, 7, 7, 16, 7, 0, 7, 7, 7, 7, 7, 7, 20, 7, 7, 7, 6, 7, 6, 7, 7, 7, 7, 7, 14, 7, 7, 7, 7, 7, 7, 7, 7, 7, 7, 7, 14, 7, 7, 14, 7, 7, 7, 7, 7, 7, 7, 7, 16, 6, 14, 7, 7, 7, 7, 7, 7, 7, 7, 7, 7, 7, 7, 7, 7, 7, 0, 7, 21, 7, 7, 14, 7, 7, 7, 7, 7, 7, 7, 14, 16, 7, 7, 6, 7, 7, 7, 14, 7, 7, 7, 7, 7, 7, 7, 7, 6, 7, 7, 7, 14, 6, 7, 7, 7, 7, 7, 7, 7, 7, 7]\n",
            "[7, 7, 7, 7, 7, 6, 7, 7, 7, 7, 14, 7, 7, 7, 6, 7, 7, 7, 7, 6, 7, 7, 7, 7, 7, 7, 7, 7, 7, 7, 7, 16, 7, 7, 7, 7, 7, 7, 6, 7, 0, 7, 7, 6, 7, 16, 7, 7, 7, 7, 7, 7, 7, 7, 7, 7, 0, 7, 7, 7, 7, 7, 7, 7, 7, 7, 7, 7, 14, 7, 7, 16, 14, 7, 7, 7, 7, 7, 7, 7, 7, 7, 18, 7, 7, 7, 7, 7, 14, 7, 7, 7, 7, 7, 7, 7, 7, 7, 7, 16, 7, 7, 7, 7, 21, 7, 7, 6, 7, 7, 7, 7, 7, 6, 7, 7, 7, 14, 14, 7, 7, 7, 7, 7, 7, 7, 7, 7, 7, 7, 14, 7, 7, 7, 7, 7, 7, 7, 6, 6, 7, 7, 7, 16, 1, 7, 7, 7, 7, 7, 7, 7, 7, 7, 7, 7, 7, 7, 7, 7, 7, 7, 7, 7, 7, 7, 7, 7, 16, 7, 7, 7, 7, 7, 7, 7, 7, 20, 7, 4, 7, 7, 7, 7, 6, 16, 7, 7, 7, 6, 7, 7, 14, 7, 6, 1, 7, 7, 7, 7, 6, 7, 7, 7, 7, 16, 7, 7, 7, 7, 7, 7, 7, 6, 7, 7, 7, 7, 7, 7, 7, 7, 7, 20, 7, 7, 6, 7, 16, 10, 7, 7, 14, 7, 7, 7, 7, 7, 7, 7, 7, 7, 7, 7, 7, 7, 7, 7, 7, 23, 7, 7, 7, 7, 14, 7, 7, 14, 7, 7, 7, 7, 16, 7, 7, 7, 1, 7, 7, 7, 7, 7, 0, 14, 7, 7, 7, 7, 7, 7, 7, 7, 0, 7, 21, 7, 7, 7, 7, 6, 21, 16, 7, 7, 7, 7, 7, 21, 7, 7]\n",
            "[7, 16, 7, 7, 7, 14, 7, 7, 7, 1, 7, 6, 7, 7, 7, 7, 7, 16, 7, 7, 7, 7, 7, 14, 7, 7, 7, 7, 7, 7, 7, 14, 7, 7, 7, 7, 7, 7, 4, 7, 7, 14, 16, 7, 7, 7, 7, 7, 7, 7, 7, 7, 7, 7, 7, 14, 6, 7, 7, 7, 7, 7, 14, 7, 7, 7, 7, 7, 7, 14, 7, 7, 7, 6, 7, 6, 7, 7, 7, 14, 7, 7, 6, 7, 7, 7, 7, 7, 7, 7, 7, 7, 7, 8, 7, 16, 7, 7, 7, 7, 7, 16, 7, 7, 7, 7, 7, 7, 7, 7, 7, 7, 7, 7, 7, 7, 7, 7, 6, 7, 7, 7, 7, 7, 7, 7, 7, 14, 7, 7, 7, 7, 7, 7, 7, 11, 0, 7, 7, 7, 7, 7, 7, 7, 7, 14, 7, 7, 7, 7, 7, 7, 7, 0, 7, 6, 7, 7, 7, 7, 7, 7, 16, 7, 7, 7, 7, 7, 7, 0, 7, 7, 14, 0, 16, 7, 6, 7, 7, 7, 7, 7, 7, 7, 7, 7, 7, 7, 6, 7, 7, 7, 7, 7, 7, 7, 7, 7, 7, 7, 6, 7, 7, 7, 7, 7, 7, 7, 7, 16, 7, 7, 7, 7, 7, 7, 7, 7, 7, 7, 7, 7, 7, 7, 7, 7, 7, 7, 7, 7, 7, 7, 7, 7, 7, 7, 7, 7, 7, 7, 7, 6, 14, 7, 7, 7, 7, 7, 7, 7, 7, 7, 7, 14, 7, 9, 7, 7, 6, 7, 7, 0, 7, 0, 6, 7, 1, 7, 7, 16, 7, 6, 7, 7, 7, 7, 7, 7, 16, 7, 7, 7, 7, 7, 7, 7, 7, 7, 6, 8, 7, 7, 7, 7, 7, 7, 7, 7, 7, 7]\n",
            "[7, 7, 7, 7, 7, 16, 7, 7, 7, 7, 7, 7, 7, 7, 7, 7, 7, 7, 7, 14, 1, 7, 7, 7, 7, 7, 7, 7, 6, 16, 7, 7, 14, 7, 7, 7, 7, 4, 7, 7, 7, 7, 7, 7, 7, 7, 7, 7, 7, 7, 7, 14, 7, 7, 7, 7, 7, 7, 7, 7, 7, 7, 7, 7, 7, 7, 7, 7, 7, 7, 1, 14, 7, 7, 7, 7, 7, 7, 7, 7, 7, 7, 7, 7, 7, 7, 7, 7, 7, 7, 7, 7, 7, 7, 7, 7, 6, 7, 7, 7, 7, 7, 7, 7, 7, 7, 7, 7, 7, 7, 7, 7, 7, 4, 7, 7, 14, 7, 8, 7, 7, 7, 7, 7, 7, 7, 7, 7, 7, 7, 6, 7, 7, 7, 7, 7, 7, 7, 7, 8, 7, 7, 7, 7, 7, 7, 7, 7, 16, 7, 7, 7, 7, 7, 7, 7, 7, 7, 7, 7, 7, 7, 7, 7, 7, 7, 7, 7, 7, 4, 7, 7, 6, 7, 7, 7, 7, 7, 7, 7, 4, 7, 7, 16, 7, 7, 7, 7, 7, 7, 6, 7, 7, 7, 7, 7, 7, 14, 7, 7, 7, 7, 7, 7, 7, 16, 7, 7, 23, 7, 7, 7, 6, 7, 7, 7, 7, 7, 7, 7, 7, 14, 7, 6, 14, 7, 7, 6, 7, 7, 7, 7, 14, 7, 14, 7, 7, 16, 7, 7, 7, 7, 7, 14, 6, 4, 7, 7, 7, 14, 7, 7, 7, 7, 7, 7, 10, 6, 4, 16, 7, 7, 7, 7, 7, 7, 7, 7, 7, 7, 6, 7, 7, 7, 7, 7, 7, 7, 7, 7, 7, 7, 7, 7, 7, 7, 7, 7, 7, 14, 7, 7, 7, 7, 7, 7, 14, 7, 16, 7]\n",
            "[7, 16, 7, 7, 7, 7, 7, 7, 7, 7, 7, 7, 7, 7, 7, 7, 7, 7, 7, 7, 7, 7, 7, 7, 7, 7, 7, 7, 7, 7, 7, 7, 7, 7, 7, 7, 7, 7, 7, 7, 7, 7, 7, 7, 7, 7, 7, 7, 16, 7, 7, 7, 7, 7, 14, 7, 7, 7, 7, 7, 7, 6, 7, 7, 7, 7, 7, 7, 7, 7, 7, 7, 7, 7, 7, 7, 20, 7, 7, 7, 6, 4, 7, 7, 7, 22, 7, 7, 7, 7, 6, 7, 7, 7, 7, 0, 0, 7, 7, 7, 7, 7, 7, 7, 7, 7, 7, 7, 7, 7, 7, 7, 7, 7, 7, 7, 7, 7, 7, 7, 7, 7, 7, 7, 0, 7, 7, 7, 7, 7, 6, 7, 7, 7, 7, 7, 7, 7, 7, 7, 7, 7, 7, 0, 7, 7, 16, 7, 7, 21, 7, 7, 16, 7, 7, 7, 7, 10, 7, 7, 7, 7, 7, 14, 7, 7, 7, 7, 7, 7, 7, 7, 7, 0, 7, 7, 7, 7, 7, 7, 0, 7, 7, 0, 7, 6, 7, 7, 7, 1, 7, 7, 7, 7, 7, 7, 7, 7, 7, 7, 7, 7, 14, 7, 7, 7, 7, 7, 7, 7, 7, 7, 7, 7, 7, 7, 7, 7, 7, 8, 7, 7, 5, 0, 14, 7, 7, 7, 7, 6, 6, 7, 7, 7, 7, 7, 7, 7, 14, 14, 7, 7, 7, 18, 7, 16, 6, 1, 21, 7, 7, 7, 7, 7, 7, 7, 7, 7, 7, 7, 16, 7, 7, 7, 7, 7, 7, 7, 7, 7, 7, 7, 7, 7, 7, 7, 7, 7, 7, 7, 6, 7, 7, 7, 16, 7, 7, 7, 7, 7, 7, 7, 6, 7, 7, 7, 14, 7, 7, 7]\n",
            "[7, 7, 7, 7, 7, 7, 7, 7, 7, 7, 16, 7, 7, 7, 7, 7, 7, 7, 7, 7, 7, 7, 6, 7, 7, 6, 7, 7, 7, 7, 7, 7, 7, 7, 7, 6, 6, 7, 0, 7, 7, 6, 7, 7, 7, 7, 7, 7, 7, 7, 6, 7, 7, 7, 7, 8, 7, 7, 7, 7, 7, 7, 7, 14, 14, 6, 7, 14, 16, 7, 7, 7, 7, 16, 7, 7, 6, 7, 7, 7, 23, 7, 7, 0, 7, 7, 7, 6, 7, 7, 7, 20, 7, 7, 7, 7, 7, 7, 6, 7, 7, 7, 7, 7, 7, 7, 7, 7, 7, 7, 0, 7, 7, 7, 7, 7, 6, 7, 16, 7, 11, 7, 7, 7, 7, 7, 7, 7, 7, 16, 7, 10, 7, 16, 7, 7, 7, 6, 7, 7, 7, 7, 7, 14, 7, 14, 8, 7, 7, 7, 7, 14, 7, 7, 7, 7, 7, 7, 7, 7, 23, 7, 7, 7, 7, 7, 7, 7, 7, 7, 14, 7, 7, 7, 7, 7, 7, 7, 16, 7, 7, 7, 7, 7, 7, 7, 7, 7, 7, 14, 20, 7, 7, 7, 7, 7, 7, 7, 7, 7, 0, 7, 7, 7, 7, 7, 7, 7, 7, 7, 7, 7, 7, 4, 7, 6, 6, 7, 7, 7, 16, 7, 7, 7, 7, 7, 7, 6, 7, 7, 7, 7, 7, 7, 7, 7, 7, 7, 7, 7, 7, 7, 7, 7, 7, 6, 7, 7, 7, 4, 7, 7, 7, 7, 7, 7, 7, 7, 7, 14, 14, 7, 7, 16, 7, 7, 7, 7, 7, 7, 7, 7, 7, 7, 7, 7, 14, 10, 7, 7, 7, 7, 7, 7, 7, 7, 7, 7, 14, 0, 7, 7, 7, 7, 7, 16, 6, 7, 7, 7]\n",
            "[7, 7, 7, 7, 6, 7, 14, 7, 7, 7, 14, 7, 7, 7, 7, 16, 0, 7, 7, 7, 7, 7, 7, 7, 7, 7, 7, 7, 7, 7, 7, 7, 7, 1, 7, 7, 7, 7, 7, 7, 7, 7, 7, 7, 7, 7, 7, 16, 7, 7, 7, 7, 16, 7, 7, 7, 7, 7, 7, 7, 7, 7, 16, 7, 7, 6, 7, 7, 7, 7, 6, 7, 7, 7, 7, 7, 7, 7, 7, 7, 0, 7, 7, 7, 7, 7, 7, 7, 6, 1, 7, 7, 7, 7, 7, 6, 7, 7, 7, 7, 10, 6, 7, 7, 6, 7, 7, 7, 7, 7, 7, 7, 7, 7, 7, 7, 7, 7, 7, 7, 7, 16, 7, 6, 7, 7, 7, 7, 7, 14, 7, 7, 7, 18, 12, 7, 7, 7, 7, 16, 7, 7, 7, 7, 7, 7, 7, 7, 7, 7, 7, 7, 7, 7, 7, 4, 7, 7, 6, 6, 7, 7, 7, 7, 7, 6, 7, 6, 4, 7, 7, 7, 16, 7, 7, 16, 7, 0, 7, 7, 7, 7, 23, 7, 7, 7, 7, 6, 14, 7, 14, 7, 7, 7, 7, 7, 7, 6, 7, 6, 7, 7, 7, 7, 7, 7, 18, 6, 7, 0, 7, 7, 7, 7, 16, 7, 7, 7, 7, 7, 7, 7, 7, 16, 7, 7, 7, 7, 7, 7, 7, 14, 7, 7, 6, 7, 7, 7, 7, 7, 8, 7, 7, 7, 7, 4, 14, 7, 7, 6, 7, 7, 7, 7, 7, 7, 7, 7, 7, 1, 7, 7, 7, 7, 7, 7, 7, 7, 7, 7, 7, 7, 7, 7, 7, 7, 7, 7, 7, 7, 7, 7, 7, 7, 7, 7, 7, 7, 14, 7, 16, 7, 7, 7, 7, 6, 7, 16, 7, 7]\n",
            "[7, 7, 7, 7, 7, 7, 7, 7, 6, 7, 7, 7, 6, 6, 7, 7, 7, 7, 7, 7, 7, 7, 7, 14, 7, 7, 7, 14, 7, 17, 7, 7, 7, 7, 7, 16, 7, 7, 7, 7, 7, 7, 7, 7, 7, 7, 7, 16, 7, 7, 7, 7, 7, 7, 7, 7, 7, 7, 7, 14, 7, 7, 7, 7, 7, 7, 16, 7, 7, 7, 7, 7, 7, 7, 7, 7, 7, 7, 7, 7, 7, 7, 7, 7, 7, 7, 12, 7, 7, 7, 7, 7, 7, 7, 7, 7, 7, 7, 7, 7, 7, 7, 7, 7, 7, 7, 14, 7, 7, 7, 7, 7, 7, 7, 7, 7, 1, 7, 7, 7, 7, 7, 7, 7, 7, 7, 7, 7, 7, 7, 7, 0, 7, 7, 7, 7, 7, 7, 7, 7, 7, 7, 7, 7, 7, 7, 7, 14, 7, 7, 7, 7, 7, 7, 14, 14, 7, 7, 7, 16, 7, 7, 7, 7, 7, 7, 7, 7, 7, 6, 7, 7, 7, 7, 7, 7, 7, 7, 7, 14, 7, 16, 7, 7, 1, 7, 7, 7, 14, 6, 7, 7, 7, 7, 6, 7, 7, 7, 7, 7, 7, 7, 7, 7, 7, 7, 7, 7, 7, 7, 7, 7, 7, 7, 7, 7, 14, 16, 7, 7, 7, 7, 7, 7, 7, 14, 7, 7, 7, 16, 7, 7, 7, 7, 7, 16, 7, 7, 7, 7, 7, 7, 4, 7, 7, 10, 7, 14, 7, 7, 7, 7, 7, 7, 7, 7, 7, 7, 7, 6, 11, 0, 7, 7, 7, 6, 7, 7, 7, 7, 7, 7, 7, 7, 7, 6, 7, 7, 7, 7, 7, 7, 14, 7, 7, 16, 7, 7, 7, 6, 7, 7, 7, 7, 1, 1, 7, 7, 5, 7]\n",
            "[7, 7, 7, 7, 7, 0, 7, 7, 2, 7, 7, 16, 7, 7, 21, 7, 0, 7, 7, 7, 7, 7, 7, 7, 7, 6, 7, 7, 7, 7, 7, 7, 9, 7, 7, 7, 4, 7, 7, 7, 7, 7, 7, 7, 7, 7, 7, 14, 7, 7, 7, 7, 6, 7, 7, 16, 7, 23, 7, 7, 7, 7, 14, 7, 7, 1, 7, 10, 7, 7, 7, 6, 7, 14, 7, 14, 14, 7, 7, 7, 7, 7, 7, 7, 7, 7, 7, 7, 7, 7, 7, 0, 0, 7, 7, 7, 7, 7, 7, 7, 8, 7, 7, 7, 7, 7, 7, 7, 7, 7, 7, 7, 7, 7, 12, 7, 7, 7, 7, 7, 7, 0, 7, 7, 7, 7, 7, 7, 7, 7, 7, 6, 7, 7, 16, 7, 7, 7, 7, 7, 7, 7, 7, 7, 7, 7, 7, 7, 7, 7, 7, 7, 7, 7, 7, 7, 14, 7, 7, 7, 7, 7, 23, 7, 7, 7, 7, 7, 7, 7, 7, 7, 7, 7, 7, 7, 7, 7, 7, 7, 7, 7, 7, 16, 7, 7, 7, 7, 7, 7, 7, 7, 7, 7, 7, 7, 7, 7, 7, 7, 7, 7, 7, 7, 7, 16, 7, 21, 7, 16, 7, 7, 7, 7, 7, 12, 7, 7, 7, 7, 7, 7, 7, 7, 14, 7, 7, 7, 7, 14, 7, 7, 7, 7, 14, 7, 7, 7, 7, 7, 6, 7, 7, 14, 7, 7, 7, 0, 7, 4, 7, 7, 7, 7, 7, 7, 7, 7, 7, 7, 7, 7, 6, 6, 7, 7, 4, 7, 7, 7, 7, 7, 7, 7, 7, 7, 14, 7, 14, 7, 7, 7, 7, 7, 14, 7, 7, 14, 7, 6, 7, 16, 7, 7, 7, 0, 7, 7, 7, 4]\n",
            "[7, 7, 7, 6, 7, 7, 7, 7, 7, 14, 6, 7, 0, 7, 7, 7, 7, 7, 7, 7, 7, 10, 7, 7, 7, 7, 16, 7, 7, 7, 7, 7, 7, 7, 7, 16, 7, 7, 7, 7, 7, 7, 14, 6, 7, 7, 21, 7, 7, 7, 7, 7, 7, 7, 7, 7, 16, 7, 7, 7, 7, 7, 7, 7, 7, 7, 7, 14, 7, 7, 7, 7, 7, 7, 7, 7, 7, 7, 7, 7, 7, 7, 7, 0, 7, 7, 7, 7, 6, 7, 14, 7, 7, 7, 7, 7, 7, 7, 7, 7, 7, 7, 7, 7, 7, 7, 7, 7, 7, 7, 7, 7, 7, 7, 7, 0, 14, 7, 7, 16, 7, 1, 7, 7, 7, 7, 7, 7, 7, 7, 6, 0, 7, 7, 7, 7, 7, 16, 7, 7, 7, 6, 7, 7, 7, 7, 7, 14, 7, 6, 7, 6, 7, 7, 14, 7, 7, 7, 7, 7, 0, 7, 7, 7, 7, 7, 7, 14, 7, 7, 7, 7, 7, 7, 16, 7, 7, 7, 23, 7, 7, 7, 10, 7, 7, 16, 7, 7, 7, 7, 7, 6, 7, 6, 7, 6, 7, 7, 7, 7, 0, 14, 7, 7, 10, 7, 7, 6, 7, 6, 7, 4, 7, 7, 7, 7, 7, 7, 7, 7, 7, 7, 7, 7, 1, 7, 7, 7, 7, 1, 7, 7, 7, 7, 7, 7, 7, 7, 7, 7, 14, 7, 1, 7, 7, 7, 7, 7, 7, 7, 6, 7, 7, 7, 7, 7, 7, 20, 7, 7, 7, 14, 7, 0, 7, 6, 7, 7, 7, 7, 7, 7, 7, 7, 7, 7, 6, 7, 7, 7, 7, 7, 7, 7, 7, 7, 7, 7, 0, 7, 7, 7, 7, 7, 4, 7, 7, 7, 7, 7]\n",
            "[14, 7, 7, 7, 7, 7, 6, 7, 7, 7, 7, 7, 7, 7, 7, 7, 7, 7, 7, 4, 7, 7, 7, 7, 16, 7, 7, 7, 7, 7, 7, 7, 16, 7, 7, 7, 7, 7, 7, 6, 7, 7, 7, 7, 7, 7, 7, 7, 7, 7, 16, 14, 7, 7, 7, 7, 7, 7, 7, 14, 7, 7, 7, 7, 7, 6, 7, 7, 7, 7, 7, 7, 16, 7, 7, 7, 7, 7, 7, 7, 7, 7, 7, 7, 7, 7, 7, 7, 7, 7, 7, 7, 7, 7, 7, 7, 7, 7, 7, 7, 7, 6, 7, 7, 7, 7, 7, 7, 7, 7, 7, 7, 7, 7, 7, 7, 14, 7, 7, 7, 7, 7, 7, 7, 7, 7, 7, 7, 7, 6, 7, 7, 7, 7, 7, 7, 7, 14, 7, 7, 7, 14, 7, 7, 7, 16, 14, 7, 7, 7, 7, 7, 7, 7, 7, 7, 7, 7, 7, 7, 7, 16, 7, 7, 7, 7, 7, 7, 7, 7, 7, 7, 7, 7, 7, 14, 7, 7, 6, 7, 7, 11, 7, 1, 7, 0, 7, 7, 7, 7, 6, 7, 7, 7, 16, 6, 7, 7, 7, 7, 7, 7, 6, 7, 7, 7, 7, 7, 7, 7, 7, 7, 7, 7, 7, 7, 14, 7, 7, 7, 14, 6, 7, 7, 16, 7, 7, 7, 14, 7, 7, 7, 7, 16, 7, 7, 7, 7, 7, 7, 7, 7, 7, 7, 7, 7, 7, 7, 7, 6, 7, 7, 7, 7, 7, 7, 7, 7, 7, 7, 7, 7, 7, 7, 7, 7, 7, 7, 7, 7, 7, 6, 16, 7, 7, 7, 14, 7, 7, 7, 7, 7, 7, 7, 7, 7, 7, 16, 7, 7, 7, 7, 7, 7, 7, 7, 7, 22, 16, 7]\n",
            "[7, 7, 7, 7, 7, 16, 7, 7, 7, 7, 1, 7, 7, 7, 7, 7, 7, 7, 7, 7, 7, 7, 7, 7, 7, 7, 7, 7, 7, 7, 7, 7, 7, 7, 23, 7, 7, 7, 16, 7, 7, 7, 7, 7, 7, 14, 14, 7, 7, 14, 7, 7, 7, 7, 16, 7, 7, 7, 6, 7, 16, 7, 7, 7, 7, 7, 7, 7, 7, 7, 18, 7, 7, 7, 7, 7, 7, 16, 7, 7, 7, 7, 7, 7, 7, 7, 6, 11, 7, 7, 7, 7, 7, 7, 7, 7, 6, 14, 7, 7, 7, 7, 0, 7, 16, 14, 6, 7, 7, 7, 7, 7, 7, 7, 7, 7, 7, 7, 7, 7, 7, 7, 7, 7, 7, 7, 7, 7, 7, 7, 7, 7, 7, 7, 7, 7, 7, 7, 7, 7, 20, 7, 7, 7, 7, 6, 7, 7, 7, 7, 7, 7, 6, 7, 7, 7, 7, 10, 7, 7, 7, 7, 7, 7, 7, 7, 7, 7, 14, 14, 7, 7, 7, 7, 7, 7, 7, 7, 16, 7, 7, 7, 7, 7, 7, 7, 7, 11, 7, 21, 7, 7, 16, 7, 7, 6, 7, 7, 7, 7, 7, 14, 7, 7, 0, 7, 7, 7, 7, 7, 7, 6, 7, 7, 7, 7, 7, 7, 7, 7, 7, 7, 7, 7, 7, 7, 7, 7, 6, 7, 7, 7, 7, 7, 7, 14, 14, 7, 7, 7, 7, 7, 7, 7, 7, 18, 7, 21, 7, 7, 0, 7, 7, 7, 7, 7, 7, 7, 7, 7, 7, 7, 7, 7, 7, 6, 17, 7, 7, 7, 7, 7, 7, 7, 7, 1, 16, 7, 7, 7, 7, 14, 14, 6, 7, 7, 0, 7, 7, 6, 7, 7, 0, 7, 7, 7, 7, 7, 7, 6]\n",
            "[7, 7, 7, 7, 7, 7, 7, 7, 7, 7, 7, 6, 7, 7, 7, 7, 7, 7, 7, 7, 7, 14, 7, 7, 7, 7, 7, 7, 7, 7, 7, 7, 7, 8, 7, 7, 7, 7, 7, 7, 7, 7, 7, 12, 7, 7, 7, 7, 7, 6, 7, 7, 7, 7, 6, 7, 7, 7, 7, 7, 7, 6, 7, 7, 7, 7, 7, 7, 7, 7, 17, 7, 6, 7, 7, 7, 7, 7, 7, 7, 7, 7, 7, 18, 7, 4, 7, 7, 7, 7, 7, 7, 7, 7, 7, 7, 7, 7, 7, 14, 7, 7, 7, 7, 7, 6, 7, 7, 16, 7, 7, 7, 7, 7, 7, 14, 7, 6, 7, 7, 7, 7, 0, 7, 7, 14, 7, 7, 14, 7, 7, 7, 7, 7, 7, 7, 7, 1, 7, 7, 7, 7, 7, 0, 7, 7, 7, 7, 6, 7, 7, 7, 8, 7, 7, 6, 12, 14, 7, 6, 7, 1, 7, 7, 7, 7, 7, 0, 7, 7, 7, 7, 7, 0, 7, 6, 6, 14, 7, 7, 7, 7, 7, 7, 7, 7, 7, 7, 16, 7, 7, 7, 7, 7, 7, 7, 7, 7, 7, 7, 7, 7, 7, 7, 7, 7, 7, 7, 7, 7, 7, 7, 7, 7, 7, 21, 0, 7, 7, 7, 7, 7, 7, 7, 6, 7, 6, 7, 7, 7, 7, 7, 7, 7, 7, 7, 7, 7, 6, 7, 7, 7, 7, 16, 7, 7, 7, 7, 7, 7, 7, 7, 7, 7, 7, 7, 7, 7, 7, 7, 7, 7, 7, 7, 14, 7, 7, 7, 7, 7, 7, 7, 7, 7, 7, 7, 1, 7, 7, 7, 0, 7, 7, 7, 7, 14, 7, 7, 7, 7, 7, 7, 7, 14, 7, 7, 7, 7, 7, 7]\n",
            "[7, 7, 7, 7, 7, 7, 17, 7, 7, 7, 7, 7, 7, 7, 14, 7, 7, 7, 7, 7, 7, 7, 7, 6, 7, 7, 14, 11, 7, 7, 14, 7, 7, 7, 7, 16, 7, 7, 7, 7, 7, 7, 10, 7, 7, 7, 7, 7, 7, 7, 7, 7, 7, 7, 7, 7, 7, 7, 7, 7, 6, 7, 7, 7, 7, 7, 7, 7, 14, 7, 7, 16, 16, 7, 7, 7, 7, 7, 7, 7, 7, 7, 7, 7, 7, 7, 7, 7, 7, 7, 7, 7, 6, 7, 7, 1, 7, 7, 7, 7, 7, 7, 7, 7, 7, 7, 0, 7, 7, 7, 7, 7, 7, 7, 7, 7, 7, 1, 6, 16, 7, 7, 7, 7, 7, 7, 7, 7, 7, 7, 7, 7, 4, 0, 7, 7, 7, 7, 7, 0, 7, 7, 7, 7, 7, 6, 7, 7, 7, 7, 7, 7, 7, 7, 7, 7, 7, 7, 7, 7, 7, 7, 7, 7, 7, 7, 7, 7, 7, 14, 7, 7, 7, 7, 7, 7, 7, 7, 7, 7, 7, 7, 7, 7, 7, 7, 7, 7, 7, 7, 7, 7, 7, 7, 16, 7, 7, 16, 7, 16, 7, 7, 7, 7, 7, 7, 7, 7, 7, 7, 7, 7, 7, 7, 7, 7, 7, 7, 21, 7, 6, 7, 7, 7, 7, 7, 7, 7, 4, 6, 7, 7, 16, 7, 7, 7, 7, 7, 7, 7, 7, 7, 7, 0, 7, 7, 7, 7, 7, 14, 7, 7, 6, 16, 16, 23, 6, 14, 7, 7, 16, 7, 7, 7, 7, 7, 7, 0, 7, 7, 7, 7, 7, 7, 7, 7, 7, 7, 7, 7, 7, 7, 7, 7, 7, 7, 0, 14, 7, 7, 14, 7, 7, 7, 7, 7, 7, 7, 7, 7]\n",
            "[6, 7, 7, 7, 8, 7, 7, 7, 7, 7, 7, 16, 7, 14, 7, 7, 7, 16, 7, 7, 7, 7, 7, 7, 7, 7, 7, 16, 7, 12, 7, 7, 21, 7, 14, 7, 7, 7, 7, 8, 7, 7, 7, 7, 7, 7, 7, 7, 7, 7, 7, 7, 7, 7, 7, 14, 7, 7, 14, 7, 7, 7, 7, 6, 7, 7, 4, 7, 7, 7, 7, 7, 7, 7, 7, 7, 7, 7, 7, 7, 7, 7, 7, 7, 7, 7, 7, 16, 7, 7, 21, 16, 6, 7, 7, 7, 7, 7, 7, 7, 7, 7, 7, 7, 7, 7, 7, 7, 20, 7, 7, 7, 7, 7, 7, 7, 0, 7, 7, 7, 14, 7, 6, 7, 14, 7, 7, 7, 7, 16, 14, 7, 7, 7, 7, 7, 7, 7, 7, 6, 7, 7, 6, 7, 16, 7, 7, 7, 21, 7, 7, 7, 7, 7, 7, 7, 7, 7, 7, 4, 7, 7, 14, 7, 7, 7, 7, 7, 7, 6, 7, 7, 7, 7, 14, 7, 7, 7, 6, 7, 7, 7, 7, 7, 7, 7, 7, 7, 7, 7, 7, 6, 7, 7, 7, 7, 16, 7, 7, 7, 7, 7, 7, 16, 7, 7, 7, 0, 7, 7, 7, 7, 7, 7, 7, 7, 7, 7, 7, 14, 7, 7, 7, 7, 16, 6, 7, 7, 7, 14, 7, 7, 7, 7, 7, 16, 7, 7, 7, 7, 7, 7, 7, 7, 7, 7, 7, 7, 7, 7, 7, 7, 7, 7, 7, 7, 7, 7, 7, 7, 7, 7, 7, 7, 7, 7, 7, 7, 7, 6, 14, 7, 7, 7, 7, 7, 7, 7, 7, 7, 7, 7, 7, 7, 7, 7, 7, 7, 7, 7, 6, 6, 7, 7, 7, 7, 7, 7, 7, 6]\n",
            "[0, 7, 7, 7, 7, 7, 7, 7, 7, 7, 16, 7, 7, 7, 16, 7, 7, 7, 7, 7, 7, 7, 7, 7, 0, 7, 7, 7, 4, 7, 7, 7, 7, 7, 7, 7, 7, 4, 16, 7, 7, 7, 7, 7, 7, 7, 7, 6, 7, 6, 7, 14, 7, 7, 7, 7, 7, 7, 4, 7, 7, 7, 7, 7, 6, 7, 16, 7, 7, 0, 7, 7, 7, 7, 7, 7, 7, 7, 6, 14, 7, 7, 7, 7, 0, 7, 0, 7, 7, 7, 7, 7, 7, 16, 7, 7, 7, 16, 7, 7, 7, 16, 7, 7, 7, 7, 7, 7, 7, 0, 7, 7, 7, 6, 7, 16, 7, 16, 7, 16, 7, 7, 14, 7, 7, 7, 14, 7, 7, 7, 7, 17, 7, 7, 6, 7, 7, 14, 7, 7, 7, 7, 7, 7, 7, 7, 7, 7, 7, 7, 7, 7, 7, 7, 7, 16, 7, 7, 7, 7, 7, 6, 7, 7, 7, 7, 7, 16, 7, 7, 7, 7, 1, 7, 7, 7, 7, 7, 7, 0, 7, 7, 7, 7, 7, 6, 7, 7, 7, 7, 7, 7, 7, 7, 7, 6, 7, 7, 7, 7, 7, 7, 7, 16, 7, 16, 7, 7, 6, 16, 7, 7, 7, 7, 7, 0, 12, 7, 7, 7, 7, 16, 7, 7, 7, 7, 7, 7, 7, 7, 7, 11, 7, 7, 0, 16, 7, 7, 7, 0, 7, 7, 1, 7, 7, 7, 7, 7, 7, 7, 7, 7, 7, 7, 7, 7, 7, 7, 16, 14, 7, 0, 14, 7, 7, 4, 7, 7, 6, 14, 7, 7, 6, 7, 7, 7, 11, 7, 7, 7, 7, 7, 7, 7, 7, 7, 7, 7, 7, 16, 7, 7, 7, 7, 7, 7, 7, 7, 7, 7]\n",
            "[7, 6, 7, 7, 7, 7, 7, 7, 7, 7, 6, 7, 7, 7, 7, 7, 6, 21, 10, 7, 7, 1, 20, 7, 2, 7, 7, 14, 7, 7, 7, 7, 7, 0, 7, 7, 7, 7, 7, 7, 7, 6, 7, 7, 7, 7, 6, 7, 7, 7, 7, 7, 7, 7, 7, 7, 0, 7, 16, 7, 14, 7, 14, 7, 7, 7, 7, 7, 7, 7, 6, 7, 7, 7, 7, 7, 7, 7, 7, 7, 7, 7, 7, 1, 16, 6, 7, 7, 7, 7, 7, 7, 7, 16, 16, 7, 16, 7, 7, 16, 6, 7, 7, 7, 7, 7, 7, 6, 7, 7, 7, 7, 7, 7, 6, 7, 7, 7, 14, 7, 7, 7, 7, 16, 7, 1, 7, 7, 7, 6, 7, 14, 7, 16, 7, 7, 7, 7, 7, 7, 7, 7, 7, 7, 7, 7, 7, 7, 7, 7, 7, 7, 7, 7, 7, 7, 7, 7, 7, 7, 7, 7, 7, 7, 7, 14, 7, 7, 7, 7, 23, 0, 7, 14, 16, 7, 7, 7, 7, 7, 14, 7, 7, 4, 7, 7, 14, 0, 7, 7, 7, 7, 7, 16, 16, 7, 16, 7, 16, 7, 16, 7, 7, 7, 7, 7, 7, 7, 7, 7, 7, 0, 7, 7, 7, 7, 7, 7, 7, 7, 7, 7, 7, 7, 7, 14, 21, 7, 7, 7, 7, 7, 7, 7, 7, 16, 7, 7, 7, 7, 7, 7, 7, 6, 7, 7, 7, 7, 7, 7, 7, 7, 7, 7, 7, 7, 7, 7, 7, 7, 7, 7, 7, 14, 16, 7, 7, 7, 7, 7, 16, 14, 7, 7, 7, 7, 7, 7, 7, 7, 7, 7, 7, 7, 7, 6, 7, 4, 7, 7, 7, 7, 7, 7, 7, 14, 7, 7, 7, 7]\n",
            "[7, 6, 7, 7, 7, 14, 7, 7, 7, 7, 7, 7, 7, 7, 7, 7, 7, 7, 16, 7, 7, 7, 0, 7, 7, 0, 7, 7, 6, 7, 7, 7, 7, 7, 7, 7, 7, 7, 16, 7, 7, 7, 7, 16, 7, 7, 7, 7, 7, 7, 7, 4, 7, 7, 7, 7, 7, 7, 7, 7, 7, 7, 7, 7, 7, 7, 7, 7, 7, 7, 7, 7, 7, 7, 7, 7, 14, 6, 7, 7, 7, 7, 7, 7, 7, 7, 7, 7, 23, 7, 7, 7, 7, 6, 7, 7, 6, 7, 7, 16, 7, 7, 16, 9, 7, 7, 7, 7, 7, 7, 14, 7, 6, 7, 7, 14, 7, 16, 7, 7, 7, 7, 7, 7, 7, 7, 7, 7, 7, 7, 7, 7, 7, 16, 7, 7, 7, 7, 7, 16, 7, 7, 7, 7, 7, 7, 7, 7, 7, 7, 7, 7, 7, 7, 7, 6, 8, 7, 7, 7, 7, 6, 7, 7, 6, 7, 14, 7, 7, 7, 7, 7, 7, 7, 7, 7, 8, 7, 6, 7, 7, 7, 7, 7, 7, 7, 7, 6, 7, 14, 7, 7, 7, 7, 7, 7, 7, 7, 7, 7, 21, 7, 7, 7, 7, 7, 7, 7, 16, 7, 7, 16, 7, 6, 14, 6, 7, 7, 7, 7, 7, 7, 7, 4, 14, 7, 14, 7, 7, 7, 7, 4, 7, 21, 7, 7, 7, 7, 7, 7, 7, 7, 7, 7, 20, 7, 7, 14, 7, 7, 7, 7, 7, 7, 7, 10, 7, 7, 7, 7, 6, 7, 7, 0, 7, 7, 1, 7, 7, 7, 7, 7, 7, 7, 7, 16, 7, 7, 7, 7, 10, 7, 7, 7, 4, 7, 7, 7, 7, 7, 7, 7, 7, 7, 7, 7, 7, 6, 7, 7]\n",
            "[7, 7, 7, 7, 7, 7, 1, 7, 7, 7, 7, 7, 7, 14, 7, 7, 7, 7, 7, 7, 7, 7, 7, 7, 7, 7, 7, 7, 7, 7, 7, 7, 7, 7, 7, 7, 7, 7, 7, 7, 7, 7, 7, 7, 7, 7, 7, 7, 7, 7, 7, 7, 7, 7, 7, 7, 7, 7, 7, 7, 7, 7, 7, 7, 23, 7, 7, 7, 7, 7, 7, 6, 7, 7, 7, 7, 7, 7, 7, 7, 7, 7, 7, 7, 6, 7, 7, 23, 4, 7, 7, 7, 7, 7, 7, 7, 7, 7, 7, 7, 7, 7, 7, 7, 7, 7, 7, 7, 7, 7, 7, 23, 7, 14, 7, 7, 7, 7, 7, 7, 7, 7, 14, 7, 7, 7, 7, 7, 7, 7, 7, 7, 7, 7, 7, 7, 16, 7, 7, 7, 7, 7, 8, 7, 7, 7, 7, 7, 7, 7, 7, 7, 7, 7, 7, 7, 14, 7, 7, 7, 7, 7, 7, 10, 7, 7, 11, 7, 7, 7, 7, 7, 16, 7, 7, 7, 16, 4, 10, 7, 14, 7, 7, 7, 7, 7, 6, 7, 7, 7, 16, 14, 7, 6, 7, 7, 7, 7, 0, 16, 14, 7, 16, 7, 7, 7, 16, 7, 7, 7, 7, 7, 7, 6, 7, 7, 7, 7, 16, 14, 7, 7, 7, 7, 7, 7, 6, 7, 7, 7, 7, 0, 1, 7, 7, 7, 4, 7, 7, 7, 14, 7, 7, 16, 7, 11, 7, 16, 7, 7, 7, 7, 14, 7, 7, 7, 7, 7, 7, 7, 7, 7, 7, 7, 7, 7, 7, 7, 7, 7, 7, 7, 7, 7, 14, 7, 7, 7, 7, 7, 7, 7, 6, 7, 7, 7, 7, 7, 7, 7, 7, 7, 7, 7, 6, 7, 7, 14, 7, 7]\n",
            "[7, 7, 7, 7, 7, 6, 7, 7, 7, 14, 6, 7, 7, 7, 7, 7, 7, 7, 7, 7, 7, 7, 7, 7, 7, 7, 16, 7, 14, 7, 7, 7, 7, 7, 7, 7, 7, 7, 7, 7, 7, 7, 7, 7, 6, 7, 7, 7, 7, 7, 23, 7, 6, 1, 7, 14, 7, 16, 7, 16, 7, 1, 7, 14, 7, 7, 7, 7, 7, 7, 7, 7, 7, 7, 7, 7, 7, 4, 7, 7, 1, 7, 7, 7, 7, 7, 7, 7, 7, 7, 7, 7, 7, 7, 16, 7, 7, 7, 7, 7, 7, 7, 7, 7, 7, 7, 10, 7, 7, 7, 14, 7, 7, 7, 7, 7, 7, 7, 7, 4, 7, 7, 7, 16, 7, 7, 7, 7, 7, 21, 7, 7, 16, 6, 7, 7, 18, 7, 23, 16, 7, 7, 7, 7, 7, 7, 21, 7, 7, 7, 7, 7, 7, 14, 7, 7, 7, 7, 7, 7, 7, 7, 7, 7, 18, 10, 7, 7, 7, 14, 7, 14, 7, 0, 7, 7, 7, 7, 7, 7, 7, 5, 7, 7, 7, 7, 7, 7, 7, 21, 7, 7, 7, 7, 16, 7, 7, 14, 7, 7, 7, 7, 7, 7, 7, 6, 7, 7, 7, 7, 7, 7, 6, 7, 9, 7, 7, 7, 7, 6, 7, 7, 7, 7, 7, 7, 7, 6, 7, 7, 7, 7, 7, 7, 7, 7, 7, 14, 7, 7, 7, 7, 7, 7, 7, 7, 6, 7, 7, 7, 6, 7, 7, 7, 7, 7, 7, 7, 7, 7, 7, 7, 7, 7, 7, 7, 7, 16, 1, 7, 7, 7, 16, 6, 7, 7, 7, 7, 7, 7, 7, 7, 23, 7, 7, 7, 4, 7, 7, 16, 16, 7, 7, 7, 7, 7, 7, 7, 7, 7]\n",
            "[16, 6, 7, 7, 7, 7, 7, 7, 7, 7, 7, 7, 7, 7, 7, 7, 7, 7, 7, 7, 7, 7, 7, 7, 6, 7, 11, 7, 7, 16, 7, 7, 7, 7, 7, 7, 7, 7, 6, 7, 1, 7, 11, 7, 6, 7, 6, 7, 7, 7, 7, 7, 7, 7, 7, 7, 7, 7, 7, 16, 7, 7, 7, 7, 7, 7, 7, 6, 7, 14, 7, 7, 7, 7, 7, 7, 7, 7, 7, 7, 7, 7, 7, 7, 7, 16, 7, 7, 6, 7, 7, 7, 7, 7, 14, 7, 7, 7, 4, 7, 7, 7, 7, 7, 6, 7, 16, 7, 7, 7, 7, 7, 7, 7, 7, 7, 11, 16, 7, 7, 7, 7, 10, 7, 7, 16, 7, 7, 7, 7, 7, 7, 7, 7, 7, 7, 7, 7, 7, 7, 7, 7, 7, 7, 4, 7, 7, 7, 8, 7, 7, 14, 14, 7, 7, 7, 7, 7, 7, 7, 7, 7, 7, 20, 16, 7, 7, 7, 7, 7, 7, 7, 7, 7, 7, 7, 7, 7, 7, 7, 7, 7, 7, 7, 7, 14, 7, 7, 7, 7, 6, 7, 7, 7, 7, 7, 16, 7, 7, 7, 7, 7, 7, 7, 7, 21, 7, 7, 7, 7, 7, 7, 7, 6, 7, 7, 7, 7, 7, 7, 7, 7, 7, 7, 14, 7, 7, 7, 7, 7, 7, 7, 7, 7, 7, 7, 6, 7, 16, 7, 7, 7, 7, 6, 7, 7, 7, 7, 7, 7, 7, 7, 7, 7, 7, 7, 0, 7, 7, 7, 7, 14, 7, 7, 7, 7, 7, 7, 7, 7, 7, 7, 7, 7, 7, 7, 7, 7, 7, 16, 7, 7, 7, 14, 7, 7, 7, 7, 7, 7, 16, 7, 7, 7, 7, 7, 7, 7, 7, 7]\n",
            "[7, 4, 14, 6, 7, 7, 7, 16, 7, 16, 7, 7, 7, 7, 7, 7, 14, 7, 7, 7, 7, 6, 7, 7, 21, 7, 7, 7, 0, 7, 14, 7, 0, 7, 7, 7, 7, 7, 7, 7, 7, 7, 16, 7, 6, 7, 7, 0, 7, 0, 7, 7, 7, 14, 7, 7, 7, 7, 7, 7, 7, 7, 6, 7, 8, 7, 7, 7, 7, 7, 7, 7, 7, 7, 7, 7, 7, 6, 7, 7, 7, 7, 16, 7, 16, 6, 7, 16, 7, 14, 7, 6, 7, 16, 7, 7, 7, 21, 7, 7, 7, 7, 7, 14, 7, 7, 7, 7, 7, 7, 7, 7, 7, 7, 7, 7, 7, 7, 7, 7, 7, 7, 7, 7, 7, 6, 6, 7, 7, 7, 16, 7, 7, 16, 7, 7, 16, 16, 7, 7, 7, 14, 7, 7, 7, 7, 7, 7, 7, 7, 7, 7, 7, 7, 7, 7, 7, 7, 7, 7, 7, 7, 14, 7, 16, 7, 7, 7, 7, 7, 7, 7, 7, 7, 7, 7, 7, 7, 7, 7, 7, 7, 7, 7, 7, 7, 7, 4, 7, 7, 7, 10, 7, 7, 7, 7, 7, 7, 7, 7, 14, 7, 7, 7, 7, 7, 0, 7, 8, 16, 7, 6, 7, 7, 7, 7, 7, 16, 7, 7, 7, 7, 7, 6, 7, 7, 7, 7, 7, 7, 7, 1, 6, 7, 7, 7, 14, 7, 7, 7, 7, 7, 7, 7, 7, 7, 7, 0, 7, 14, 18, 7, 7, 7, 7, 7, 7, 16, 7, 6, 6, 7, 4, 7, 7, 7, 7, 7, 7, 7, 7, 7, 7, 7, 7, 16, 7, 7, 7, 7, 7, 7, 7, 7, 7, 7, 16, 7, 7, 14, 7, 7, 7, 7, 7, 8, 6, 7, 7, 7]\n",
            "[7, 7, 7, 7, 7, 7, 7, 16, 7, 7, 7, 7, 7, 7, 7, 7, 7, 7, 7, 6, 6, 7, 7, 7, 7, 7, 7, 7, 7, 7, 6, 7, 6, 7, 7, 1, 7, 16, 6, 7, 6, 7, 7, 7, 14, 7, 7, 7, 7, 7, 7, 7, 7, 7, 7, 7, 7, 7, 4, 7, 7, 7, 7, 7, 7, 7, 8, 7, 7, 7, 7, 7, 7, 7, 7, 7, 14, 16, 7, 7, 7, 7, 6, 7, 0, 7, 7, 7, 7, 7, 6, 7, 7, 7, 7, 7, 1, 7, 7, 7, 7, 7, 7, 7, 7, 7, 21, 7, 7, 6, 7, 7, 7, 7, 7, 7, 10, 7, 7, 7, 16, 14, 7, 7, 7, 7, 7, 14, 7, 7, 14, 7, 7, 7, 14, 7, 7, 7, 7, 6, 7, 6, 7, 14, 7, 7, 7, 7, 16, 7, 7, 7, 7, 16, 7, 7, 7, 7, 7, 16, 7, 7, 7, 7, 7, 7, 7, 7, 7, 7, 7, 7, 7, 7, 14, 7, 7, 7, 10, 14, 7, 6, 7, 14, 7, 7, 7, 7, 7, 7, 7, 7, 7, 7, 7, 7, 7, 7, 0, 7, 7, 7, 7, 7, 7, 7, 7, 7, 7, 7, 7, 7, 7, 7, 7, 7, 16, 16, 7, 8, 7, 7, 7, 7, 7, 7, 7, 6, 7, 7, 7, 7, 7, 7, 7, 7, 7, 7, 16, 7, 7, 7, 7, 7, 7, 7, 7, 7, 1, 7, 7, 7, 7, 7, 23, 7, 16, 7, 7, 7, 7, 7, 7, 16, 7, 14, 17, 7, 7, 7, 6, 7, 7, 7, 7, 7, 6, 7, 7, 16, 7, 7, 7, 7, 0, 7, 7, 7, 7, 7, 16, 16, 7, 7, 7, 7, 7, 7, 7, 7]\n",
            "[7, 7, 7, 1, 7, 8, 7, 7, 7, 0, 7, 7, 7, 7, 7, 7, 7, 7, 7, 7, 7, 7, 7, 7, 7, 7, 7, 7, 14, 7, 7, 7, 7, 7, 7, 7, 14, 7, 7, 7, 7, 14, 6, 7, 7, 7, 7, 7, 7, 7, 7, 7, 7, 7, 7, 7, 7, 7, 7, 7, 7, 7, 7, 7, 14, 7, 7, 7, 23, 7, 7, 7, 7, 7, 7, 0, 7, 7, 7, 7, 7, 0, 7, 7, 7, 7, 14, 7, 7, 7, 7, 7, 7, 7, 7, 7, 7, 7, 7, 7, 7, 7, 7, 7, 7, 7, 7, 7, 7, 7, 7, 7, 7, 7, 7, 7, 14, 7, 7, 23, 4, 14, 7, 7, 7, 23, 6, 16, 7, 7, 7, 7, 7, 7, 7, 7, 7, 7, 7, 7, 7, 7, 7, 7, 7, 7, 7, 7, 7, 7, 6, 7, 7, 7, 16, 7, 14, 7, 7, 7, 7, 7, 16, 7, 7, 7, 11, 7, 7, 7, 7, 7, 7, 22, 7, 7, 7, 7, 0, 7, 6, 7, 7, 7, 7, 7, 7, 7, 7, 7, 7, 7, 7, 6, 16, 7, 7, 7, 7, 7, 7, 4, 7, 7, 7, 7, 7, 7, 7, 7, 7, 7, 7, 7, 7, 7, 7, 7, 7, 7, 7, 7, 7, 7, 7, 7, 7, 6, 7, 7, 14, 6, 6, 7, 7, 7, 7, 7, 6, 7, 7, 7, 7, 7, 7, 7, 7, 7, 7, 7, 16, 7, 7, 7, 7, 7, 7, 7, 7, 7, 7, 7, 7, 7, 7, 7, 7, 7, 7, 7, 0, 7, 7, 7, 7, 7, 7, 7, 7, 7, 7, 7, 7, 7, 7, 7, 7, 7, 7, 7, 7, 7, 7, 7, 1, 7, 7, 7, 7, 7]\n",
            "[7, 7, 7, 4, 7, 7, 7, 7, 7, 7, 7, 7, 6, 7, 7, 7, 7, 7, 7, 7, 7, 7, 7, 6, 7, 6, 7, 7, 7, 7, 7, 7, 7, 7, 7, 7, 7, 7, 7, 7, 7, 7, 7, 7, 7, 7, 7, 7, 7, 7, 16, 7, 7, 7, 7, 6, 14, 7, 7, 7, 7, 17, 7, 7, 7, 7, 7, 7, 7, 7, 7, 7, 7, 14, 7, 7, 7, 7, 16, 7, 7, 7, 7, 6, 7, 7, 7, 7, 7, 7, 7, 16, 7, 7, 10, 7, 7, 7, 7, 21, 7, 7, 7, 7, 16, 7, 7, 7, 7, 7, 7, 7, 7, 7, 0, 7, 4, 7, 7, 7, 7, 7, 7, 7, 7, 7, 7, 8, 18, 14, 7, 7, 7, 7, 7, 7, 16, 6, 7, 7, 7, 7, 7, 7, 14, 7, 7, 7, 14, 7, 7, 7, 7, 7, 7, 6, 7, 7, 7, 7, 7, 18, 7, 7, 7, 7, 7, 7, 7, 0, 7, 7, 7, 7, 7, 7, 7, 7, 7, 7, 7, 7, 7, 7, 14, 14, 16, 0, 7, 7, 7, 16, 16, 7, 7, 7, 7, 7, 16, 7, 4, 7, 7, 7, 7, 8, 7, 7, 7, 7, 7, 7, 7, 14, 7, 7, 7, 7, 7, 7, 7, 7, 8, 7, 7, 7, 7, 14, 7, 6, 7, 7, 7, 7, 7, 7, 7, 7, 7, 7, 7, 6, 14, 7, 7, 7, 7, 7, 7, 7, 7, 7, 7, 7, 12, 7, 7, 7, 7, 7, 7, 7, 7, 7, 7, 7, 7, 7, 7, 14, 7, 7, 7, 7, 7, 7, 7, 7, 7, 14, 14, 7, 7, 14, 14, 7, 7, 7, 7, 23, 7, 7, 7, 7, 7, 7, 7, 7, 7, 7]\n",
            "[7, 7, 7, 7, 7, 7, 7, 7, 7, 7, 7, 7, 7, 7, 7, 7, 7, 7, 7, 7, 7, 14, 6, 16, 7, 7, 7, 7, 7, 7, 7, 7, 7, 7, 14, 7, 7, 7, 7, 7, 7, 6, 7, 7, 7, 7, 7, 7, 7, 7, 7, 16, 7, 7, 7, 7, 7, 7, 7, 7, 7, 7, 7, 7, 7, 7, 7, 6, 7, 7, 7, 7, 7, 7, 7, 6, 7, 16, 7, 0, 7, 7, 7, 7, 7, 7, 7, 6, 7, 7, 7, 7, 7, 7, 7, 7, 0, 7, 7, 7, 7, 7, 7, 14, 7, 7, 7, 7, 7, 7, 7, 4, 7, 7, 7, 7, 7, 7, 7, 7, 7, 7, 7, 7, 7, 14, 7, 7, 14, 7, 7, 7, 7, 7, 0, 7, 7, 7, 7, 7, 7, 7, 7, 7, 7, 6, 7, 14, 7, 7, 7, 7, 0, 7, 7, 7, 7, 7, 7, 1, 7, 6, 7, 6, 7, 7, 7, 7, 7, 7, 7, 7, 7, 7, 7, 7, 7, 7, 7, 7, 7, 7, 7, 7, 7, 4, 6, 16, 7, 7, 10, 7, 16, 14, 7, 7, 7, 7, 7, 7, 6, 7, 6, 16, 7, 0, 6, 7, 7, 7, 7, 16, 7, 7, 7, 0, 7, 7, 16, 7, 6, 7, 7, 14, 7, 7, 7, 7, 7, 7, 7, 7, 7, 7, 7, 7, 7, 16, 7, 7, 7, 23, 6, 7, 7, 7, 14, 14, 7, 7, 7, 7, 7, 7, 7, 7, 7, 7, 7, 7, 7, 7, 7, 7, 7, 23, 7, 7, 7, 7, 7, 7, 16, 7, 7, 7, 7, 7, 7, 7, 7, 7, 7, 22, 7, 7, 7, 7, 7, 7, 7, 7, 7, 7, 7, 7, 7, 7, 7, 7]\n",
            "[7, 23, 7, 7, 7, 7, 7, 7, 6, 6, 7, 7, 7, 7, 7, 7, 7, 14, 0, 7, 7, 7, 7, 7, 7, 7, 7, 7, 7, 7, 7, 7, 7, 7, 7, 7, 7, 7, 7, 1, 4, 7, 7, 7, 7, 7, 7, 7, 6, 7, 7, 7, 7, 7, 7, 7, 14, 7, 14, 7, 16, 7, 7, 7, 7, 6, 7, 7, 7, 7, 7, 7, 7, 7, 7, 0, 7, 7, 7, 7, 7, 7, 7, 7, 7, 7, 7, 7, 0, 7, 7, 7, 7, 7, 7, 7, 0, 7, 5, 7, 7, 7, 7, 7, 17, 7, 7, 7, 7, 7, 0, 16, 7, 7, 16, 7, 7, 6, 7, 7, 7, 7, 7, 7, 7, 7, 7, 7, 7, 7, 16, 7, 7, 7, 7, 7, 16, 7, 7, 7, 7, 6, 16, 6, 7, 6, 7, 7, 7, 7, 7, 7, 7, 7, 7, 7, 7, 7, 7, 7, 7, 7, 6, 7, 7, 7, 7, 1, 4, 7, 7, 6, 7, 7, 7, 7, 7, 7, 6, 7, 7, 7, 7, 6, 7, 7, 7, 7, 7, 7, 7, 8, 16, 7, 7, 16, 7, 7, 7, 7, 7, 7, 7, 7, 16, 23, 7, 7, 7, 7, 7, 7, 7, 7, 7, 7, 20, 7, 7, 14, 7, 7, 7, 7, 7, 7, 7, 14, 6, 7, 7, 14, 7, 7, 7, 7, 7, 7, 7, 7, 23, 7, 7, 7, 6, 14, 14, 7, 7, 7, 7, 7, 7, 7, 6, 7, 7, 7, 7, 7, 7, 7, 7, 7, 7, 4, 7, 7, 7, 7, 7, 7, 7, 7, 7, 14, 7, 7, 7, 7, 7, 7, 7, 0, 7, 7, 7, 7, 7, 7, 7, 7, 7, 7, 6, 7, 7, 7, 7, 7]\n",
            "[7, 7, 7, 7, 7, 7, 7, 7, 7, 7, 8, 7, 14, 7, 7, 7, 7, 7, 7, 7, 7, 7, 7, 7, 7, 18, 14, 7, 7, 7, 7, 7, 7, 7, 7, 7, 7, 7, 7, 7, 7, 6, 7, 7, 6, 14, 7, 7, 7, 7, 16, 7, 7, 7, 7, 7, 7, 7, 7, 16, 0, 7, 7, 7, 7, 7, 7, 7, 7, 7, 7, 7, 6, 7, 7, 16, 7, 7, 7, 7, 7, 7, 7, 7, 6, 7, 7, 6, 7, 7, 7, 7, 7, 7, 7, 7, 7, 7, 6, 7, 7, 7, 7, 7, 7, 14, 7, 14, 7, 7, 7, 7, 7, 7, 7, 7, 7, 7, 16, 7, 7, 7, 7, 7, 7, 14, 7, 7, 7, 7, 14, 6, 7, 6, 7, 7, 7, 6, 0, 7, 0, 7, 7, 7, 7, 7, 7, 7, 7, 7, 14, 7, 7, 7, 7, 7, 16, 14, 6, 7, 7, 14, 7, 7, 7, 7, 7, 6, 7, 6, 7, 7, 7, 7, 7, 7, 7, 8, 7, 7, 7, 7, 7, 7, 7, 7, 7, 7, 7, 7, 7, 7, 7, 7, 7, 7, 7, 7, 7, 7, 7, 16, 7, 16, 16, 7, 7, 7, 7, 7, 7, 7, 7, 7, 16, 7, 7, 16, 0, 7, 23, 7, 7, 7, 7, 7, 7, 7, 7, 7, 7, 7, 7, 7, 7, 7, 7, 7, 7, 7, 4, 6, 7, 7, 7, 7, 7, 7, 7, 7, 7, 7, 7, 7, 7, 7, 7, 14, 7, 6, 7, 7, 7, 7, 7, 7, 14, 7, 7, 7, 6, 6, 7, 7, 1, 7, 7, 14, 7, 7, 6, 14, 7, 7, 7, 7, 7, 7, 7, 7, 4, 7, 7, 7, 7, 7, 7, 4, 7, 7]\n",
            "[7, 4, 7, 7, 7, 7, 7, 7, 7, 7, 16, 7, 7, 7, 7, 7, 7, 7, 7, 7, 7, 7, 14, 14, 7, 7, 10, 7, 7, 7, 3, 7, 7, 7, 7, 7, 7, 7, 14, 7, 7, 7, 7, 7, 7, 7, 7, 7, 7, 7, 7, 7, 7, 7, 7, 7, 7, 7, 7, 7, 7, 6, 7, 7, 7, 7, 7, 7, 7, 7, 7, 7, 0, 6, 7, 7, 0, 7, 7, 7, 7, 7, 7, 7, 7, 7, 7, 7, 1, 7, 7, 7, 7, 7, 7, 16, 7, 7, 7, 6, 7, 7, 0, 7, 7, 7, 7, 7, 6, 7, 7, 7, 8, 7, 7, 7, 7, 7, 7, 7, 7, 7, 7, 7, 7, 7, 7, 7, 7, 7, 7, 7, 7, 4, 6, 0, 7, 7, 7, 7, 7, 7, 7, 7, 16, 7, 7, 7, 7, 7, 7, 7, 7, 7, 7, 7, 7, 7, 7, 7, 7, 7, 7, 7, 7, 7, 7, 7, 7, 7, 7, 7, 7, 7, 7, 7, 18, 7, 7, 7, 7, 7, 7, 7, 14, 7, 7, 7, 7, 6, 7, 7, 7, 7, 7, 7, 7, 7, 7, 7, 7, 7, 7, 7, 7, 7, 7, 7, 7, 6, 7, 7, 1, 7, 7, 7, 4, 16, 7, 4, 7, 7, 7, 7, 7, 7, 7, 7, 7, 7, 7, 7, 7, 7, 7, 7, 7, 7, 7, 7, 0, 7, 7, 7, 7, 7, 7, 7, 7, 7, 7, 7, 7, 6, 14, 7, 7, 10, 7, 7, 7, 7, 7, 6, 7, 7, 7, 7, 7, 7, 7, 7, 14, 7, 7, 7, 7, 7, 7, 7, 7, 7, 7, 7, 10, 7, 7, 7, 7, 7, 7, 7, 7, 10, 7, 6, 7, 9, 7, 7]\n",
            "[7, 7, 7, 7, 7, 7, 7, 4, 7, 7, 7, 7, 8, 7, 7, 7, 7, 0, 4, 7, 7, 7, 7, 6, 7, 7, 7, 7, 7, 7, 7, 7, 7, 7, 14, 7, 7, 7, 7, 7, 7, 6, 7, 7, 14, 7, 7, 7, 7, 7, 14, 7, 7, 7, 14, 7, 7, 7, 7, 4, 6, 7, 0, 7, 7, 7, 7, 7, 7, 7, 7, 7, 7, 7, 7, 7, 7, 7, 7, 7, 9, 7, 7, 16, 7, 7, 7, 7, 7, 7, 7, 7, 7, 7, 7, 7, 7, 7, 14, 7, 7, 23, 7, 16, 7, 7, 7, 12, 7, 7, 7, 14, 7, 4, 7, 7, 7, 16, 7, 21, 7, 7, 7, 7, 7, 7, 7, 7, 7, 7, 7, 7, 1, 7, 14, 14, 7, 7, 7, 6, 7, 7, 7, 7, 7, 7, 7, 7, 7, 7, 7, 7, 7, 7, 7, 7, 7, 7, 7, 7, 7, 7, 7, 7, 1, 7, 7, 6, 14, 7, 7, 7, 7, 7, 6, 7, 7, 0, 7, 7, 7, 7, 7, 7, 7, 7, 7, 7, 7, 7, 7, 7, 7, 7, 7, 14, 7, 7, 7, 7, 7, 7, 7, 7, 7, 7, 7, 7, 23, 7, 7, 7, 7, 7, 7, 7, 7, 7, 7, 7, 7, 7, 7, 7, 6, 7, 8, 7, 7, 7, 7, 7, 7, 7, 16, 7, 7, 7, 7, 7, 7, 16, 7, 7, 7, 7, 7, 14, 7, 14, 7, 7, 7, 7, 7, 4, 7, 7, 7, 7, 7, 7, 7, 7, 7, 7, 7, 7, 7, 7, 7, 7, 7, 7, 14, 7, 7, 7, 7, 7, 7, 7, 7, 7, 7, 7, 7, 7, 7, 7, 7, 7, 7, 7, 7, 7, 14, 0, 7, 7]\n",
            "[7, 7, 7, 7, 7, 7, 7, 7, 7, 7, 7, 14, 8, 7, 7, 7, 7, 7, 7, 7, 7, 7, 7, 7, 7, 7, 7, 7, 7, 7, 7, 7, 7, 7, 7, 7, 7, 16, 7, 7, 7, 7, 16, 6, 7, 7, 7, 7, 7, 7, 7, 7, 23, 7, 7, 7, 7, 14, 7, 7, 7, 6, 7, 7, 7, 7, 7, 14, 4, 14, 7, 7, 7, 7, 14, 7, 7, 7, 7, 16, 7, 7, 7, 7, 7, 7, 7, 7, 7, 7, 6, 7, 7, 7, 7, 14, 7, 7, 7, 7, 7, 6, 7, 7, 7, 7, 7, 7, 7, 14, 7, 7, 7, 7, 7, 7, 7, 7, 7, 7, 7, 7, 7, 7, 7, 6, 7, 16, 7, 7, 7, 7, 7, 7, 7, 7, 7, 7, 7, 7, 7, 7, 7, 7, 7, 7, 7, 14, 7, 7, 6, 7, 7, 7, 7, 7, 7, 7, 16, 7, 7, 7, 7, 6, 1, 7, 7, 7, 7, 14, 7, 7, 7, 7, 7, 16, 7, 7, 7, 16, 7, 7, 7, 7, 7, 7, 7, 7, 7, 7, 11, 7, 7, 7, 7, 7, 7, 7, 7, 7, 16, 7, 7, 7, 1, 7, 7, 7, 16, 0, 7, 7, 7, 7, 7, 7, 7, 4, 7, 7, 7, 7, 7, 7, 7, 7, 7, 7, 7, 7, 7, 7, 14, 7, 0, 7, 7, 7, 7, 7, 7, 7, 7, 14, 7, 0, 7, 7, 7, 7, 15, 7, 7, 7, 7, 7, 16, 7, 7, 7, 7, 7, 7, 7, 6, 1, 7, 7, 7, 7, 7, 7, 7, 7, 7, 7, 7, 7, 7, 6, 7, 7, 7, 7, 7, 7, 7, 7, 7, 0, 7, 7, 7, 7, 7, 7, 7, 14, 7, 7]\n",
            "[7, 7, 7, 7, 7, 7, 7, 7, 7, 7, 7, 7, 7, 7, 7, 7, 7, 7, 7, 7, 16, 7, 7, 7, 7, 7, 6, 7, 7, 7, 7, 7, 7, 7, 7, 7, 14, 7, 21, 16, 16, 7, 6, 7, 7, 16, 7, 14, 7, 7, 7, 7, 7, 1, 7, 7, 14, 7, 7, 7, 7, 7, 7, 7, 7, 7, 7, 6, 7, 6, 14, 7, 7, 6, 7, 6, 7, 6, 7, 16, 7, 0, 7, 7, 7, 7, 7, 7, 6, 7, 7, 7, 23, 7, 7, 7, 7, 7, 7, 7, 14, 7, 8, 7, 7, 7, 7, 7, 7, 7, 16, 7, 7, 7, 7, 7, 7, 7, 7, 7, 7, 7, 7, 7, 7, 7, 7, 7, 7, 6, 7, 7, 7, 7, 7, 7, 7, 7, 7, 7, 7, 7, 7, 7, 7, 7, 7, 7, 7, 7, 16, 7, 7, 7, 7, 7, 7, 7, 7, 14, 7, 7, 7, 7, 7, 7, 7, 7, 7, 7, 7, 7, 7, 7, 7, 7, 7, 7, 7, 7, 7, 7, 7, 7, 7, 7, 7, 7, 7, 7, 7, 7, 7, 7, 7, 7, 8, 7, 7, 7, 7, 7, 16, 7, 7, 7, 7, 7, 7, 7, 21, 7, 7, 7, 14, 7, 7, 7, 16, 7, 7, 7, 7, 7, 7, 7, 7, 14, 7, 7, 7, 14, 16, 7, 7, 7, 7, 7, 7, 1, 7, 7, 7, 7, 7, 7, 7, 7, 7, 7, 7, 23, 7, 7, 7, 7, 7, 7, 6, 7, 7, 7, 7, 7, 7, 7, 7, 7, 7, 7, 7, 7, 7, 6, 7, 7, 6, 7, 7, 7, 6, 7, 7, 7, 7, 7, 7, 7, 7, 7, 16, 7, 16, 7, 7, 7, 7, 7, 1, 7]\n",
            "[7, 7, 14, 7, 6, 7, 21, 7, 6, 6, 7, 7, 7, 7, 7, 7, 7, 7, 7, 7, 0, 0, 7, 14, 7, 7, 7, 7, 7, 7, 0, 7, 7, 7, 7, 7, 7, 7, 7, 7, 14, 7, 0, 7, 7, 7, 10, 7, 7, 7, 6, 7, 7, 7, 6, 7, 0, 7, 7, 7, 16, 7, 3, 7, 7, 7, 7, 7, 7, 7, 7, 7, 7, 7, 7, 6, 7, 7, 7, 7, 7, 7, 7, 7, 7, 7, 7, 7, 7, 7, 7, 7, 7, 7, 7, 7, 7, 7, 7, 7, 7, 7, 7, 7, 7, 7, 14, 7, 7, 7, 7, 7, 7, 7, 7, 7, 7, 7, 7, 7, 7, 7, 6, 7, 7, 7, 7, 14, 6, 7, 7, 6, 7, 7, 7, 7, 7, 7, 16, 7, 7, 7, 7, 7, 7, 7, 7, 6, 7, 14, 7, 7, 7, 7, 7, 7, 7, 7, 7, 7, 7, 21, 7, 6, 7, 7, 7, 6, 7, 7, 7, 7, 7, 7, 7, 7, 7, 7, 7, 7, 7, 7, 7, 7, 7, 7, 7, 7, 6, 7, 7, 7, 7, 7, 7, 7, 7, 7, 7, 7, 16, 7, 7, 7, 7, 7, 7, 7, 7, 7, 7, 7, 7, 7, 7, 7, 7, 7, 7, 7, 14, 7, 7, 7, 7, 7, 7, 7, 7, 7, 7, 7, 7, 7, 7, 7, 7, 7, 7, 7, 7, 7, 7, 16, 7, 6, 7, 7, 7, 7, 7, 7, 7, 7, 0, 7, 7, 7, 7, 7, 7, 7, 7, 7, 0, 0, 6, 14, 7, 7, 7, 7, 7, 7, 6, 7, 7, 7, 7, 16, 7, 7, 7, 7, 7, 7, 14, 7, 7, 7, 16, 7, 7, 14, 7, 7, 7, 7, 7, 7]\n",
            "[7, 7, 7, 7, 7, 7, 0, 7, 7, 7, 7, 7, 4, 7, 7, 7, 7, 7, 7, 7, 6, 7, 14, 7, 7, 7, 7, 7, 7, 6, 7, 7, 7, 7, 7, 7, 7, 7, 7, 7, 7, 7, 6, 7, 7, 7, 7, 7, 14, 14, 0, 7, 6, 7, 7, 7, 7, 7, 7, 7, 7, 7, 7, 7, 14, 7, 7, 7, 14, 6, 7, 7, 14, 7, 7, 7, 7, 7, 6, 7, 7, 0, 7, 7, 7, 7, 7, 7, 7, 7, 7, 7, 7, 7, 14, 7, 7, 7, 7, 7, 7, 7, 14, 7, 7, 7, 1, 23, 7, 14, 7, 7, 7, 7, 7, 7, 7, 7, 7, 7, 7, 7, 14, 7, 6, 7, 7, 7, 0, 7, 7, 7, 7, 7, 7, 7, 7, 7, 7, 6, 14, 7, 18, 7, 7, 7, 7, 14, 14, 7, 7, 7, 7, 7, 7, 7, 7, 7, 7, 7, 6, 7, 7, 7, 7, 16, 7, 7, 7, 7, 7, 21, 7, 7, 14, 7, 14, 7, 7, 7, 7, 7, 16, 7, 7, 7, 7, 7, 7, 6, 7, 7, 7, 7, 7, 7, 7, 7, 7, 7, 7, 7, 7, 7, 7, 7, 7, 15, 7, 7, 7, 6, 7, 7, 7, 7, 7, 7, 7, 7, 7, 7, 7, 7, 7, 15, 7, 7, 7, 16, 7, 7, 7, 7, 7, 7, 7, 16, 7, 7, 7, 7, 7, 7, 7, 14, 7, 7, 7, 7, 23, 16, 7, 7, 7, 7, 7, 7, 7, 7, 14, 7, 7, 7, 7, 7, 7, 6, 7, 7, 7, 7, 7, 7, 7, 7, 14, 7, 7, 6, 7, 7, 6, 7, 14, 7, 17, 7, 7, 7, 7, 7, 7, 7, 7, 7, 7, 7, 7, 7]\n",
            "[7, 7, 7, 7, 7, 7, 7, 7, 7, 7, 7, 7, 7, 7, 7, 7, 7, 7, 7, 7, 0, 7, 8, 7, 7, 7, 7, 7, 7, 7, 7, 7, 7, 0, 7, 16, 7, 7, 7, 10, 7, 7, 7, 7, 7, 7, 7, 6, 7, 7, 7, 7, 7, 7, 7, 7, 7, 14, 7, 7, 7, 7, 7, 7, 7, 7, 7, 7, 7, 7, 7, 7, 7, 7, 7, 7, 7, 4, 4, 7, 7, 7, 7, 7, 7, 7, 7, 0, 7, 7, 7, 7, 7, 7, 7, 7, 7, 7, 7, 1, 7, 7, 6, 7, 6, 7, 7, 7, 7, 7, 7, 7, 7, 7, 7, 7, 7, 7, 7, 7, 7, 7, 16, 16, 23, 7, 7, 7, 6, 7, 7, 7, 7, 7, 7, 7, 7, 7, 7, 7, 7, 14, 6, 7, 7, 6, 7, 7, 7, 7, 7, 7, 7, 7, 7, 7, 7, 0, 7, 7, 7, 7, 7, 7, 7, 7, 7, 7, 7, 7, 7, 7, 7, 7, 7, 7, 7, 7, 7, 7, 7, 7, 7, 16, 7, 7, 7, 7, 7, 7, 7, 7, 7, 7, 7, 7, 7, 6, 7, 0, 7, 7, 7, 7, 7, 7, 7, 6, 7, 7, 7, 7, 7, 7, 7, 7, 7, 7, 7, 7, 6, 7, 7, 7, 7, 7, 7, 7, 7, 7, 7, 7, 7, 7, 7, 7, 7, 7, 7, 7, 7, 7, 7, 7, 7, 7, 7, 7, 7, 7, 7, 7, 7, 7, 7, 14, 7, 14, 7, 7, 6, 0, 7, 7, 0, 7, 7, 6, 7, 7, 7, 7, 7, 7, 7, 7, 6, 7, 7, 7, 7, 7, 7, 7, 7, 7, 14, 7, 7, 7, 14, 8, 7, 16, 7, 6, 7, 21, 7, 7]\n",
            "[6, 7, 7, 7, 7, 7, 7, 14, 7, 7, 7, 7, 7, 16, 7, 7, 7, 7, 7, 7, 7, 7, 7, 7, 16, 7, 4, 7, 7, 16, 7, 7, 16, 7, 7, 7, 7, 7, 7, 23, 7, 7, 7, 7, 7, 7, 7, 7, 7, 7, 7, 14, 6, 0, 7, 7, 7, 7, 7, 7, 7, 0, 7, 7, 7, 7, 7, 7, 7, 7, 7, 0, 7, 7, 4, 14, 7, 14, 7, 21, 7, 7, 7, 7, 7, 7, 7, 7, 7, 16, 6, 7, 7, 7, 7, 14, 7, 7, 7, 7, 6, 7, 7, 7, 7, 7, 7, 7, 7, 7, 0, 7, 0, 7, 7, 7, 7, 7, 7, 7, 7, 7, 16, 7, 7, 7, 7, 7, 7, 14, 7, 7, 7, 7, 14, 7, 7, 1, 7, 7, 7, 7, 0, 6, 7, 16, 6, 7, 7, 7, 7, 7, 7, 7, 7, 7, 7, 7, 7, 20, 7, 6, 7, 7, 14, 7, 7, 14, 7, 14, 7, 7, 7, 7, 7, 7, 7, 7, 6, 7, 7, 7, 7, 7, 7, 6, 23, 7, 7, 7, 7, 7, 7, 7, 7, 7, 7, 7, 7, 7, 16, 7, 7, 7, 7, 7, 7, 7, 7, 7, 7, 23, 7, 7, 14, 7, 7, 7, 7, 7, 7, 7, 7, 7, 0, 6, 14, 7, 7, 11, 7, 16, 7, 7, 7, 7, 7, 1, 7, 7, 7, 7, 7, 7, 7, 7, 7, 7, 7, 7, 7, 7, 7, 7, 7, 7, 7, 7, 7, 7, 7, 7, 7, 7, 6, 7, 7, 6, 7, 7, 7, 7, 7, 7, 7, 7, 7, 16, 7, 7, 7, 7, 1, 7, 14, 7, 7, 6, 7, 7, 7, 7, 7, 7, 7, 7, 7, 7, 7, 7]\n",
            "[0, 7, 7, 14, 7, 7, 7, 7, 14, 7, 4, 7, 7, 6, 7, 7, 7, 7, 7, 7, 7, 7, 6, 7, 7, 7, 7, 7, 7, 7, 7, 7, 0, 7, 7, 7, 6, 7, 7, 7, 7, 7, 7, 6, 7, 7, 7, 7, 7, 7, 7, 7, 6, 7, 16, 7, 7, 16, 7, 14, 7, 7, 7, 7, 7, 6, 7, 7, 6, 7, 7, 7, 7, 7, 7, 7, 7, 7, 7, 7, 7, 7, 14, 7, 7, 7, 10, 7, 7, 14, 0, 7, 7, 14, 7, 7, 7, 7, 14, 14, 7, 7, 7, 7, 7, 7, 7, 7, 6, 7, 7, 7, 7, 7, 7, 7, 7, 7, 7, 7, 7, 7, 7, 7, 7, 7, 7, 7, 7, 8, 7, 7, 7, 6, 7, 7, 7, 7, 16, 7, 7, 7, 7, 7, 7, 7, 7, 7, 7, 14, 7, 7, 7, 7, 7, 8, 6, 7, 7, 7, 7, 7, 0, 7, 7, 6, 7, 4, 7, 7, 7, 7, 7, 7, 0, 7, 7, 7, 7, 8, 0, 7, 7, 7, 7, 7, 16, 7, 1, 7, 1, 14, 14, 7, 7, 7, 7, 7, 7, 7, 4, 7, 7, 7, 16, 7, 7, 7, 7, 7, 7, 7, 7, 6, 7, 7, 7, 7, 7, 7, 7, 7, 7, 7, 7, 0, 7, 7, 16, 7, 0, 7, 7, 7, 7, 7, 7, 7, 7, 0, 7, 7, 6, 7, 7, 7, 7, 7, 7, 7, 7, 14, 7, 7, 7, 0, 7, 7, 7, 7, 7, 7, 7, 7, 7, 14, 6, 7, 7, 14, 7, 9, 7, 7, 7, 7, 7, 7, 7, 7, 16, 1, 7, 1, 7, 7, 7, 23, 7, 7, 7, 7, 7, 7, 7, 7, 7, 7, 6, 7]\n",
            "[7, 7, 7, 7, 7, 7, 7, 7, 7, 7, 7, 7, 7, 7, 16, 14, 7, 7, 7, 7, 7, 7, 7, 7, 7, 0, 7, 7, 7, 7, 7, 7, 7, 6, 7, 7, 7, 7, 23, 7, 7, 7, 7, 7, 7, 7, 6, 7, 7, 7, 14, 7, 7, 7, 7, 7, 7, 7, 7, 7, 7, 7, 7, 6, 7, 7, 22, 7, 7, 7, 7, 7, 7, 7, 7, 7, 7, 16, 7, 7, 7, 7, 7, 14, 7, 7, 7, 7, 4, 7, 7, 7, 7, 0, 7, 7, 14, 7, 7, 7, 14, 7, 7, 7, 7, 7, 7, 7, 14, 16, 7, 7, 7, 7, 7, 7, 7, 7, 7, 7, 7, 18, 16, 7, 7, 7, 7, 7, 7, 7, 7, 7, 6, 7, 7, 7, 7, 7, 7, 7, 7, 7, 7, 7, 7, 7, 7, 7, 7, 7, 6, 7, 7, 7, 7, 7, 7, 7, 7, 7, 7, 7, 7, 7, 7, 7, 7, 7, 7, 7, 7, 7, 7, 7, 7, 7, 1, 7, 7, 7, 20, 7, 7, 7, 7, 7, 16, 7, 7, 7, 7, 7, 14, 7, 7, 7, 7, 7, 7, 7, 7, 7, 7, 7, 7, 16, 7, 7, 7, 7, 7, 7, 7, 7, 7, 7, 4, 6, 7, 7, 7, 6, 7, 7, 6, 14, 7, 12, 7, 16, 7, 7, 0, 7, 7, 14, 4, 7, 7, 7, 7, 7, 7, 7, 7, 7, 7, 7, 7, 0, 16, 7, 7, 7, 7, 7, 7, 7, 7, 7, 7, 7, 7, 7, 7, 9, 6, 6, 23, 7, 7, 6, 7, 7, 7, 7, 7, 7, 7, 6, 7, 6, 7, 7, 7, 7, 7, 7, 7, 7, 7, 7, 7, 7, 7, 7, 7, 7, 7, 7]\n",
            "[7, 7, 7, 7, 7, 6, 7, 7, 7, 7, 7, 7, 7, 7, 7, 7, 0, 7, 10, 7, 7, 7, 7, 7, 7, 6, 7, 7, 7, 7, 7, 7, 7, 7, 7, 7, 7, 7, 7, 7, 7, 7, 7, 7, 7, 21, 6, 7, 7, 7, 7, 6, 7, 7, 7, 7, 7, 7, 7, 7, 7, 7, 16, 7, 7, 7, 7, 10, 7, 7, 7, 7, 7, 7, 7, 7, 4, 16, 7, 7, 7, 7, 7, 16, 7, 7, 7, 7, 7, 7, 16, 7, 7, 7, 10, 1, 6, 7, 6, 7, 7, 7, 16, 7, 7, 7, 7, 7, 7, 16, 7, 7, 7, 7, 7, 7, 7, 0, 7, 7, 7, 7, 7, 7, 7, 7, 7, 7, 7, 6, 7, 14, 7, 7, 7, 7, 6, 7, 7, 7, 7, 14, 7, 7, 6, 7, 7, 7, 7, 16, 7, 14, 7, 7, 7, 7, 6, 7, 7, 7, 7, 7, 7, 7, 7, 7, 7, 7, 7, 7, 7, 16, 7, 7, 7, 7, 7, 7, 7, 7, 7, 6, 7, 6, 7, 7, 7, 7, 7, 7, 6, 7, 7, 6, 16, 7, 7, 16, 1, 7, 20, 7, 7, 23, 7, 6, 7, 7, 7, 16, 7, 7, 6, 7, 7, 7, 7, 7, 7, 21, 7, 7, 14, 7, 7, 7, 7, 14, 7, 7, 7, 7, 7, 7, 7, 14, 7, 7, 7, 7, 7, 7, 6, 7, 7, 7, 7, 6, 7, 4, 7, 7, 7, 7, 7, 7, 14, 7, 0, 6, 6, 7, 6, 7, 16, 7, 7, 0, 7, 7, 16, 7, 7, 10, 7, 0, 7, 7, 7, 7, 7, 7, 7, 7, 7, 7, 7, 6, 7, 1, 7, 7, 7, 7, 7, 7, 7, 6, 7, 7]\n",
            "[7, 7, 7, 7, 7, 7, 7, 7, 7, 7, 7, 7, 7, 7, 7, 7, 7, 7, 7, 7, 7, 7, 7, 12, 7, 7, 7, 7, 7, 7, 7, 7, 7, 7, 16, 7, 7, 6, 7, 7, 7, 7, 7, 7, 16, 7, 7, 6, 4, 6, 14, 7, 7, 7, 16, 7, 1, 7, 7, 7, 14, 7, 7, 7, 7, 7, 7, 14, 7, 7, 7, 16, 7, 7, 7, 6, 7, 7, 0, 7, 8, 7, 7, 7, 7, 7, 7, 7, 7, 7, 7, 7, 7, 7, 7, 7, 7, 7, 7, 7, 8, 7, 7, 7, 7, 7, 7, 7, 7, 7, 6, 7, 6, 7, 7, 7, 7, 7, 7, 6, 7, 7, 11, 6, 7, 7, 14, 7, 7, 7, 7, 7, 16, 0, 7, 7, 7, 7, 7, 0, 7, 14, 7, 7, 23, 7, 7, 7, 1, 7, 7, 7, 7, 7, 7, 14, 7, 7, 7, 7, 7, 7, 7, 0, 7, 7, 7, 7, 7, 7, 6, 7, 7, 7, 7, 14, 7, 7, 7, 14, 16, 7, 7, 7, 7, 7, 7, 14, 7, 6, 4, 14, 7, 7, 7, 7, 7, 7, 7, 7, 7, 7, 7, 7, 7, 16, 7, 7, 7, 0, 7, 7, 7, 7, 7, 7, 7, 7, 7, 0, 7, 7, 7, 7, 7, 7, 7, 7, 7, 7, 7, 7, 7, 14, 7, 7, 7, 7, 7, 7, 7, 7, 7, 7, 7, 7, 7, 17, 7, 7, 7, 7, 7, 7, 7, 7, 7, 7, 7, 7, 4, 7, 7, 7, 7, 7, 7, 7, 7, 7, 7, 7, 7, 7, 7, 6, 7, 7, 7, 7, 7, 7, 14, 7, 7, 7, 7, 7, 7, 7, 7, 7, 7, 7, 7, 7, 7, 7, 7, 7]\n",
            "[6, 7, 0, 7, 7, 16, 7, 7, 7, 7, 7, 7, 7, 7, 7, 7, 7, 7, 14, 7, 7, 7, 7, 14, 7, 7, 7, 7, 7, 16, 7, 7, 7, 7, 7, 7, 16, 7, 7, 7, 16, 7, 7, 7, 0, 7, 7, 14, 7, 7, 7, 7, 7, 7, 14, 6, 7, 7, 7, 7, 7, 7, 7, 7, 7, 7, 7, 7, 7, 14, 7, 14, 7, 7, 7, 7, 7, 7, 7, 7, 7, 7, 7, 7, 7, 7, 7, 7, 7, 7, 7, 4, 7, 7, 7, 7, 7, 7, 7, 14, 7, 7, 7, 7, 7, 7, 7, 7, 7, 7, 7, 7, 7, 7, 7, 7, 7, 7, 7, 7, 7, 7, 7, 7, 16, 7, 7, 0, 6, 7, 7, 7, 16, 16, 7, 7, 7, 7, 7, 7, 7, 7, 7, 7, 7, 7, 7, 7, 7, 7, 7, 7, 7, 7, 7, 1, 7, 7, 7, 7, 16, 7, 14, 7, 7, 7, 7, 7, 7, 7, 7, 7, 7, 7, 7, 7, 7, 7, 7, 7, 7, 7, 7, 7, 7, 7, 14, 7, 7, 7, 7, 7, 7, 23, 7, 16, 6, 7, 14, 7, 7, 7, 7, 7, 7, 7, 7, 7, 7, 7, 10, 7, 7, 7, 7, 14, 7, 14, 7, 7, 7, 7, 7, 7, 7, 0, 6, 7, 7, 14, 7, 7, 7, 7, 7, 7, 7, 7, 7, 7, 7, 7, 6, 7, 0, 7, 7, 7, 7, 7, 7, 7, 6, 4, 7, 6, 23, 7, 7, 14, 7, 7, 7, 7, 7, 7, 7, 6, 7, 7, 7, 7, 7, 7, 7, 7, 7, 7, 7, 7, 7, 7, 7, 6, 7, 7, 7, 16, 7, 7, 7, 7, 7, 7, 14, 7, 16, 7, 7, 7]\n",
            "[7, 7, 7, 7, 7, 7, 7, 7, 7, 7, 7, 7, 7, 20, 7, 7, 7, 7, 6, 6, 7, 6, 7, 14, 7, 7, 7, 7, 7, 7, 7, 7, 7, 7, 7, 7, 7, 14, 7, 7, 7, 7, 7, 7, 7, 7, 7, 7, 7, 7, 7, 7, 7, 7, 6, 7, 7, 7, 7, 7, 7, 7, 7, 14, 7, 7, 7, 7, 6, 7, 7, 7, 7, 7, 7, 7, 7, 7, 7, 7, 7, 7, 7, 7, 7, 7, 7, 7, 7, 7, 7, 7, 7, 14, 7, 7, 7, 7, 7, 7, 14, 7, 7, 7, 7, 7, 7, 7, 7, 7, 7, 7, 7, 7, 7, 7, 7, 6, 7, 7, 7, 14, 7, 7, 7, 7, 7, 7, 7, 7, 7, 7, 7, 7, 7, 7, 7, 7, 7, 7, 7, 4, 7, 7, 7, 7, 7, 7, 7, 14, 7, 16, 7, 7, 7, 7, 7, 7, 16, 7, 4, 7, 16, 7, 6, 7, 23, 7, 7, 7, 7, 7, 6, 7, 7, 7, 7, 6, 16, 7, 7, 7, 7, 7, 7, 7, 7, 7, 7, 7, 6, 7, 7, 7, 7, 7, 7, 7, 7, 9, 7, 7, 7, 11, 7, 7, 7, 14, 7, 6, 7, 7, 7, 16, 7, 14, 7, 7, 7, 7, 7, 7, 7, 7, 7, 7, 7, 7, 7, 14, 7, 6, 7, 7, 7, 7, 7, 7, 7, 7, 7, 7, 7, 7, 7, 16, 7, 7, 7, 7, 7, 0, 6, 7, 7, 7, 14, 0, 7, 7, 7, 7, 7, 7, 6, 16, 14, 7, 7, 7, 7, 21, 7, 7, 7, 7, 7, 7, 7, 7, 7, 7, 7, 7, 7, 7, 7, 6, 7, 16, 7, 7, 15, 16, 7, 6, 7, 7, 7, 7]\n",
            "[14, 6, 0, 7, 7, 7, 7, 7, 16, 6, 7, 7, 7, 7, 7, 7, 6, 6, 7, 6, 7, 7, 7, 6, 7, 7, 7, 7, 7, 7, 14, 7, 7, 7, 7, 7, 7, 7, 7, 7, 7, 6, 7, 7, 7, 7, 7, 7, 7, 4, 7, 7, 7, 6, 7, 0, 7, 7, 7, 7, 7, 7, 7, 7, 7, 7, 7, 7, 7, 7, 7, 7, 7, 7, 14, 14, 7, 7, 7, 7, 7, 7, 7, 7, 7, 9, 7, 7, 7, 7, 7, 7, 7, 16, 0, 7, 7, 7, 7, 7, 21, 16, 7, 7, 0, 7, 7, 7, 1, 16, 7, 7, 7, 7, 7, 7, 7, 14, 7, 7, 6, 7, 7, 7, 7, 16, 7, 7, 7, 7, 7, 7, 7, 7, 14, 7, 7, 7, 7, 7, 6, 7, 7, 7, 7, 7, 7, 7, 0, 7, 7, 7, 7, 7, 7, 7, 7, 16, 7, 14, 7, 7, 7, 7, 7, 7, 7, 7, 7, 7, 7, 7, 7, 7, 16, 7, 7, 7, 7, 7, 7, 7, 7, 7, 7, 7, 7, 7, 6, 7, 6, 7, 7, 7, 7, 7, 7, 7, 7, 7, 7, 7, 7, 14, 7, 7, 7, 7, 7, 14, 7, 7, 16, 7, 7, 7, 7, 7, 7, 7, 6, 7, 14, 14, 6, 7, 7, 7, 7, 7, 7, 6, 7, 7, 7, 7, 7, 7, 7, 7, 16, 7, 7, 7, 20, 7, 14, 7, 7, 14, 7, 7, 7, 7, 7, 14, 7, 7, 7, 7, 7, 7, 7, 7, 7, 7, 7, 7, 7, 7, 7, 7, 7, 7, 7, 7, 7, 7, 7, 7, 8, 8, 7, 7, 7, 7, 1, 7, 7, 7, 6, 14, 7, 7, 7, 7, 14, 7, 7, 7]\n",
            "[7, 7, 7, 7, 7, 7, 7, 7, 7, 0, 7, 7, 7, 7, 14, 7, 7, 7, 7, 7, 7, 7, 7, 6, 7, 7, 7, 7, 1, 7, 7, 7, 7, 7, 7, 7, 7, 7, 7, 14, 7, 7, 7, 7, 7, 7, 7, 14, 7, 7, 7, 7, 7, 7, 7, 7, 20, 7, 7, 7, 7, 7, 7, 7, 7, 14, 1, 7, 7, 7, 7, 7, 7, 7, 7, 11, 7, 7, 7, 7, 7, 7, 16, 7, 7, 7, 7, 7, 7, 14, 7, 4, 7, 7, 7, 7, 7, 7, 7, 6, 7, 6, 7, 7, 7, 7, 14, 7, 7, 14, 7, 7, 7, 6, 6, 7, 7, 7, 7, 7, 7, 7, 7, 7, 7, 7, 7, 6, 7, 7, 7, 7, 14, 7, 7, 7, 7, 6, 7, 7, 7, 14, 7, 7, 7, 16, 7, 0, 7, 7, 7, 7, 7, 7, 7, 7, 23, 7, 7, 16, 7, 7, 7, 7, 7, 7, 7, 7, 7, 7, 7, 7, 7, 1, 7, 7, 7, 7, 7, 7, 7, 7, 16, 7, 7, 16, 7, 7, 7, 7, 7, 7, 7, 7, 6, 7, 7, 7, 7, 7, 7, 7, 7, 7, 7, 7, 7, 7, 7, 7, 7, 7, 7, 7, 7, 0, 6, 16, 7, 7, 16, 7, 7, 7, 7, 7, 7, 7, 7, 7, 7, 7, 7, 7, 7, 7, 14, 7, 14, 7, 7, 14, 16, 0, 7, 7, 14, 7, 7, 7, 4, 7, 7, 16, 7, 7, 7, 14, 7, 7, 14, 7, 7, 7, 16, 7, 14, 7, 7, 7, 7, 7, 16, 7, 7, 7, 7, 7, 7, 7, 7, 7, 7, 7, 6, 7, 7, 7, 7, 7, 7, 7, 10, 7, 7, 7, 7, 7, 7, 14]\n",
            "[16, 7, 6, 7, 7, 7, 7, 0, 23, 7, 16, 16, 7, 7, 7, 7, 7, 7, 7, 7, 7, 7, 10, 7, 7, 7, 7, 7, 7, 7, 7, 7, 7, 7, 7, 7, 7, 7, 7, 7, 6, 7, 7, 7, 7, 7, 14, 7, 7, 7, 7, 7, 7, 7, 7, 7, 7, 7, 7, 7, 7, 7, 7, 7, 7, 16, 16, 7, 7, 7, 16, 21, 7, 7, 7, 7, 7, 7, 7, 7, 7, 7, 4, 7, 7, 7, 7, 14, 16, 7, 7, 14, 0, 7, 16, 7, 5, 7, 18, 7, 7, 7, 7, 7, 7, 14, 7, 7, 7, 4, 7, 7, 14, 7, 7, 7, 7, 7, 8, 7, 7, 7, 7, 16, 12, 7, 7, 7, 7, 7, 7, 7, 16, 6, 7, 6, 7, 14, 7, 7, 7, 6, 7, 6, 7, 7, 7, 7, 7, 6, 7, 7, 14, 7, 7, 7, 7, 7, 7, 7, 7, 7, 7, 7, 7, 7, 7, 16, 7, 7, 7, 7, 7, 7, 14, 7, 7, 7, 7, 7, 7, 7, 7, 7, 7, 7, 7, 7, 7, 7, 7, 7, 7, 16, 7, 7, 7, 7, 7, 7, 7, 7, 7, 7, 4, 7, 7, 7, 14, 16, 7, 7, 4, 7, 7, 7, 7, 7, 7, 7, 7, 7, 7, 7, 7, 7, 7, 7, 7, 7, 7, 7, 7, 7, 7, 7, 7, 7, 7, 14, 7, 7, 7, 7, 7, 7, 7, 7, 7, 7, 7, 7, 16, 7, 6, 7, 7, 7, 7, 6, 7, 7, 7, 7, 7, 7, 23, 7, 6, 0, 6, 7, 7, 7, 7, 7, 7, 7, 7, 7, 7, 7, 16, 7, 7, 7, 23, 7, 14, 7, 7, 7, 7, 7, 7, 7, 7, 7, 7, 7]\n",
            "[7, 4, 7, 7, 7, 6, 7, 7, 7, 7, 7, 7, 7, 7, 7, 7, 7, 7, 7, 16, 7, 7, 7, 7, 7, 7, 7, 14, 7, 7, 6, 0, 7, 14, 7, 7, 7, 7, 7, 7, 7, 7, 7, 7, 7, 6, 7, 7, 7, 7, 6, 7, 14, 7, 7, 7, 7, 7, 7, 7, 16, 7, 7, 7, 7, 7, 7, 7, 7, 7, 7, 7, 7, 7, 7, 7, 16, 7, 7, 7, 7, 7, 7, 7, 7, 7, 7, 10, 7, 7, 7, 7, 7, 8, 7, 7, 7, 14, 7, 16, 7, 7, 7, 7, 7, 7, 7, 7, 7, 7, 7, 7, 7, 4, 7, 7, 7, 7, 14, 7, 7, 7, 20, 7, 7, 7, 7, 7, 7, 7, 7, 7, 7, 4, 7, 7, 7, 7, 7, 14, 14, 7, 16, 7, 7, 7, 7, 7, 7, 6, 7, 7, 7, 7, 7, 7, 7, 14, 7, 7, 7, 7, 7, 7, 7, 7, 7, 7, 7, 7, 7, 7, 7, 7, 7, 8, 14, 7, 7, 7, 7, 1, 7, 7, 7, 7, 7, 16, 7, 14, 7, 7, 7, 7, 7, 6, 7, 7, 7, 7, 7, 7, 7, 7, 7, 7, 7, 7, 7, 7, 7, 7, 7, 7, 7, 7, 14, 7, 7, 7, 7, 7, 8, 7, 7, 7, 7, 7, 7, 7, 7, 7, 7, 7, 7, 7, 7, 7, 7, 7, 6, 7, 7, 7, 7, 7, 7, 7, 7, 7, 7, 16, 7, 7, 7, 7, 7, 7, 7, 7, 14, 7, 7, 7, 7, 7, 0, 7, 7, 7, 14, 7, 7, 7, 7, 7, 7, 14, 7, 16, 7, 7, 7, 7, 14, 7, 7, 7, 7, 11, 7, 23, 7, 7, 7, 7, 7, 7, 7, 7]\n",
            "[7, 7, 7, 4, 7, 7, 7, 7, 6, 7, 7, 14, 7, 7, 7, 7, 7, 7, 7, 7, 7, 7, 7, 7, 7, 7, 1, 7, 7, 7, 7, 7, 7, 7, 7, 7, 16, 7, 7, 7, 14, 7, 7, 7, 7, 7, 7, 7, 7, 7, 7, 7, 7, 16, 16, 7, 7, 7, 7, 7, 7, 7, 7, 7, 7, 7, 7, 6, 7, 7, 0, 6, 7, 7, 7, 14, 7, 7, 7, 14, 7, 7, 7, 14, 7, 7, 6, 0, 14, 7, 7, 16, 14, 16, 7, 14, 7, 7, 6, 7, 7, 7, 7, 0, 7, 7, 7, 14, 7, 7, 7, 7, 7, 7, 7, 7, 7, 6, 7, 7, 7, 6, 14, 7, 6, 7, 7, 6, 8, 7, 7, 7, 7, 7, 7, 7, 7, 7, 7, 7, 7, 7, 7, 7, 7, 7, 7, 7, 7, 7, 7, 7, 7, 7, 7, 7, 7, 16, 7, 7, 14, 7, 7, 7, 14, 7, 7, 7, 7, 4, 7, 7, 7, 18, 7, 7, 7, 7, 7, 7, 7, 7, 7, 7, 7, 6, 7, 7, 7, 7, 7, 7, 7, 7, 7, 7, 7, 7, 7, 14, 7, 7, 14, 7, 7, 7, 7, 7, 7, 7, 7, 7, 7, 16, 12, 7, 7, 7, 7, 7, 7, 7, 7, 7, 7, 7, 7, 16, 7, 7, 6, 7, 7, 7, 7, 0, 7, 7, 7, 14, 14, 7, 7, 7, 7, 7, 7, 7, 7, 7, 7, 7, 7, 7, 18, 7, 6, 7, 7, 7, 7, 6, 7, 7, 7, 7, 7, 7, 14, 7, 7, 7, 7, 7, 7, 8, 7, 7, 6, 7, 7, 7, 16, 6, 7, 6, 7, 7, 0, 7, 7, 7, 7, 7, 7, 7, 7, 7, 14, 7]\n",
            "[14, 7, 6, 7, 7, 7, 6, 7, 7, 7, 7, 7, 14, 7, 7, 7, 7, 7, 7, 7, 7, 7, 7, 7, 14, 7, 14, 7, 7, 7, 7, 7, 7, 7, 7, 7, 14, 7, 7, 7, 7, 7, 7, 7, 7, 7, 7, 7, 7, 7, 7, 6, 7, 7, 7, 7, 16, 7, 7, 7, 7, 7, 7, 7, 7, 7, 7, 7, 7, 7, 7, 7, 7, 14, 7, 7, 7, 7, 7, 7, 7, 7, 7, 7, 21, 7, 7, 7, 7, 14, 7, 7, 7, 7, 7, 7, 7, 7, 7, 7, 6, 7, 7, 7, 7, 7, 7, 7, 7, 6, 7, 7, 7, 16, 7, 7, 6, 7, 16, 7, 7, 7, 7, 7, 7, 7, 6, 16, 7, 7, 7, 7, 7, 1, 7, 7, 7, 7, 7, 7, 7, 7, 14, 7, 7, 7, 7, 7, 7, 7, 7, 7, 14, 8, 7, 7, 7, 7, 6, 7, 7, 4, 7, 6, 7, 7, 0, 7, 7, 14, 14, 7, 7, 7, 7, 1, 7, 6, 7, 7, 6, 7, 7, 7, 7, 18, 7, 7, 7, 7, 7, 7, 7, 7, 7, 7, 7, 7, 7, 7, 7, 7, 4, 7, 7, 7, 11, 7, 7, 7, 7, 7, 7, 7, 16, 7, 7, 7, 7, 16, 7, 7, 7, 14, 7, 6, 16, 7, 7, 12, 7, 7, 7, 7, 6, 7, 7, 7, 7, 7, 7, 7, 16, 16, 1, 7, 7, 7, 7, 7, 7, 7, 12, 1, 7, 14, 7, 7, 7, 7, 0, 7, 14, 7, 7, 6, 1, 7, 7, 0, 7, 7, 7, 7, 7, 7, 7, 7, 7, 14, 7, 7, 7, 12, 7, 7, 7, 7, 7, 7, 7, 6, 7, 16, 7, 7, 7, 7, 7, 7]\n",
            "[7, 7, 16, 7, 9, 7, 7, 23, 7, 7, 7, 7, 7, 7, 7, 16, 7, 7, 7, 7, 7, 6, 7, 7, 7, 7, 7, 7, 7, 7, 7, 7, 7, 7, 7, 7, 16, 7, 16, 14, 7, 7, 8, 7, 7, 7, 6, 0, 7, 14, 7, 8, 16, 7, 6, 7, 7, 7, 7, 7, 10, 7, 7, 7, 7, 14, 14, 6, 14, 7, 7, 7, 7, 7, 7, 6, 7, 7, 7, 7, 7, 7, 7, 7, 7, 7, 7, 7, 6, 7, 7, 7, 7, 7, 7, 7, 7, 7, 7, 7, 7, 7, 7, 7, 7, 7, 14, 7, 7, 7, 7, 7, 7, 7, 0, 7, 14, 7, 14, 14, 7, 7, 7, 7, 7, 7, 4, 6, 7, 7, 7, 7, 7, 16, 7, 7, 7, 7, 16, 7, 7, 7, 7, 21, 7, 7, 7, 7, 7, 7, 7, 7, 7, 7, 20, 7, 7, 7, 7, 6, 7, 7, 7, 7, 7, 7, 7, 7, 6, 7, 14, 7, 7, 7, 7, 7, 7, 7, 7, 7, 7, 7, 7, 7, 7, 7, 7, 7, 7, 7, 6, 7, 0, 7, 11, 23, 1, 14, 7, 7, 7, 7, 7, 7, 7, 7, 7, 7, 7, 0, 7, 7, 6, 7, 7, 7, 7, 6, 7, 7, 7, 8, 7, 7, 7, 7, 7, 7, 4, 16, 7, 14, 7, 7, 14, 6, 6, 7, 7, 7, 14, 16, 16, 7, 0, 7, 7, 7, 7, 7, 7, 7, 7, 7, 7, 23, 7, 7, 7, 7, 7, 16, 7, 7, 7, 6, 7, 7, 7, 7, 7, 7, 7, 7, 7, 7, 7, 14, 7, 1, 7, 7, 7, 7, 7, 7, 7, 7, 7, 7, 7, 7, 7, 7, 7, 7, 16, 7, 7, 0]\n",
            "[7, 7, 7, 6, 7, 7, 7, 7, 7, 7, 7, 6, 7, 6, 7, 6, 7, 7, 7, 7, 7, 7, 20, 7, 7, 7, 7, 7, 7, 7, 6, 7, 7, 7, 7, 7, 7, 7, 7, 16, 7, 7, 14, 14, 7, 7, 7, 7, 6, 7, 7, 7, 7, 7, 7, 7, 6, 7, 7, 7, 7, 6, 7, 7, 7, 7, 7, 7, 7, 7, 7, 7, 7, 7, 6, 7, 7, 6, 7, 10, 7, 7, 7, 7, 7, 7, 7, 7, 7, 21, 7, 7, 7, 7, 7, 7, 7, 7, 7, 7, 7, 7, 7, 7, 7, 7, 7, 7, 7, 7, 7, 7, 1, 7, 7, 7, 7, 7, 7, 7, 7, 7, 7, 7, 6, 7, 7, 7, 7, 7, 7, 6, 7, 7, 7, 7, 7, 7, 14, 7, 7, 7, 7, 7, 7, 20, 7, 7, 7, 7, 7, 7, 7, 6, 16, 7, 7, 6, 7, 14, 7, 7, 7, 6, 7, 0, 7, 0, 7, 7, 7, 7, 7, 7, 7, 7, 7, 7, 7, 7, 7, 7, 7, 16, 16, 10, 6, 6, 7, 6, 0, 7, 16, 7, 7, 7, 16, 7, 6, 7, 7, 7, 7, 7, 7, 7, 7, 7, 7, 7, 7, 16, 7, 14, 7, 7, 7, 7, 7, 7, 7, 7, 16, 7, 6, 7, 7, 6, 7, 7, 7, 7, 7, 6, 11, 7, 7, 7, 0, 7, 7, 7, 7, 7, 7, 6, 7, 6, 7, 14, 7, 7, 16, 6, 16, 7, 7, 7, 7, 7, 14, 7, 7, 7, 6, 7, 7, 7, 7, 7, 14, 7, 6, 7, 7, 7, 0, 7, 7, 7, 7, 7, 7, 7, 7, 16, 7, 7, 7, 7, 7, 11, 7, 7, 7, 14, 7, 7, 7, 7]\n",
            "[7, 7, 7, 7, 1, 7, 7, 7, 7, 7, 7, 7, 7, 7, 16, 7, 14, 16, 7, 7, 7, 7, 7, 7, 7, 7, 7, 0, 7, 16, 7, 7, 7, 7, 7, 7, 7, 7, 7, 7, 7, 14, 7, 7, 7, 7, 7, 7, 7, 7, 7, 7, 7, 7, 7, 7, 7, 7, 7, 7, 7, 7, 7, 14, 7, 7, 7, 7, 7, 7, 7, 7, 7, 7, 7, 7, 7, 7, 7, 14, 7, 7, 7, 7, 7, 21, 7, 7, 7, 7, 7, 7, 7, 14, 7, 16, 16, 7, 4, 7, 14, 7, 6, 7, 7, 7, 7, 7, 7, 7, 7, 7, 6, 7, 7, 7, 6, 16, 7, 7, 7, 7, 7, 14, 7, 7, 7, 7, 6, 7, 7, 7, 7, 7, 7, 7, 7, 7, 7, 7, 7, 7, 7, 7, 7, 7, 7, 7, 7, 7, 7, 7, 7, 7, 7, 7, 16, 7, 7, 7, 16, 7, 7, 7, 7, 6, 7, 7, 6, 7, 14, 7, 7, 6, 7, 7, 7, 7, 7, 7, 7, 14, 7, 7, 7, 7, 7, 7, 7, 7, 7, 7, 7, 7, 7, 7, 7, 7, 7, 7, 7, 7, 23, 14, 7, 10, 7, 7, 7, 7, 7, 7, 7, 7, 7, 7, 7, 7, 7, 7, 7, 7, 7, 7, 7, 7, 14, 7, 7, 7, 14, 7, 7, 7, 7, 7, 7, 7, 7, 7, 14, 7, 7, 7, 7, 7, 7, 6, 7, 7, 7, 7, 16, 0, 7, 7, 7, 7, 6, 10, 7, 7, 7, 7, 7, 7, 7, 14, 7, 0, 7, 7, 7, 7, 7, 7, 7, 1, 7, 10, 7, 7, 7, 7, 7, 7, 7, 14, 7, 7, 7, 7, 7, 7, 7, 7, 14, 7, 16, 7]\n",
            "[7, 7, 7, 7, 7, 7, 7, 7, 7, 7, 7, 7, 7, 7, 6, 7, 7, 7, 7, 7, 7, 7, 7, 0, 7, 7, 16, 7, 7, 7, 7, 7, 7, 7, 7, 7, 7, 7, 7, 7, 7, 7, 7, 7, 7, 7, 14, 7, 7, 14, 7, 0, 7, 7, 6, 7, 7, 14, 7, 7, 7, 7, 21, 8, 7, 7, 7, 7, 7, 16, 0, 7, 23, 7, 7, 7, 7, 7, 7, 7, 7, 7, 7, 7, 6, 7, 7, 7, 7, 7, 7, 14, 6, 16, 7, 7, 7, 7, 7, 10, 7, 7, 7, 21, 7, 7, 7, 7, 7, 7, 7, 7, 7, 7, 7, 7, 7, 7, 7, 16, 7, 7, 7, 6, 7, 7, 7, 7, 7, 7, 7, 7, 7, 7, 0, 7, 7, 7, 7, 7, 7, 7, 7, 7, 7, 7, 7, 7, 7, 10, 7, 7, 7, 7, 7, 7, 6, 14, 10, 16, 7, 7, 7, 7, 10, 7, 7, 7, 7, 16, 7, 6, 7, 7, 7, 16, 7, 23, 7, 7, 7, 14, 7, 16, 7, 7, 7, 7, 7, 7, 7, 7, 7, 7, 16, 7, 7, 7, 7, 7, 7, 7, 7, 7, 7, 7, 7, 7, 7, 7, 7, 7, 7, 7, 7, 7, 7, 6, 7, 7, 7, 7, 7, 7, 6, 7, 7, 7, 7, 6, 14, 7, 7, 7, 7, 7, 6, 7, 7, 7, 7, 7, 7, 7, 7, 7]\n",
            "CPU times: user 21min 11s, sys: 1.38 s, total: 21min 13s\n",
            "Wall time: 19min 59s\n"
          ]
        }
      ]
    },
    {
      "cell_type": "markdown",
      "source": [
        "### Saving to CSV"
      ],
      "metadata": {
        "id": "-qpOnJJ8prg3"
      },
      "id": "-qpOnJJ8prg3"
    },
    {
      "cell_type": "code",
      "source": [
        "# label | real_label"
      ],
      "metadata": {
        "id": "0geS1RA1g-ar"
      },
      "id": "0geS1RA1g-ar",
      "execution_count": null,
      "outputs": []
    },
    {
      "cell_type": "code",
      "source": [
        "topic_no_url_preds = pd.DataFrame({'label': predictions})"
      ],
      "metadata": {
        "id": "QoZlKzSliLT-"
      },
      "id": "QoZlKzSliLT-",
      "execution_count": null,
      "outputs": []
    },
    {
      "cell_type": "code",
      "source": [
        "topic_no_url_preds['real_label'] = topic_no_url_preds.label.apply(lambda x: model.config.id2label[x])"
      ],
      "metadata": {
        "id": "1bzzNqnVibht"
      },
      "id": "1bzzNqnVibht",
      "execution_count": null,
      "outputs": []
    },
    {
      "cell_type": "code",
      "source": [
        "topic_no_url_preds.to_csv('/content/drive/MyDrive/Colab Notebooks/amooora/raw_data/topic_no_url.csv', index=False, columns=topic_no_url_preds.columns)"
      ],
      "metadata": {
        "id": "TPqwSNTLip_R"
      },
      "id": "TPqwSNTLip_R",
      "execution_count": null,
      "outputs": []
    },
    {
      "cell_type": "markdown",
      "source": [
        "## Labels distributions"
      ],
      "metadata": {
        "id": "UF2P8QY8jpzH"
      },
      "id": "UF2P8QY8jpzH"
    },
    {
      "cell_type": "code",
      "source": [
        "import seaborn as sns\n",
        "import matplotlib.pyplot as plt"
      ],
      "metadata": {
        "id": "WcDwxOdnjxdt"
      },
      "id": "WcDwxOdnjxdt",
      "execution_count": null,
      "outputs": []
    },
    {
      "cell_type": "code",
      "source": [
        "label_counts = topic_no_url_preds.iloc[:, 0].value_counts()\n",
        "label_counts"
      ],
      "metadata": {
        "colab": {
          "base_uri": "https://localhost:8080/",
          "height": 867
        },
        "id": "lci64M9ajpGy",
        "outputId": "f9e3405a-1a17-41b2-b2c0-e8afbccfaca8"
      },
      "id": "lci64M9ajpGy",
      "execution_count": null,
      "outputs": [
        {
          "output_type": "execute_result",
          "data": {
            "text/plain": [
              "label\n",
              "7     49732\n",
              "6      2811\n",
              "14     2363\n",
              "16     1905\n",
              "0      1018\n",
              "4       466\n",
              "1       309\n",
              "10      240\n",
              "21      232\n",
              "23      203\n",
              "8       184\n",
              "11      105\n",
              "18       97\n",
              "20       63\n",
              "9        54\n",
              "12       52\n",
              "17       26\n",
              "19       20\n",
              "22       20\n",
              "5        19\n",
              "15       12\n",
              "3         8\n",
              "2         5\n",
              "13        2\n",
              "Name: count, dtype: int64"
            ],
            "text/html": [
              "<div>\n",
              "<style scoped>\n",
              "    .dataframe tbody tr th:only-of-type {\n",
              "        vertical-align: middle;\n",
              "    }\n",
              "\n",
              "    .dataframe tbody tr th {\n",
              "        vertical-align: top;\n",
              "    }\n",
              "\n",
              "    .dataframe thead th {\n",
              "        text-align: right;\n",
              "    }\n",
              "</style>\n",
              "<table border=\"1\" class=\"dataframe\">\n",
              "  <thead>\n",
              "    <tr style=\"text-align: right;\">\n",
              "      <th></th>\n",
              "      <th>count</th>\n",
              "    </tr>\n",
              "    <tr>\n",
              "      <th>label</th>\n",
              "      <th></th>\n",
              "    </tr>\n",
              "  </thead>\n",
              "  <tbody>\n",
              "    <tr>\n",
              "      <th>7</th>\n",
              "      <td>49732</td>\n",
              "    </tr>\n",
              "    <tr>\n",
              "      <th>6</th>\n",
              "      <td>2811</td>\n",
              "    </tr>\n",
              "    <tr>\n",
              "      <th>14</th>\n",
              "      <td>2363</td>\n",
              "    </tr>\n",
              "    <tr>\n",
              "      <th>16</th>\n",
              "      <td>1905</td>\n",
              "    </tr>\n",
              "    <tr>\n",
              "      <th>0</th>\n",
              "      <td>1018</td>\n",
              "    </tr>\n",
              "    <tr>\n",
              "      <th>4</th>\n",
              "      <td>466</td>\n",
              "    </tr>\n",
              "    <tr>\n",
              "      <th>1</th>\n",
              "      <td>309</td>\n",
              "    </tr>\n",
              "    <tr>\n",
              "      <th>10</th>\n",
              "      <td>240</td>\n",
              "    </tr>\n",
              "    <tr>\n",
              "      <th>21</th>\n",
              "      <td>232</td>\n",
              "    </tr>\n",
              "    <tr>\n",
              "      <th>23</th>\n",
              "      <td>203</td>\n",
              "    </tr>\n",
              "    <tr>\n",
              "      <th>8</th>\n",
              "      <td>184</td>\n",
              "    </tr>\n",
              "    <tr>\n",
              "      <th>11</th>\n",
              "      <td>105</td>\n",
              "    </tr>\n",
              "    <tr>\n",
              "      <th>18</th>\n",
              "      <td>97</td>\n",
              "    </tr>\n",
              "    <tr>\n",
              "      <th>20</th>\n",
              "      <td>63</td>\n",
              "    </tr>\n",
              "    <tr>\n",
              "      <th>9</th>\n",
              "      <td>54</td>\n",
              "    </tr>\n",
              "    <tr>\n",
              "      <th>12</th>\n",
              "      <td>52</td>\n",
              "    </tr>\n",
              "    <tr>\n",
              "      <th>17</th>\n",
              "      <td>26</td>\n",
              "    </tr>\n",
              "    <tr>\n",
              "      <th>19</th>\n",
              "      <td>20</td>\n",
              "    </tr>\n",
              "    <tr>\n",
              "      <th>22</th>\n",
              "      <td>20</td>\n",
              "    </tr>\n",
              "    <tr>\n",
              "      <th>5</th>\n",
              "      <td>19</td>\n",
              "    </tr>\n",
              "    <tr>\n",
              "      <th>15</th>\n",
              "      <td>12</td>\n",
              "    </tr>\n",
              "    <tr>\n",
              "      <th>3</th>\n",
              "      <td>8</td>\n",
              "    </tr>\n",
              "    <tr>\n",
              "      <th>2</th>\n",
              "      <td>5</td>\n",
              "    </tr>\n",
              "    <tr>\n",
              "      <th>13</th>\n",
              "      <td>2</td>\n",
              "    </tr>\n",
              "  </tbody>\n",
              "</table>\n",
              "</div><br><label><b>dtype:</b> int64</label>"
            ]
          },
          "metadata": {},
          "execution_count": 19
        }
      ]
    },
    {
      "cell_type": "code",
      "source": [
        "plt.figure(figsize=(12, 6))\n",
        "sns.barplot(x=label_counts.index, y=label_counts.values, palette=\"viridis\")"
      ],
      "metadata": {
        "colab": {
          "base_uri": "https://localhost:8080/",
          "height": 516
        },
        "id": "XhsDn83ej0Fq",
        "outputId": "62b3d40d-161f-440c-b7d2-a3769caefa00"
      },
      "id": "XhsDn83ej0Fq",
      "execution_count": null,
      "outputs": [
        {
          "output_type": "stream",
          "name": "stderr",
          "text": [
            "<ipython-input-21-6e4b6262d76d>:2: FutureWarning: \n",
            "\n",
            "Passing `palette` without assigning `hue` is deprecated and will be removed in v0.14.0. Assign the `x` variable to `hue` and set `legend=False` for the same effect.\n",
            "\n",
            "  sns.barplot(x=label_counts.index, y=label_counts.values, palette=\"viridis\")\n"
          ]
        },
        {
          "output_type": "execute_result",
          "data": {
            "text/plain": [
              "<Axes: xlabel='label'>"
            ]
          },
          "metadata": {},
          "execution_count": 21
        },
        {
          "output_type": "display_data",
          "data": {
            "text/plain": [
              "<Figure size 1200x600 with 1 Axes>"
            ],
            "image/png": "[encoded data removed]"
          },
          "metadata": {}
        }
      ]
    },
    {
      "cell_type": "code",
      "source": [
        "model.config.id2label"
      ],
      "metadata": {
        "colab": {
          "base_uri": "https://localhost:8080/"
        },
        "id": "2ZGgMj4LlXYf",
        "outputId": "a86781fb-b9d7-483d-baca-ddafba9a8afc"
      },
      "id": "2ZGgMj4LlXYf",
      "execution_count": null,
      "outputs": [
        {
          "output_type": "execute_result",
          "data": {
            "text/plain": [
              "{0: 'Adult',\n",
              " 1: 'Art & Design',\n",
              " 10: 'Food & Dining',\n",
              " 11: 'Games',\n",
              " 12: 'Health',\n",
              " 13: 'History',\n",
              " 14: 'Home & Hobbies',\n",
              " 15: 'Industrial',\n",
              " 16: 'Literature',\n",
              " 17: 'Politics',\n",
              " 18: 'Religion',\n",
              " 19: 'Science & Tech.',\n",
              " 2: 'Software Dev.',\n",
              " 20: 'Software',\n",
              " 21: 'Sports & Fitness',\n",
              " 22: 'Transportation',\n",
              " 23: 'Travel',\n",
              " 3: 'Crime & Law',\n",
              " 4: 'Education & Jobs',\n",
              " 5: 'Hardware',\n",
              " 6: 'Entertainment',\n",
              " 7: 'Social Life',\n",
              " 8: 'Fashion & Beauty',\n",
              " 9: 'Finance & Business'}"
            ]
          },
          "metadata": {},
          "execution_count": 22
        }
      ]
    },
    {
      "cell_type": "markdown",
      "source": [
        "### Testing Gepeto solution to not overload memory"
      ],
      "metadata": {
        "id": "qOkNMsHBaOiY"
      },
      "id": "qOkNMsHBaOiY"
    },
    {
      "cell_type": "code",
      "source": [
        "# import torch\n",
        "# from transformers import AutoTokenizer, AutoModelForSequenceClassification\n",
        "\n",
        "# device = \"cuda\" if torch.cuda.is_available() else \"cpu\"  # Check if GPU is available\n",
        "\n",
        "# tokenizer = AutoTokenizer.from_pretrained(\"WebOrganizer/TopicClassifier-NoURL\")\n",
        "# model = AutoModelForSequenceClassification.from_pretrained(\n",
        "#     \"WebOrganizer/TopicClassifier-NoURL\",\n",
        "#     trust_remote_code=True,\n",
        "#     use_memory_efficient_attention=False\n",
        "# ).to(device)  # Move model to GPU\n",
        "\n",
        "# # Example batch of texts\n",
        "# texts = df.combined_preprocessed.values.tolist()\n",
        "\n",
        "# # Tokenization with padding/truncation and move tensors to GPU\n",
        "# inputs = tokenizer(texts, return_tensors=\"pt\", padding=True, truncation=True, max_length=512)\n",
        "# inputs = {k: v.to(device) for k, v in inputs.items()}  # Move input tensors to GPU\n",
        "\n",
        "# # Run model\n",
        "# with torch.no_grad():  # Disable gradient calculation for inference (saves memory)\n",
        "#     outputs = model(**inputs)\n",
        "\n",
        "# # Convert to probabilities\n",
        "# probs = outputs.logits.softmax(dim=-1)\n",
        "\n",
        "# # Get predicted labels\n",
        "# predicted_labels = probs.argmax(dim=-1).tolist()\n",
        "# print(predicted_labels)\n"
      ],
      "metadata": {
        "id": "lSe_TcpE_XMk",
        "colab": {
          "base_uri": "https://localhost:8080/",
          "height": 497
        },
        "outputId": "55ca6265-805d-478d-b4e1-1d38f4695004"
      },
      "id": "lSe_TcpE_XMk",
      "execution_count": null,
      "outputs": [
        {
          "output_type": "error",
          "ename": "OutOfMemoryError",
          "evalue": "CUDA out of memory. Tried to allocate 38.45 GiB. GPU 0 has a total capacity of 14.74 GiB of which 12.44 GiB is free. Process 109712 has 2.30 GiB memory in use. Of the allocated memory 1.34 GiB is allocated by PyTorch, and 849.77 MiB is reserved by PyTorch but unallocated. If reserved but unallocated memory is large try setting PYTORCH_CUDA_ALLOC_CONF=expandable_segments:True to avoid fragmentation.  See documentation for Memory Management  (https://pytorch.org/docs/stable/notes/cuda.html#environment-variables)",
          "traceback": [
            "\u001b[0;31m---------------------------------------------------------------------------\u001b[0m",
            "\u001b[0;31mOutOfMemoryError\u001b[0m                          Traceback (most recent call last)",
            "\u001b[0;32m<ipython-input-6-bd1dc6b6cbcb>\u001b[0m in \u001b[0;36m<cell line: 0>\u001b[0;34m()\u001b[0m\n\u001b[1;32m     20\u001b[0m \u001b[0;31m# Run model\u001b[0m\u001b[0;34m\u001b[0m\u001b[0;34m\u001b[0m\u001b[0m\n\u001b[1;32m     21\u001b[0m \u001b[0;32mwith\u001b[0m \u001b[0mtorch\u001b[0m\u001b[0;34m.\u001b[0m\u001b[0mno_grad\u001b[0m\u001b[0;34m(\u001b[0m\u001b[0;34m)\u001b[0m\u001b[0;34m:\u001b[0m  \u001b[0;31m# Disable gradient calculation for inference (saves memory)\u001b[0m\u001b[0;34m\u001b[0m\u001b[0;34m\u001b[0m\u001b[0m\n\u001b[0;32m---> 22\u001b[0;31m     \u001b[0moutputs\u001b[0m \u001b[0;34m=\u001b[0m \u001b[0mmodel\u001b[0m\u001b[0;34m(\u001b[0m\u001b[0;34m**\u001b[0m\u001b[0minputs\u001b[0m\u001b[0;34m)\u001b[0m\u001b[0;34m\u001b[0m\u001b[0;34m\u001b[0m\u001b[0m\n\u001b[0m\u001b[1;32m     23\u001b[0m \u001b[0;34m\u001b[0m\u001b[0m\n\u001b[1;32m     24\u001b[0m \u001b[0;31m# Convert to probabilities\u001b[0m\u001b[0;34m\u001b[0m\u001b[0;34m\u001b[0m\u001b[0m\n",
            "\u001b[0;32m/usr/local/lib/python3.11/dist-packages/torch/nn/modules/module.py\u001b[0m in \u001b[0;36m_wrapped_call_impl\u001b[0;34m(self, *args, **kwargs)\u001b[0m\n\u001b[1;32m   1737\u001b[0m             \u001b[0;32mreturn\u001b[0m \u001b[0mself\u001b[0m\u001b[0;34m.\u001b[0m\u001b[0m_compiled_call_impl\u001b[0m\u001b[0;34m(\u001b[0m\u001b[0;34m*\u001b[0m\u001b[0margs\u001b[0m\u001b[0;34m,\u001b[0m \u001b[0;34m**\u001b[0m\u001b[0mkwargs\u001b[0m\u001b[0;34m)\u001b[0m  \u001b[0;31m# type: ignore[misc]\u001b[0m\u001b[0;34m\u001b[0m\u001b[0;34m\u001b[0m\u001b[0m\n\u001b[1;32m   1738\u001b[0m         \u001b[0;32melse\u001b[0m\u001b[0;34m:\u001b[0m\u001b[0;34m\u001b[0m\u001b[0;34m\u001b[0m\u001b[0m\n\u001b[0;32m-> 1739\u001b[0;31m             \u001b[0;32mreturn\u001b[0m \u001b[0mself\u001b[0m\u001b[0;34m.\u001b[0m\u001b[0m_call_impl\u001b[0m\u001b[0;34m(\u001b[0m\u001b[0;34m*\u001b[0m\u001b[0margs\u001b[0m\u001b[0;34m,\u001b[0m \u001b[0;34m**\u001b[0m\u001b[0mkwargs\u001b[0m\u001b[0;34m)\u001b[0m\u001b[0;34m\u001b[0m\u001b[0;34m\u001b[0m\u001b[0m\n\u001b[0m\u001b[1;32m   1740\u001b[0m \u001b[0;34m\u001b[0m\u001b[0m\n\u001b[1;32m   1741\u001b[0m     \u001b[0;31m# torchrec tests the code consistency with the following code\u001b[0m\u001b[0;34m\u001b[0m\u001b[0;34m\u001b[0m\u001b[0m\n",
            "\u001b[0;32m/usr/local/lib/python3.11/dist-packages/torch/nn/modules/module.py\u001b[0m in \u001b[0;36m_call_impl\u001b[0;34m(self, *args, **kwargs)\u001b[0m\n\u001b[1;32m   1748\u001b[0m                 \u001b[0;32mor\u001b[0m \u001b[0m_global_backward_pre_hooks\u001b[0m \u001b[0;32mor\u001b[0m \u001b[0m_global_backward_hooks\u001b[0m\u001b[0;34m\u001b[0m\u001b[0;34m\u001b[0m\u001b[0m\n\u001b[1;32m   1749\u001b[0m                 or _global_forward_hooks or _global_forward_pre_hooks):\n\u001b[0;32m-> 1750\u001b[0;31m             \u001b[0;32mreturn\u001b[0m \u001b[0mforward_call\u001b[0m\u001b[0;34m(\u001b[0m\u001b[0;34m*\u001b[0m\u001b[0margs\u001b[0m\u001b[0;34m,\u001b[0m \u001b[0;34m**\u001b[0m\u001b[0mkwargs\u001b[0m\u001b[0;34m)\u001b[0m\u001b[0;34m\u001b[0m\u001b[0;34m\u001b[0m\u001b[0m\n\u001b[0m\u001b[1;32m   1751\u001b[0m \u001b[0;34m\u001b[0m\u001b[0m\n\u001b[1;32m   1752\u001b[0m         \u001b[0mresult\u001b[0m \u001b[0;34m=\u001b[0m \u001b[0;32mNone\u001b[0m\u001b[0;34m\u001b[0m\u001b[0;34m\u001b[0m\u001b[0m\n",
            "\u001b[0;32m~/.cache/huggingface/modules/transformers_modules/WebOrganizer/TopicClassifier-NoURL/8f60a8f97177f5664a81ad1c2789412fbb38351d/modeling.py\u001b[0m in \u001b[0;36mforward\u001b[0;34m(self, input_ids, attention_mask, token_type_ids, position_ids, head_mask, inputs_embeds, labels, output_attentions, output_hidden_states, return_dict, unpad_inputs)\u001b[0m\n\u001b[1;32m   1115\u001b[0m         \u001b[0mreturn_dict\u001b[0m \u001b[0;34m=\u001b[0m \u001b[0mreturn_dict\u001b[0m \u001b[0;32mif\u001b[0m \u001b[0mreturn_dict\u001b[0m \u001b[0;32mis\u001b[0m \u001b[0;32mnot\u001b[0m \u001b[0;32mNone\u001b[0m \u001b[0;32melse\u001b[0m \u001b[0mself\u001b[0m\u001b[0;34m.\u001b[0m\u001b[0mconfig\u001b[0m\u001b[0;34m.\u001b[0m\u001b[0muse_return_dict\u001b[0m\u001b[0;34m\u001b[0m\u001b[0;34m\u001b[0m\u001b[0m\n\u001b[1;32m   1116\u001b[0m \u001b[0;34m\u001b[0m\u001b[0m\n\u001b[0;32m-> 1117\u001b[0;31m         outputs = self.new(\n\u001b[0m\u001b[1;32m   1118\u001b[0m             \u001b[0minput_ids\u001b[0m\u001b[0;34m,\u001b[0m\u001b[0;34m\u001b[0m\u001b[0;34m\u001b[0m\u001b[0m\n\u001b[1;32m   1119\u001b[0m             \u001b[0mattention_mask\u001b[0m\u001b[0;34m=\u001b[0m\u001b[0mattention_mask\u001b[0m\u001b[0;34m,\u001b[0m\u001b[0;34m\u001b[0m\u001b[0;34m\u001b[0m\u001b[0m\n",
            "\u001b[0;32m/usr/local/lib/python3.11/dist-packages/torch/nn/modules/module.py\u001b[0m in \u001b[0;36m_wrapped_call_impl\u001b[0;34m(self, *args, **kwargs)\u001b[0m\n\u001b[1;32m   1737\u001b[0m             \u001b[0;32mreturn\u001b[0m \u001b[0mself\u001b[0m\u001b[0;34m.\u001b[0m\u001b[0m_compiled_call_impl\u001b[0m\u001b[0;34m(\u001b[0m\u001b[0;34m*\u001b[0m\u001b[0margs\u001b[0m\u001b[0;34m,\u001b[0m \u001b[0;34m**\u001b[0m\u001b[0mkwargs\u001b[0m\u001b[0;34m)\u001b[0m  \u001b[0;31m# type: ignore[misc]\u001b[0m\u001b[0;34m\u001b[0m\u001b[0;34m\u001b[0m\u001b[0m\n\u001b[1;32m   1738\u001b[0m         \u001b[0;32melse\u001b[0m\u001b[0;34m:\u001b[0m\u001b[0;34m\u001b[0m\u001b[0;34m\u001b[0m\u001b[0m\n\u001b[0;32m-> 1739\u001b[0;31m             \u001b[0;32mreturn\u001b[0m \u001b[0mself\u001b[0m\u001b[0;34m.\u001b[0m\u001b[0m_call_impl\u001b[0m\u001b[0;34m(\u001b[0m\u001b[0;34m*\u001b[0m\u001b[0margs\u001b[0m\u001b[0;34m,\u001b[0m \u001b[0;34m**\u001b[0m\u001b[0mkwargs\u001b[0m\u001b[0;34m)\u001b[0m\u001b[0;34m\u001b[0m\u001b[0;34m\u001b[0m\u001b[0m\n\u001b[0m\u001b[1;32m   1740\u001b[0m \u001b[0;34m\u001b[0m\u001b[0m\n\u001b[1;32m   1741\u001b[0m     \u001b[0;31m# torchrec tests the code consistency with the following code\u001b[0m\u001b[0;34m\u001b[0m\u001b[0;34m\u001b[0m\u001b[0m\n",
            "\u001b[0;32m/usr/local/lib/python3.11/dist-packages/torch/nn/modules/module.py\u001b[0m in \u001b[0;36m_call_impl\u001b[0;34m(self, *args, **kwargs)\u001b[0m\n\u001b[1;32m   1748\u001b[0m                 \u001b[0;32mor\u001b[0m \u001b[0m_global_backward_pre_hooks\u001b[0m \u001b[0;32mor\u001b[0m \u001b[0m_global_backward_hooks\u001b[0m\u001b[0;34m\u001b[0m\u001b[0;34m\u001b[0m\u001b[0m\n\u001b[1;32m   1749\u001b[0m                 or _global_forward_hooks or _global_forward_pre_hooks):\n\u001b[0;32m-> 1750\u001b[0;31m             \u001b[0;32mreturn\u001b[0m \u001b[0mforward_call\u001b[0m\u001b[0;34m(\u001b[0m\u001b[0;34m*\u001b[0m\u001b[0margs\u001b[0m\u001b[0;34m,\u001b[0m \u001b[0;34m**\u001b[0m\u001b[0mkwargs\u001b[0m\u001b[0;34m)\u001b[0m\u001b[0;34m\u001b[0m\u001b[0;34m\u001b[0m\u001b[0m\n\u001b[0m\u001b[1;32m   1751\u001b[0m \u001b[0;34m\u001b[0m\u001b[0m\n\u001b[1;32m   1752\u001b[0m         \u001b[0mresult\u001b[0m \u001b[0;34m=\u001b[0m \u001b[0;32mNone\u001b[0m\u001b[0;34m\u001b[0m\u001b[0;34m\u001b[0m\u001b[0m\n",
            "\u001b[0;32m~/.cache/huggingface/modules/transformers_modules/WebOrganizer/TopicClassifier-NoURL/8f60a8f97177f5664a81ad1c2789412fbb38351d/modeling.py\u001b[0m in \u001b[0;36mforward\u001b[0;34m(self, input_ids, attention_mask, length, subset_indices, token_type_ids, position_ids, head_mask, inputs_embeds, output_attentions, output_hidden_states, return_dict, unpad_inputs)\u001b[0m\n\u001b[1;32m    899\u001b[0m \u001b[0;34m\u001b[0m\u001b[0m\n\u001b[1;32m    900\u001b[0m         \u001b[0;31m# Get embeddings, may unpad them\u001b[0m\u001b[0;34m\u001b[0m\u001b[0;34m\u001b[0m\u001b[0m\n\u001b[0;32m--> 901\u001b[0;31m         (embedding_output, attention_mask, rope_embeds, length) = self.embeddings(\n\u001b[0m\u001b[1;32m    902\u001b[0m             \u001b[0munpad_inputs\u001b[0m\u001b[0;34m,\u001b[0m\u001b[0;34m\u001b[0m\u001b[0;34m\u001b[0m\u001b[0m\n\u001b[1;32m    903\u001b[0m             \u001b[0minput_ids\u001b[0m\u001b[0;34m=\u001b[0m\u001b[0minput_ids\u001b[0m\u001b[0;34m,\u001b[0m\u001b[0;34m\u001b[0m\u001b[0;34m\u001b[0m\u001b[0m\n",
            "\u001b[0;32m/usr/local/lib/python3.11/dist-packages/torch/nn/modules/module.py\u001b[0m in \u001b[0;36m_wrapped_call_impl\u001b[0;34m(self, *args, **kwargs)\u001b[0m\n\u001b[1;32m   1737\u001b[0m             \u001b[0;32mreturn\u001b[0m \u001b[0mself\u001b[0m\u001b[0;34m.\u001b[0m\u001b[0m_compiled_call_impl\u001b[0m\u001b[0;34m(\u001b[0m\u001b[0;34m*\u001b[0m\u001b[0margs\u001b[0m\u001b[0;34m,\u001b[0m \u001b[0;34m**\u001b[0m\u001b[0mkwargs\u001b[0m\u001b[0;34m)\u001b[0m  \u001b[0;31m# type: ignore[misc]\u001b[0m\u001b[0;34m\u001b[0m\u001b[0;34m\u001b[0m\u001b[0m\n\u001b[1;32m   1738\u001b[0m         \u001b[0;32melse\u001b[0m\u001b[0;34m:\u001b[0m\u001b[0;34m\u001b[0m\u001b[0;34m\u001b[0m\u001b[0m\n\u001b[0;32m-> 1739\u001b[0;31m             \u001b[0;32mreturn\u001b[0m \u001b[0mself\u001b[0m\u001b[0;34m.\u001b[0m\u001b[0m_call_impl\u001b[0m\u001b[0;34m(\u001b[0m\u001b[0;34m*\u001b[0m\u001b[0margs\u001b[0m\u001b[0;34m,\u001b[0m \u001b[0;34m**\u001b[0m\u001b[0mkwargs\u001b[0m\u001b[0;34m)\u001b[0m\u001b[0;34m\u001b[0m\u001b[0;34m\u001b[0m\u001b[0m\n\u001b[0m\u001b[1;32m   1740\u001b[0m \u001b[0;34m\u001b[0m\u001b[0m\n\u001b[1;32m   1741\u001b[0m     \u001b[0;31m# torchrec tests the code consistency with the following code\u001b[0m\u001b[0;34m\u001b[0m\u001b[0;34m\u001b[0m\u001b[0m\n",
            "\u001b[0;32m/usr/local/lib/python3.11/dist-packages/torch/nn/modules/module.py\u001b[0m in \u001b[0;36m_call_impl\u001b[0;34m(self, *args, **kwargs)\u001b[0m\n\u001b[1;32m   1748\u001b[0m                 \u001b[0;32mor\u001b[0m \u001b[0m_global_backward_pre_hooks\u001b[0m \u001b[0;32mor\u001b[0m \u001b[0m_global_backward_hooks\u001b[0m\u001b[0;34m\u001b[0m\u001b[0;34m\u001b[0m\u001b[0m\n\u001b[1;32m   1749\u001b[0m                 or _global_forward_hooks or _global_forward_pre_hooks):\n\u001b[0;32m-> 1750\u001b[0;31m             \u001b[0;32mreturn\u001b[0m \u001b[0mforward_call\u001b[0m\u001b[0;34m(\u001b[0m\u001b[0;34m*\u001b[0m\u001b[0margs\u001b[0m\u001b[0;34m,\u001b[0m \u001b[0;34m**\u001b[0m\u001b[0mkwargs\u001b[0m\u001b[0;34m)\u001b[0m\u001b[0;34m\u001b[0m\u001b[0;34m\u001b[0m\u001b[0m\n\u001b[0m\u001b[1;32m   1751\u001b[0m \u001b[0;34m\u001b[0m\u001b[0m\n\u001b[1;32m   1752\u001b[0m         \u001b[0mresult\u001b[0m \u001b[0;34m=\u001b[0m \u001b[0;32mNone\u001b[0m\u001b[0;34m\u001b[0m\u001b[0;34m\u001b[0m\u001b[0m\n",
            "\u001b[0;32m~/.cache/huggingface/modules/transformers_modules/WebOrganizer/TopicClassifier-NoURL/8f60a8f97177f5664a81ad1c2789412fbb38351d/modeling.py\u001b[0m in \u001b[0;36mforward\u001b[0;34m(self, unpad_inputs, input_ids, attention_mask, length, token_type_ids, position_ids, inputs_embeds)\u001b[0m\n\u001b[1;32m    366\u001b[0m             \u001b[0;32mif\u001b[0m \u001b[0munpad_inputs\u001b[0m\u001b[0;34m:\u001b[0m\u001b[0;34m\u001b[0m\u001b[0;34m\u001b[0m\u001b[0m\n\u001b[1;32m    367\u001b[0m                 \u001b[0minput_ids\u001b[0m \u001b[0;34m=\u001b[0m \u001b[0minput_ids\u001b[0m\u001b[0;34m[\u001b[0m\u001b[0mattention_mask_bool\u001b[0m\u001b[0;34m]\u001b[0m\u001b[0;34m.\u001b[0m\u001b[0munsqueeze\u001b[0m\u001b[0;34m(\u001b[0m\u001b[0;36m0\u001b[0m\u001b[0;34m)\u001b[0m\u001b[0;34m\u001b[0m\u001b[0;34m\u001b[0m\u001b[0m\n\u001b[0;32m--> 368\u001b[0;31m             \u001b[0minputs_embeds\u001b[0m \u001b[0;34m=\u001b[0m \u001b[0mself\u001b[0m\u001b[0;34m.\u001b[0m\u001b[0mword_embeddings\u001b[0m\u001b[0;34m(\u001b[0m\u001b[0minput_ids\u001b[0m\u001b[0;34m)\u001b[0m\u001b[0;34m\u001b[0m\u001b[0;34m\u001b[0m\u001b[0m\n\u001b[0m\u001b[1;32m    369\u001b[0m         \u001b[0;32melse\u001b[0m\u001b[0;34m:\u001b[0m\u001b[0;34m\u001b[0m\u001b[0;34m\u001b[0m\u001b[0m\n\u001b[1;32m    370\u001b[0m             \u001b[0;32mif\u001b[0m \u001b[0munpad_inputs\u001b[0m\u001b[0;34m:\u001b[0m\u001b[0;34m\u001b[0m\u001b[0;34m\u001b[0m\u001b[0m\n",
            "\u001b[0;32m/usr/local/lib/python3.11/dist-packages/torch/nn/modules/module.py\u001b[0m in \u001b[0;36m_wrapped_call_impl\u001b[0;34m(self, *args, **kwargs)\u001b[0m\n\u001b[1;32m   1737\u001b[0m             \u001b[0;32mreturn\u001b[0m \u001b[0mself\u001b[0m\u001b[0;34m.\u001b[0m\u001b[0m_compiled_call_impl\u001b[0m\u001b[0;34m(\u001b[0m\u001b[0;34m*\u001b[0m\u001b[0margs\u001b[0m\u001b[0;34m,\u001b[0m \u001b[0;34m**\u001b[0m\u001b[0mkwargs\u001b[0m\u001b[0;34m)\u001b[0m  \u001b[0;31m# type: ignore[misc]\u001b[0m\u001b[0;34m\u001b[0m\u001b[0;34m\u001b[0m\u001b[0m\n\u001b[1;32m   1738\u001b[0m         \u001b[0;32melse\u001b[0m\u001b[0;34m:\u001b[0m\u001b[0;34m\u001b[0m\u001b[0;34m\u001b[0m\u001b[0m\n\u001b[0;32m-> 1739\u001b[0;31m             \u001b[0;32mreturn\u001b[0m \u001b[0mself\u001b[0m\u001b[0;34m.\u001b[0m\u001b[0m_call_impl\u001b[0m\u001b[0;34m(\u001b[0m\u001b[0;34m*\u001b[0m\u001b[0margs\u001b[0m\u001b[0;34m,\u001b[0m \u001b[0;34m**\u001b[0m\u001b[0mkwargs\u001b[0m\u001b[0;34m)\u001b[0m\u001b[0;34m\u001b[0m\u001b[0;34m\u001b[0m\u001b[0m\n\u001b[0m\u001b[1;32m   1740\u001b[0m \u001b[0;34m\u001b[0m\u001b[0m\n\u001b[1;32m   1741\u001b[0m     \u001b[0;31m# torchrec tests the code consistency with the following code\u001b[0m\u001b[0;34m\u001b[0m\u001b[0;34m\u001b[0m\u001b[0m\n",
            "\u001b[0;32m/usr/local/lib/python3.11/dist-packages/torch/nn/modules/module.py\u001b[0m in \u001b[0;36m_call_impl\u001b[0;34m(self, *args, **kwargs)\u001b[0m\n\u001b[1;32m   1748\u001b[0m                 \u001b[0;32mor\u001b[0m \u001b[0m_global_backward_pre_hooks\u001b[0m \u001b[0;32mor\u001b[0m \u001b[0m_global_backward_hooks\u001b[0m\u001b[0;34m\u001b[0m\u001b[0;34m\u001b[0m\u001b[0m\n\u001b[1;32m   1749\u001b[0m                 or _global_forward_hooks or _global_forward_pre_hooks):\n\u001b[0;32m-> 1750\u001b[0;31m             \u001b[0;32mreturn\u001b[0m \u001b[0mforward_call\u001b[0m\u001b[0;34m(\u001b[0m\u001b[0;34m*\u001b[0m\u001b[0margs\u001b[0m\u001b[0;34m,\u001b[0m \u001b[0;34m**\u001b[0m\u001b[0mkwargs\u001b[0m\u001b[0;34m)\u001b[0m\u001b[0;34m\u001b[0m\u001b[0;34m\u001b[0m\u001b[0m\n\u001b[0m\u001b[1;32m   1751\u001b[0m \u001b[0;34m\u001b[0m\u001b[0m\n\u001b[1;32m   1752\u001b[0m         \u001b[0mresult\u001b[0m \u001b[0;34m=\u001b[0m \u001b[0;32mNone\u001b[0m\u001b[0;34m\u001b[0m\u001b[0;34m\u001b[0m\u001b[0m\n",
            "\u001b[0;32m/usr/local/lib/python3.11/dist-packages/torch/nn/modules/sparse.py\u001b[0m in \u001b[0;36mforward\u001b[0;34m(self, input)\u001b[0m\n\u001b[1;32m    188\u001b[0m \u001b[0;34m\u001b[0m\u001b[0m\n\u001b[1;32m    189\u001b[0m     \u001b[0;32mdef\u001b[0m \u001b[0mforward\u001b[0m\u001b[0;34m(\u001b[0m\u001b[0mself\u001b[0m\u001b[0;34m,\u001b[0m \u001b[0minput\u001b[0m\u001b[0;34m:\u001b[0m \u001b[0mTensor\u001b[0m\u001b[0;34m)\u001b[0m \u001b[0;34m->\u001b[0m \u001b[0mTensor\u001b[0m\u001b[0;34m:\u001b[0m\u001b[0;34m\u001b[0m\u001b[0;34m\u001b[0m\u001b[0m\n\u001b[0;32m--> 190\u001b[0;31m         return F.embedding(\n\u001b[0m\u001b[1;32m    191\u001b[0m             \u001b[0minput\u001b[0m\u001b[0;34m,\u001b[0m\u001b[0;34m\u001b[0m\u001b[0;34m\u001b[0m\u001b[0m\n\u001b[1;32m    192\u001b[0m             \u001b[0mself\u001b[0m\u001b[0;34m.\u001b[0m\u001b[0mweight\u001b[0m\u001b[0;34m,\u001b[0m\u001b[0;34m\u001b[0m\u001b[0;34m\u001b[0m\u001b[0m\n",
            "\u001b[0;32m/usr/local/lib/python3.11/dist-packages/torch/nn/functional.py\u001b[0m in \u001b[0;36membedding\u001b[0;34m(input, weight, padding_idx, max_norm, norm_type, scale_grad_by_freq, sparse)\u001b[0m\n\u001b[1;32m   2549\u001b[0m         \u001b[0;31m# remove once script supports set_grad_enabled\u001b[0m\u001b[0;34m\u001b[0m\u001b[0;34m\u001b[0m\u001b[0m\n\u001b[1;32m   2550\u001b[0m         \u001b[0m_no_grad_embedding_renorm_\u001b[0m\u001b[0;34m(\u001b[0m\u001b[0mweight\u001b[0m\u001b[0;34m,\u001b[0m \u001b[0minput\u001b[0m\u001b[0;34m,\u001b[0m \u001b[0mmax_norm\u001b[0m\u001b[0;34m,\u001b[0m \u001b[0mnorm_type\u001b[0m\u001b[0;34m)\u001b[0m\u001b[0;34m\u001b[0m\u001b[0;34m\u001b[0m\u001b[0m\n\u001b[0;32m-> 2551\u001b[0;31m     \u001b[0;32mreturn\u001b[0m \u001b[0mtorch\u001b[0m\u001b[0;34m.\u001b[0m\u001b[0membedding\u001b[0m\u001b[0;34m(\u001b[0m\u001b[0mweight\u001b[0m\u001b[0;34m,\u001b[0m \u001b[0minput\u001b[0m\u001b[0;34m,\u001b[0m \u001b[0mpadding_idx\u001b[0m\u001b[0;34m,\u001b[0m \u001b[0mscale_grad_by_freq\u001b[0m\u001b[0;34m,\u001b[0m \u001b[0msparse\u001b[0m\u001b[0;34m)\u001b[0m\u001b[0;34m\u001b[0m\u001b[0;34m\u001b[0m\u001b[0m\n\u001b[0m\u001b[1;32m   2552\u001b[0m \u001b[0;34m\u001b[0m\u001b[0m\n\u001b[1;32m   2553\u001b[0m \u001b[0;34m\u001b[0m\u001b[0m\n",
            "\u001b[0;31mOutOfMemoryError\u001b[0m: CUDA out of memory. Tried to allocate 38.45 GiB. GPU 0 has a total capacity of 14.74 GiB of which 12.44 GiB is free. Process 109712 has 2.30 GiB memory in use. Of the allocated memory 1.34 GiB is allocated by PyTorch, and 849.77 MiB is reserved by PyTorch but unallocated. If reserved but unallocated memory is large try setting PYTORCH_CUDA_ALLOC_CONF=expandable_segments:True to avoid fragmentation.  See documentation for Memory Management  (https://pytorch.org/docs/stable/notes/cuda.html#environment-variables)"
          ]
        }
      ]
    },
    {
      "cell_type": "code",
      "source": [],
      "metadata": {
        "id": "vnWc9CWIalzP"
      },
      "id": "vnWc9CWIalzP",
      "execution_count": null,
      "outputs": []
    }
  ],
  "metadata": {
    "kernelspec": {
      "display_name": "Python 3",
      "name": "python3"
    },
    "language_info": {
      "codemirror_mode": {
        "name": "ipython",
        "version": 3
      },
      "file_extension": ".py",
      "mimetype": "text/x-python",
      "name": "python",
      "nbconvert_exporter": "python",
      "pygments_lexer": "ipython3",
      "version": "3.10.6"
    },
    "toc": {
      "base_numbering": 1,
      "nav_menu": {},
      "number_sections": true,
      "sideBar": true,
      "skip_h1_title": false,
      "title_cell": "Table of Contents",
      "title_sidebar": "Contents",
      "toc_cell": false,
      "toc_position": {},
      "toc_section_display": true,
      "toc_window_display": false
    },
    "colab": {
      "provenance": [],
      "machine_shape": "hm",
      "toc_visible": true
    }
  },
  "nbformat": 4,
  "nbformat_minor": 5
}