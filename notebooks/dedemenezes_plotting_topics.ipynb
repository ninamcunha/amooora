{
 "cells": [
  {
   "cell_type": "markdown",
   "id": "7da99fbe",
   "metadata": {},
   "source": [
    "# Understanding topics"
   ]
  },
  {
   "cell_type": "code",
   "execution_count": 18,
   "id": "7aa43035",
   "metadata": {},
   "outputs": [],
   "source": [
    "import pandas as pd\n",
    "import numpy as np\n",
    "import matplotlib.pyplot as plt\n",
    "import seaborn as sns"
   ]
  },
  {
   "cell_type": "code",
   "execution_count": 2,
   "id": "435665fe",
   "metadata": {},
   "outputs": [],
   "source": [
    "df = pd.read_csv('../raw_data/text_and_topics.csv', keep_default_na=False)"
   ]
  },
  {
   "cell_type": "code",
   "execution_count": 3,
   "id": "8a9aedb3",
   "metadata": {},
   "outputs": [
    {
     "data": {
      "text/html": [
       "<div>\n",
       "<style scoped>\n",
       "    .dataframe tbody tr th:only-of-type {\n",
       "        vertical-align: middle;\n",
       "    }\n",
       "\n",
       "    .dataframe tbody tr th {\n",
       "        vertical-align: top;\n",
       "    }\n",
       "\n",
       "    .dataframe thead th {\n",
       "        text-align: right;\n",
       "    }\n",
       "</style>\n",
       "<table border=\"1\" class=\"dataframe\">\n",
       "  <thead>\n",
       "    <tr style=\"text-align: right;\">\n",
       "      <th></th>\n",
       "      <th>combined_preprocessed</th>\n",
       "      <th>answered_percent</th>\n",
       "      <th>text_length</th>\n",
       "      <th>topic_0_from_five</th>\n",
       "      <th>topic_1_from_five</th>\n",
       "      <th>topic_2_from_five</th>\n",
       "      <th>topic_3_from_five</th>\n",
       "      <th>topic_4_from_five</th>\n",
       "      <th>topic_0_from_two</th>\n",
       "      <th>topic_1_from_two</th>\n",
       "    </tr>\n",
       "  </thead>\n",
       "  <tbody>\n",
       "    <tr>\n",
       "      <th>0</th>\n",
       "      <td>would love think kind intellectual either dumb...</td>\n",
       "      <td>100.0</td>\n",
       "      <td>1565</td>\n",
       "      <td>0.905500</td>\n",
       "      <td>0.023574</td>\n",
       "      <td>0.023639</td>\n",
       "      <td>0.023778</td>\n",
       "      <td>0.023509</td>\n",
       "      <td>0.271588</td>\n",
       "      <td>0.728412</td>\n",
       "    </tr>\n",
       "    <tr>\n",
       "      <th>1</th>\n",
       "      <td>chef mean workaholic love cook regardless whet...</td>\n",
       "      <td>60.0</td>\n",
       "      <td>815</td>\n",
       "      <td>0.027683</td>\n",
       "      <td>0.339134</td>\n",
       "      <td>0.027590</td>\n",
       "      <td>0.578125</td>\n",
       "      <td>0.027468</td>\n",
       "      <td>0.446532</td>\n",
       "      <td>0.553468</td>\n",
       "    </tr>\n",
       "    <tr>\n",
       "      <th>2</th>\n",
       "      <td>im ashamed much write public text online date ...</td>\n",
       "      <td>90.0</td>\n",
       "      <td>3728</td>\n",
       "      <td>0.914891</td>\n",
       "      <td>0.021284</td>\n",
       "      <td>0.021307</td>\n",
       "      <td>0.021207</td>\n",
       "      <td>0.021311</td>\n",
       "      <td>0.280111</td>\n",
       "      <td>0.719889</td>\n",
       "    </tr>\n",
       "    <tr>\n",
       "      <th>3</th>\n",
       "      <td>work library go school read thing write old de...</td>\n",
       "      <td>70.0</td>\n",
       "      <td>330</td>\n",
       "      <td>0.045781</td>\n",
       "      <td>0.045620</td>\n",
       "      <td>0.817402</td>\n",
       "      <td>0.045673</td>\n",
       "      <td>0.045524</td>\n",
       "      <td>0.330528</td>\n",
       "      <td>0.669472</td>\n",
       "    </tr>\n",
       "    <tr>\n",
       "      <th>4</th>\n",
       "      <td>hey hows go currently vague profile know come ...</td>\n",
       "      <td>50.0</td>\n",
       "      <td>496</td>\n",
       "      <td>0.031946</td>\n",
       "      <td>0.031976</td>\n",
       "      <td>0.872147</td>\n",
       "      <td>0.032119</td>\n",
       "      <td>0.031812</td>\n",
       "      <td>0.450953</td>\n",
       "      <td>0.549047</td>\n",
       "    </tr>\n",
       "    <tr>\n",
       "      <th>...</th>\n",
       "      <td>...</td>\n",
       "      <td>...</td>\n",
       "      <td>...</td>\n",
       "      <td>...</td>\n",
       "      <td>...</td>\n",
       "      <td>...</td>\n",
       "      <td>...</td>\n",
       "      <td>...</td>\n",
       "      <td>...</td>\n",
       "      <td>...</td>\n",
       "    </tr>\n",
       "    <tr>\n",
       "      <th>59941</th>\n",
       "      <td>vibrant expressive care optimist love people t...</td>\n",
       "      <td>100.0</td>\n",
       "      <td>1040</td>\n",
       "      <td>0.028120</td>\n",
       "      <td>0.887424</td>\n",
       "      <td>0.028228</td>\n",
       "      <td>0.028106</td>\n",
       "      <td>0.028123</td>\n",
       "      <td>0.571123</td>\n",
       "      <td>0.428877</td>\n",
       "    </tr>\n",
       "    <tr>\n",
       "      <th>59942</th>\n",
       "      <td>im nick never know write im sure hand im south...</td>\n",
       "      <td>100.0</td>\n",
       "      <td>1634</td>\n",
       "      <td>0.900146</td>\n",
       "      <td>0.024829</td>\n",
       "      <td>0.025074</td>\n",
       "      <td>0.024849</td>\n",
       "      <td>0.025101</td>\n",
       "      <td>0.218072</td>\n",
       "      <td>0.781928</td>\n",
       "    </tr>\n",
       "    <tr>\n",
       "      <th>59943</th>\n",
       "      <td>hello enjoy travel watch movie hang friend rul...</td>\n",
       "      <td>100.0</td>\n",
       "      <td>1189</td>\n",
       "      <td>0.024132</td>\n",
       "      <td>0.024193</td>\n",
       "      <td>0.024150</td>\n",
       "      <td>0.024269</td>\n",
       "      <td>0.903256</td>\n",
       "      <td>0.705119</td>\n",
       "      <td>0.294881</td>\n",
       "    </tr>\n",
       "    <tr>\n",
       "      <th>59944</th>\n",
       "      <td>world ball integrity one take either away momm...</td>\n",
       "      <td>100.0</td>\n",
       "      <td>1122</td>\n",
       "      <td>0.902030</td>\n",
       "      <td>0.024473</td>\n",
       "      <td>0.024496</td>\n",
       "      <td>0.024619</td>\n",
       "      <td>0.024383</td>\n",
       "      <td>0.307921</td>\n",
       "      <td>0.692079</td>\n",
       "    </tr>\n",
       "    <tr>\n",
       "      <th>59945</th>\n",
       "      <td>odd little enemy status someone make seem inte...</td>\n",
       "      <td>100.0</td>\n",
       "      <td>2107</td>\n",
       "      <td>0.911524</td>\n",
       "      <td>0.022130</td>\n",
       "      <td>0.022071</td>\n",
       "      <td>0.022207</td>\n",
       "      <td>0.022068</td>\n",
       "      <td>0.228716</td>\n",
       "      <td>0.771284</td>\n",
       "    </tr>\n",
       "  </tbody>\n",
       "</table>\n",
       "<p>59946 rows × 10 columns</p>\n",
       "</div>"
      ],
      "text/plain": [
       "                                   combined_preprocessed  answered_percent  \\\n",
       "0      would love think kind intellectual either dumb...             100.0   \n",
       "1      chef mean workaholic love cook regardless whet...              60.0   \n",
       "2      im ashamed much write public text online date ...              90.0   \n",
       "3      work library go school read thing write old de...              70.0   \n",
       "4      hey hows go currently vague profile know come ...              50.0   \n",
       "...                                                  ...               ...   \n",
       "59941  vibrant expressive care optimist love people t...             100.0   \n",
       "59942  im nick never know write im sure hand im south...             100.0   \n",
       "59943  hello enjoy travel watch movie hang friend rul...             100.0   \n",
       "59944  world ball integrity one take either away momm...             100.0   \n",
       "59945  odd little enemy status someone make seem inte...             100.0   \n",
       "\n",
       "       text_length  topic_0_from_five  topic_1_from_five  topic_2_from_five  \\\n",
       "0             1565           0.905500           0.023574           0.023639   \n",
       "1              815           0.027683           0.339134           0.027590   \n",
       "2             3728           0.914891           0.021284           0.021307   \n",
       "3              330           0.045781           0.045620           0.817402   \n",
       "4              496           0.031946           0.031976           0.872147   \n",
       "...            ...                ...                ...                ...   \n",
       "59941         1040           0.028120           0.887424           0.028228   \n",
       "59942         1634           0.900146           0.024829           0.025074   \n",
       "59943         1189           0.024132           0.024193           0.024150   \n",
       "59944         1122           0.902030           0.024473           0.024496   \n",
       "59945         2107           0.911524           0.022130           0.022071   \n",
       "\n",
       "       topic_3_from_five  topic_4_from_five  topic_0_from_two  \\\n",
       "0               0.023778           0.023509          0.271588   \n",
       "1               0.578125           0.027468          0.446532   \n",
       "2               0.021207           0.021311          0.280111   \n",
       "3               0.045673           0.045524          0.330528   \n",
       "4               0.032119           0.031812          0.450953   \n",
       "...                  ...                ...               ...   \n",
       "59941           0.028106           0.028123          0.571123   \n",
       "59942           0.024849           0.025101          0.218072   \n",
       "59943           0.024269           0.903256          0.705119   \n",
       "59944           0.024619           0.024383          0.307921   \n",
       "59945           0.022207           0.022068          0.228716   \n",
       "\n",
       "       topic_1_from_two  \n",
       "0              0.728412  \n",
       "1              0.553468  \n",
       "2              0.719889  \n",
       "3              0.669472  \n",
       "4              0.549047  \n",
       "...                 ...  \n",
       "59941          0.428877  \n",
       "59942          0.781928  \n",
       "59943          0.294881  \n",
       "59944          0.692079  \n",
       "59945          0.771284  \n",
       "\n",
       "[59946 rows x 10 columns]"
      ]
     },
     "execution_count": 3,
     "metadata": {},
     "output_type": "execute_result"
    }
   ],
   "source": [
    "df"
   ]
  },
  {
   "cell_type": "code",
   "execution_count": 9,
   "id": "6cc8eedd",
   "metadata": {},
   "outputs": [
    {
     "data": {
      "text/plain": [
       "(59946, 5)"
      ]
     },
     "execution_count": 9,
     "metadata": {},
     "output_type": "execute_result"
    }
   ],
   "source": [
    "document_topic_matrix = df.iloc[:, 3:8]"
   ]
  },
  {
   "cell_type": "markdown",
   "id": "83d93bae",
   "metadata": {},
   "source": [
    "## Topics distribution"
   ]
  },
  {
   "cell_type": "code",
   "execution_count": 10,
   "id": "e7cb02c2",
   "metadata": {},
   "outputs": [],
   "source": [
    "num_topics = document_topic_matrix.shape[1]  # Number of topics"
   ]
  },
  {
   "cell_type": "code",
   "execution_count": 14,
   "id": "316bdfd2",
   "metadata": {},
   "outputs": [
    {
     "data": {
      "text/plain": [
       "topic_0_from_five    17939.156010\n",
       "topic_1_from_five    10999.896109\n",
       "topic_2_from_five    10810.528728\n",
       "topic_3_from_five    10137.160498\n",
       "topic_4_from_five    10059.258654\n",
       "dtype: float64"
      ]
     },
     "execution_count": 14,
     "metadata": {},
     "output_type": "execute_result"
    }
   ],
   "source": [
    "# Compute the topic distribution (sum of topic probabilities across all documents)\n",
    "topic_distribution = np.sum(document_topic_matrix, axis=0)\n",
    "topic_distribution"
   ]
  },
  {
   "cell_type": "code",
   "execution_count": 15,
   "id": "c7c10233",
   "metadata": {},
   "outputs": [
    {
     "data": {
      "text/plain": [
       "topic_0_from_five    0.299255\n",
       "topic_1_from_five    0.183497\n",
       "topic_2_from_five    0.180338\n",
       "topic_3_from_five    0.169105\n",
       "topic_4_from_five    0.167805\n",
       "dtype: float64"
      ]
     },
     "execution_count": 15,
     "metadata": {},
     "output_type": "execute_result"
    }
   ],
   "source": [
    "# Normalize to get proportions\n",
    "topic_proportions = topic_distribution / np.sum(topic_distribution)\n",
    "topic_proportions"
   ]
  },
  {
   "cell_type": "code",
   "execution_count": 17,
   "id": "39e5ed24",
   "metadata": {},
   "outputs": [
    {
     "data": {
      "image/png": "[encoded data removed]",
      "text/plain": [
       "<Figure size 1000x500 with 1 Axes>"
      ]
     },
     "metadata": {},
     "output_type": "display_data"
    }
   ],
   "source": [
    "# Plot the distribution\n",
    "plt.figure(figsize=(10, 5))\n",
    "plt.bar(range(num_topics), topic_proportions, color=\"skyblue\")\n",
    "plt.xlabel(\"Topic Number\")\n",
    "plt.ylabel(\"Proportion of Documents\")\n",
    "plt.title(\"Topic Distribution Across Documents\")\n",
    "plt.xticks(range(num_topics))  # Ensure all topics are labeled\n",
    "plt.show()"
   ]
  },
  {
   "cell_type": "markdown",
   "id": "5072f068",
   "metadata": {},
   "source": [
    "## Wordcloud"
   ]
  },
  {
   "cell_type": "code",
   "execution_count": 23,
   "id": "979b486b",
   "metadata": {},
   "outputs": [
    {
     "name": "stdout",
     "output_type": "stream",
     "text": [
      "Collecting wordcloud\n",
      "  Using cached wordcloud-1.9.4-cp310-cp310-manylinux_2_17_x86_64.manylinux2014_x86_64.whl.metadata (3.4 kB)\n",
      "Requirement already satisfied: numpy>=1.6.1 in /home/dedefla/.pyenv/versions/3.10.6/envs/amooora/lib/python3.10/site-packages (from wordcloud) (1.23.5)\n",
      "Requirement already satisfied: pillow in /home/dedefla/.pyenv/versions/3.10.6/envs/amooora/lib/python3.10/site-packages (from wordcloud) (11.1.0)\n",
      "Requirement already satisfied: matplotlib in /home/dedefla/.pyenv/versions/3.10.6/envs/amooora/lib/python3.10/site-packages (from wordcloud) (3.10.1)\n",
      "Requirement already satisfied: contourpy>=1.0.1 in /home/dedefla/.pyenv/versions/3.10.6/envs/amooora/lib/python3.10/site-packages (from matplotlib->wordcloud) (1.3.1)\n",
      "Requirement already satisfied: cycler>=0.10 in /home/dedefla/.pyenv/versions/3.10.6/envs/amooora/lib/python3.10/site-packages (from matplotlib->wordcloud) (0.12.1)\n",
      "Requirement already satisfied: fonttools>=4.22.0 in /home/dedefla/.pyenv/versions/3.10.6/envs/amooora/lib/python3.10/site-packages (from matplotlib->wordcloud) (4.56.0)\n",
      "Requirement already satisfied: kiwisolver>=1.3.1 in /home/dedefla/.pyenv/versions/3.10.6/envs/amooora/lib/python3.10/site-packages (from matplotlib->wordcloud) (1.4.8)\n",
      "Requirement already satisfied: packaging>=20.0 in /home/dedefla/.pyenv/versions/3.10.6/envs/amooora/lib/python3.10/site-packages (from matplotlib->wordcloud) (24.2)\n",
      "Requirement already satisfied: pyparsing>=2.3.1 in /home/dedefla/.pyenv/versions/3.10.6/envs/amooora/lib/python3.10/site-packages (from matplotlib->wordcloud) (3.2.1)\n",
      "Requirement already satisfied: python-dateutil>=2.7 in /home/dedefla/.pyenv/versions/3.10.6/envs/amooora/lib/python3.10/site-packages (from matplotlib->wordcloud) (2.9.0.post0)\n",
      "Requirement already satisfied: six>=1.5 in /home/dedefla/.pyenv/versions/3.10.6/envs/amooora/lib/python3.10/site-packages (from python-dateutil>=2.7->matplotlib->wordcloud) (1.17.0)\n",
      "Using cached wordcloud-1.9.4-cp310-cp310-manylinux_2_17_x86_64.manylinux2014_x86_64.whl (511 kB)\n",
      "Installing collected packages: wordcloud\n",
      "Successfully installed wordcloud-1.9.4\n"
     ]
    }
   ],
   "source": [
    "!pip install wordcloud"
   ]
  },
  {
   "cell_type": "code",
   "execution_count": null,
   "id": "ef9237e9",
   "metadata": {},
   "outputs": [],
   "source": []
  }
 ],
 "metadata": {
  "kernelspec": {
   "display_name": "Python 3 (ipykernel)",
   "language": "python",
   "name": "python3"
  },
  "language_info": {
   "codemirror_mode": {
    "name": "ipython",
    "version": 3
   },
   "file_extension": ".py",
   "mimetype": "text/x-python",
   "name": "python",
   "nbconvert_exporter": "python",
   "pygments_lexer": "ipython3",
   "version": "3.10.6"
  },
  "toc": {
   "base_numbering": 1,
   "nav_menu": {},
   "number_sections": true,
   "sideBar": true,
   "skip_h1_title": false,
   "title_cell": "Table of Contents",
   "title_sidebar": "Contents",
   "toc_cell": false,
   "toc_position": {},
   "toc_section_display": true,
   "toc_window_display": false
  }
 },
 "nbformat": 4,
 "nbformat_minor": 5
}
