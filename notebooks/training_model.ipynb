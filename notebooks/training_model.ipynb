{
 "cells": [
  {
   "cell_type": "markdown",
   "id": "2a71ba6f-540c-4562-8374-5f929c26381d",
   "metadata": {},
   "source": [
    "# Training Model"
   ]
  },
  {
   "cell_type": "markdown",
   "id": "2590b694-91b6-4943-8830-3f2e7f916d28",
   "metadata": {},
   "source": [
    "## Importing packages"
   ]
  },
  {
   "cell_type": "code",
   "execution_count": 61,
   "id": "8b071fb3-d79a-4fb4-93a3-ee85d088a201",
   "metadata": {},
   "outputs": [],
   "source": [
    "import pandas as pd\n",
    "import numpy as np\n",
    "import matplotlib.pyplot as plt\n",
    "import seaborn as sns\n",
    "from sklearn.neighbors import NearestNeighbors\n",
    "from sklearn.metrics.pairwise import cosine_similarity\n",
    "from sklearn.metrics import silhouette_score\n",
    "from sklearn.metrics import davies_bouldin_score\n",
    "from sklearn.metrics import calinski_harabasz_score\n",
    "from sklearn.decomposition import PCA\n",
    "import matplotlib.pyplot as plt"
   ]
  },
  {
   "cell_type": "markdown",
   "id": "fb063a5c-f80c-4bed-9384-3cb3f27addfc",
   "metadata": {},
   "source": [
    "## Loading datasets"
   ]
  },
  {
   "cell_type": "code",
   "execution_count": 62,
   "id": "866ee86a-1b73-4c97-abbb-7fbe392d6046",
   "metadata": {},
   "outputs": [],
   "source": [
    "ok=pd.read_csv('../raw_data/ok_clean.csv')"
   ]
  },
  {
   "cell_type": "code",
   "execution_count": 63,
   "id": "0a3c62e3-bb2f-4fbf-a2b5-33a0be243b0a",
   "metadata": {},
   "outputs": [],
   "source": [
    "topics = pd.read_csv('../raw_data/text_and_topics.csv', keep_default_na=False)"
   ]
  },
  {
   "cell_type": "code",
   "execution_count": 64,
   "id": "e30dcd77-c7a7-4a04-a20d-7af05e710f4c",
   "metadata": {},
   "outputs": [],
   "source": [
    "ok = pd.concat([ok, topics], axis=1)"
   ]
  },
  {
   "cell_type": "markdown",
   "id": "d6dd80b9-7e5e-45b9-8369-0b44ff7e3830",
   "metadata": {},
   "source": [
    "## Defining X vector with features"
   ]
  },
  {
   "cell_type": "code",
   "execution_count": 26,
   "id": "460bbe3d-6062-479c-beed-3772c1e6dcb9",
   "metadata": {},
   "outputs": [],
   "source": [
    "num_cat=ok.iloc[:,1:107]"
   ]
  },
  {
   "cell_type": "code",
   "execution_count": 27,
   "id": "729fcb48-1c6b-42b3-96d5-b86000c34e76",
   "metadata": {},
   "outputs": [],
   "source": [
    "text=ok.iloc[:,116:121]"
   ]
  },
  {
   "cell_type": "code",
   "execution_count": 28,
   "id": "6a136765-1dbc-484c-a038-0f802171900a",
   "metadata": {},
   "outputs": [],
   "source": [
    "x = pd.concat([num_cat, text], axis=1)"
   ]
  },
  {
   "cell_type": "markdown",
   "id": "df7c159d-9b7a-4713-ab01-46989114da44",
   "metadata": {
    "tags": []
   },
   "source": [
    "## Baseline KNN Model"
   ]
  },
  {
   "cell_type": "markdown",
   "id": "ea364b28-0005-4d79-9bbf-268b91903f11",
   "metadata": {
    "tags": []
   },
   "source": [
    "### Define K-Means"
   ]
  },
  {
   "cell_type": "markdown",
   "id": "1e584685-65f3-4356-afa7-aa9fcab07a45",
   "metadata": {},
   "source": [
    "#### Not considering sex orientation"
   ]
  },
  {
   "cell_type": "code",
   "execution_count": 32,
   "id": "0ab83ca1-6233-4f81-b47b-6676d3fbfd26",
   "metadata": {},
   "outputs": [],
   "source": [
    "# Let's say `X` is the combined feature matrix with all the features you're using (including Word2Vec embeddings)\n",
    "\n",
    "# Initialize the KNN model\n",
    "knn = NearestNeighbors(n_neighbors=6, metric='cosine', n_jobs=-1)  # n_neighbors=6 because we include the query person as well\n",
    "knn.fit(x)  # Fit the model with your data\n",
    "\n",
    "# For each person in the dataset, find the 5 most similar people (excluding themselves)\n",
    "distances, indices = knn.kneighbors(x)\n",
    "\n",
    "# Now `indices` contains the indices of the 6 nearest neighbors (including the person themselves) for each person\n",
    "# So, for each row (person), take indices[1:] to exclude the person from the nearest neighbors\n",
    "\n",
    "# To visualize or get the top 5 nearest neighbors for each person:\n",
    "for i in range(len(indices)):\n",
    "    similar_people = indices[i][1:]  # Exclude the person themselves (index 0)\n",
    "    #print(f\"Person {i}'s 5 most similar people: {similar_people}\")\n",
    "\n",
    "# Store the 5 closest matches (excluding self)\n",
    "for i in range(5):\n",
    "    ok[f'match_{i+1}_index'] = indices[:, i+1]  # Row index\n",
    "    ok[f'match_{i+1}_distance'] = distances[:, i+1]  # Distance score"
   ]
  },
  {
   "cell_type": "markdown",
   "id": "babd3db7-32dd-4688-a2d2-271a54fa250d",
   "metadata": {},
   "source": [
    "#### Taking orientation into account"
   ]
  },
  {
   "cell_type": "code",
   "execution_count": 39,
   "id": "05f05aa3-02ae-4b6b-8ca1-31b6d7feeb74",
   "metadata": {},
   "outputs": [],
   "source": [
    "n_neighbors = 20  # Get more matches to filter by gender & orientation\n",
    "\n",
    "# Fit KNN model\n",
    "knn = NearestNeighbors(n_neighbors=n_neighbors, metric='euclidean')\n",
    "knn.fit(x)\n",
    "\n",
    "# Get the nearest neighbors (including self)\n",
    "distances, indices = knn.kneighbors(x)\n",
    "\n",
    "# Function to filter based on orientation & gender\n",
    "def get_valid_matches(idx):\n",
    "    user_gender = ok.loc[idx, 'female']  # 1 = Female, 0 = Male\n",
    "    is_bisexual = ok.loc[idx, 'orientation_bisexual'] == 1\n",
    "    is_gay = ok.loc[idx, 'orientation_gay'] == 1\n",
    "    is_straight = ok.loc[idx, 'orientation_straight'] == 1\n",
    "\n",
    "    valid_matches = []\n",
    "    count = 0\n",
    "\n",
    "    for neighbor_idx, dist in zip(indices[idx, 1:], distances[idx, 1:]):  # Exclude self\n",
    "        neighbor_gender = ok.loc[neighbor_idx, 'female']\n",
    "\n",
    "        # Matching logic\n",
    "        if is_bisexual or (is_straight and user_gender != neighbor_gender) or (is_gay and user_gender == neighbor_gender):\n",
    "            valid_matches.append((neighbor_idx, dist))\n",
    "            count += 1\n",
    "            if count == 5:  # Stop after 5 valid matches\n",
    "                break\n",
    "    \n",
    "    return valid_matches\n",
    "\n",
    "# Apply filtering for all users\n",
    "match_indices = []\n",
    "match_distances = []\n",
    "\n",
    "for idx in range(len(ok)):\n",
    "    matches = get_valid_matches(idx)\n",
    "    \n",
    "    # If not enough matches, fill with NaN\n",
    "    while len(matches) < 5:\n",
    "        matches.append((None, None))\n",
    "\n",
    "    match_indices.append([m[0] for m in matches])\n",
    "    match_distances.append([m[1] for m in matches])\n",
    "\n",
    "# Save matches to the dataset\n",
    "for i in range(5):\n",
    "    ok[f'match_{i+1}_index'] = [row[i] for row in match_indices]\n",
    "    ok[f'match_{i+1}_distance'] = [row[i] for row in match_distances]"
   ]
  },
  {
   "cell_type": "code",
   "execution_count": 41,
   "id": "32951572-c2f7-4009-b157-b2c9345d9b16",
   "metadata": {},
   "outputs": [
    {
     "data": {
      "text/html": [
       "<div>\n",
       "<style scoped>\n",
       "    .dataframe tbody tr th:only-of-type {\n",
       "        vertical-align: middle;\n",
       "    }\n",
       "\n",
       "    .dataframe tbody tr th {\n",
       "        vertical-align: top;\n",
       "    }\n",
       "\n",
       "    .dataframe thead th {\n",
       "        text-align: right;\n",
       "    }\n",
       "</style>\n",
       "<table border=\"1\" class=\"dataframe\">\n",
       "  <thead>\n",
       "    <tr style=\"text-align: right;\">\n",
       "      <th></th>\n",
       "      <th>age_scaled</th>\n",
       "      <th>single</th>\n",
       "      <th>female</th>\n",
       "      <th>orientation_bisexual</th>\n",
       "      <th>orientation_gay</th>\n",
       "      <th>orientation_straight</th>\n",
       "      <th>body_type_athletic</th>\n",
       "      <th>body_type_average</th>\n",
       "      <th>body_type_curvy</th>\n",
       "      <th>body_type_fit</th>\n",
       "      <th>...</th>\n",
       "      <th>match_1_index</th>\n",
       "      <th>match_1_distance</th>\n",
       "      <th>match_2_index</th>\n",
       "      <th>match_2_distance</th>\n",
       "      <th>match_3_index</th>\n",
       "      <th>match_3_distance</th>\n",
       "      <th>match_4_index</th>\n",
       "      <th>match_4_distance</th>\n",
       "      <th>match_5_index</th>\n",
       "      <th>match_5_distance</th>\n",
       "    </tr>\n",
       "  </thead>\n",
       "  <tbody>\n",
       "    <tr>\n",
       "      <th>0</th>\n",
       "      <td>0.078431</td>\n",
       "      <td>1</td>\n",
       "      <td>0</td>\n",
       "      <td>0</td>\n",
       "      <td>0</td>\n",
       "      <td>1</td>\n",
       "      <td>0</td>\n",
       "      <td>0</td>\n",
       "      <td>0</td>\n",
       "      <td>0</td>\n",
       "      <td>...</td>\n",
       "      <td>51038.0</td>\n",
       "      <td>3.811792</td>\n",
       "      <td>11098.0</td>\n",
       "      <td>3.918768</td>\n",
       "      <td>NaN</td>\n",
       "      <td>NaN</td>\n",
       "      <td>NaN</td>\n",
       "      <td>NaN</td>\n",
       "      <td>NaN</td>\n",
       "      <td>NaN</td>\n",
       "    </tr>\n",
       "    <tr>\n",
       "      <th>1</th>\n",
       "      <td>0.333333</td>\n",
       "      <td>1</td>\n",
       "      <td>0</td>\n",
       "      <td>0</td>\n",
       "      <td>0</td>\n",
       "      <td>1</td>\n",
       "      <td>0</td>\n",
       "      <td>1</td>\n",
       "      <td>0</td>\n",
       "      <td>0</td>\n",
       "      <td>...</td>\n",
       "      <td>55336.0</td>\n",
       "      <td>3.679834</td>\n",
       "      <td>46448.0</td>\n",
       "      <td>3.905600</td>\n",
       "      <td>NaN</td>\n",
       "      <td>NaN</td>\n",
       "      <td>NaN</td>\n",
       "      <td>NaN</td>\n",
       "      <td>NaN</td>\n",
       "      <td>NaN</td>\n",
       "    </tr>\n",
       "    <tr>\n",
       "      <th>2</th>\n",
       "      <td>0.392157</td>\n",
       "      <td>0</td>\n",
       "      <td>0</td>\n",
       "      <td>0</td>\n",
       "      <td>0</td>\n",
       "      <td>1</td>\n",
       "      <td>0</td>\n",
       "      <td>0</td>\n",
       "      <td>0</td>\n",
       "      <td>0</td>\n",
       "      <td>...</td>\n",
       "      <td>12169.0</td>\n",
       "      <td>3.769973</td>\n",
       "      <td>31921.0</td>\n",
       "      <td>3.792117</td>\n",
       "      <td>30799.0</td>\n",
       "      <td>3.907568</td>\n",
       "      <td>38045.0</td>\n",
       "      <td>3.919192</td>\n",
       "      <td>56791.0</td>\n",
       "      <td>3.948018</td>\n",
       "    </tr>\n",
       "    <tr>\n",
       "      <th>3</th>\n",
       "      <td>0.098039</td>\n",
       "      <td>1</td>\n",
       "      <td>0</td>\n",
       "      <td>0</td>\n",
       "      <td>0</td>\n",
       "      <td>1</td>\n",
       "      <td>0</td>\n",
       "      <td>0</td>\n",
       "      <td>0</td>\n",
       "      <td>0</td>\n",
       "      <td>...</td>\n",
       "      <td>52475.0</td>\n",
       "      <td>3.240542</td>\n",
       "      <td>1712.0</td>\n",
       "      <td>3.475727</td>\n",
       "      <td>34137.0</td>\n",
       "      <td>3.653172</td>\n",
       "      <td>53227.0</td>\n",
       "      <td>3.663476</td>\n",
       "      <td>NaN</td>\n",
       "      <td>NaN</td>\n",
       "    </tr>\n",
       "    <tr>\n",
       "      <th>4</th>\n",
       "      <td>0.215686</td>\n",
       "      <td>1</td>\n",
       "      <td>0</td>\n",
       "      <td>0</td>\n",
       "      <td>0</td>\n",
       "      <td>1</td>\n",
       "      <td>1</td>\n",
       "      <td>0</td>\n",
       "      <td>0</td>\n",
       "      <td>0</td>\n",
       "      <td>...</td>\n",
       "      <td>36386.0</td>\n",
       "      <td>3.106583</td>\n",
       "      <td>34667.0</td>\n",
       "      <td>3.271129</td>\n",
       "      <td>32466.0</td>\n",
       "      <td>3.298720</td>\n",
       "      <td>44081.0</td>\n",
       "      <td>3.375794</td>\n",
       "      <td>NaN</td>\n",
       "      <td>NaN</td>\n",
       "    </tr>\n",
       "    <tr>\n",
       "      <th>...</th>\n",
       "      <td>...</td>\n",
       "      <td>...</td>\n",
       "      <td>...</td>\n",
       "      <td>...</td>\n",
       "      <td>...</td>\n",
       "      <td>...</td>\n",
       "      <td>...</td>\n",
       "      <td>...</td>\n",
       "      <td>...</td>\n",
       "      <td>...</td>\n",
       "      <td>...</td>\n",
       "      <td>...</td>\n",
       "      <td>...</td>\n",
       "      <td>...</td>\n",
       "      <td>...</td>\n",
       "      <td>...</td>\n",
       "      <td>...</td>\n",
       "      <td>...</td>\n",
       "      <td>...</td>\n",
       "      <td>...</td>\n",
       "      <td>...</td>\n",
       "    </tr>\n",
       "    <tr>\n",
       "      <th>59941</th>\n",
       "      <td>0.803922</td>\n",
       "      <td>1</td>\n",
       "      <td>1</td>\n",
       "      <td>0</td>\n",
       "      <td>0</td>\n",
       "      <td>1</td>\n",
       "      <td>0</td>\n",
       "      <td>0</td>\n",
       "      <td>0</td>\n",
       "      <td>0</td>\n",
       "      <td>...</td>\n",
       "      <td>50126.0</td>\n",
       "      <td>3.353490</td>\n",
       "      <td>48181.0</td>\n",
       "      <td>3.401199</td>\n",
       "      <td>36020.0</td>\n",
       "      <td>3.477639</td>\n",
       "      <td>NaN</td>\n",
       "      <td>NaN</td>\n",
       "      <td>NaN</td>\n",
       "      <td>NaN</td>\n",
       "    </tr>\n",
       "    <tr>\n",
       "      <th>59942</th>\n",
       "      <td>0.117647</td>\n",
       "      <td>1</td>\n",
       "      <td>0</td>\n",
       "      <td>0</td>\n",
       "      <td>0</td>\n",
       "      <td>1</td>\n",
       "      <td>0</td>\n",
       "      <td>0</td>\n",
       "      <td>0</td>\n",
       "      <td>1</td>\n",
       "      <td>...</td>\n",
       "      <td>59896.0</td>\n",
       "      <td>3.467010</td>\n",
       "      <td>52117.0</td>\n",
       "      <td>3.613204</td>\n",
       "      <td>16296.0</td>\n",
       "      <td>3.614896</td>\n",
       "      <td>46448.0</td>\n",
       "      <td>3.618499</td>\n",
       "      <td>59387.0</td>\n",
       "      <td>3.621909</td>\n",
       "    </tr>\n",
       "    <tr>\n",
       "      <th>59943</th>\n",
       "      <td>0.470588</td>\n",
       "      <td>1</td>\n",
       "      <td>0</td>\n",
       "      <td>0</td>\n",
       "      <td>0</td>\n",
       "      <td>1</td>\n",
       "      <td>0</td>\n",
       "      <td>1</td>\n",
       "      <td>0</td>\n",
       "      <td>0</td>\n",
       "      <td>...</td>\n",
       "      <td>49716.0</td>\n",
       "      <td>3.409213</td>\n",
       "      <td>51574.0</td>\n",
       "      <td>3.487132</td>\n",
       "      <td>18765.0</td>\n",
       "      <td>3.546465</td>\n",
       "      <td>NaN</td>\n",
       "      <td>NaN</td>\n",
       "      <td>NaN</td>\n",
       "      <td>NaN</td>\n",
       "    </tr>\n",
       "    <tr>\n",
       "      <th>59944</th>\n",
       "      <td>0.176471</td>\n",
       "      <td>1</td>\n",
       "      <td>0</td>\n",
       "      <td>0</td>\n",
       "      <td>0</td>\n",
       "      <td>1</td>\n",
       "      <td>1</td>\n",
       "      <td>0</td>\n",
       "      <td>0</td>\n",
       "      <td>0</td>\n",
       "      <td>...</td>\n",
       "      <td>17656.0</td>\n",
       "      <td>3.733573</td>\n",
       "      <td>47273.0</td>\n",
       "      <td>3.823109</td>\n",
       "      <td>27294.0</td>\n",
       "      <td>3.825668</td>\n",
       "      <td>11418.0</td>\n",
       "      <td>3.831555</td>\n",
       "      <td>3913.0</td>\n",
       "      <td>3.844830</td>\n",
       "    </tr>\n",
       "    <tr>\n",
       "      <th>59945</th>\n",
       "      <td>0.411765</td>\n",
       "      <td>1</td>\n",
       "      <td>0</td>\n",
       "      <td>0</td>\n",
       "      <td>1</td>\n",
       "      <td>0</td>\n",
       "      <td>0</td>\n",
       "      <td>1</td>\n",
       "      <td>0</td>\n",
       "      <td>0</td>\n",
       "      <td>...</td>\n",
       "      <td>38229.0</td>\n",
       "      <td>3.101404</td>\n",
       "      <td>54383.0</td>\n",
       "      <td>3.163504</td>\n",
       "      <td>9725.0</td>\n",
       "      <td>3.253668</td>\n",
       "      <td>13482.0</td>\n",
       "      <td>3.372361</td>\n",
       "      <td>45837.0</td>\n",
       "      <td>3.402994</td>\n",
       "    </tr>\n",
       "  </tbody>\n",
       "</table>\n",
       "<p>59946 rows × 134 columns</p>\n",
       "</div>"
      ],
      "text/plain": [
       "       age_scaled  single  female  orientation_bisexual  orientation_gay  \\\n",
       "0        0.078431       1       0                     0                0   \n",
       "1        0.333333       1       0                     0                0   \n",
       "2        0.392157       0       0                     0                0   \n",
       "3        0.098039       1       0                     0                0   \n",
       "4        0.215686       1       0                     0                0   \n",
       "...           ...     ...     ...                   ...              ...   \n",
       "59941    0.803922       1       1                     0                0   \n",
       "59942    0.117647       1       0                     0                0   \n",
       "59943    0.470588       1       0                     0                0   \n",
       "59944    0.176471       1       0                     0                0   \n",
       "59945    0.411765       1       0                     0                1   \n",
       "\n",
       "       orientation_straight  body_type_athletic  body_type_average  \\\n",
       "0                         1                   0                  0   \n",
       "1                         1                   0                  1   \n",
       "2                         1                   0                  0   \n",
       "3                         1                   0                  0   \n",
       "4                         1                   1                  0   \n",
       "...                     ...                 ...                ...   \n",
       "59941                     1                   0                  0   \n",
       "59942                     1                   0                  0   \n",
       "59943                     1                   0                  1   \n",
       "59944                     1                   1                  0   \n",
       "59945                     0                   0                  1   \n",
       "\n",
       "       body_type_curvy  body_type_fit  ...  match_1_index  match_1_distance  \\\n",
       "0                    0              0  ...        51038.0          3.811792   \n",
       "1                    0              0  ...        55336.0          3.679834   \n",
       "2                    0              0  ...        12169.0          3.769973   \n",
       "3                    0              0  ...        52475.0          3.240542   \n",
       "4                    0              0  ...        36386.0          3.106583   \n",
       "...                ...            ...  ...            ...               ...   \n",
       "59941                0              0  ...        50126.0          3.353490   \n",
       "59942                0              1  ...        59896.0          3.467010   \n",
       "59943                0              0  ...        49716.0          3.409213   \n",
       "59944                0              0  ...        17656.0          3.733573   \n",
       "59945                0              0  ...        38229.0          3.101404   \n",
       "\n",
       "       match_2_index  match_2_distance  match_3_index  match_3_distance  \\\n",
       "0            11098.0          3.918768            NaN               NaN   \n",
       "1            46448.0          3.905600            NaN               NaN   \n",
       "2            31921.0          3.792117        30799.0          3.907568   \n",
       "3             1712.0          3.475727        34137.0          3.653172   \n",
       "4            34667.0          3.271129        32466.0          3.298720   \n",
       "...              ...               ...            ...               ...   \n",
       "59941        48181.0          3.401199        36020.0          3.477639   \n",
       "59942        52117.0          3.613204        16296.0          3.614896   \n",
       "59943        51574.0          3.487132        18765.0          3.546465   \n",
       "59944        47273.0          3.823109        27294.0          3.825668   \n",
       "59945        54383.0          3.163504         9725.0          3.253668   \n",
       "\n",
       "       match_4_index  match_4_distance  match_5_index  match_5_distance  \n",
       "0                NaN               NaN            NaN               NaN  \n",
       "1                NaN               NaN            NaN               NaN  \n",
       "2            38045.0          3.919192        56791.0          3.948018  \n",
       "3            53227.0          3.663476            NaN               NaN  \n",
       "4            44081.0          3.375794            NaN               NaN  \n",
       "...              ...               ...            ...               ...  \n",
       "59941            NaN               NaN            NaN               NaN  \n",
       "59942        46448.0          3.618499        59387.0          3.621909  \n",
       "59943            NaN               NaN            NaN               NaN  \n",
       "59944        11418.0          3.831555         3913.0          3.844830  \n",
       "59945        13482.0          3.372361        45837.0          3.402994  \n",
       "\n",
       "[59946 rows x 134 columns]"
      ]
     },
     "execution_count": 41,
     "metadata": {},
     "output_type": "execute_result"
    }
   ],
   "source": [
    "ok"
   ]
  },
  {
   "cell_type": "markdown",
   "id": "8020bf7b-9841-48c5-a081-a1c646be318d",
   "metadata": {},
   "source": [
    "### Evaluating the model"
   ]
  },
  {
   "cell_type": "markdown",
   "id": "4ec48cc4-051d-4ca8-bb33-e56312d662f4",
   "metadata": {
    "tags": []
   },
   "source": [
    "#### Internal Clustering Metrics (to evaluate similarity structure)"
   ]
  },
  {
   "cell_type": "markdown",
   "id": "4bb12bb5-0741-4575-8c6a-5a0eee7b2c93",
   "metadata": {},
   "source": [
    "##### Silhouette Score, Davies-Bouldin Index, Calinski-Harabasz Index"
   ]
  },
  {
   "cell_type": "code",
   "execution_count": 51,
   "id": "6de10f0e-0a4f-43c5-89d7-4cbd6becd133",
   "metadata": {},
   "outputs": [
    {
     "name": "stdout",
     "output_type": "stream",
     "text": [
      "Silhouette Score: 0.0206\n",
      "Davies-Bouldin Index: 3.6780\n",
      "Calinski-Harabasz Score: 688.5955\n"
     ]
    }
   ],
   "source": [
    "# Silhouette Score measures how well each point fits into its cluster.\n",
    "# Ranges from -1 to 1 (higher is better)\n",
    "silhouette_avg = silhouette_score(x, ok['cluster'])\n",
    "print(f'Silhouette Score: {silhouette_avg:.4f}')\n",
    "\n",
    "#Davies-Bouldin Index Measures the average similarity between clusters.\n",
    "#Lower values indicate better clustering.\n",
    "db_index = davies_bouldin_score(x, ok['cluster'])\n",
    "print(f'Davies-Bouldin Index: {db_index:.4f}')\n",
    "\n",
    "# Calinski-Harabasz Index measures the separation between clusters.\n",
    "# Higher values indicate better clustering\n",
    "ch_score = calinski_harabasz_score(x, ok['cluster'])\n",
    "print(f'Calinski-Harabasz Score: {ch_score:.4f}')"
   ]
  },
  {
   "cell_type": "markdown",
   "id": "abed5970-070b-4d4d-a651-512cd3d23acf",
   "metadata": {},
   "source": [
    "#### Recommendation-Based Metrics (to evaluate user matches)"
   ]
  },
  {
   "cell_type": "markdown",
   "id": "9c423d58-c9f1-4cb1-b6fd-1c296749d6ce",
   "metadata": {
    "tags": []
   },
   "source": [
    "##### Average Distance of Matches"
   ]
  },
  {
   "cell_type": "code",
   "execution_count": 53,
   "id": "7e245316-4e6f-4258-966f-d7bd3f8786d3",
   "metadata": {},
   "outputs": [
    {
     "name": "stdout",
     "output_type": "stream",
     "text": [
      "Average Match Distance: 3.2456\n"
     ]
    }
   ],
   "source": [
    "#Checks if the suggested matches are actually close in feature space\n",
    "#Lower values mean the suggested users are more similar. \n",
    "\n",
    "avg_match_distance = np.mean([ok[f'match_{i+1}_distance'].mean() for i in range(5)])\n",
    "print(f'Average Match Distance: {avg_match_distance:.4f}')"
   ]
  },
  {
   "cell_type": "markdown",
   "id": "3c9faae9-88ce-4c98-8f2d-145e998ef203",
   "metadata": {
    "tags": []
   },
   "source": [
    "##### Gender & Orientation Consistency"
   ]
  },
  {
   "cell_type": "code",
   "execution_count": 45,
   "id": "9a260440-dbae-4d4c-ab0c-2ab875714d18",
   "metadata": {},
   "outputs": [
    {
     "name": "stdout",
     "output_type": "stream",
     "text": [
      "Gender/Orientation Match Accuracy: 100.00%\n"
     ]
    }
   ],
   "source": [
    "valid_suggestions = 0\n",
    "total_suggestions = 0\n",
    "\n",
    "for i in range(len(ok)):\n",
    "    user_gender = ok.loc[i, 'female']\n",
    "    is_bisexual = ok.loc[i, 'orientation_bisexual'] == 1\n",
    "    is_gay = ok.loc[i, 'orientation_gay'] == 1\n",
    "    is_straight = ok.loc[i, 'orientation_straight'] == 1\n",
    "\n",
    "    for j in range(5):  # Check all 5 matches\n",
    "        match_idx = ok.loc[i, f'match_{j+1}_index']\n",
    "        if match_idx is None or np.isnan(match_idx):\n",
    "            continue  # Skip if no match found\n",
    "\n",
    "        match_gender = ok.loc[int(match_idx), 'female']\n",
    "        \n",
    "        # Check if match follows orientation rules\n",
    "        if is_bisexual or (is_straight and user_gender != match_gender) or (is_gay and user_gender == match_gender):\n",
    "            valid_suggestions += 1\n",
    "        \n",
    "        total_suggestions += 1\n",
    "\n",
    "print(f'Gender/Orientation Match Accuracy: {valid_suggestions / total_suggestions:.2%}')\n"
   ]
  },
  {
   "cell_type": "markdown",
   "id": "cb688ef8-f3b6-4a2b-a759-11d30337a7b6",
   "metadata": {},
   "source": [
    "#### Summarize metric results"
   ]
  },
  {
   "cell_type": "markdown",
   "id": "8157b127-c44b-4bee-a9ff-b98d8210aa61",
   "metadata": {},
   "source": [
    "Metrics Breakdown\n",
    "1️⃣ Silhouette Score: 0.0206 (Poor)\n",
    "This is very low, meaning clusters are not well-separated and may have significant overlap.\n",
    "Ideal values are closer to 1.0 (well-clustered) and should at least be above 0.2–0.3 for meaningful separation.\n",
    "2️⃣ Davies-Bouldin Index: 3.6780 (High = Bad)\n",
    "Lower is better. A high DB index means clusters are not distinct, indicating high within-cluster variance.\n",
    "Values closer to 1.0 or lower are preferable.\n",
    "3️⃣ Calinski-Harabasz Score: 688.5955 (Higher is Better)\n",
    "Measures cluster separation & cohesion (higher is better).\n",
    "The value itself isn't bad, but it should be interpreted alongside Silhouette & DB Index.\n",
    "4️⃣ Average Match Distance: 3.2456\n",
    "Measures how far suggested matches are in feature space.\n",
    "Lower is better, ideally below 2.0.\n"
   ]
  },
  {
   "cell_type": "markdown",
   "id": "aa54528a-5c81-463a-955d-11b26f8c4356",
   "metadata": {},
   "source": [
    "## Function to run several KNN Models"
   ]
  },
  {
   "cell_type": "code",
   "execution_count": 8,
   "id": "8d2579fc-9760-4939-a034-068445cb6956",
   "metadata": {},
   "outputs": [],
   "source": [
    "def run_knn_and_evaluate(k, x, metric='euclidean'):\n",
    "    \"\"\"\n",
    "    Runs a KNN model, evaluates matches based on gender and orientation, and calculates evaluation metrics.\n",
    "    \n",
    "    Parameters:\n",
    "        k (int): Number of neighbors to consider.\n",
    "        x (array-like): Feature vectors for the KNN model.\n",
    "        metric (str): Distance metric for KNN (default: 'euclidean').\n",
    "    \n",
    "    Returns:\n",
    "        dict: A dictionary containing evaluation metrics.\n",
    "    \"\"\"\n",
    "    # Fit KNN model\n",
    "    knn = NearestNeighbors(n_neighbors=k, metric=metric)\n",
    "    knn.fit(x)\n",
    "\n",
    "    # Get the nearest neighbors (including self)\n",
    "    distances, indices = knn.kneighbors(x)\n",
    "\n",
    "    # Function to filter based on orientation & gender\n",
    "    def get_valid_matches(idx):\n",
    "        user_gender = ok.loc[idx, 'female']  # 1 = Female, 0 = Male\n",
    "        is_bisexual = ok.loc[idx, 'orientation_bisexual'] == 1\n",
    "        is_gay = ok.loc[idx, 'orientation_gay'] == 1\n",
    "        is_straight = ok.loc[idx, 'orientation_straight'] == 1\n",
    "\n",
    "        valid_matches = []\n",
    "        count = 0\n",
    "\n",
    "        for neighbor_idx, dist in zip(indices[idx, 1:], distances[idx, 1:]):  # Exclude self\n",
    "            neighbor_gender = ok.loc[neighbor_idx, 'female']\n",
    "\n",
    "            # Matching logic\n",
    "            if is_bisexual or (is_straight and user_gender != neighbor_gender) or (is_gay and user_gender == neighbor_gender):\n",
    "                valid_matches.append((neighbor_idx, dist))\n",
    "                count += 1\n",
    "                if count == 5:  # Stop after 5 valid matches\n",
    "                    break\n",
    "        \n",
    "        return valid_matches\n",
    "\n",
    "    # Apply filtering for all users\n",
    "    match_indices = []\n",
    "    match_distances = []\n",
    "\n",
    "    for idx in range(len(ok)):\n",
    "        matches = get_valid_matches(idx)\n",
    "        \n",
    "        # If not enough matches, fill with NaN\n",
    "        while len(matches) < 5:\n",
    "            matches.append((None, None))\n",
    "\n",
    "        match_indices.append([m[0] for m in matches])\n",
    "        match_distances.append([m[1] for m in matches])\n",
    "\n",
    "    # Save matches to the dataset\n",
    "    for i in range(5):\n",
    "        ok[f'match_{i+1}_index'] = [row[i] for row in match_indices]\n",
    "        ok[f'match_{i+1}_distance'] = [row[i] for row in match_distances]\n",
    "\n",
    "    # Evaluation Metrics\n",
    "    silhouette_avg = silhouette_score(x, ok['cluster'])\n",
    "    db_index = davies_bouldin_score(x, ok['cluster'])\n",
    "    ch_score = calinski_harabasz_score(x, ok['cluster'])\n",
    "    avg_match_distance = np.mean([ok[f'match_{i+1}_distance'].mean() for i in range(5)])\n",
    "\n",
    "    # Gender/Orientation Match Accuracy\n",
    "    valid_suggestions = 0\n",
    "    total_suggestions = 0\n",
    "\n",
    "    for i in range(len(ok)):\n",
    "        user_gender = ok.loc[i, 'female']\n",
    "        is_bisexual = ok.loc[i, 'orientation_bisexual'] == 1\n",
    "        is_gay = ok.loc[i, 'orientation_gay'] == 1\n",
    "        is_straight = ok.loc[i, 'orientation_straight'] == 1\n",
    "\n",
    "        for j in range(5):  # Check all 5 matches\n",
    "            match_idx = ok.loc[i, f'match_{j+1}_index']\n",
    "            if match_idx is None or np.isnan(match_idx):\n",
    "                continue  # Skip if no match found\n",
    "\n",
    "            match_gender = ok.loc[int(match_idx), 'female']\n",
    "            \n",
    "            # Check if match follows orientation rules\n",
    "            if is_bisexual or (is_straight and user_gender != match_gender) or (is_gay and user_gender == match_gender):\n",
    "                valid_suggestions += 1\n",
    "            \n",
    "            total_suggestions += 1\n",
    "\n",
    "    gender_orientation_accuracy = valid_suggestions / total_suggestions\n",
    "\n",
    "    # Return metrics as a dictionary\n",
    "    metrics = {\n",
    "        'Silhouette Score': silhouette_avg,\n",
    "        'Davies-Bouldin Index': db_index,\n",
    "        'Calinski-Harabasz Score': ch_score,\n",
    "        'Average Match Distance': avg_match_distance,\n",
    "        'Gender/Orientation Match Accuracy': gender_orientation_accuracy\n",
    "    }\n",
    "\n",
    "    return metrics"
   ]
  },
  {
   "cell_type": "markdown",
   "id": "801f61d4-0a15-4b9d-b136-a9be94d1bb17",
   "metadata": {},
   "source": [
    "### Model 1: Baseline 5 LDA Topics, all 111 features"
   ]
  },
  {
   "cell_type": "code",
   "execution_count": 56,
   "id": "675100de-9680-47fd-960a-f6a57f229d88",
   "metadata": {},
   "outputs": [
    {
     "data": {
      "text/plain": [
       "{'Silhouette Score': 0.020581739133098898,\n",
       " 'Davies-Bouldin Index': 3.6779848197346308,\n",
       " 'Calinski-Harabasz Score': 688.5955142538597,\n",
       " 'Average Match Distance': 3.245550940371514,\n",
       " 'Gender/Orientation Match Accuracy': 1.0}"
      ]
     },
     "execution_count": 56,
     "metadata": {},
     "output_type": "execute_result"
    }
   ],
   "source": [
    "run_knn_and_evaluate(20, x, metric='euclidean')"
   ]
  },
  {
   "cell_type": "markdown",
   "id": "dd97a5b7-71ba-4951-abb2-87bca1199e38",
   "metadata": {},
   "source": [
    "### Model 2: 2 LDA Topics, all 111 features)"
   ]
  },
  {
   "cell_type": "code",
   "execution_count": 62,
   "id": "185f7504-78dd-4ecc-b4b3-cf43acd43ccd",
   "metadata": {},
   "outputs": [],
   "source": [
    "text=ok.iloc[:,121:123]\n",
    "num_cat=ok.iloc[:,1:107]\n",
    "x = pd.concat([num_cat, text], axis=1)"
   ]
  },
  {
   "cell_type": "code",
   "execution_count": 63,
   "id": "8ed4d69f-393f-4d39-9e5b-7f88325776ad",
   "metadata": {},
   "outputs": [
    {
     "data": {
      "text/plain": [
       "{'Silhouette Score': 0.020845198435285095,\n",
       " 'Davies-Bouldin Index': 3.6294405236603535,\n",
       " 'Calinski-Harabasz Score': 696.1035073024036,\n",
       " 'Average Match Distance': 3.1157450996331484,\n",
       " 'Gender/Orientation Match Accuracy': 1.0}"
      ]
     },
     "execution_count": 63,
     "metadata": {},
     "output_type": "execute_result"
    }
   ],
   "source": [
    "run_knn_and_evaluate(20, x, metric='euclidean')"
   ]
  },
  {
   "cell_type": "markdown",
   "id": "62dadbd0-79d6-4026-ac22-70e247844997",
   "metadata": {},
   "source": [
    "### Model 3: 2 Word2vec_embeddings_scaled, all 111 features)"
   ]
  },
  {
   "cell_type": "code",
   "execution_count": 66,
   "id": "8b247d16-f541-489d-b0c3-24f4aceefaf6",
   "metadata": {},
   "outputs": [],
   "source": [
    "# Clean the string representation\n",
    "ok['word2vec_embeddings_scaled'] = (\n",
    "    ok['word2vec_embeddings_scaled']\n",
    "    .str.replace(r'\\s+', ',', regex=True)  # Replace multiple spaces with a single comma\n",
    "    .str.replace(',,', ',')  # Replace double commas with a single comma\n",
    "    .str.strip('[]')  # Remove square brackets\n",
    ")"
   ]
  },
  {
   "cell_type": "code",
   "execution_count": 67,
   "id": "a2454c60-0722-4b47-a481-de949692e144",
   "metadata": {},
   "outputs": [],
   "source": [
    "from ast import literal_eval\n",
    "\n",
    "# Convert the string representations to lists of floats\n",
    "ok['word2vec_embeddings_scaled'] = ok['word2vec_embeddings_scaled'].apply(literal_eval)"
   ]
  },
  {
   "cell_type": "code",
   "execution_count": 68,
   "id": "8e9ab068-4de7-497f-a3b5-a674e0a0b594",
   "metadata": {},
   "outputs": [],
   "source": [
    "# Convert the list to a NumPy array\n",
    "ok['word2vec_embeddings_scaled'] = ok['word2vec_embeddings_scaled'].apply(np.array)"
   ]
  },
  {
   "cell_type": "code",
   "execution_count": 69,
   "id": "a390f584-fe9c-4757-8df8-eb0afa0f4f81",
   "metadata": {},
   "outputs": [],
   "source": [
    " # Replace with your actual feature names\n",
    "X_word2vec = np.array(ok['word2vec_embeddings_scaled'].tolist())  # Convert to 2D array\n",
    "X_other = x.values \n",
    "X_combined = np.hstack((X_word2vec, X_other))"
   ]
  },
  {
   "cell_type": "code",
   "execution_count": 55,
   "id": "2ca42b8c-be39-4099-bf26-bed315dddc09",
   "metadata": {},
   "outputs": [],
   "source": [
    "num_cat=ok.iloc[:,1:107]\n",
    "text=ok.iloc[:,112:113]\n",
    "x = pd.concat([num_cat, text], axis=1)"
   ]
  },
  {
   "cell_type": "code",
   "execution_count": 74,
   "id": "f75844e3-67b3-4891-8739-a6a95e380d23",
   "metadata": {},
   "outputs": [],
   "source": [
    "#run_knn_and_evaluate(20, X_combined, metric='euclidean')"
   ]
  },
  {
   "cell_type": "code",
   "execution_count": 71,
   "id": "029602e6-e62a-4fc2-add2-56e6d59245ef",
   "metadata": {},
   "outputs": [
    {
     "name": "stdout",
     "output_type": "stream",
     "text": [
      "True\n"
     ]
    }
   ],
   "source": [
    "print(X_word2vec_padded.shape[0] == X_other.shape[0])"
   ]
  },
  {
   "cell_type": "code",
   "execution_count": 72,
   "id": "655dfd68-4ccf-44f0-9f15-bd40e36e6d5a",
   "metadata": {},
   "outputs": [
    {
     "name": "stdout",
     "output_type": "stream",
     "text": [
      "(59946, 407)\n"
     ]
    }
   ],
   "source": [
    "print(X_combined.shape)"
   ]
  },
  {
   "cell_type": "code",
   "execution_count": 73,
   "id": "8c03ffbd-2107-4a44-8689-8d9df617af6d",
   "metadata": {},
   "outputs": [
    {
     "name": "stdout",
     "output_type": "stream",
     "text": [
      "0    [0.76321473, 0.64034454, 0.58260717, 0.1941664...\n",
      "1    [0.65697592, 0.62005705, 0.59067174, 0.1890259...\n",
      "2    [0.70801798, 0.64246498, 0.52894441, 0.1918418...\n",
      "3    [0.65878697, 0.67627868, 0.53726614, 0.2329434...\n",
      "4    [0.62431777, 0.69718922, 0.49372216, 0.2371102...\n",
      "Name: word2vec_embeddings_scaled, dtype: object\n"
     ]
    }
   ],
   "source": [
    "print(ok['word2vec_embeddings_scaled'].head())"
   ]
  },
  {
   "cell_type": "code",
   "execution_count": null,
   "id": "3725f494-eb02-40a6-a867-f173e03b6077",
   "metadata": {},
   "outputs": [],
   "source": []
  }
 ],
 "metadata": {
  "kernelspec": {
   "display_name": "Python 3 (ipykernel)",
   "language": "python",
   "name": "python3"
  },
  "language_info": {
   "codemirror_mode": {
    "name": "ipython",
    "version": 3
   },
   "file_extension": ".py",
   "mimetype": "text/x-python",
   "name": "python",
   "nbconvert_exporter": "python",
   "pygments_lexer": "ipython3",
   "version": "3.10.6"
  }
 },
 "nbformat": 4,
 "nbformat_minor": 5
}
