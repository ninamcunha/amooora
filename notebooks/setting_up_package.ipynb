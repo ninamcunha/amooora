{
 "cells": [
  {
   "cell_type": "markdown",
   "id": "e6dbcb82-90c1-4941-a24a-94c93ae3b2b3",
   "metadata": {},
   "source": [
    "# Setting up package"
   ]
  },
  {
   "cell_type": "code",
   "execution_count": null,
   "id": "b54ed5e3-62db-40c4-b7ae-e450ba973e54",
   "metadata": {},
   "outputs": [],
   "source": []
  }
 ],
 "metadata": {
  "kernelspec": {
   "display_name": "Python 3 (ipykernel)",
   "language": "python",
   "name": "python3"
  },
  "language_info": {
   "codemirror_mode": {
    "name": "ipython",
    "version": 3
   },
   "file_extension": ".py",
   "mimetype": "text/x-python",
   "name": "python",
   "nbconvert_exporter": "python",
   "pygments_lexer": "ipython3",
   "version": "3.10.6"
  }
 },
 "nbformat": 4,
 "nbformat_minor": 5
}
