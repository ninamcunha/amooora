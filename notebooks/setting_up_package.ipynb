{
 "cells": [
  {
   "cell_type": "markdown",
   "id": "e6dbcb82-90c1-4941-a24a-94c93ae3b2b3",
   "metadata": {},
   "source": [
    "# Setting up package"
   ]
  },
  {
   "cell_type": "code",
   "execution_count": null,
   "id": "8642a064-3c7f-4340-b846-0c0b115274d6",
   "metadata": {},
   "outputs": [],
   "source": [
    "features=['female', 'age_scaled', 'single','height_scaled','orientation_bisexual', 'orientation_gay',\n",
    "     'orientation_straight', 'education_type_college_univ', 'education_type_grad_or_professional_edu',\n",
    "     'education_type_not_disclosed','education_type_two_year_college_or_less', 'education_status_graduated',\n",
    "     'education_status_not_disclosed', 'education_status_working',  'speaks_english', 'speaks_spanish', \n",
    "     'speaks_other','diet_type_vegetarian', 'has_dogs_yes', 'no_of_kids_more_than_one','no_of_kids_one',\n",
    "     'text_length_scaled']"
   ]
  },
  {
   "cell_type": "code",
   "execution_count": 2,
   "id": "b54ed5e3-62db-40c4-b7ae-e450ba973e54",
   "metadata": {},
   "outputs": [],
   "source": [
    "# Age\n",
    "scaler = MinMaxScaler()\n",
    "ok['age_scaled'] = scaler.fit_transform(ok[['age']])"
   ]
  },
  {
   "cell_type": "code",
   "execution_count": null,
   "id": "8c83ca3e-e50b-486d-8ab7-c55e0cea4867",
   "metadata": {},
   "outputs": [],
   "source": []
  }
 ],
 "metadata": {
  "kernelspec": {
   "display_name": "Python 3 (ipykernel)",
   "language": "python",
   "name": "python3"
  },
  "language_info": {
   "codemirror_mode": {
    "name": "ipython",
    "version": 3
   },
   "file_extension": ".py",
   "mimetype": "text/x-python",
   "name": "python",
   "nbconvert_exporter": "python",
   "pygments_lexer": "ipython3",
   "version": "3.10.6"
  }
 },
 "nbformat": 4,
 "nbformat_minor": 5
}
