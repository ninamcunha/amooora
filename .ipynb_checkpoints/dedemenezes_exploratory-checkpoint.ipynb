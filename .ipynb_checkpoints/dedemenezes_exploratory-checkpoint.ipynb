{
 "cells": [
  {
   "cell_type": "code",
   "execution_count": 1,
   "id": "48b46a83-7734-407d-bbd8-365b8fb49cc2",
   "metadata": {},
   "outputs": [
    {
     "name": "stdout",
     "output_type": "stream",
     "text": [
      "\u001b[01;34m.\u001b[0m\n",
      "├── dedemenezes_exploratory.ipynb\n",
      "├── \u001b[01;34mraw_data\u001b[0m\n",
      "│   ├── okcupid_profiles.csv\n",
      "│   ├── \u001b[01;32mparsed_data_public.csv\u001b[0m\n",
      "│   ├── \u001b[01;32mquestion_data.csv\u001b[0m\n",
      "│   └── \u001b[01;32muser_data_public.csv\u001b[0m\n",
      "└── README.md\n",
      "\n",
      "1 directory, 6 files\n"
     ]
    }
   ],
   "source": [
    "!tree"
   ]
  },
  {
   "cell_type": "code",
   "execution_count": 2,
   "id": "0288d7c0-0bbf-41f8-966e-687edacb61cd",
   "metadata": {},
   "outputs": [],
   "source": [
    "import pandas as pd"
   ]
  },
  {
   "cell_type": "code",
   "execution_count": 3,
   "id": "ae74d9de-6bc2-4cac-8c09-cff9df9b0d24",
   "metadata": {},
   "outputs": [],
   "source": [
    "df = pd.read_csv('raw_data/okcupid_profiles.csv.csv', low_memory=False)"
   ]
  },
  {
   "cell_type": "code",
   "execution_count": 6,
   "id": "fa890203-d9fd-4a55-8221-fe8b4463ff3e",
   "metadata": {},
   "outputs": [
    {
     "data": {
      "text/plain": [
       "(68371, 2627)"
      ]
     },
     "execution_count": 6,
     "metadata": {},
     "output_type": "execute_result"
    }
   ],
   "source": [
    "df.shape"
   ]
  },
  {
   "cell_type": "code",
   "execution_count": 8,
   "id": "6dc47a3f-6746-4331-9ec8-b6afe3acef41",
   "metadata": {},
   "outputs": [
    {
     "data": {
      "text/plain": [
       "Index(['q36', 'q37', 'q38', 'q39', 'q41', 'q42', 'q43', 'q45', 'q46', 'q48',\n",
       "       ...\n",
       "       'q86615', 'q86699', 'q363047', 'CA', 'gender_orientation', 'gender',\n",
       "       'race', 'gender2', 'gender2_num', 'CA_items'],\n",
       "      dtype='object', length=2606)"
      ]
     },
     "execution_count": 8,
     "metadata": {},
     "output_type": "execute_result"
    }
   ],
   "source": [
    "df.iloc[:, 21:].columns"
   ]
  }
 ],
 "metadata": {
  "kernelspec": {
   "display_name": "Python 3 (ipykernel)",
   "language": "python",
   "name": "python3"
  },
  "language_info": {
   "codemirror_mode": {
    "name": "ipython",
    "version": 3
   },
   "file_extension": ".py",
   "mimetype": "text/x-python",
   "name": "python",
   "nbconvert_exporter": "python",
   "pygments_lexer": "ipython3",
   "version": "3.10.6"
  }
 },
 "nbformat": 4,
 "nbformat_minor": 5
}
